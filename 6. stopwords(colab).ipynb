{
 "cells": [
  {
   "cell_type": "markdown",
   "id": "E5ELQ8iWIEa4",
   "metadata": {
    "id": "E5ELQ8iWIEa4"
   },
   "source": []
  },
  {
   "cell_type": "code",
   "execution_count": 15,
   "id": "Jck28n1ZID7m",
   "metadata": {
    "id": "Jck28n1ZID7m"
   },
   "outputs": [],
   "source": [
    "import konlpy\n",
    "from konlpy.tag import Kkma, Komoran, Hannanum, Okt\n",
    "from konlpy.utils import pprint"
   ]
  },
  {
   "cell_type": "code",
   "execution_count": 16,
   "id": "_zpiRIidIEFz",
   "metadata": {
    "id": "_zpiRIidIEFz"
   },
   "outputs": [
    {
     "ename": "JVMNotFoundException",
     "evalue": "No JVM shared library file (jvm.dll) found. Try setting up the JAVA_HOME environment variable properly.",
     "output_type": "error",
     "traceback": [
      "\u001b[1;31m---------------------------------------------------------------------------\u001b[0m",
      "\u001b[1;31mJVMNotFoundException\u001b[0m                      Traceback (most recent call last)",
      "Cell \u001b[1;32mIn[16], line 1\u001b[0m\n\u001b[1;32m----> 1\u001b[0m okt \u001b[38;5;241m=\u001b[39m \u001b[43mOkt\u001b[49m\u001b[43m(\u001b[49m\u001b[43m)\u001b[49m\n\u001b[0;32m      2\u001b[0m kkma \u001b[38;5;241m=\u001b[39m Kkma()\n",
      "File \u001b[1;32m~\\anaconda3\\lib\\site-packages\\konlpy\\tag\\_okt.py:51\u001b[0m, in \u001b[0;36mOkt.__init__\u001b[1;34m(self, jvmpath, max_heap_size)\u001b[0m\n\u001b[0;32m     49\u001b[0m \u001b[38;5;28;01mdef\u001b[39;00m \u001b[38;5;21m__init__\u001b[39m(\u001b[38;5;28mself\u001b[39m, jvmpath\u001b[38;5;241m=\u001b[39m\u001b[38;5;28;01mNone\u001b[39;00m, max_heap_size\u001b[38;5;241m=\u001b[39m\u001b[38;5;241m1024\u001b[39m):\n\u001b[0;32m     50\u001b[0m     \u001b[38;5;28;01mif\u001b[39;00m \u001b[38;5;129;01mnot\u001b[39;00m jpype\u001b[38;5;241m.\u001b[39misJVMStarted():\n\u001b[1;32m---> 51\u001b[0m         \u001b[43mjvm\u001b[49m\u001b[38;5;241;43m.\u001b[39;49m\u001b[43minit_jvm\u001b[49m\u001b[43m(\u001b[49m\u001b[43mjvmpath\u001b[49m\u001b[43m,\u001b[49m\u001b[43m \u001b[49m\u001b[43mmax_heap_size\u001b[49m\u001b[43m)\u001b[49m\n\u001b[0;32m     53\u001b[0m     oktJavaPackage \u001b[38;5;241m=\u001b[39m jpype\u001b[38;5;241m.\u001b[39mJPackage(\u001b[38;5;124m'\u001b[39m\u001b[38;5;124mkr.lucypark.okt\u001b[39m\u001b[38;5;124m'\u001b[39m)\n\u001b[0;32m     54\u001b[0m     OktInterfaceJavaClass \u001b[38;5;241m=\u001b[39m oktJavaPackage\u001b[38;5;241m.\u001b[39mOktInterface\n",
      "File \u001b[1;32m~\\anaconda3\\lib\\site-packages\\konlpy\\jvm.py:55\u001b[0m, in \u001b[0;36minit_jvm\u001b[1;34m(jvmpath, max_heap_size)\u001b[0m\n\u001b[0;32m     52\u001b[0m args \u001b[38;5;241m=\u001b[39m [javadir, os\u001b[38;5;241m.\u001b[39msep]\n\u001b[0;32m     53\u001b[0m classpath \u001b[38;5;241m=\u001b[39m [f\u001b[38;5;241m.\u001b[39mformat(\u001b[38;5;241m*\u001b[39margs) \u001b[38;5;28;01mfor\u001b[39;00m f \u001b[38;5;129;01min\u001b[39;00m folder_suffix]\n\u001b[1;32m---> 55\u001b[0m jvmpath \u001b[38;5;241m=\u001b[39m jvmpath \u001b[38;5;129;01mor\u001b[39;00m \u001b[43mjpype\u001b[49m\u001b[38;5;241;43m.\u001b[39;49m\u001b[43mgetDefaultJVMPath\u001b[49m\u001b[43m(\u001b[49m\u001b[43m)\u001b[49m\n\u001b[0;32m     57\u001b[0m \u001b[38;5;66;03m# NOTE: Temporary patch for Issue #76. Erase when possible.\u001b[39;00m\n\u001b[0;32m     58\u001b[0m \u001b[38;5;28;01mif\u001b[39;00m sys\u001b[38;5;241m.\u001b[39mplatform \u001b[38;5;241m==\u001b[39m \u001b[38;5;124m'\u001b[39m\u001b[38;5;124mdarwin\u001b[39m\u001b[38;5;124m'\u001b[39m\\\n\u001b[0;32m     59\u001b[0m         \u001b[38;5;129;01mand\u001b[39;00m jvmpath\u001b[38;5;241m.\u001b[39mfind(\u001b[38;5;124m'\u001b[39m\u001b[38;5;124m1.8.0\u001b[39m\u001b[38;5;124m'\u001b[39m) \u001b[38;5;241m>\u001b[39m \u001b[38;5;241m0\u001b[39m\\\n\u001b[0;32m     60\u001b[0m         \u001b[38;5;129;01mand\u001b[39;00m jvmpath\u001b[38;5;241m.\u001b[39mendswith(\u001b[38;5;124m'\u001b[39m\u001b[38;5;124mlibjvm.dylib\u001b[39m\u001b[38;5;124m'\u001b[39m):\n",
      "File \u001b[1;32m~\\anaconda3\\lib\\site-packages\\jpype\\_jvmfinder.py:74\u001b[0m, in \u001b[0;36mgetDefaultJVMPath\u001b[1;34m()\u001b[0m\n\u001b[0;32m     72\u001b[0m \u001b[38;5;28;01melse\u001b[39;00m:\n\u001b[0;32m     73\u001b[0m     finder \u001b[38;5;241m=\u001b[39m LinuxJVMFinder()\n\u001b[1;32m---> 74\u001b[0m \u001b[38;5;28;01mreturn\u001b[39;00m \u001b[43mfinder\u001b[49m\u001b[38;5;241;43m.\u001b[39;49m\u001b[43mget_jvm_path\u001b[49m\u001b[43m(\u001b[49m\u001b[43m)\u001b[49m\n",
      "File \u001b[1;32m~\\anaconda3\\lib\\site-packages\\jpype\\_jvmfinder.py:212\u001b[0m, in \u001b[0;36mJVMFinder.get_jvm_path\u001b[1;34m(self)\u001b[0m\n\u001b[0;32m    210\u001b[0m \u001b[38;5;28;01mif\u001b[39;00m jvm_notsupport_ext \u001b[38;5;129;01mis\u001b[39;00m \u001b[38;5;129;01mnot\u001b[39;00m \u001b[38;5;28;01mNone\u001b[39;00m:\n\u001b[0;32m    211\u001b[0m     \u001b[38;5;28;01mraise\u001b[39;00m jvm_notsupport_ext\n\u001b[1;32m--> 212\u001b[0m \u001b[38;5;28;01mraise\u001b[39;00m JVMNotFoundException(\u001b[38;5;124m\"\u001b[39m\u001b[38;5;124mNo JVM shared library file (\u001b[39m\u001b[38;5;132;01m{0}\u001b[39;00m\u001b[38;5;124m) \u001b[39m\u001b[38;5;124m\"\u001b[39m\n\u001b[0;32m    213\u001b[0m                            \u001b[38;5;124m\"\u001b[39m\u001b[38;5;124mfound. Try setting up the JAVA_HOME \u001b[39m\u001b[38;5;124m\"\u001b[39m\n\u001b[0;32m    214\u001b[0m                            \u001b[38;5;124m\"\u001b[39m\u001b[38;5;124menvironment variable properly.\u001b[39m\u001b[38;5;124m\"\u001b[39m\n\u001b[0;32m    215\u001b[0m                            \u001b[38;5;241m.\u001b[39mformat(\u001b[38;5;28mself\u001b[39m\u001b[38;5;241m.\u001b[39m_libfile))\n",
      "\u001b[1;31mJVMNotFoundException\u001b[0m: No JVM shared library file (jvm.dll) found. Try setting up the JAVA_HOME environment variable properly."
     ]
    }
   ],
   "source": [
    "okt = Okt()\n",
    "kkma = Kkma()"
   ]
  },
  {
   "cell_type": "code",
   "execution_count": null,
   "id": "047a8905",
   "metadata": {
    "id": "047a8905"
   },
   "outputs": [],
   "source": [
    "\n",
    "\n",
    "\n",
    "import pandas as pd\n",
    "import numpy as np\n",
    "import matplotlib.pyplot as plt\n",
    "import seaborn as sns\n",
    "import os\n",
    "\n",
    "import re\n",
    "from collections import Counter\n",
    "\n",
    "import warnings\n",
    "warnings.simplefilter(\"ignore\")\n",
    "\n",
    "from wordcloud import WordCloud\n",
    "import matplotlib.pyplot as plt\n",
    "\n",
    "\n",
    "from nltk.tokenize import word_tokenize\n",
    "from nltk.tag import pos_tag\n",
    "\n",
    "# 기초 불용어 처리\n",
    "from nltk.corpus import stopwords\n",
    "\n",
    "# 경고 뜨지 않게 설정\n",
    "import warnings\n",
    "warnings.filterwarnings('ignore')\n",
    "\n",
    "# 형태소 벡터를 생성하기 위한 라이브러리\n",
    "from sklearn.feature_extraction.text import CountVectorizer\n",
    "# 형태소 벡터를 학습 벡터로 변환한다.\n",
    "from sklearn.feature_extraction.text import TfidfTransformer\n",
    "\n",
    "# 워드 클라우드를 위한 라이브러리\n",
    "from collections import Counter\n",
    "# import pytagcloud\n",
    "from IPython.display import Image\n",
    "\n",
    "# 저장\n",
    "import pickle"
   ]
  },
  {
   "cell_type": "code",
   "execution_count": null,
   "id": "8pQVLC8KIB4V",
   "metadata": {
    "id": "8pQVLC8KIB4V"
   },
   "outputs": [],
   "source": []
  },
  {
   "cell_type": "code",
   "execution_count": null,
   "id": "udVqae-zIexr",
   "metadata": {
    "colab": {
     "base_uri": "https://localhost:8080/"
    },
    "executionInfo": {
     "elapsed": 4201,
     "status": "ok",
     "timestamp": 1683126175224,
     "user": {
      "displayName": "JIWON CHOI",
      "userId": "04599244531959277806"
     },
     "user_tz": -540
    },
    "id": "udVqae-zIexr",
    "outputId": "2d95ca68-03e8-4eaf-f004-7b1df50a400e"
   },
   "outputs": [],
   "source": [
    "from google.colab import drive\n",
    "drive.mount('/content/drive')"
   ]
  },
  {
   "cell_type": "code",
   "execution_count": null,
   "id": "DlTgAxpNIB6k",
   "metadata": {
    "id": "DlTgAxpNIB6k"
   },
   "outputs": [],
   "source": [
    "# Filtered path 불러오기 \n",
    "path = r\"/content/drive/MyDrive/2023 T아카데미/개인프로젝트/Filtered.xlsx\"\n",
    "df = pd.read_excel(path )"
   ]
  },
  {
   "cell_type": "code",
   "execution_count": null,
   "id": "BPzGjejzIB88",
   "metadata": {
    "id": "BPzGjejzIB88"
   },
   "outputs": [],
   "source": [
    "df.head()\n"
   ]
  },
  {
   "cell_type": "code",
   "execution_count": null,
   "id": "e7117892",
   "metadata": {
    "colab": {
     "base_uri": "https://localhost:8080/"
    },
    "executionInfo": {
     "elapsed": 8,
     "status": "ok",
     "timestamp": 1683126381280,
     "user": {
      "displayName": "JIWON CHOI",
      "userId": "04599244531959277806"
     },
     "user_tz": -540
    },
    "id": "e7117892",
    "outputId": "c519dd7c-1c57-487e-8afd-631ba9330c84"
   },
   "outputs": [],
   "source": [
    "count_text = len(df[df[\"Text\"] != 0])\n",
    "print(count_text)"
   ]
  },
  {
   "cell_type": "code",
   "execution_count": null,
   "id": "82789b9a",
   "metadata": {
    "id": "82789b9a"
   },
   "outputs": [],
   "source": [
    "# 불용어 path 불러오기 \n",
    "\n",
    "path = r\"/content/drive/MyDrive/2023 T아카데미/개인프로젝트/kor_stopwords.xlsx\"\n",
    "df_stopwords = pd.read_excel(path)"
   ]
  },
  {
   "cell_type": "code",
   "execution_count": null,
   "id": "681b72a9",
   "metadata": {
    "colab": {
     "base_uri": "https://localhost:8080/",
     "height": 423
    },
    "executionInfo": {
     "elapsed": 12,
     "status": "ok",
     "timestamp": 1683126503749,
     "user": {
      "displayName": "JIWON CHOI",
      "userId": "04599244531959277806"
     },
     "user_tz": -540
    },
    "id": "681b72a9",
    "outputId": "0ede0a2f-90ae-4c0a-d3e7-dbff55ff0825"
   },
   "outputs": [],
   "source": [
    "df_stopwords"
   ]
  },
  {
   "cell_type": "code",
   "execution_count": null,
   "id": "00fadc71",
   "metadata": {
    "id": "00fadc71"
   },
   "outputs": [],
   "source": [
    "stopwords_list = df_stopwords[0].tolist()"
   ]
  },
  {
   "cell_type": "code",
   "execution_count": null,
   "id": "IQaJfIrkKFYx",
   "metadata": {
    "colab": {
     "base_uri": "https://localhost:8080/"
    },
    "executionInfo": {
     "elapsed": 11,
     "status": "ok",
     "timestamp": 1683126650077,
     "user": {
      "displayName": "JIWON CHOI",
      "userId": "04599244531959277806"
     },
     "user_tz": -540
    },
    "id": "IQaJfIrkKFYx",
    "outputId": "bc033c6f-65ed-4900-a283-105c78e66be2"
   },
   "outputs": [],
   "source": [
    "print(stopwords_list)"
   ]
  },
  {
   "cell_type": "code",
   "execution_count": null,
   "id": "Wr4oc55GKFbF",
   "metadata": {
    "colab": {
     "base_uri": "https://localhost:8080/"
    },
    "executionInfo": {
     "elapsed": 10,
     "status": "ok",
     "timestamp": 1683126689298,
     "user": {
      "displayName": "JIWON CHOI",
      "userId": "04599244531959277806"
     },
     "user_tz": -540
    },
    "id": "Wr4oc55GKFbF",
    "outputId": "24f410a1-fdfb-4aec-b4d0-ae5501ea0e8f"
   },
   "outputs": [],
   "source": [
    "sample_text = df.iloc[0,9] \n",
    "print(sample_text)\n",
    "print(type(sample_text))"
   ]
  },
  {
   "cell_type": "code",
   "execution_count": null,
   "id": "cgyBYhw-KFdR",
   "metadata": {
    "id": "cgyBYhw-KFdR"
   },
   "outputs": [],
   "source": [
    "# 정규화\n",
    "def apply_regular_expression(Text):\n",
    "    kor = re.compile('[^ ㄱ-ㅣ 가-힣]')  # 한글 추출 규칙: 띄어 쓰기(1 개)를 포함한 한글\n",
    "    result = kor.sub(\"\",Text) # 위에 설정한 kor 규칙을 text에 적용시킴 \n",
    "    return result"
   ]
  },
  {
   "cell_type": "code",
   "execution_count": null,
   "id": "DSUnkJCwKFfm",
   "metadata": {
    "id": "DSUnkJCwKFfm"
   },
   "outputs": [],
   "source": [
    "def apply_stopwords(sample_text):\n",
    "  #  1) 공백 제거\n",
    "    remove_blank = re.compile(r'\\W*\\b\\w\\b')\n",
    "    remove_mark = remove_blank.sub('', sample_text).replace('.', '')\n",
    "    # print(remove_mark)\n",
    "    \n",
    "    # 2) 정규화\n",
    "    regular = apply_regular_expression(remove_mark)\n",
    "    # print(regular)\n",
    "    \n",
    "    # 3) 불용어 처리 및 조사 제거\n",
    "    tok = okt.morphs(regular)\n",
    "    tok_str = ' '.join(tok)\n",
    "    # print(tok_str)\n",
    "\n",
    "    shortword = re.compile(r'\\W*\\b\\w{1}\\b')\n",
    "    third_processed = shortword.sub('', tok_str)\n",
    "    third_processed = okt.morphs(third_processed)\n",
    "    # print(third_processed)\n",
    "\n",
    "    result = []\n",
    "    for w in third_processed:\n",
    "        if w not in stopwords_list:\n",
    "            result.append(w)\n",
    "    return result"
   ]
  },
  {
   "cell_type": "code",
   "execution_count": null,
   "id": "c2sYaA-oKFhp",
   "metadata": {
    "colab": {
     "base_uri": "https://localhost:8080/"
    },
    "executionInfo": {
     "elapsed": 9,
     "status": "ok",
     "timestamp": 1683126753641,
     "user": {
      "displayName": "JIWON CHOI",
      "userId": "04599244531959277806"
     },
     "user_tz": -540
    },
    "id": "c2sYaA-oKFhp",
    "outputId": "2cbf642d-ad94-4d30-f093-ddabf33ee155"
   },
   "outputs": [],
   "source": [
    "apply_stopwords(df.iloc[0,9])"
   ]
  },
  {
   "cell_type": "code",
   "execution_count": null,
   "id": "she-rjvrL1ZQ",
   "metadata": {
    "colab": {
     "base_uri": "https://localhost:8080/"
    },
    "executionInfo": {
     "elapsed": 9923,
     "status": "ok",
     "timestamp": 1683126988809,
     "user": {
      "displayName": "JIWON CHOI",
      "userId": "04599244531959277806"
     },
     "user_tz": -540
    },
    "id": "she-rjvrL1ZQ",
    "outputId": "734f4b93-ef6a-40b1-ffb5-20f7545799b7"
   },
   "outputs": [],
   "source": [
    "apply_stopwords(df.iloc[0,9])"
   ]
  },
  {
   "cell_type": "code",
   "execution_count": null,
   "id": "Fy-8cnJ6Nz6J",
   "metadata": {
    "id": "Fy-8cnJ6Nz6J"
   },
   "outputs": [],
   "source": [
    "# 초기화\n",
    "df['FilteredText'] = df['Text']"
   ]
  },
  {
   "cell_type": "code",
   "execution_count": null,
   "id": "5deTkpqNOACT",
   "metadata": {
    "colab": {
     "base_uri": "https://localhost:8080/",
     "height": 832
    },
    "executionInfo": {
     "elapsed": 920,
     "status": "ok",
     "timestamp": 1683129065082,
     "user": {
      "displayName": "JIWON CHOI",
      "userId": "04599244531959277806"
     },
     "user_tz": -540
    },
    "id": "5deTkpqNOACT",
    "outputId": "8dca1cda-1528-49cc-c58c-9495ed66bed0"
   },
   "outputs": [],
   "source": [
    "df"
   ]
  },
  {
   "cell_type": "code",
   "execution_count": null,
   "id": "Aj5oSRBiOtkX",
   "metadata": {
    "id": "Aj5oSRBiOtkX"
   },
   "outputs": [],
   "source": [
    "df"
   ]
  },
  {
   "cell_type": "code",
   "execution_count": null,
   "id": "jgA59MmCKFjx",
   "metadata": {
    "id": "jgA59MmCKFjx"
   },
   "outputs": [],
   "source": [
    "def filteredtext(df):  \n",
    "  for i in range(len(df)-1):\n",
    "    if df.iloc[i,9] != 0:\n",
    "      print(i)\n",
    "      df.iloc[i,9] = apply_stopwords(df.iloc[i,9])      \n",
    "      \n",
    "         "
   ]
  },
  {
   "cell_type": "code",
   "execution_count": null,
   "id": "atqJaQZxKFmT",
   "metadata": {
    "colab": {
     "base_uri": "https://localhost:8080/",
     "height": 342
    },
    "executionInfo": {
     "elapsed": 870,
     "status": "error",
     "timestamp": 1683128872688,
     "user": {
      "displayName": "JIWON CHOI",
      "userId": "04599244531959277806"
     },
     "user_tz": -540
    },
    "id": "atqJaQZxKFmT",
    "outputId": "c6996fd4-6c97-412b-fef9-dae42d213f7f"
   },
   "outputs": [],
   "source": [
    "filteredtext(df)\n",
    "# ValueError: Must have equal len keys and value when setting with an iterable "
   ]
  },
  {
   "cell_type": "code",
   "execution_count": null,
   "id": "bjkuG8auS1pi",
   "metadata": {
    "id": "bjkuG8auS1pi"
   },
   "outputs": [],
   "source": [
    "# 7167 rows × 10 columns"
   ]
  },
  {
   "cell_type": "code",
   "execution_count": null,
   "id": "51dh6YTIKFob",
   "metadata": {
    "id": "51dh6YTIKFob"
   },
   "outputs": [],
   "source": [
    "def filteredtext(df):  \n",
    "  for i in range(len(df)):\n",
    "    if df.iloc[i,9] != 0:\n",
    "      df.at[i, 'FilteredText'] = apply_stopwords(df.iloc[i,9])\n",
    "  "
   ]
  },
  {
   "cell_type": "code",
   "execution_count": null,
   "id": "YvTR1G48KFry",
   "metadata": {
    "id": "YvTR1G48KFry"
   },
   "outputs": [],
   "source": [
    "filteredtext(df)\n",
    "# "
   ]
  },
  {
   "cell_type": "code",
   "execution_count": null,
   "id": "ad4d14c6",
   "metadata": {
    "colab": {
     "base_uri": "https://localhost:8080/",
     "height": 780
    },
    "executionInfo": {
     "elapsed": 1007,
     "status": "ok",
     "timestamp": 1683129164594,
     "user": {
      "displayName": "JIWON CHOI",
      "userId": "04599244531959277806"
     },
     "user_tz": -540
    },
    "id": "ad4d14c6",
    "outputId": "15e69242-7efc-49a9-d31b-6446bd26b86d"
   },
   "outputs": [],
   "source": [
    "df"
   ]
  },
  {
   "cell_type": "code",
   "execution_count": null,
   "id": "Hc_dEViXUjPH",
   "metadata": {
    "colab": {
     "base_uri": "https://localhost:8080/",
     "height": 285
    },
    "executionInfo": {
     "elapsed": 12,
     "status": "ok",
     "timestamp": 1683129257740,
     "user": {
      "displayName": "JIWON CHOI",
      "userId": "04599244531959277806"
     },
     "user_tz": -540
    },
    "id": "Hc_dEViXUjPH",
    "outputId": "29a232cb-41c9-4f4c-f88c-bacb06eb9cbb"
   },
   "outputs": [],
   "source": [
    "df.tail()"
   ]
  },
  {
   "cell_type": "code",
   "execution_count": null,
   "id": "AEfSUEHpUjRU",
   "metadata": {
    "id": "AEfSUEHpUjRU"
   },
   "outputs": [],
   "source": [
    "df.to_excel(\"Filtered_stopwords.xlsx\")"
   ]
  },
  {
   "cell_type": "code",
   "execution_count": null,
   "id": "-EjrRnNlUjT6",
   "metadata": {
    "colab": {
     "base_uri": "https://localhost:8080/"
    },
    "executionInfo": {
     "elapsed": 137408,
     "status": "ok",
     "timestamp": 1683129933149,
     "user": {
      "displayName": "JIWON CHOI",
      "userId": "04599244531959277806"
     },
     "user_tz": -540
    },
    "id": "-EjrRnNlUjT6",
    "outputId": "e3b70e4e-4cfe-4e30-f82e-31bf7092ee5f",
    "scrolled": true
   },
   "outputs": [],
   "source": [
    "# FilteredText\n",
    "kkma = konlpy.tag.Kkma() #형태소 분석기 꼬꼬마(Kkma)\n",
    "nouns = df['FilteredText'].apply(lambda x: kkma.nouns(str(x)))\n",
    "nouns"
   ]
  },
  {
   "cell_type": "code",
   "execution_count": null,
   "id": "NTqa2d83UjWQ",
   "metadata": {
    "colab": {
     "base_uri": "https://localhost:8080/"
    },
    "executionInfo": {
     "elapsed": 7,
     "status": "ok",
     "timestamp": 1683129949015,
     "user": {
      "displayName": "JIWON CHOI",
      "userId": "04599244531959277806"
     },
     "user_tz": -540
    },
    "id": "NTqa2d83UjWQ",
    "outputId": "d4e1c6b5-3003-4904-92ed-71b288147bd8",
    "scrolled": true
   },
   "outputs": [],
   "source": [
    "nouns = nouns.explode()\n",
    "nouns"
   ]
  },
  {
   "cell_type": "code",
   "execution_count": null,
   "id": "v014h-roUjYh",
   "metadata": {
    "colab": {
     "base_uri": "https://localhost:8080/",
     "height": 423
    },
    "executionInfo": {
     "elapsed": 331,
     "status": "ok",
     "timestamp": 1683129968791,
     "user": {
      "displayName": "JIWON CHOI",
      "userId": "04599244531959277806"
     },
     "user_tz": -540
    },
    "id": "v014h-roUjYh",
    "outputId": "664e3e7c-de5b-467e-be24-0674696becdf"
   },
   "outputs": [],
   "source": [
    "df_word = pd.DataFrame({'word' : nouns})\n",
    "df_word['count'] = df_word['word'].str.len()\n",
    "df_word.word=df_word.word.astype(str)\n",
    "df_word = df_word.query('count > = 2')\n",
    "df_word "
   ]
  },
  {
   "cell_type": "code",
   "execution_count": null,
   "id": "yG8m_DFnUjba",
   "metadata": {
    "id": "yG8m_DFnUjba"
   },
   "outputs": [],
   "source": [
    "size_exist=df_word.index[df_word[\"word\"]==\"사이즈\"].tolist()"
   ]
  },
  {
   "cell_type": "code",
   "execution_count": null,
   "id": "r9QIsxTQXpFb",
   "metadata": {
    "colab": {
     "base_uri": "https://localhost:8080/"
    },
    "executionInfo": {
     "elapsed": 7,
     "status": "ok",
     "timestamp": 1683130069253,
     "user": {
      "displayName": "JIWON CHOI",
      "userId": "04599244531959277806"
     },
     "user_tz": -540
    },
    "id": "r9QIsxTQXpFb",
    "outputId": "1537a03f-6bc4-403a-91ee-6f5be51ef076"
   },
   "outputs": [],
   "source": [
    "print(size_exist)"
   ]
  },
  {
   "cell_type": "code",
   "execution_count": null,
   "id": "qAAkLubnXh2n",
   "metadata": {
    "colab": {
     "base_uri": "https://localhost:8080/"
    },
    "executionInfo": {
     "elapsed": 2364,
     "status": "ok",
     "timestamp": 1683130099514,
     "user": {
      "displayName": "JIWON CHOI",
      "userId": "04599244531959277806"
     },
     "user_tz": -540
    },
    "id": "qAAkLubnXh2n",
    "outputId": "8c8a1b2c-f857-4091-db1f-f37f2d07ccf3"
   },
   "outputs": [],
   "source": [
    "for i in size_exist:\n",
    "    print(\"사이즈가 언급되는 리뷰\")\n",
    "    print(df.iloc[int(i),5])\n",
    "    print(df.iloc[i,9])"
   ]
  },
  {
   "cell_type": "code",
   "execution_count": null,
   "id": "ek-8ZKXwXh5Y",
   "metadata": {
    "id": "ek-8ZKXwXh5Y"
   },
   "outputs": [],
   "source": [
    "price_exist=df_word.index[df_word[\"word\"]==\"가격\"].tolist()"
   ]
  },
  {
   "cell_type": "code",
   "execution_count": null,
   "id": "VH9GSd4kXh77",
   "metadata": {
    "id": "VH9GSd4kXh77"
   },
   "outputs": [],
   "source": [
    "for i in price_exist:\n",
    "    print(\"가격이 언급되는 리뷰\")\n",
    "    print(df.iloc[int(i),5])\n",
    "    print(df.iloc[i,9])"
   ]
  },
  {
   "cell_type": "code",
   "execution_count": null,
   "id": "7k_3pW8DXh-f",
   "metadata": {
    "id": "7k_3pW8DXh-f"
   },
   "outputs": [],
   "source": [
    "shipment_exist=df_word.index[df_word[\"word\"]==\"배송\"].tolist()"
   ]
  },
  {
   "cell_type": "code",
   "execution_count": null,
   "id": "L2lO22zdXiA-",
   "metadata": {
    "colab": {
     "base_uri": "https://localhost:8080/"
    },
    "executionInfo": {
     "elapsed": 1090,
     "status": "ok",
     "timestamp": 1683130324716,
     "user": {
      "displayName": "JIWON CHOI",
      "userId": "04599244531959277806"
     },
     "user_tz": -540
    },
    "id": "L2lO22zdXiA-",
    "outputId": "98c31c31-44a0-435c-df29-83bd0a56dcc1"
   },
   "outputs": [],
   "source": [
    "for i in shipment_exist:\n",
    "    print(\"배송이 언급되는 리뷰\")\n",
    "    print(df.iloc[int(i),5])\n",
    "    print(df.iloc[i,9])"
   ]
  },
  {
   "cell_type": "code",
   "execution_count": null,
   "id": "E06OCSxgXiDl",
   "metadata": {
    "colab": {
     "base_uri": "https://localhost:8080/",
     "height": 423
    },
    "executionInfo": {
     "elapsed": 330,
     "status": "ok",
     "timestamp": 1683130456490,
     "user": {
      "displayName": "JIWON CHOI",
      "userId": "04599244531959277806"
     },
     "user_tz": -540
    },
    "id": "E06OCSxgXiDl",
    "outputId": "49b48d6e-43a4-46a6-c760-13e28f2bb643"
   },
   "outputs": [],
   "source": [
    "df_word = df_word.groupby('word', as_index = False).count().sort_values('count', ascending = False)\n",
    "df_word"
   ]
  },
  {
   "cell_type": "code",
   "execution_count": null,
   "id": "G2rdgsmuXiGU",
   "metadata": {
    "colab": {
     "base_uri": "https://localhost:8080/"
    },
    "executionInfo": {
     "elapsed": 310,
     "status": "ok",
     "timestamp": 1683130529319,
     "user": {
      "displayName": "JIWON CHOI",
      "userId": "04599244531959277806"
     },
     "user_tz": -540
    },
    "id": "G2rdgsmuXiGU",
    "outputId": "109bdd08-0536-4f8b-a727-0f2938c8828e"
   },
   "outputs": [],
   "source": [
    "dic_word = df_word.set_index('word').to_dict()['count']\n",
    "dic_word"
   ]
  },
  {
   "cell_type": "markdown",
   "id": "KAYFtbwGZk4p",
   "metadata": {
    "id": "KAYFtbwGZk4p"
   },
   "source": []
  },
  {
   "cell_type": "code",
   "execution_count": null,
   "id": "L2cU5PTEZlPL",
   "metadata": {
    "colab": {
     "base_uri": "https://localhost:8080/",
     "height": 807
    },
    "executionInfo": {
     "elapsed": 6218,
     "status": "ok",
     "timestamp": 1683130638061,
     "user": {
      "displayName": "JIWON CHOI",
      "userId": "04599244531959277806"
     },
     "user_tz": -540
    },
    "id": "L2cU5PTEZlPL",
    "outputId": "dcc07866-dd46-496d-fff5-b58d2f2ea312"
   },
   "outputs": [],
   "source": [
    "font_path = r\"/content/drive/MyDrive/2023 T아카데미/개인프로젝트/작업본/NanumGothic.ttf\"\n",
    "\n",
    "wc = WordCloud(random_state = 123, width = 400,font_path = font_path,\n",
    "               height = 400, background_color = 'white')\n",
    "\n",
    "img_wordcloud = wc.generate_from_frequencies(dic_word)\n",
    "\n",
    "plt.figure(figsize = (10, 10)) # 크기 지정하기\n",
    "plt.axis('off') # 축 없애기\n",
    "plt.imshow(img_wordcloud) # 결과 보여주기\n",
    "plt.savefig('filtered_review_text_wordcloud') # 파일 저장\n",
    "\n",
    "# additional stopwords : 진짜, 완전, 감사, 겠어, 하세"
   ]
  },
  {
   "cell_type": "code",
   "execution_count": null,
   "id": "RUUKjB2hZlSi",
   "metadata": {
    "id": "RUUKjB2hZlSi"
   },
   "outputs": [],
   "source": [
    "font_path = r\"/content/drive/MyDrive/2023 T아카데미/개인프로젝트/작업본/NanumGothic.ttf\"\n",
    "\n",
    "img = Image.open(r\"C:\\Users\\NT550009\\Desktop\\11st\\t-shirt icon wordcloud.png\") #이미지 오픈 \n",
    "imgArray = np.array(img) # 이미지의 각 셀을 수치로 변환\n",
    "\n",
    "wc = WordCloud(width = 400,height = 400, font_path = font_path,\n",
    "               background_color = 'white', mask = imgArray).generate_from_frequencies(dic_word)\n",
    "\n",
    "plt.figure(figsize = (15, 15)) # 크기 지정하기\n",
    "plt.imshow(wc ,interpolation = 'bilinear')\n",
    "plt.axis('off') # 축 없애기\n",
    "plt.imshow(wc ) # 결과 보여주기\n",
    "\n",
    "# plt.savefig('filtered_review_text_wordcloud')"
   ]
  },
  {
   "cell_type": "code",
   "execution_count": null,
   "id": "-FGThfpwayPg",
   "metadata": {
    "id": "-FGThfpwayPg"
   },
   "outputs": [],
   "source": []
  },
  {
   "cell_type": "code",
   "execution_count": null,
   "id": "l-Kiha5maySV",
   "metadata": {
    "id": "l-Kiha5maySV"
   },
   "outputs": [],
   "source": []
  },
  {
   "cell_type": "code",
   "execution_count": null,
   "id": "v2uZcGeFayU1",
   "metadata": {
    "id": "v2uZcGeFayU1"
   },
   "outputs": [],
   "source": []
  },
  {
   "cell_type": "code",
   "execution_count": null,
   "id": "9jFVqaASayXQ",
   "metadata": {
    "id": "9jFVqaASayXQ"
   },
   "outputs": [],
   "source": []
  },
  {
   "cell_type": "code",
   "execution_count": null,
   "id": "gwYAmdXOayaE",
   "metadata": {
    "id": "gwYAmdXOayaE"
   },
   "outputs": [],
   "source": []
  },
  {
   "cell_type": "code",
   "execution_count": null,
   "id": "BWmQjYA-ZlYV",
   "metadata": {
    "id": "BWmQjYA-ZlYV"
   },
   "outputs": [],
   "source": []
  },
  {
   "cell_type": "code",
   "execution_count": null,
   "id": "LhJotNpQZla6",
   "metadata": {
    "id": "LhJotNpQZla6"
   },
   "outputs": [],
   "source": []
  },
  {
   "cell_type": "code",
   "execution_count": null,
   "id": "5h4iKpamZlep",
   "metadata": {
    "id": "5h4iKpamZlep"
   },
   "outputs": [],
   "source": []
  },
  {
   "cell_type": "code",
   "execution_count": null,
   "id": "N4cFPseCZliD",
   "metadata": {
    "id": "N4cFPseCZliD"
   },
   "outputs": [],
   "source": []
  },
  {
   "cell_type": "code",
   "execution_count": null,
   "id": "PpAqvR_qZlkc",
   "metadata": {
    "id": "PpAqvR_qZlkc"
   },
   "outputs": [],
   "source": []
  }
 ],
 "metadata": {
  "colab": {
   "provenance": []
  },
  "kernelspec": {
   "display_name": "Python 3 (ipykernel)",
   "language": "python",
   "name": "python3"
  },
  "language_info": {
   "codemirror_mode": {
    "name": "ipython",
    "version": 3
   },
   "file_extension": ".py",
   "mimetype": "text/x-python",
   "name": "python",
   "nbconvert_exporter": "python",
   "pygments_lexer": "ipython3",
   "version": "3.10.9"
  }
 },
 "nbformat": 4,
 "nbformat_minor": 5
}
