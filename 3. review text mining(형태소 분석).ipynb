{
 "cells": [
  {
   "cell_type": "code",
   "execution_count": 2,
   "id": "da4fbb7b",
   "metadata": {},
   "outputs": [],
   "source": [
    "# 전처리 : 클렌징, 텍스트 토큰화, 불용어 제거\n",
    "# 최다단어, 워드클라우드, 긍부정, 사이즈 관련 단어, "
   ]
  },
  {
   "cell_type": "code",
   "execution_count": 3,
   "id": "fd3fcea9",
   "metadata": {},
   "outputs": [],
   "source": [
    "##### 형태소 분석 ######"
   ]
  },
  {
   "cell_type": "code",
   "execution_count": 4,
   "id": "10da3755",
   "metadata": {},
   "outputs": [],
   "source": [
    "import pandas as pd\n",
    "import numpy as np\n",
    "import matplotlib.pyplot as plt\n",
    "import seaborn as sns\n",
    "import os\n",
    "\n",
    "import re\n",
    "from collections import Counter\n",
    "\n",
    "\n",
    "import konlpy.tag\n",
    "\n",
    "\n",
    "import warnings\n",
    "warnings.simplefilter(\"ignore\")"
   ]
  },
  {
   "cell_type": "code",
   "execution_count": 5,
   "id": "7c9b895f",
   "metadata": {},
   "outputs": [],
   "source": [
    "path = r\"C:\\Users\\NT550009\\Desktop\\11st\\sample_df( '3569992365', '3556338225' ).xlsx\"\n",
    "df = pd.read_excel(path)"
   ]
  },
  {
   "cell_type": "code",
   "execution_count": 6,
   "id": "bc92d0fe",
   "metadata": {},
   "outputs": [
    {
     "data": {
      "text/html": [
       "<div>\n",
       "<style scoped>\n",
       "    .dataframe tbody tr th:only-of-type {\n",
       "        vertical-align: middle;\n",
       "    }\n",
       "\n",
       "    .dataframe tbody tr th {\n",
       "        vertical-align: top;\n",
       "    }\n",
       "\n",
       "    .dataframe thead th {\n",
       "        text-align: right;\n",
       "    }\n",
       "</style>\n",
       "<table border=\"1\" class=\"dataframe\">\n",
       "  <thead>\n",
       "    <tr style=\"text-align: right;\">\n",
       "      <th></th>\n",
       "      <th>Unnamed: 0</th>\n",
       "      <th>ID</th>\n",
       "      <th>Date</th>\n",
       "      <th>Grade</th>\n",
       "      <th>Text</th>\n",
       "      <th>Option</th>\n",
       "      <th>Size</th>\n",
       "      <th>ProductNum</th>\n",
       "    </tr>\n",
       "  </thead>\n",
       "  <tbody>\n",
       "    <tr>\n",
       "      <th>0</th>\n",
       "      <td>0</td>\n",
       "      <td>날까</td>\n",
       "      <td>2023.04.08</td>\n",
       "      <td>4</td>\n",
       "      <td>쿠폰써서 2만원정도에 6벌이면 정말 싸요. 싼만큼 마감이 안좋은 부분도 있네요. 어...</td>\n",
       "      <td>White 6-pack, 6, Medium</td>\n",
       "      <td>비공개</td>\n",
       "      <td>3569992365</td>\n",
       "    </tr>\n",
       "    <tr>\n",
       "      <th>1</th>\n",
       "      <td>1</td>\n",
       "      <td>newr*****</td>\n",
       "      <td>2023.03.27</td>\n",
       "      <td>5</td>\n",
       "      <td>옷에 비침도 크게 없고 사이즈도 넉넉해서 좋습니다. 이번 여름까지 무난하게 잘 입을...</td>\n",
       "      <td>XX-Large, 6, White 6-pack</td>\n",
       "      <td>비공개</td>\n",
       "      <td>3569992365</td>\n",
       "    </tr>\n",
       "    <tr>\n",
       "      <th>2</th>\n",
       "      <td>2</td>\n",
       "      <td>soch*****</td>\n",
       "      <td>2023.03.31</td>\n",
       "      <td>4</td>\n",
       "      <td>잘 알려진 브랜드입니다.면이 얇고 빨면 줄기도 합니다.올 여름 편하게 입으려고 구매...</td>\n",
       "      <td>X-Large, 6, Charcoal Heather 6-pack</td>\n",
       "      <td>비공개</td>\n",
       "      <td>3569992365</td>\n",
       "    </tr>\n",
       "    <tr>\n",
       "      <th>3</th>\n",
       "      <td>3</td>\n",
       "      <td>2045***************</td>\n",
       "      <td>2023.03.02</td>\n",
       "      <td>5</td>\n",
       "      <td>얇아서 비침이 있으며 꽤 부드러운 재질입니다.이너로 입기 괜찮을듯</td>\n",
       "      <td>6, Large, White 6-pack</td>\n",
       "      <td>비공개</td>\n",
       "      <td>3569992365</td>\n",
       "    </tr>\n",
       "    <tr>\n",
       "      <th>4</th>\n",
       "      <td>4</td>\n",
       "      <td>하이하이저요</td>\n",
       "      <td>2023.03.21</td>\n",
       "      <td>3</td>\n",
       "      <td>저렴하게 막 입기 좋네요생각보다 정사이즈인거 같아요 라지입는데 미듐샀더니가슴둘레가 ...</td>\n",
       "      <td>Medium, 6, Navy 6-pack</td>\n",
       "      <td>비공개</td>\n",
       "      <td>3569992365</td>\n",
       "    </tr>\n",
       "  </tbody>\n",
       "</table>\n",
       "</div>"
      ],
      "text/plain": [
       "   Unnamed: 0                   ID        Date  Grade  \\\n",
       "0           0                   날까  2023.04.08      4   \n",
       "1           1            newr*****  2023.03.27      5   \n",
       "2           2            soch*****  2023.03.31      4   \n",
       "3           3  2045***************  2023.03.02      5   \n",
       "4           4               하이하이저요  2023.03.21      3   \n",
       "\n",
       "                                                Text  \\\n",
       "0  쿠폰써서 2만원정도에 6벌이면 정말 싸요. 싼만큼 마감이 안좋은 부분도 있네요. 어...   \n",
       "1  옷에 비침도 크게 없고 사이즈도 넉넉해서 좋습니다. 이번 여름까지 무난하게 잘 입을...   \n",
       "2  잘 알려진 브랜드입니다.면이 얇고 빨면 줄기도 합니다.올 여름 편하게 입으려고 구매...   \n",
       "3               얇아서 비침이 있으며 꽤 부드러운 재질입니다.이너로 입기 괜찮을듯   \n",
       "4  저렴하게 막 입기 좋네요생각보다 정사이즈인거 같아요 라지입는데 미듐샀더니가슴둘레가 ...   \n",
       "\n",
       "                                Option Size  ProductNum  \n",
       "0              White 6-pack, 6, Medium  비공개  3569992365  \n",
       "1            XX-Large, 6, White 6-pack  비공개  3569992365  \n",
       "2  X-Large, 6, Charcoal Heather 6-pack  비공개  3569992365  \n",
       "3               6, Large, White 6-pack  비공개  3569992365  \n",
       "4               Medium, 6, Navy 6-pack  비공개  3569992365  "
      ]
     },
     "execution_count": 6,
     "metadata": {},
     "output_type": "execute_result"
    }
   ],
   "source": [
    "df.head()"
   ]
  },
  {
   "cell_type": "code",
   "execution_count": 7,
   "id": "68fed1c6",
   "metadata": {},
   "outputs": [
    {
     "data": {
      "text/html": [
       "<div>\n",
       "<style scoped>\n",
       "    .dataframe tbody tr th:only-of-type {\n",
       "        vertical-align: middle;\n",
       "    }\n",
       "\n",
       "    .dataframe tbody tr th {\n",
       "        vertical-align: top;\n",
       "    }\n",
       "\n",
       "    .dataframe thead th {\n",
       "        text-align: right;\n",
       "    }\n",
       "</style>\n",
       "<table border=\"1\" class=\"dataframe\">\n",
       "  <thead>\n",
       "    <tr style=\"text-align: right;\">\n",
       "      <th></th>\n",
       "      <th>Unnamed: 0</th>\n",
       "      <th>ID</th>\n",
       "      <th>Date</th>\n",
       "      <th>Grade</th>\n",
       "      <th>Text</th>\n",
       "      <th>Option</th>\n",
       "      <th>Size</th>\n",
       "      <th>ProductNum</th>\n",
       "    </tr>\n",
       "  </thead>\n",
       "  <tbody>\n",
       "    <tr>\n",
       "      <th>795</th>\n",
       "      <td>795</td>\n",
       "      <td>grac*******</td>\n",
       "      <td>2021.11.24</td>\n",
       "      <td>5</td>\n",
       "      <td>0</td>\n",
       "      <td>0</td>\n",
       "      <td>0</td>\n",
       "      <td>3556338225</td>\n",
       "    </tr>\n",
       "    <tr>\n",
       "      <th>796</th>\n",
       "      <td>796</td>\n",
       "      <td>gree*************************</td>\n",
       "      <td>2021.11.22</td>\n",
       "      <td>3</td>\n",
       "      <td>옷 품질이 좀 그래요</td>\n",
       "      <td>0</td>\n",
       "      <td>0</td>\n",
       "      <td>3556338225</td>\n",
       "    </tr>\n",
       "    <tr>\n",
       "      <th>797</th>\n",
       "      <td>797</td>\n",
       "      <td>sunb*******</td>\n",
       "      <td>2021.11.19</td>\n",
       "      <td>5</td>\n",
       "      <td>재질도 톡톡하니 너무 좋네요~</td>\n",
       "      <td>0</td>\n",
       "      <td>0</td>\n",
       "      <td>3556338225</td>\n",
       "    </tr>\n",
       "    <tr>\n",
       "      <th>798</th>\n",
       "      <td>798</td>\n",
       "      <td>cjh2**</td>\n",
       "      <td>2021.11.18</td>\n",
       "      <td>3</td>\n",
       "      <td>넘 커요</td>\n",
       "      <td>0</td>\n",
       "      <td>0</td>\n",
       "      <td>3556338225</td>\n",
       "    </tr>\n",
       "    <tr>\n",
       "      <th>799</th>\n",
       "      <td>799</td>\n",
       "      <td>mjhm**</td>\n",
       "      <td>2021.11.17</td>\n",
       "      <td>4</td>\n",
       "      <td>0</td>\n",
       "      <td>0</td>\n",
       "      <td>0</td>\n",
       "      <td>3556338225</td>\n",
       "    </tr>\n",
       "  </tbody>\n",
       "</table>\n",
       "</div>"
      ],
      "text/plain": [
       "     Unnamed: 0                             ID        Date  Grade  \\\n",
       "795         795                    grac*******  2021.11.24      5   \n",
       "796         796  gree*************************  2021.11.22      3   \n",
       "797         797                    sunb*******  2021.11.19      5   \n",
       "798         798                         cjh2**  2021.11.18      3   \n",
       "799         799                         mjhm**  2021.11.17      4   \n",
       "\n",
       "                 Text Option Size  ProductNum  \n",
       "795                 0      0    0  3556338225  \n",
       "796       옷 품질이 좀 그래요      0    0  3556338225  \n",
       "797  재질도 톡톡하니 너무 좋네요~      0    0  3556338225  \n",
       "798              넘 커요      0    0  3556338225  \n",
       "799                 0      0    0  3556338225  "
      ]
     },
     "execution_count": 7,
     "metadata": {},
     "output_type": "execute_result"
    }
   ],
   "source": [
    "df.tail()"
   ]
  },
  {
   "cell_type": "code",
   "execution_count": 8,
   "id": "31533a4d",
   "metadata": {},
   "outputs": [
    {
     "data": {
      "text/plain": [
       "<Axes: title={'center': 'ratings'}>"
      ]
     },
     "execution_count": 8,
     "metadata": {},
     "output_type": "execute_result"
    },
    {
     "data": {
      "image/png": "[encoded data removed]",
      "text/plain": [
       "<Figure size 640x480 with 1 Axes>"
      ]
     },
     "metadata": {},
     "output_type": "display_data"
    }
   ],
   "source": [
    "df[\"Grade\"].value_counts().plot(kind=\"bar\",\n",
    "                              title = 'ratings',\n",
    "                              color = ['b','b','r','r','r']\n",
    "                                )"
   ]
  },
  {
   "cell_type": "code",
   "execution_count": 9,
   "id": "a96857a6",
   "metadata": {},
   "outputs": [
    {
     "data": {
      "text/plain": [
       "4.55625"
      ]
     },
     "execution_count": 9,
     "metadata": {},
     "output_type": "execute_result"
    }
   ],
   "source": [
    "df[\"Grade\"].mean()"
   ]
  },
  {
   "cell_type": "code",
   "execution_count": null,
   "id": "96c89393",
   "metadata": {},
   "outputs": [],
   "source": []
  },
  {
   "cell_type": "code",
   "execution_count": null,
   "id": "cbe475e1",
   "metadata": {},
   "outputs": [],
   "source": []
  },
  {
   "cell_type": "code",
   "execution_count": null,
   "id": "d6a6bcde",
   "metadata": {},
   "outputs": [],
   "source": []
  },
  {
   "cell_type": "code",
   "execution_count": null,
   "id": "476bb435",
   "metadata": {},
   "outputs": [],
   "source": []
  },
  {
   "cell_type": "code",
   "execution_count": 10,
   "id": "ab55e546",
   "metadata": {},
   "outputs": [
    {
     "data": {
      "text/plain": [
       "Unnamed: 0    0\n",
       "ID            0\n",
       "Date          0\n",
       "Grade         0\n",
       "Text          0\n",
       "Option        0\n",
       "Size          0\n",
       "ProductNum    0\n",
       "dtype: int64"
      ]
     },
     "execution_count": 10,
     "metadata": {},
     "output_type": "execute_result"
    }
   ],
   "source": [
    "# 결측치 확인\n",
    "df.isnull().sum()"
   ]
  },
  {
   "cell_type": "code",
   "execution_count": 11,
   "id": "d445d20d",
   "metadata": {},
   "outputs": [
    {
     "name": "stdout",
     "output_type": "stream",
     "text": [
      "<class 'pandas.core.frame.DataFrame'>\n",
      "RangeIndex: 800 entries, 0 to 799\n",
      "Data columns (total 8 columns):\n",
      " #   Column      Non-Null Count  Dtype \n",
      "---  ------      --------------  ----- \n",
      " 0   Unnamed: 0  800 non-null    int64 \n",
      " 1   ID          800 non-null    object\n",
      " 2   Date        800 non-null    object\n",
      " 3   Grade       800 non-null    int64 \n",
      " 4   Text        800 non-null    object\n",
      " 5   Option      800 non-null    object\n",
      " 6   Size        800 non-null    object\n",
      " 7   ProductNum  800 non-null    int64 \n",
      "dtypes: int64(3), object(5)\n",
      "memory usage: 50.1+ KB\n"
     ]
    }
   ],
   "source": [
    "df.info()"
   ]
  },
  {
   "cell_type": "code",
   "execution_count": null,
   "id": "7d4306cb",
   "metadata": {},
   "outputs": [],
   "source": []
  },
  {
   "cell_type": "code",
   "execution_count": 12,
   "id": "4a386d4e",
   "metadata": {},
   "outputs": [],
   "source": [
    "import re\n",
    "\n",
    "def apply_regular_expression(Text):\n",
    "    kor = re.compile('[^ ㄱ-ㅣ 가-힣]')  # 한글 추출 규칙: 띄어 쓰기(1 개)를 포함한 한글\n",
    "    result = kor.sub(\"\",Text) # 위에 설정한 kor 규칙을 text에 적용시킴 \n",
    "    return result"
   ]
  },
  {
   "cell_type": "code",
   "execution_count": 13,
   "id": "4a9ee46f",
   "metadata": {
    "scrolled": true
   },
   "outputs": [
    {
     "name": "stdout",
     "output_type": "stream",
     "text": [
      "쿠폰써서 2만원정도에 6벌이면 정말 싸요. 싼만큼 마감이 안좋은 부분도 있네요. 어깨선 재봉선이 씹힌것도 있어요. 보통 100입는데 M 잘 맞네요.\n"
     ]
    }
   ],
   "source": [
    "text = df[\"Text\"][0]\n",
    "print(text)"
   ]
  },
  {
   "cell_type": "code",
   "execution_count": 14,
   "id": "f80f6f3f",
   "metadata": {
    "scrolled": true
   },
   "outputs": [
    {
     "name": "stdout",
     "output_type": "stream",
     "text": [
      "쿠폰써서 만원정도에 벌이면 정말 싸요 싼만큼 마감이 안좋은 부분도 있네요 어깨선 재봉선이 씹힌것도 있어요 보통 입는데  잘 맞네요\n"
     ]
    }
   ],
   "source": [
    "print(apply_regular_expression(df[\"Text\"][0]))"
   ]
  },
  {
   "cell_type": "code",
   "execution_count": 15,
   "id": "a68febcd",
   "metadata": {},
   "outputs": [],
   "source": [
    "# 정규식 처리하면 숫자 제거.."
   ]
  },
  {
   "cell_type": "code",
   "execution_count": null,
   "id": "71ead4dd",
   "metadata": {},
   "outputs": [],
   "source": []
  },
  {
   "cell_type": "code",
   "execution_count": null,
   "id": "6b5daea5",
   "metadata": {},
   "outputs": [],
   "source": []
  },
  {
   "cell_type": "code",
   "execution_count": null,
   "id": "3471b829",
   "metadata": {},
   "outputs": [],
   "source": []
  },
  {
   "cell_type": "code",
   "execution_count": 16,
   "id": "7a9ee157",
   "metadata": {},
   "outputs": [],
   "source": [
    "# konlpy 설치 완료! \n",
    "# 형태소 분석"
   ]
  },
  {
   "cell_type": "code",
   "execution_count": 17,
   "id": "02d52b88",
   "metadata": {},
   "outputs": [],
   "source": [
    "import konlpy\n",
    "\n",
    "from konlpy.tag import Kkma\n",
    "from konlpy.utils import pprint"
   ]
  },
  {
   "cell_type": "code",
   "execution_count": 18,
   "id": "7cea3197",
   "metadata": {},
   "outputs": [],
   "source": [
    "from konlpy.tag import Okt"
   ]
  },
  {
   "cell_type": "code",
   "execution_count": 19,
   "id": "6d3de66a",
   "metadata": {},
   "outputs": [],
   "source": [
    "okt = Okt()"
   ]
  },
  {
   "cell_type": "code",
   "execution_count": 20,
   "id": "85ea49ae",
   "metadata": {
    "scrolled": true
   },
   "outputs": [
    {
     "name": "stdout",
     "output_type": "stream",
     "text": [
      "True\n"
     ]
    }
   ],
   "source": [
    "print('JAVA_HOME' in os.environ)"
   ]
  },
  {
   "cell_type": "code",
   "execution_count": 21,
   "id": "6fffd9a8",
   "metadata": {},
   "outputs": [],
   "source": [
    "import konlpy\n",
    "from konlpy.tag import Okt\n",
    "okt = Okt()"
   ]
  },
  {
   "cell_type": "code",
   "execution_count": 22,
   "id": "428e5f59",
   "metadata": {},
   "outputs": [],
   "source": [
    "# 명사, 부사, 동사 "
   ]
  },
  {
   "cell_type": "code",
   "execution_count": 23,
   "id": "d6fdd775",
   "metadata": {},
   "outputs": [
    {
     "data": {
      "text/plain": [
       "'쿠폰써서 2만원정도에 6벌이면 정말 싸요. 싼만큼 마감이 안좋은 부분도 있네요. 어깨선 재봉선이 씹힌것도 있어요. 보통 100입는데 M 잘 맞네요.'"
      ]
     },
     "execution_count": 23,
     "metadata": {},
     "output_type": "execute_result"
    }
   ],
   "source": [
    "df.iloc[0,4]"
   ]
  },
  {
   "cell_type": "code",
   "execution_count": 24,
   "id": "a9de5503",
   "metadata": {},
   "outputs": [
    {
     "name": "stdout",
     "output_type": "stream",
     "text": [
      "쿠폰써서 2만원정도에 6벌이면 정말 싸요. 싼만큼 마감이 안좋은 부분도 있네요. 어깨선 재봉선이 씹힌것도 있어요. 보통 100입는데 M 잘 맞네요.\n"
     ]
    }
   ],
   "source": [
    "# 샘플 텍스트 정규화 okt.normalize(text)\n",
    "text = df.iloc[0,4]\n",
    "print(okt.normalize(text))"
   ]
  },
  {
   "cell_type": "code",
   "execution_count": 25,
   "id": "ae4beac1",
   "metadata": {},
   "outputs": [
    {
     "name": "stdout",
     "output_type": "stream",
     "text": [
      "[('쿠폰', 'Noun'), ('써서', 'Verb'), ('2만원', 'Number'), ('정도에', 'Foreign'), ('6', 'Number'), ('벌이', 'Noun'), ('면', 'Josa'), ('정말', 'Noun'), ('싸요', 'Verb'), ('.', 'Punctuation'), ('싼만큼', 'Verb'), ('마감', 'Noun'), ('이', 'Josa'), ('안좋은', 'Adjective'), ('부분', 'Noun'), ('도', 'Josa'), ('있네요', 'Adjective'), ('.', 'Punctuation'), ('어깨', 'Noun'), ('선', 'Noun'), ('재봉', 'Noun'), ('선', 'Noun'), ('이', 'Josa'), ('씹힌것도', 'Verb'), ('있어요', 'Adjective'), ('.', 'Punctuation'), ('보통', 'Noun'), ('100', 'Number'), ('입는데', 'Verb'), ('M', 'Alpha'), ('잘', 'Verb'), ('맞네요', 'Verb'), ('.', 'Punctuation')]\n"
     ]
    }
   ],
   "source": [
    "# 형태소 분석 okt.pos(text)\n",
    "\n",
    "print(okt.pos(text))"
   ]
  },
  {
   "cell_type": "code",
   "execution_count": 26,
   "id": "77e822ad",
   "metadata": {},
   "outputs": [
    {
     "name": "stdout",
     "output_type": "stream",
     "text": [
      "['쿠폰', '벌이', '정말', '마감', '부분', '어깨', '선', '재봉', '선', '보통']\n"
     ]
    }
   ],
   "source": [
    "# 형태소 명사 추출 okt.nouns(text)\n",
    "print(okt.nouns(text))"
   ]
  },
  {
   "cell_type": "code",
   "execution_count": 27,
   "id": "d85ec82e",
   "metadata": {},
   "outputs": [
    {
     "data": {
      "text/plain": [
       "['써서', '싸요', '싼만큼', '씹힌것도', '입는데', '잘', '맞네요']"
      ]
     },
     "execution_count": 27,
     "metadata": {},
     "output_type": "execute_result"
    }
   ],
   "source": [
    "def extract_verbs(text):\n",
    "    pos = okt.pos(text)\n",
    "    verbs = [word for word, tag in pos if tag in ['Verb']]\n",
    "    return verbs\n",
    "extract_verbs(text)"
   ]
  },
  {
   "cell_type": "code",
   "execution_count": 28,
   "id": "b28babe5",
   "metadata": {},
   "outputs": [
    {
     "data": {
      "text/plain": [
       "['안좋은', '있네요', '있어요']"
      ]
     },
     "execution_count": 28,
     "metadata": {},
     "output_type": "execute_result"
    }
   ],
   "source": [
    "def extract_adj(text):\n",
    "    pos = okt.pos(text)\n",
    "    adjs = [word for word, tag in pos if tag in ['Adjective']]\n",
    "    return adjs\n",
    "extract_adj(text)"
   ]
  },
  {
   "cell_type": "code",
   "execution_count": 29,
   "id": "213a0d97",
   "metadata": {},
   "outputs": [],
   "source": [
    "# "
   ]
  },
  {
   "cell_type": "code",
   "execution_count": 30,
   "id": "cfa409b1",
   "metadata": {},
   "outputs": [],
   "source": [
    "# https://moojuksublime.tistory.com/14\n",
    "\n",
    "# 경고 뜨지 않게 설정\n",
    "import warnings\n",
    "warnings.filterwarnings('ignore')\n",
    "\n",
    "# 형태소 벡터를 생성하기 위한 라이브러리\n",
    "from sklearn.feature_extraction.text import CountVectorizer\n",
    "# 형태소 벡터를 학습 벡터로 변환한다.\n",
    "from sklearn.feature_extraction.text import TfidfTransformer\n",
    "\n",
    "# 워드 클라우드를 위한 라이브러리\n",
    "from collections import Counter\n",
    "# import pytagcloud\n",
    "from IPython.display import Image\n",
    "\n",
    "# 저장\n",
    "import pickle"
   ]
  },
  {
   "cell_type": "code",
   "execution_count": 31,
   "id": "84855075",
   "metadata": {},
   "outputs": [],
   "source": [
    "\n",
    "#  형태소 추출\n",
    "def get_pos(x):\n",
    "    tagger = Okt()\n",
    "    pos = tagger.pos(x)\n",
    "    \n",
    "    result = []\n",
    "    \n",
    "    for i in pos:\n",
    "        result.append(f'{i[0]}/{i[1]}')\n",
    "        \n",
    "    return result"
   ]
  },
  {
   "cell_type": "code",
   "execution_count": 32,
   "id": "41c5ac09",
   "metadata": {},
   "outputs": [
    {
     "data": {
      "text/plain": [
       "['쿠폰/Noun',\n",
       " '써서/Verb',\n",
       " '2만원/Number',\n",
       " '정도에/Foreign',\n",
       " '6/Number',\n",
       " '벌이/Noun',\n",
       " '면/Josa',\n",
       " '정말/Noun',\n",
       " '싸요/Verb',\n",
       " './Punctuation',\n",
       " '싼만큼/Verb',\n",
       " '마감/Noun',\n",
       " '이/Josa',\n",
       " '안좋은/Adjective',\n",
       " '부분/Noun',\n",
       " '도/Josa',\n",
       " '있네요/Adjective',\n",
       " './Punctuation',\n",
       " '어깨/Noun',\n",
       " '선/Noun',\n",
       " '재봉/Noun',\n",
       " '선/Noun',\n",
       " '이/Josa',\n",
       " '씹힌것도/Verb',\n",
       " '있어요/Adjective',\n",
       " './Punctuation',\n",
       " '보통/Noun',\n",
       " '100/Number',\n",
       " '입는데/Verb',\n",
       " 'M/Alpha',\n",
       " '잘/Verb',\n",
       " '맞네요/Verb',\n",
       " './Punctuation']"
      ]
     },
     "execution_count": 32,
     "metadata": {},
     "output_type": "execute_result"
    }
   ],
   "source": [
    "get_pos(text)"
   ]
  },
  {
   "cell_type": "code",
   "execution_count": 33,
   "id": "5c258260",
   "metadata": {},
   "outputs": [
    {
     "data": {
      "text/plain": [
       "<800x2181 sparse matrix of type '<class 'numpy.int64'>'\n",
       "\twith 8016 stored elements in Compressed Sparse Row format>"
      ]
     },
     "execution_count": 33,
     "metadata": {},
     "output_type": "execute_result"
    }
   ],
   "source": [
    "# 형태소 벡터 \n",
    "index_vectorizer = CountVectorizer(tokenizer = lambda x : get_pos(x))\n",
    "X = index_vectorizer.fit_transform(df[\"Text\"].astype(str).tolist())\n",
    "\n",
    "X"
   ]
  },
  {
   "cell_type": "code",
   "execution_count": 34,
   "id": "b66e827a",
   "metadata": {},
   "outputs": [
    {
     "data": {
      "text/html": [
       "<div>\n",
       "<style scoped>\n",
       "    .dataframe tbody tr th:only-of-type {\n",
       "        vertical-align: middle;\n",
       "    }\n",
       "\n",
       "    .dataframe tbody tr th {\n",
       "        vertical-align: top;\n",
       "    }\n",
       "\n",
       "    .dataframe thead th {\n",
       "        text-align: right;\n",
       "    }\n",
       "</style>\n",
       "<table border=\"1\" class=\"dataframe\">\n",
       "  <thead>\n",
       "    <tr style=\"text-align: right;\">\n",
       "      <th></th>\n",
       "      <th>Unnamed: 0</th>\n",
       "      <th>ID</th>\n",
       "      <th>Date</th>\n",
       "      <th>Grade</th>\n",
       "      <th>Text</th>\n",
       "      <th>Option</th>\n",
       "      <th>Size</th>\n",
       "      <th>ProductNum</th>\n",
       "      <th>Text_Position</th>\n",
       "    </tr>\n",
       "  </thead>\n",
       "  <tbody>\n",
       "    <tr>\n",
       "      <th>0</th>\n",
       "      <td>0</td>\n",
       "      <td>날까</td>\n",
       "      <td>2023.04.08</td>\n",
       "      <td>4</td>\n",
       "      <td>쿠폰써서 2만원정도에 6벌이면 정말 싸요. 싼만큼 마감이 안좋은 부분도 있네요. 어...</td>\n",
       "      <td>White 6-pack, 6, Medium</td>\n",
       "      <td>비공개</td>\n",
       "      <td>3569992365</td>\n",
       "      <td>0</td>\n",
       "    </tr>\n",
       "    <tr>\n",
       "      <th>1</th>\n",
       "      <td>1</td>\n",
       "      <td>newr*****</td>\n",
       "      <td>2023.03.27</td>\n",
       "      <td>5</td>\n",
       "      <td>옷에 비침도 크게 없고 사이즈도 넉넉해서 좋습니다. 이번 여름까지 무난하게 잘 입을...</td>\n",
       "      <td>XX-Large, 6, White 6-pack</td>\n",
       "      <td>비공개</td>\n",
       "      <td>3569992365</td>\n",
       "      <td>0</td>\n",
       "    </tr>\n",
       "    <tr>\n",
       "      <th>2</th>\n",
       "      <td>2</td>\n",
       "      <td>soch*****</td>\n",
       "      <td>2023.03.31</td>\n",
       "      <td>4</td>\n",
       "      <td>잘 알려진 브랜드입니다.면이 얇고 빨면 줄기도 합니다.올 여름 편하게 입으려고 구매...</td>\n",
       "      <td>X-Large, 6, Charcoal Heather 6-pack</td>\n",
       "      <td>비공개</td>\n",
       "      <td>3569992365</td>\n",
       "      <td>0</td>\n",
       "    </tr>\n",
       "    <tr>\n",
       "      <th>3</th>\n",
       "      <td>3</td>\n",
       "      <td>2045***************</td>\n",
       "      <td>2023.03.02</td>\n",
       "      <td>5</td>\n",
       "      <td>얇아서 비침이 있으며 꽤 부드러운 재질입니다.이너로 입기 괜찮을듯</td>\n",
       "      <td>6, Large, White 6-pack</td>\n",
       "      <td>비공개</td>\n",
       "      <td>3569992365</td>\n",
       "      <td>0</td>\n",
       "    </tr>\n",
       "    <tr>\n",
       "      <th>4</th>\n",
       "      <td>4</td>\n",
       "      <td>하이하이저요</td>\n",
       "      <td>2023.03.21</td>\n",
       "      <td>3</td>\n",
       "      <td>저렴하게 막 입기 좋네요생각보다 정사이즈인거 같아요 라지입는데 미듐샀더니가슴둘레가 ...</td>\n",
       "      <td>Medium, 6, Navy 6-pack</td>\n",
       "      <td>비공개</td>\n",
       "      <td>3569992365</td>\n",
       "      <td>0</td>\n",
       "    </tr>\n",
       "  </tbody>\n",
       "</table>\n",
       "</div>"
      ],
      "text/plain": [
       "   Unnamed: 0                   ID        Date  Grade  \\\n",
       "0           0                   날까  2023.04.08      4   \n",
       "1           1            newr*****  2023.03.27      5   \n",
       "2           2            soch*****  2023.03.31      4   \n",
       "3           3  2045***************  2023.03.02      5   \n",
       "4           4               하이하이저요  2023.03.21      3   \n",
       "\n",
       "                                                Text  \\\n",
       "0  쿠폰써서 2만원정도에 6벌이면 정말 싸요. 싼만큼 마감이 안좋은 부분도 있네요. 어...   \n",
       "1  옷에 비침도 크게 없고 사이즈도 넉넉해서 좋습니다. 이번 여름까지 무난하게 잘 입을...   \n",
       "2  잘 알려진 브랜드입니다.면이 얇고 빨면 줄기도 합니다.올 여름 편하게 입으려고 구매...   \n",
       "3               얇아서 비침이 있으며 꽤 부드러운 재질입니다.이너로 입기 괜찮을듯   \n",
       "4  저렴하게 막 입기 좋네요생각보다 정사이즈인거 같아요 라지입는데 미듐샀더니가슴둘레가 ...   \n",
       "\n",
       "                                Option Size  ProductNum  Text_Position  \n",
       "0              White 6-pack, 6, Medium  비공개  3569992365              0  \n",
       "1            XX-Large, 6, White 6-pack  비공개  3569992365              0  \n",
       "2  X-Large, 6, Charcoal Heather 6-pack  비공개  3569992365              0  \n",
       "3               6, Large, White 6-pack  비공개  3569992365              0  \n",
       "4               Medium, 6, Navy 6-pack  비공개  3569992365              0  "
      ]
     },
     "execution_count": 34,
     "metadata": {},
     "output_type": "execute_result"
    }
   ],
   "source": [
    "df[\"Text_Position\"] = 0\n",
    "df.head()"
   ]
  },
  {
   "cell_type": "code",
   "execution_count": 35,
   "id": "8576dfd3",
   "metadata": {},
   "outputs": [
    {
     "data": {
      "text/html": [
       "<div>\n",
       "<style scoped>\n",
       "    .dataframe tbody tr th:only-of-type {\n",
       "        vertical-align: middle;\n",
       "    }\n",
       "\n",
       "    .dataframe tbody tr th {\n",
       "        vertical-align: top;\n",
       "    }\n",
       "\n",
       "    .dataframe thead th {\n",
       "        text-align: right;\n",
       "    }\n",
       "</style>\n",
       "<table border=\"1\" class=\"dataframe\">\n",
       "  <thead>\n",
       "    <tr style=\"text-align: right;\">\n",
       "      <th></th>\n",
       "      <th>Unnamed: 0</th>\n",
       "      <th>ID</th>\n",
       "      <th>Date</th>\n",
       "      <th>Grade</th>\n",
       "      <th>Text</th>\n",
       "      <th>Option</th>\n",
       "      <th>Size</th>\n",
       "      <th>ProductNum</th>\n",
       "      <th>Text_Position</th>\n",
       "    </tr>\n",
       "  </thead>\n",
       "  <tbody>\n",
       "    <tr>\n",
       "      <th>795</th>\n",
       "      <td>795</td>\n",
       "      <td>grac*******</td>\n",
       "      <td>2021.11.24</td>\n",
       "      <td>5</td>\n",
       "      <td>0</td>\n",
       "      <td>0</td>\n",
       "      <td>0</td>\n",
       "      <td>3556338225</td>\n",
       "      <td>0</td>\n",
       "    </tr>\n",
       "    <tr>\n",
       "      <th>796</th>\n",
       "      <td>796</td>\n",
       "      <td>gree*************************</td>\n",
       "      <td>2021.11.22</td>\n",
       "      <td>3</td>\n",
       "      <td>옷 품질이 좀 그래요</td>\n",
       "      <td>0</td>\n",
       "      <td>0</td>\n",
       "      <td>3556338225</td>\n",
       "      <td>0</td>\n",
       "    </tr>\n",
       "    <tr>\n",
       "      <th>797</th>\n",
       "      <td>797</td>\n",
       "      <td>sunb*******</td>\n",
       "      <td>2021.11.19</td>\n",
       "      <td>5</td>\n",
       "      <td>재질도 톡톡하니 너무 좋네요~</td>\n",
       "      <td>0</td>\n",
       "      <td>0</td>\n",
       "      <td>3556338225</td>\n",
       "      <td>0</td>\n",
       "    </tr>\n",
       "    <tr>\n",
       "      <th>798</th>\n",
       "      <td>798</td>\n",
       "      <td>cjh2**</td>\n",
       "      <td>2021.11.18</td>\n",
       "      <td>3</td>\n",
       "      <td>넘 커요</td>\n",
       "      <td>0</td>\n",
       "      <td>0</td>\n",
       "      <td>3556338225</td>\n",
       "      <td>0</td>\n",
       "    </tr>\n",
       "    <tr>\n",
       "      <th>799</th>\n",
       "      <td>799</td>\n",
       "      <td>mjhm**</td>\n",
       "      <td>2021.11.17</td>\n",
       "      <td>4</td>\n",
       "      <td>0</td>\n",
       "      <td>0</td>\n",
       "      <td>0</td>\n",
       "      <td>3556338225</td>\n",
       "      <td>0</td>\n",
       "    </tr>\n",
       "  </tbody>\n",
       "</table>\n",
       "</div>"
      ],
      "text/plain": [
       "     Unnamed: 0                             ID        Date  Grade  \\\n",
       "795         795                    grac*******  2021.11.24      5   \n",
       "796         796  gree*************************  2021.11.22      3   \n",
       "797         797                    sunb*******  2021.11.19      5   \n",
       "798         798                         cjh2**  2021.11.18      3   \n",
       "799         799                         mjhm**  2021.11.17      4   \n",
       "\n",
       "                 Text Option Size  ProductNum  Text_Position  \n",
       "795                 0      0    0  3556338225              0  \n",
       "796       옷 품질이 좀 그래요      0    0  3556338225              0  \n",
       "797  재질도 톡톡하니 너무 좋네요~      0    0  3556338225              0  \n",
       "798              넘 커요      0    0  3556338225              0  \n",
       "799                 0      0    0  3556338225              0  "
      ]
     },
     "execution_count": 35,
     "metadata": {},
     "output_type": "execute_result"
    }
   ],
   "source": [
    "df.tail()"
   ]
  },
  {
   "cell_type": "code",
   "execution_count": 36,
   "id": "69ccc6e2",
   "metadata": {},
   "outputs": [],
   "source": [
    "df[\"Text_Position\"] = df[\"Text_Position\"].astype('str')"
   ]
  },
  {
   "cell_type": "code",
   "execution_count": 37,
   "id": "447fd77f",
   "metadata": {
    "scrolled": false
   },
   "outputs": [
    {
     "name": "stdout",
     "output_type": "stream",
     "text": [
      "<class 'pandas.core.frame.DataFrame'>\n",
      "RangeIndex: 800 entries, 0 to 799\n",
      "Data columns (total 9 columns):\n",
      " #   Column         Non-Null Count  Dtype \n",
      "---  ------         --------------  ----- \n",
      " 0   Unnamed: 0     800 non-null    int64 \n",
      " 1   ID             800 non-null    object\n",
      " 2   Date           800 non-null    object\n",
      " 3   Grade          800 non-null    int64 \n",
      " 4   Text           800 non-null    object\n",
      " 5   Option         800 non-null    object\n",
      " 6   Size           800 non-null    object\n",
      " 7   ProductNum     800 non-null    int64 \n",
      " 8   Text_Position  800 non-null    object\n",
      "dtypes: int64(3), object(6)\n",
      "memory usage: 56.4+ KB\n"
     ]
    }
   ],
   "source": [
    "df.info()"
   ]
  },
  {
   "cell_type": "code",
   "execution_count": 38,
   "id": "e70f49a9",
   "metadata": {},
   "outputs": [
    {
     "data": {
      "text/plain": [
       "[('쿠폰', 'Noun'),\n",
       " ('써서', 'Verb'),\n",
       " ('2만원', 'Number'),\n",
       " ('정도에', 'Foreign'),\n",
       " ('6', 'Number'),\n",
       " ('벌이', 'Noun'),\n",
       " ('면', 'Josa'),\n",
       " ('정말', 'Noun'),\n",
       " ('싸요', 'Verb'),\n",
       " ('.', 'Punctuation'),\n",
       " ('싼만큼', 'Verb'),\n",
       " ('마감', 'Noun'),\n",
       " ('이', 'Josa'),\n",
       " ('안좋은', 'Adjective'),\n",
       " ('부분', 'Noun'),\n",
       " ('도', 'Josa'),\n",
       " ('있네요', 'Adjective'),\n",
       " ('.', 'Punctuation'),\n",
       " ('어깨', 'Noun'),\n",
       " ('선', 'Noun'),\n",
       " ('재봉', 'Noun'),\n",
       " ('선', 'Noun'),\n",
       " ('이', 'Josa'),\n",
       " ('씹힌것도', 'Verb'),\n",
       " ('있어요', 'Adjective'),\n",
       " ('.', 'Punctuation'),\n",
       " ('보통', 'Noun'),\n",
       " ('100', 'Number'),\n",
       " ('입는데', 'Verb'),\n",
       " ('M', 'Alpha'),\n",
       " ('잘', 'Verb'),\n",
       " ('맞네요', 'Verb'),\n",
       " ('.', 'Punctuation')]"
      ]
     },
     "execution_count": 38,
     "metadata": {},
     "output_type": "execute_result"
    }
   ],
   "source": [
    "okt.pos(df.iloc[0,4])"
   ]
  },
  {
   "cell_type": "code",
   "execution_count": 39,
   "id": "0a595236",
   "metadata": {},
   "outputs": [
    {
     "data": {
      "text/plain": [
       "[('옷', 'Noun'),\n",
       " ('에', 'Josa'),\n",
       " ('비침도', 'Verb'),\n",
       " ('크게', 'Noun'),\n",
       " ('없고', 'Adjective'),\n",
       " ('사이즈', 'Noun'),\n",
       " ('도', 'Josa'),\n",
       " ('넉넉해서', 'Adjective'),\n",
       " ('좋습니다', 'Adjective'),\n",
       " ('.', 'Punctuation'),\n",
       " ('이번', 'Noun'),\n",
       " ('여름', 'Noun'),\n",
       " ('까지', 'Josa'),\n",
       " ('무난', 'Noun'),\n",
       " ('하게', 'Verb'),\n",
       " ('잘', 'Verb'),\n",
       " ('입', 'Noun'),\n",
       " ('을', 'Josa'),\n",
       " ('것', 'Noun'),\n",
       " ('같아요', 'Adjective'),\n",
       " ('.', 'Punctuation')]"
      ]
     },
     "execution_count": 39,
     "metadata": {},
     "output_type": "execute_result"
    }
   ],
   "source": [
    "okt.pos(df.iloc[1,4])"
   ]
  },
  {
   "cell_type": "code",
   "execution_count": 40,
   "id": "0d512c63",
   "metadata": {
    "scrolled": true
   },
   "outputs": [
    {
     "data": {
      "text/html": [
       "<div>\n",
       "<style scoped>\n",
       "    .dataframe tbody tr th:only-of-type {\n",
       "        vertical-align: middle;\n",
       "    }\n",
       "\n",
       "    .dataframe tbody tr th {\n",
       "        vertical-align: top;\n",
       "    }\n",
       "\n",
       "    .dataframe thead th {\n",
       "        text-align: right;\n",
       "    }\n",
       "</style>\n",
       "<table border=\"1\" class=\"dataframe\">\n",
       "  <thead>\n",
       "    <tr style=\"text-align: right;\">\n",
       "      <th></th>\n",
       "      <th>Unnamed: 0</th>\n",
       "      <th>ID</th>\n",
       "      <th>Date</th>\n",
       "      <th>Grade</th>\n",
       "      <th>Text</th>\n",
       "      <th>Option</th>\n",
       "      <th>Size</th>\n",
       "      <th>ProductNum</th>\n",
       "      <th>Text_Position</th>\n",
       "    </tr>\n",
       "  </thead>\n",
       "  <tbody>\n",
       "    <tr>\n",
       "      <th>0</th>\n",
       "      <td>0</td>\n",
       "      <td>날까</td>\n",
       "      <td>2023.04.08</td>\n",
       "      <td>4</td>\n",
       "      <td>쿠폰써서 2만원정도에 6벌이면 정말 싸요. 싼만큼 마감이 안좋은 부분도 있네요. 어...</td>\n",
       "      <td>White 6-pack, 6, Medium</td>\n",
       "      <td>비공개</td>\n",
       "      <td>3569992365</td>\n",
       "      <td>[(쿠폰, Noun), (써서, Verb), (2만원, Number), (정도에, ...</td>\n",
       "    </tr>\n",
       "    <tr>\n",
       "      <th>1</th>\n",
       "      <td>1</td>\n",
       "      <td>newr*****</td>\n",
       "      <td>2023.03.27</td>\n",
       "      <td>5</td>\n",
       "      <td>옷에 비침도 크게 없고 사이즈도 넉넉해서 좋습니다. 이번 여름까지 무난하게 잘 입을...</td>\n",
       "      <td>XX-Large, 6, White 6-pack</td>\n",
       "      <td>비공개</td>\n",
       "      <td>3569992365</td>\n",
       "      <td>[(옷, Noun), (에, Josa), (비침도, Verb), (크게, Noun)...</td>\n",
       "    </tr>\n",
       "    <tr>\n",
       "      <th>2</th>\n",
       "      <td>2</td>\n",
       "      <td>soch*****</td>\n",
       "      <td>2023.03.31</td>\n",
       "      <td>4</td>\n",
       "      <td>잘 알려진 브랜드입니다.면이 얇고 빨면 줄기도 합니다.올 여름 편하게 입으려고 구매...</td>\n",
       "      <td>X-Large, 6, Charcoal Heather 6-pack</td>\n",
       "      <td>비공개</td>\n",
       "      <td>3569992365</td>\n",
       "      <td>[(잘, Verb), (알려진, Verb), (브랜드, Noun), (입니다, Ad...</td>\n",
       "    </tr>\n",
       "    <tr>\n",
       "      <th>3</th>\n",
       "      <td>3</td>\n",
       "      <td>2045***************</td>\n",
       "      <td>2023.03.02</td>\n",
       "      <td>5</td>\n",
       "      <td>얇아서 비침이 있으며 꽤 부드러운 재질입니다.이너로 입기 괜찮을듯</td>\n",
       "      <td>6, Large, White 6-pack</td>\n",
       "      <td>비공개</td>\n",
       "      <td>3569992365</td>\n",
       "      <td>[(얇아서, Adjective), (비침이, Verb), (있으며, Adjectiv...</td>\n",
       "    </tr>\n",
       "    <tr>\n",
       "      <th>4</th>\n",
       "      <td>4</td>\n",
       "      <td>하이하이저요</td>\n",
       "      <td>2023.03.21</td>\n",
       "      <td>3</td>\n",
       "      <td>저렴하게 막 입기 좋네요생각보다 정사이즈인거 같아요 라지입는데 미듐샀더니가슴둘레가 ...</td>\n",
       "      <td>Medium, 6, Navy 6-pack</td>\n",
       "      <td>비공개</td>\n",
       "      <td>3569992365</td>\n",
       "      <td>[(저렴하게, Adjective), (막, Noun), (입기, Verb), (좋네...</td>\n",
       "    </tr>\n",
       "  </tbody>\n",
       "</table>\n",
       "</div>"
      ],
      "text/plain": [
       "   Unnamed: 0                   ID        Date  Grade  \\\n",
       "0           0                   날까  2023.04.08      4   \n",
       "1           1            newr*****  2023.03.27      5   \n",
       "2           2            soch*****  2023.03.31      4   \n",
       "3           3  2045***************  2023.03.02      5   \n",
       "4           4               하이하이저요  2023.03.21      3   \n",
       "\n",
       "                                                Text  \\\n",
       "0  쿠폰써서 2만원정도에 6벌이면 정말 싸요. 싼만큼 마감이 안좋은 부분도 있네요. 어...   \n",
       "1  옷에 비침도 크게 없고 사이즈도 넉넉해서 좋습니다. 이번 여름까지 무난하게 잘 입을...   \n",
       "2  잘 알려진 브랜드입니다.면이 얇고 빨면 줄기도 합니다.올 여름 편하게 입으려고 구매...   \n",
       "3               얇아서 비침이 있으며 꽤 부드러운 재질입니다.이너로 입기 괜찮을듯   \n",
       "4  저렴하게 막 입기 좋네요생각보다 정사이즈인거 같아요 라지입는데 미듐샀더니가슴둘레가 ...   \n",
       "\n",
       "                                Option Size  ProductNum  \\\n",
       "0              White 6-pack, 6, Medium  비공개  3569992365   \n",
       "1            XX-Large, 6, White 6-pack  비공개  3569992365   \n",
       "2  X-Large, 6, Charcoal Heather 6-pack  비공개  3569992365   \n",
       "3               6, Large, White 6-pack  비공개  3569992365   \n",
       "4               Medium, 6, Navy 6-pack  비공개  3569992365   \n",
       "\n",
       "                                       Text_Position  \n",
       "0  [(쿠폰, Noun), (써서, Verb), (2만원, Number), (정도에, ...  \n",
       "1  [(옷, Noun), (에, Josa), (비침도, Verb), (크게, Noun)...  \n",
       "2  [(잘, Verb), (알려진, Verb), (브랜드, Noun), (입니다, Ad...  \n",
       "3  [(얇아서, Adjective), (비침이, Verb), (있으며, Adjectiv...  \n",
       "4  [(저렴하게, Adjective), (막, Noun), (입기, Verb), (좋네...  "
      ]
     },
     "execution_count": 40,
     "metadata": {},
     "output_type": "execute_result"
    }
   ],
   "source": [
    "for i in range(0, df.shape[0]): \n",
    "    df.at[i, \"Text_Position\"] = okt.pos(str(df.iloc[i, 4]))\n",
    "\n",
    "df.head()"
   ]
  },
  {
   "cell_type": "code",
   "execution_count": 41,
   "id": "f0a8e1e8",
   "metadata": {},
   "outputs": [],
   "source": [
    "# https://liveyourit.tistory.com/57\n"
   ]
  },
  {
   "cell_type": "code",
   "execution_count": 42,
   "id": "904d2be0",
   "metadata": {},
   "outputs": [
    {
     "name": "stdout",
     "output_type": "stream",
     "text": [
      "[('쿠폰', 'Noun'), ('써서', 'Verb'), ('2만원', 'Number'), ('정도에', 'Foreign'), ('6', 'Number'), ('벌이', 'Noun'), ('면', 'Josa'), ('정말', 'Noun'), ('싸요', 'Verb'), ('.', 'Punctuation'), ('싼만큼', 'Verb'), ('마감', 'Noun'), ('이', 'Josa'), ('안좋은', 'Adjective'), ('부분', 'Noun'), ('도', 'Josa'), ('있네요', 'Adjective'), ('.', 'Punctuation'), ('어깨', 'Noun'), ('선', 'Noun'), ('재봉', 'Noun'), ('선', 'Noun'), ('이', 'Josa'), ('씹힌것도', 'Verb'), ('있어요', 'Adjective'), ('.', 'Punctuation'), ('보통', 'Noun'), ('100', 'Number'), ('입는데', 'Verb'), ('M', 'Alpha'), ('잘', 'Verb'), ('맞네요', 'Verb'), ('.', 'Punctuation'), ('옷', 'Noun'), ('에', 'Josa'), ('비침도', 'Verb'), ('크게', 'Noun'), ('없고', 'Adjective'), ('사이즈', 'Noun'), ('도', 'Josa'), ('넉넉해서', 'Adjective'), ('좋습니다', 'Adjective'), ('.', 'Punctuation'), ('이번', 'Noun'), ('여름', 'Noun'), ('까지', 'Josa'), ('무난', 'Noun'), ('하게', 'Verb'), ('잘', 'Verb'), ('입', 'Noun'), ('을', 'Josa'), ('것', 'Noun'), ('같아요', 'Adjective'), ('.', 'Punctuation'), ('잘', 'Verb'), ('알려진', 'Verb'), ('브랜드', 'Noun'), ('입니다', 'Adjective'), ('.', 'Punctuation'), ('면', 'Noun'), ('이', 'Josa'), ('얇고', 'Adjective'), ('빨', 'Noun'), ('면', 'Josa'), ('줄기', 'Noun'), ('도', 'Josa'), ('합니다', 'Verb'), ('.', 'Punctuation'), ('올', 'Verb'), ('여름', 'Noun'), ('편하게', 'Adjective'), ('입으려고', 'Verb'), ('구매', 'Noun'), ('했습니다', 'Verb'), ('.', 'Punctuation'), ('잘', 'Verb'), ('받았어요', 'Verb'), ('.', 'Punctuation'), ('감사합니다', 'Verb'), ('.', 'Punctuation'), ('수고', 'Noun'), ('하셨습니다', 'Verb'), ('.', 'Punctuation'), ('얇아서', 'Adjective'), ('비침이', 'Verb'), ('있으며', 'Adjective'), ('꽤', 'Noun'), ('부드러운', 'Adjective'), ('재질', 'Noun'), ('입니다', 'Adjective'), ('.', 'Punctuation'), ('이', 'Determiner'), ('너', 'Noun'), ('로', 'Josa'), ('입기', 'Verb'), ('괜찮을듯', 'Adjective'), ('저렴하게', 'Adjective'), ('막', 'Noun'), ('입기', 'Verb'), ('좋네요', 'Adjective'), ('생각', 'Noun'), ('보다', 'Josa'), ('정사', 'Noun'), ('이즈', 'Noun'), ('인거', 'Josa'), ('같아요', 'Adjective'), ('라지', 'Noun'), ('입는데', 'Verb'), ('미', 'Adjective'), ('듐', 'Noun'), ('샀더니', 'Verb'), ('가슴', 'Noun'), ('둘레', 'Noun'), ('가', 'Josa'), ('타이', 'Noun'), ('트', 'Noun'), ('합니다', 'Verb'), ('우주', 'Noun'), ('패스', 'Noun'), ('좋긴', 'Adjective'), ('하네요', 'Verb'), ('105', 'Number'), ('입는데', 'Verb'), ('첨', 'Noun'), ('엔', 'Josa'), ('큰', 'Verb'), ('가했는데', 'Verb'), ('건조기', 'Noun'), ('돌렸더니', 'Verb'), ('많이', 'Adverb'), ('줄어들어서', 'Verb'), ('적당합니다', 'Adjective'), ('.', 'Punctuation'), ('순면', 'Noun'), ('티셔츠', 'Noun'), ('네', 'Noun'), ('장이', 'Suffix'), ('한', 'Verb'), ('팩', 'Noun'), ('으로', 'Josa'), ('된', 'Verb'), ('구성', 'Noun'), ('이고', 'Josa'), (',', 'Punctuation'), ('이', 'Noun'), ('부문', 'Noun'), ('에서', 'Josa'), ('널리', 'Noun'), ('알려진', 'Verb'), ('Hanes', 'Alpha'), ('의', 'Noun'), ('제품', 'Noun'), ('답', 'Noun'), ('게', 'Josa'), ('품질', 'Noun'), ('이', 'Josa'), ('좋고', 'Adjective'), ('발색', 'Noun'), ('이', 'Josa'), ('예쁩니다', 'Adjective'), ('.', 'Punctuation'), ('부담', 'Noun'), ('없이', 'Adverb'), ('일상생활', 'Noun'), ('용', 'Noun'), ('혹은', 'Adverb'), ('가까운', 'Adjective'), ('곳', 'Noun'), ('외출', 'Noun'), ('용', 'Noun'), ('으로', 'Josa'), ('편안하게', 'Adjective'), ('입기', 'Verb'), ('좋습니다', 'Adjective'), ('.', 'Punctuation'), ('후드', 'Noun'), ('랑', 'Josa'), ('같이', 'Adverb'), ('입으려고', 'Verb'), ('샀는데', 'Verb'), ('정말', 'Noun'), ('좋아요', 'Adjective'), ('!', 'Punctuation'), ('하체', 'Noun'), ('비만', 'Noun'), ('이라', 'Josa'), ('S', 'Alpha'), ('는', 'Verb'), ('좀', 'Noun'), ('허벅지', 'Noun'), ('에서', 'Josa'), ('딱', 'Adverb'), ('붙어', 'Verb'), ('맞았고', 'Verb'), (',', 'Punctuation'), ('M', 'Alpha'), ('은', 'Noun'), ('넉넉하게', 'Adjective'), ('맞아서', 'Verb'), ('좋아요', 'Adjective'), ('~', 'Punctuation'), ('대신', 'Noun'), ('길이', 'Noun'), ('가', 'Josa'), ('너무', 'Adverb'), ('길어', 'Adjective'), ('자르던지', 'Verb'), ('올리던지', 'Verb'), ('해야', 'Verb'), ('할', 'Verb'), ('듯', 'Noun'), ('해', 'Noun'), ('요', 'Josa'), ('중', 'Noun'), ('1', 'Number'), ('아들', 'Noun'), ('교복', 'Noun'), ('안', 'Noun'), ('에', 'Josa'), ('입어요', 'Verb'), ('기본', 'Noun'), ('면티', 'Noun'), ('면은', 'Eomi'), ('토톰', 'Noun'), ('하지난', 'Verb'), ('마감', 'Noun'), ('이', 'Josa'), ('약간', 'Noun'), ('부족하면', 'Adjective'), ('있어요', 'Adjective'), ('한국', 'Noun'), ('면티', 'Noun'), ('에', 'Josa'), ('비', 'Noun'), ('에', 'Josa'), ('좀', 'Noun'), ('거친', 'Verb'), ('느낌', 'Noun'), ('이', 'Josa'), ('있긴', 'Adjective'), ('하지만', 'Conjunction'), ('가성', 'Noun'), ('비', 'Noun'), ('좋고', 'Adjective'), ('막', 'Noun'), ('입는용', 'Verb'), ('도로', 'Noun'), ('대량', 'Noun'), ('규매', 'Noun'), ('한', 'Josa'), ('다', 'Adverb'), ('면', 'Noun'), ('추천', 'Noun'), ('합니다', 'Verb'), ('.', 'Punctuation'), ('두번째', 'Noun'), ('구매', 'Noun'), ('입니다', 'Adjective'), ('.', 'Punctuation'), ('엑스', 'Noun'), ('라지', 'Noun'), ('는', 'Josa'), ('많이', 'Adverb'), ('커서', 'Noun'), ('라지', 'Noun'), ('로', 'Josa'), ('또', 'Noun'), ('구매', 'Noun'), ('작년', 'Noun'), ('에', 'Josa'), ('입어보고', 'Verb'), ('좋아서', 'Adjective'), ('올해', 'Noun'), ('또', 'Noun'), ('구매', 'Noun'), ('했어요', 'Verb'), ('..', 'Punctuation'), ('넘', 'Verb'), ('좋네요', 'Adjective'), ('면티', 'Noun'), ('잘', 'VerbPrefix'), ('받았어요', 'Verb'), ('해마다', 'Adverb'), ('구입', 'Noun'), ('하는데', 'Verb'), ('잘', 'VerbPrefix'), ('받았어요', 'Verb'), ('.', 'Punctuation'), ('다', 'Adverb'), ('좋은데', 'Adjective'), ('목뒤', 'Noun'), ('에', 'Josa'), ('상표', 'Noun'), ('가', 'Josa'), ('조금', 'Noun'), ('거슬려요', 'Verb'), ('..', 'Punctuation'), ('쌀국', 'Noun'), ('의', 'Josa'), ('엑스', 'Noun'), ('라지', 'Noun'), ('는', 'Josa'), ('우리', 'Noun'), ('의', 'Josa'), ('엑스', 'Noun'), ('라지', 'Noun'), ('와', 'Josa'), ('마이', 'Noun'), ('다르네요', 'Adjective'), ('까슬하니', 'Adjective'), ('시원할거', 'Adjective'), ('같고', 'Adjective'), ('벌', 'Noun'), ('크로', 'Verb'), ('돌려', 'Verb'), ('입어도', 'Verb'), ('되겠어요', 'Verb'), ('매일', 'Noun'), ('하나로', 'Noun'), ('똑같은', 'Adjective'), ('것', 'Noun'), ('만', 'Josa'), ('입는다고', 'Verb'), ('오해', 'Noun'), ('하지', 'Verb'), ('말아주세요', 'Verb'), ('ㅎㅎㅎ', 'KoreanParticle'), ('감사합니다', 'Verb'), ('새', 'Modifier'), ('탁', 'Noun'), ('은', 'Josa'), ('아직', 'Adverb'), ('해보지는', 'Verb'), ('않았지만', 'Verb'), ('건조기', 'Noun'), ('는', 'Josa'), ('어느', 'Modifier'), ('정도', 'Noun'), ('줄어들', 'Verb'), ('걸', 'Noun'), ('예상', 'Noun'), ('하고', 'Josa'), ('구매', 'Noun'), ('하였습니다', 'Verb'), ('.', 'Punctuation'), ('170', 'Number'), ('에', 'Josa'), ('90', 'Number'), ('인데', 'Josa'), ('엑스', 'Noun'), ('라지', 'Noun'), ('가', 'Josa'), ('약간', 'Noun'), ('내려옵니다', 'Verb'), ('.', 'Punctuation'), ('어때는', 'Adjective'), ('맞는듯', 'Verb'), ('합니다', 'Verb'), ('.', 'Punctuation'), ('우주', 'Noun'), ('패스', 'Noun'), ('쿠폰', 'Noun'), ('적용', 'Noun'), ('해서', 'Verb'), ('장', 'Noun'), ('당', 'Suffix'), ('4천', 'Number'), ('꼴로', 'Foreign'), ('구입', 'Noun'), ('두께', 'Noun'), ('는', 'Josa'), ('얇은', 'Adjective'), ('편', 'Noun'), ('인데', 'Josa'), (',', 'Punctuation'), ('얇아서', 'Adjective'), ('속이', 'Verb'), ('비치는', 'Verb'), ('정도', 'Noun'), ('는', 'Josa'), ('아님', 'Adjective'), ('.', 'Punctuation'), ('셔츠', 'Noun'), ('아래', 'Noun'), ('에', 'Josa'), ('받쳐', 'Verb'), ('입', 'Noun'), ('을', 'Josa'), ('용도', 'Noun'), ('로', 'Josa'), ('구입', 'Noun'), ('했는데', 'Verb'), (',', 'Punctuation'), ('적당함', 'Adjective'), ('약간', 'Noun'), ('까슬까슬', 'Noun'), ('한', 'Josa'), ('느낌', 'Noun'), ('이', 'Josa'), ('있고', 'Adjective'), (',', 'Punctuation'), ('내부', 'Noun'), ('실', 'Noun'), ('마감', 'Noun'), ('이', 'Josa'), ('지저분하게', 'Adjective'), ('되어있음', 'Verb'), ('.', 'Punctuation'), ('가성', 'Noun'), ('비는', 'Verb'), ('만족함', 'Adjective'), ('주문', 'Noun'), ('5월', 'Number'), ('17일', 'Number'), ('배송', 'Foreign'), ('5월', 'Number'), ('21일', 'Number'), ('6', 'Number'), ('개', 'Noun'), ('한', 'Determiner'), ('세트', 'Noun'), ('비닐', 'Noun'), ('포장', 'Noun'), ('1', 'Number'), ('개', 'Noun'), ('로', 'Josa'), ('되어', 'Verb'), ('왔으며', 'Verb'), ('살짝', 'Noun'), ('새', 'Noun'), ('제품', 'Noun'), ('냄새', 'Noun'), ('가', 'Josa'), ('납니다', 'Verb'), ('여름', 'Noun'), ('용', 'Noun'), ('으로', 'Josa'), ('적당히', 'Adjective'), ('까슬한', 'Adjective'), ('느낌', 'Noun'), ('이라', 'Josa'), ('만족스럽네요', 'Adjective'), ('편하게', 'Adjective'), ('운동', 'Noun'), ('할', 'Verb'), ('때', 'Noun'), ('나', 'Josa'), ('집', 'Noun'), ('에서', 'Josa'), ('편하게', 'Adjective'), ('입는', 'Verb'), ('용', 'Noun'), ('으로', 'Josa'), ('추천', 'Noun'), ('합니다', 'Verb'), ('미국', 'Noun'), ('에서', 'Josa'), ('반', 'Modifier'), ('팔', 'Modifier'), ('티', 'Noun'), ('사면', 'Noun'), ('딱', 'Adverb'), ('느껴지는', 'Verb'), ('그', 'Noun'), ('거친', 'Verb'), ('질감', 'Noun'), ('입니다', 'Adjective'), ('.', 'Punctuation'), ('여름', 'Noun'), ('에', 'Josa'), ('입기에', 'Verb'), ('좋은', 'Adjective'), ('시원한', 'Adjective'), ('느낌', 'Noun'), ('.', 'Punctuation'), ('운동', 'Noun'), ('용도', 'Noun'), ('좋고', 'Adjective'), ('이', 'Determiner'), ('너', 'Noun'), ('로는', 'Josa'), ('별로', 'Noun'), ('입니다', 'Adjective'), ('.', 'Punctuation'), ('105', 'Number'), ('입으면', 'Verb'), ('딱', 'VerbPrefix'), ('맞는', 'Verb'), ('느낌', 'Noun'), ('인데', 'Josa'), ('이건', 'Noun'), ('M', 'Alpha'), ('사이즈', 'Noun'), ('가', 'Josa'), ('살짝', 'Noun'), ('넉넉하네요', 'Adjective'), ('.', 'Punctuation'), ('몸통', 'Noun'), ('두꺼우면', 'Adjective'), ('105', 'Number'), ('딱', 'VerbPrefix'), ('맞습니다', 'Verb'), ('.', 'Punctuation'), ('110', 'Number'), ('사이즈', 'Noun'), ('를', 'Josa'), ('입어서', 'Verb'), ('2', 'Number'), ('xl', 'Alpha'), ('를', 'Noun'), ('구입', 'Noun'), ('했는데', 'Verb'), ('한국', 'Noun'), ('사이즈', 'Noun'), ('와', 'Josa'), ('비교', 'Noun'), ('시', 'Noun'), ('2', 'Number'), ('사이즈', 'Noun'), ('작게', 'Adjective'), ('구입', 'Noun'), ('하는게', 'Verb'), ('좋겠습니다', 'Adjective'), ('.', 'Punctuation'), ('L', 'Alpha'), ('사이즈', 'Noun'), ('정도', 'Noun'), ('가', 'Josa'), ('맞을거', 'Verb'), ('같아요', 'Adjective'), ('.', 'Punctuation'), ('건조기', 'Noun'), ('돌려서', 'Verb'), ('한', 'Verb'), ('사이즈', 'Noun'), ('라고', 'Josa'), ('줄', 'Noun'), ('면', 'Josa'), ('좋겠네요', 'Adjective'), ('옷', 'Noun'), ('의', 'Josa'), ('질', 'Noun'), ('은', 'Josa'), ('만족합니다', 'Adjective'), ('10년', 'Number'), ('전', 'Noun'), ('에', 'Josa'), ('여러', 'Modifier'), ('장', 'Noun'), ('구매', 'Noun'), ('해서', 'Verb'), ('정말', 'Noun'), ('잘', 'Verb'), ('입었구요', 'Verb'), (',,', 'Punctuation'), ('한', 'Verb'), ('장', 'Noun'), ('두', 'Noun'), ('장', 'Noun'), ('자꾸', 'Noun'), ('헤져', 'Noun'), ('서', 'Josa'), ('미리', 'Noun'), ('구매', 'Noun'), ('합니다', 'Verb'), ('.', 'Punctuation'), ('헤지', 'Noun'), ('스', 'Noun'), ('면', 'Noun'), ('이', 'Josa'), ('톡톡하니', 'Adjective'), ('좋은', 'Adjective'), ('데', 'Noun'), ('중국', 'Noun'), ('에서', 'Josa'), ('만든', 'Verb'), ('게', 'Noun'), ('아니라', 'Adjective'), ('다행', 'Noun'), ('이네', 'Josa'), ('요', 'Noun'), ('ㅎㅎ', 'KoreanParticle'), ('남자친구', 'Noun'), ('주', 'Modifier'), ('려고', 'Noun'), ('샀어요', 'Verb'), ('사이즈', 'Noun'), ('큼직하고', 'Adjective'), ('면', 'Noun'), ('이', 'Josa'), ('빳빳하', 'Noun'), ('지', 'Josa'), ('않아서', 'Verb'), ('좋아요', 'Adjective'), ('잘', 'Verb'), ('입어질', 'Verb'), ('것', 'Noun'), ('같아요', 'Adjective'), ('유니클로', 'Noun'), ('에서', 'Josa'), ('샀으면', 'Verb'), ('두', 'Determiner'), ('세배', 'Noun'), ('비쌌을텐데', 'Adjective'), ('퀄', 'Noun'), ('은', 'Josa'), ('떨어져도', 'Verb'), ('가성', 'Noun'), ('비', 'Noun'), ('좋은', 'Adjective'), ('것', 'Noun'), ('같아요', 'Adjective'), ('두께', 'Noun'), ('양호', 'Noun'), ('싸이', 'Noun'), ('즈', 'Modifier'), ('양호', 'Noun'), ('저렴한', 'Adjective'), ('가격', 'Noun'), ('에', 'Josa'), ('6', 'Number'), ('장', 'Noun'), ('득템', 'Noun'), ('했습니다', 'Verb'), ('만족스러워요', 'Adjective'), ('다만', 'Noun'), ('목뒤', 'Noun'), ('상표', 'Noun'), ('는', 'Josa'), ('한번', 'Noun'), ('빨', 'Noun'), ('아보', 'Noun'), ('니', 'Josa'), ('거의', 'Noun'), ('손', 'Noun'), ('으로', 'Josa'), ('떨어져', 'Verb'), ('나갑니다', 'Verb'), ('참고', 'Noun'), ('하세요', 'Verb'), ('가성', 'Noun'), ('비', 'Noun'), ('좋은', 'Adjective'), ('상품', 'Noun'), ('이네', 'Josa'), ('요', 'Noun'), ('.', 'Punctuation'), ('173', 'Number'), ('.', 'Punctuation'), ('62', 'Number'), ('키로', 'Suffix'), ('L', 'Alpha'), ('사이즈', 'Noun'), ('세탁', 'Noun'), ('하니', 'Verb'), ('좀줄었지만', 'Adjective'), ('잘맞습니다', 'Adjective'), ('.', 'Punctuation'), ('재질', 'Noun'), ('이', 'Josa'), ('조금', 'Noun'), ('뻣뻣한', 'Adjective'), ('감도', 'Verb'), ('있지만', 'Adjective'), ('입기에는', 'Verb'), ('크게', 'Noun'), ('불편함은', 'Adjective'), ('없습니다', 'Adjective'), ('.', 'Punctuation'), ('남자', 'Noun'), ('174', 'Number'), ('cm', 'Alpha'), (',', 'Punctuation'), ('78', 'Number'), ('kg', 'Alpha'), ('인데', 'Josa'), ('xl', 'Alpha'), ('아주', 'Noun'), ('약간', 'Noun'), ('오', 'Modifier'), ('버핏', 'Noun'), ('느낌', 'Noun'), ('으로', 'Josa'), ('입을수', 'Adjective'), ('있습니다', 'Adjective'), ('.', 'Punctuation'), ('생각', 'Noun'), ('보다', 'Josa'), ('질', 'Noun'), ('이', 'Josa'), ('상당히', 'Adjective'), ('좋네요', 'Adjective'), ('적당히', 'Adjective'), ('보드랍고', 'Adjective'), ('좋습니다', 'Adjective'), ('.', 'Punctuation'), ('대신', 'Noun'), ('미국', 'Noun'), ('사이즈', 'Noun'), ('라', 'Josa'), ('그', 'Determiner'), ('런가', 'Noun'), ('기장', 'Noun'), ('이', 'Josa'), ('아주', 'Noun'), ('조금', 'Noun'), ('깁니다', 'Verb'), ('.', 'Punctuation'), ('그래도', 'Adverb'), ('품질', 'Noun'), ('이', 'Josa'), ('좋네요', 'Adjective'), ('.', 'Punctuation'), ('생각', 'Noun'), ('했던', 'Verb'), ('것', 'Noun'), ('보다', 'Josa'), ('얇은데', 'Adjective'), ('엄청', 'Adverb'), ('얇은', 'Adjective'), ('건', 'Noun'), ('아니라', 'Adjective'), ('괜찮아요', 'Adjective'), ('.', 'Punctuation'), ('L', 'Alpha'), ('사이즈', 'Noun'), ('가', 'Josa'), ('한국', 'Noun'), ('105', 'Number'), ('정도', 'Noun'), ('되는', 'Verb'), ('것', 'Noun'), ('같아요', 'Adjective'), ('.', 'Punctuation'), ('핫딜가', 'Noun'), ('로', 'Josa'), ('저렴하게', 'Adjective'), ('구매', 'Noun'), ('해서', 'Verb'), ('만족합니다', 'Adjective'), ('.', 'Punctuation'), ('새', 'Modifier'), ('탁', 'Noun'), ('은', 'Josa'), ('아직', 'Adverb'), ('해보지는', 'Verb'), ('않았지만', 'Verb'), ('건조기', 'Noun'), ('는', 'Josa'), ('어느', 'Modifier'), ('정도', 'Noun'), ('줄어들', 'Verb'), ('걸', 'Noun'), ('예상', 'Noun'), ('하고', 'Josa'), ('구매', 'Noun'), ('하였습니다', 'Verb'), ('.', 'Punctuation'), ('170', 'Number'), ('에', 'Josa'), ('90', 'Number'), ('인데', 'Josa'), ('엑스', 'Noun'), ('라지', 'Noun'), ('가', 'Josa'), ('약간', 'Noun'), ('내려옵니다', 'Verb'), ('.', 'Punctuation'), ('어때는', 'Adjective'), ('맞는듯', 'Verb'), ('건조', 'Noun'), ('기안', 'Noun'), ('돌리니', 'Verb'), ('사이즈', 'Noun'), ('걍', 'Adverb'), ('입기', 'Verb'), ('괜찮아요', 'Adjective'), ('후', 'Noun'), ('들', 'Suffix'), ('거리', 'Noun'), ('지', 'Josa'), ('않고', 'Verb'), ('톡톡하니', 'Adjective'), ('좋네요', 'Adjective'), ('힘', 'Noun'), ('있는', 'Adjective'), ('원단', 'Noun'), ('이에요', 'Josa'), ('면', 'Noun'), ('이', 'Josa'), ('좋네요', 'Adjective'), ('절때', 'Noun'), ('늘어날꺼', 'Verb'), ('같지', 'Adjective'), ('않아요', 'Verb'), ('대신', 'Noun'), ('진한', 'Adjective'), ('색', 'Noun'), ('이라', 'Josa'), ('물', 'Noun'), ('빠짐이', 'Verb'), ('있어요', 'Adjective'), ('당분간', 'Noun'), ('손', 'Noun'), ('빨래', 'Noun'), ('예약', 'Noun'), ('이라', 'Josa'), ('슬프네요', 'Adjective'), ('싸', 'Verb'), ('이드', 'Noun'), ('엄청', 'Adverb'), ('커요', 'Verb'), ('.', 'Punctuation'), ('183.100', 'Number'), ('kg', 'Alpha'), ('인', 'Noun'), ('신랑', 'Noun'), ('도', 'Josa'), ('크데요', 'Verb'), ('.', 'Punctuation'), ('건조기', 'Noun'), ('막', 'Noun'), ('쓸려구', 'Verb'), ('샀는데', 'Verb'), ('ㅋㅋ', 'KoreanParticle'), ('그래도', 'Adverb'), ('커요', 'Verb'), ('막', 'Noun'), ('입기는', 'Verb'), ('좋아요', 'Adjective'), ('.', 'Punctuation'), ('얇지', 'Adjective'), ('않아요', 'Verb'), ('속', 'Noun'), ('내', 'Determiner'), ('의용', 'Noun'), ('으로', 'Josa'), ('구입', 'Noun'), ('했습니다', 'Verb'), ('.', 'Punctuation'), ('예쁘고', 'Adjective'), ('좋아요', 'Adjective'), ('.', 'Punctuation'), ('잘', 'Verb'), ('입겠습니다', 'Verb'), ('.', 'Punctuation'), ('잘', 'Verb'), ('받았어요', 'Verb'), ('.', 'Punctuation'), ('감사합니다', 'Verb'), ('.', 'Punctuation'), ('수고', 'Noun'), ('하셨습니다', 'Verb'), ('.', 'Punctuation'), ('해외', 'Noun'), ('배송', 'Noun'), ('임', 'Noun'), ('에도', 'Josa'), ('불구', 'Noun'), ('하고', 'Josa'), ('엄청', 'Adverb'), ('빠르네요', 'Adjective'), ('L', 'Alpha'), ('싸', 'Verb'), ('이즈', 'Noun'), ('인데', 'Josa'), ('넉넉한', 'Adjective'), ('105', 'Number'), ('정도', 'Noun'), ('되는거', 'Verb'), ('같습니다', 'Adjective'), ('두께', 'Noun'), ('는', 'Josa'), ('얇은', 'Adjective'), ('편이구요', 'Verb'), ('얇은', 'Adjective'), ('편', 'Noun'), ('인데', 'Josa'), ('비치는', 'Verb'), ('정도', 'Noun'), ('는', 'Josa'), ('아닙니다', 'Adjective'), ('만족합니다', 'Adjective'), ('물건', 'Noun'), ('가격', 'Noun'), ('사이즈', 'Noun'), ('는', 'Josa'), ('생각', 'Noun'), ('보다', 'Josa'), ('ㅈ', 'KoreanParticle'), ('크네요', 'Verb'), ('.', 'Punctuation'), ('미국인', 'Noun'), ('사이즈', 'Noun'), ('인', 'Josa'), ('듯', 'Noun'), ('.', 'Punctuation'), ('도톰해서', 'Adjective'), ('외출', 'Noun'), ('복', 'Noun'), ('으로도', 'Josa'), ('좋아요', 'Adjective'), ('.', 'Punctuation'), ('만족합니다', 'Adjective'), ('소재', 'Noun'), ('좋아요', 'Adjective'), ('.', 'Punctuation'), ('근데', 'Adverb'), ('팔', 'Modifier'), ('부분', 'Noun'), ('이', 'Josa'), ('xl', 'Alpha'), ('인데', 'Verb'), ('도지', 'Noun'), ('.', 'Punctuation'), ('넘', 'Verb'), ('커서', 'Noun'), ('헐렁해요', 'Adjective'), ('.', 'Punctuation'), ('그래서', 'Adverb'), ('편한', 'Adjective'), ('부분', 'Noun'), ('도', 'Josa'), ('있고요', 'Adjective'), ('.', 'Punctuation'), ('참고', 'Noun'), ('하세요', 'Verb'), ('^^', 'Punctuation'), ('면', 'Noun'), ('이', 'Josa'), ('얇아요', 'Adjective'), ('싼게', 'Verb'), ('비지', 'Noun'), ('떡', 'Noun'), ('인듯', 'Noun'), ('요', 'Josa'), ('배송', 'Noun'), ('빠르고', 'Adjective'), ('포장', 'Noun'), ('상태', 'Noun'), ('도', 'Josa'), ('아주', 'Noun'), ('좋았습니다', 'Adjective'), ('.', 'Punctuation'), ('사이즈', 'Noun'), ('도', 'Josa'), ('적당하게', 'Adjective'), ('잘', 'Verb'), ('맞습니다', 'Verb'), ('.', 'Punctuation'), ('하나', 'Noun'), ('에', 'Josa'), ('5500원', 'Number'), ('꼴', 'Noun'), ('에', 'Josa'), ('그냥', 'Noun'), ('별로', 'Noun'), ('면', 'Josa'), ('집', 'Noun'), ('에서', 'Josa'), ('입자', 'Noun'), ('고', 'Josa'), ('샀는데', 'Verb'), ('생각', 'Noun'), ('보다', 'Josa'), ('괜찮네요', 'Adjective'), ('면', 'Noun'), ('50%', 'Number'), ('라', 'Josa'), ('약간', 'Noun'), ('의', 'Josa'), ('까슬함이', 'Adjective'), ('있', 'Adjective'), ('읍니', 'Noun'), ('다', 'Josa'), ('사이즈', 'Noun'), ('는', 'Josa'), ('약간', 'Noun'), ('넉넉한', 'Adjective'), ('편이', 'Noun'), ('며', 'Josa'), ('가성', 'Noun'), ('비', 'Noun'), ('좋', 'Adjective'), ('읍니', 'Noun'), ('다', 'Josa'), ('약간', 'Noun'), ('은', 'Josa'), ('빳빳', 'Noun'), ('하고', 'Josa'), ('까끌까끌한', 'Adjective'), ('재질', 'Noun'), ('입니다', 'Adjective'), ('.', 'Punctuation'), ('셔츠', 'Noun'), ('안', 'Noun'), ('에', 'Josa'), ('입어도', 'Verb'), ('좋고', 'Adjective'), ('단벌', 'Noun'), ('로', 'Josa'), ('입어도', 'Verb'), ('좋겠네요', 'Adjective'), ('.', 'Punctuation'), ('생각', 'Noun'), ('보다', 'Josa'), ('많이', 'Adverb'), ('루즈', 'Noun'), ('함', 'Noun'), ('(', 'Punctuation'), ('특히', 'Adverb'), ('목', 'Noun'), ('둘레', 'Noun'), ('가', 'Josa'), (')', 'Punctuation'), ('레이어', 'Noun'), ('드할', 'Noun'), ('때', 'Noun'), ('유용하게', 'Adjective'), ('입는', 'Verb'), ('중', 'Noun'), ('정사', 'Noun'), ('이즈', 'Noun'), ('에요', 'Josa'), ('.', 'Punctuation'), ('배송', 'Noun'), ('도', 'Josa'), ('늦지', 'Verb'), ('않게', 'Verb'), ('잘', 'VerbPrefix'), ('온', 'Verb'), ('듯', 'Noun'), ('요', 'Josa'), ('.', 'Punctuation'), ('두께', 'Noun'), ('감', 'Noun'), ('이', 'Josa'), ('있어', 'Adjective'), ('좋아요', 'Adjective'), ('역시', 'Noun'), ('나', 'Josa'), ('사이즈', 'Noun'), ('넉', 'Modifier'), ('넉', 'Noun'), ('아주', 'Noun'), ('좋아요', 'Adjective'), ('.', 'Punctuation'), ('가격', 'Noun'), ('대비', 'Noun'), ('질도', 'Noun'), ('나쁘지', 'Adjective'), ('않습니다', 'Verb'), ('.', 'Punctuation'), ('사이즈', 'Noun'), ('가', 'Josa'), ('넉넉하네요', 'Adjective'), ('.', 'Punctuation'), ('잘', 'Verb'), ('사용', 'Noun'), ('합니다', 'Verb'), ('.', 'Punctuation'), ('두께', 'Noun'), ('는', 'Josa'), ('？', 'Foreign'), ('아요', 'Eomi'), ('.', 'Punctuation'), ('집', 'Noun'), ('에서', 'Josa'), ('편하게', 'Adjective'), ('입기', 'Verb'), ('아주', 'Noun'), ('좋습니다', 'Adjective'), ('가격', 'Noun'), ('대', 'Modifier'), ('베', 'Noun'), ('품질', 'Noun'), ('도', 'Josa'), ('이', 'Noun'), ('정도', 'Noun'), ('면', 'Josa'), ('만족합니다', 'Adjective'), ('!', 'Punctuation'), ('가격', 'Noun'), ('대비', 'Noun'), ('질도', 'Noun'), ('좋아요', 'Adjective'), ('얇아서', 'Adjective'), ('여름', 'Noun'), ('에', 'Josa'), ('입기', 'Verb'), ('좋아요', 'Adjective'), ('속', 'Noun'), ('에', 'Josa'), ('받쳐', 'Verb'), ('입으려고', 'Verb'), ('구입', 'Noun'), ('했어요', 'Verb'), ('.', 'Punctuation'), ('잘', 'Verb'), ('받았어요', 'Verb'), ('.', 'Punctuation'), ('감사합니다', 'Verb'), ('.', 'Punctuation'), ('수고', 'Noun'), ('하셨습니다', 'Verb'), ('.', 'Punctuation'), ('상품', 'Noun'), ('마음', 'Noun'), ('에', 'Josa'), ('들고', 'Verb'), ('제', 'Modifier'), ('구매', 'Noun'), ('의향', 'Noun'), ('있어요', 'Adjective'), ('배송', 'Noun'), ('도', 'Josa'), ('오케이', 'Noun'), ('감사합니다', 'Verb'), ('가격', 'Noun'), ('대비', 'Noun'), ('매우', 'Noun'), ('좋네요', 'Adjective'), ('사이즈', 'Noun'), ('는', 'Josa'), ('한', 'Determiner'), ('치수', 'Noun'), ('작게', 'Adjective'), ('주문', 'Noun'), ('하세요', 'Verb'), ('가격', 'Noun'), ('도', 'Josa'), ('좋고', 'Adjective'), ('사이즈', 'Noun'), ('도', 'Josa'), ('넉넉하니', 'Adjective'), ('좋습니다', 'Adjective'), ('.', 'Punctuation'), ('생각', 'Noun'), ('보다', 'Josa'), ('많이', 'Adverb'), ('크지는', 'Verb'), ('않네요', 'Verb'), ('품질', 'Noun'), ('은', 'Josa'), ('가격', 'Noun'), ('대비', 'Noun'), ('는', 'Josa'), ('괜찮습니다', 'Adjective'), ('사이즈', 'Noun'), ('가', 'Josa'), ('아주', 'Noun'), ('넉넉합니다', 'Adjective'), ('.', 'Punctuation'), ('조금', 'Noun'), ('더', 'Noun'), ('얇아서', 'Adjective'), ('입기', 'Verb'), ('좋아요', 'Adjective'), ('.', 'Punctuation'), ('사이즈', 'Noun'), ('좋습니다', 'Adjective'), ('크기', 'Noun'), ('가', 'Josa'), ('너무', 'Adverb'), ('줄까', 'Verb'), ('걱정', 'Noun'), ('이네', 'Josa'), ('요', 'Noun'), ('제품', 'Noun'), ('품질', 'Noun'), ('도', 'Josa'), ('좋고', 'Adjective'), ('배송', 'Noun'), ('도', 'Josa'), ('만족합니다', 'Adjective'), ('...', 'Punctuation'), ('몸통', 'Noun'), ('이', 'Determiner'), ('크게', 'Noun'), ('나온', 'Verb'), ('루즈', 'Noun'), ('핏', 'Noun'), ('입니다', 'Adjective'), ('편해요', 'Adjective'), ('싸고', 'Verb'), ('도톰하니', 'Adjective'), ('좋아요', 'Adjective'), (',', 'Punctuation'), ('그냥', 'Noun'), ('입고', 'Verb'), ('다니', 'Verb'), ('기도', 'Noun'), ('편하네요', 'Adjective'), ('저렴한', 'Adjective'), ('가격', 'Noun'), ('으로', 'Josa'), ('구매', 'Noun'), ('했네요', 'Verb'), ('~', 'Punctuation'), ('사이즈', 'Noun'), ('는', 'Josa'), ('큽니다', 'Verb'), ('~', 'Punctuation'), ('회', 'Noun'), ('사용', 'Noun'), ('티셔츠', 'Noun'), ('파워', 'Noun'), ('구매', 'Noun'), ('완료', 'Noun'), ('!', 'Punctuation'), ('마음', 'Noun'), ('에', 'Josa'), ('듭니', 'Noun'), ('다', 'Josa'), ('흐흐', 'Noun'), ('저렴하게', 'Adjective'), ('잘', 'Verb'), ('샀어요', 'Verb'), ('.', 'Punctuation'), ('원단', 'Noun'), ('도', 'Josa'), ('괜찮아요', 'Adjective'), ('세탁', 'Noun'), ('후', 'Noun'), ('줄어듬', 'Noun'), ('이', 'Josa'), ('있지만', 'Adjective'), ('면', 'Noun'), ('의', 'Josa'), ('퀄', 'Noun'), ('이', 'Josa'), ('좋습니다', 'Adjective'), ('얇고', 'Adjective'), ('편하게', 'Adjective'), ('입', 'Noun'), ('을', 'Josa'), ('수', 'Noun'), ('있어요', 'Adjective'), ('~~^^', 'Punctuation'), ('착한', 'Adjective'), ('가격', 'Noun'), ('사이즈', 'Noun'), ('는', 'Josa'), ('한치', 'Noun'), ('수작', 'Noun'), ('게', 'Josa'), ('아마존', 'Noun'), ('직구', 'Noun'), ('는', 'Josa'), ('의류', 'Noun'), ('경우', 'Noun'), ('사이즈', 'Noun'), ('가', 'Josa'), ('애매하네요', 'Adjective'), ('.', 'Punctuation'), ('110', 'Number'), ('사이즈', 'Noun'), ('입는데', 'Verb'), ('XL', 'Alpha'), ('사이즈', 'Noun'), ('는', 'Josa'), ('120', 'Number'), ('즘', 'Noun'), ('되는거', 'Verb'), ('같고', 'Adjective'), ('이', 'Noun'), ('반', 'Modifier'), ('팔', 'Noun'), ('은', 'Josa'), ('L', 'Alpha'), ('사이즈', 'Noun'), ('인데', 'Josa'), ('한국', 'Noun'), ('105~110', 'Number'), ('중간', 'Noun'), ('쯤', 'Suffix'), ('같네요', 'Adjective'), ('.', 'Punctuation'), ('빨래', 'Noun'), ('하면', 'Verb'), ('105', 'Number'), ('될', 'Verb'), ('것', 'Noun'), ('같아요', 'Adjective'), ('.', 'Punctuation'), ('배송', 'Noun'), ('은', 'Josa'), ('일주일', 'Noun'), ('정도', 'Noun'), ('소요', 'Noun'), ('.', 'Punctuation'), ('면은', 'Eomi'), ('부드럽지', 'Adjective'), ('않고', 'Verb'), ('좀', 'Noun'), ('까', 'Verb'), ('쓸하네요', 'Verb'), ('.', 'Punctuation'), ('가격', 'Noun'), ('할인', 'Noun'), ('해서', 'Verb'), ('저렴히', 'Adjective'), ('샀어요', 'Verb'), ('.', 'Punctuation'), ('천도', 'Noun'), ('좋고', 'Adjective'), ('빅사', 'Noun'), ('이즈', 'Noun'), ('에게', 'Josa'), ('정말', 'Noun'), ('좋아요', 'Adjective'), ('거기', 'Noun'), ('다', 'Josa'), ('6', 'Number'), ('장', 'Noun'), ('이나', 'Noun'), ('주셔서', 'Verb'), ('넘', 'Verb'), ('좋아요', 'Adjective'), ('근데', 'Adverb'), (',', 'Punctuation'), ('천이', 'Noun'), ('약간', 'Noun'), ('두꺼워요', 'Adjective'), ('항상', 'Noun'), ('사이즈', 'Noun'), ('때문', 'Noun'), ('에', 'Josa'), ('이태원', 'Noun'), ('등', 'Noun'), ('보세', 'Verb'), ('옷가게', 'Noun'), ('를', 'Josa'), ('찾아', 'Verb'), ('다녔는데', 'Verb'), ('11', 'Number'), ('번가', 'Noun'), ('에서', 'Josa'), ('아마존', 'Noun'), ('과', 'Josa'), ('연', 'Modifier'), ('계해', 'Noun'), ('주셔서', 'Verb'), ('넘', 'Verb'), ('좋아요', 'Adjective'), ('.', 'Punctuation'), ('계속', 'Noun'), ('해서', 'Verb'), ('좋은', 'Adjective'), ('기획', 'Noun'), ('부탁', 'Noun'), ('.', 'Punctuation'), ('남편', 'Noun'), ('이', 'Josa'), ('한국', 'Noun'), ('옷', 'Noun'), ('사이즈', 'Noun'), ('상의', 'Noun'), ('130', 'Number'), ('이', 'Noun'), ('조금', 'Noun'), ('타이', 'Noun'), ('트해', 'Noun'), ('보이는', 'Verb'), ('정도', 'Noun'), ('인데', 'Josa'), (',', 'Punctuation'), ('원단', 'Noun'), ('도', 'Josa'), ('너무', 'Adverb'), ('좋고', 'Adjective'), ('사이즈', 'Noun'), ('넉넉하고', 'Adjective'), (',', 'Punctuation'), ('가격', 'Noun'), ('까지', 'Josa'), ('저렴해서', 'Adjective'), ('무척', 'Noun'), ('맘', 'Noun'), ('에', 'Josa'), ('듭니', 'Noun'), ('다', 'Josa'), ('.', 'Punctuation'), ('무지', 'Noun'), ('흰', 'Adjective'), ('티', 'Noun'), ('인데', 'Josa'), ('런닝', 'Noun'), ('같이', 'Josa'), ('입는', 'Verb'), ('면티', 'Noun'), ('느낌', 'Noun'), ('아니고', 'Adjective'), (',', 'Punctuation'), ('일반', 'Noun'), ('면', 'Noun'), ('티셔츠', 'Noun'), ('착용', 'Noun'), ('한', 'Determiner'), ('것', 'Noun'), ('처럼', 'Josa'), ('괜찮습니다', 'Adjective'), ('.', 'Punctuation'), ('강', 'Noun'), ('추합니다', 'Adjective'), ('.', 'Punctuation'), ('역시', 'Noun'), ('외국', 'Noun'), ('사이즈', 'Noun'), ('라', 'Josa'), ('우리나라', 'Noun'), ('3', 'Number'), ('xl', 'Alpha'), ('보다', 'Verb'), ('1~2', 'Number'), ('사이즈', 'Noun'), ('크다고', 'Verb'), ('생각', 'Noun'), ('하시면', 'Verb'), ('됩니다', 'Verb'), ('그리고', 'Conjunction'), ('면도', 'Noun'), ('너무', 'Adverb'), ('얇은', 'Adjective'), ('느낌', 'Noun'), ('이', 'Josa'), ('아니라', 'Adjective'), ('속이', 'Verb'), ('비친다던지', 'Verb'), ('안해', 'Noun'), ('서', 'Josa'), ('하나', 'Noun'), ('만', 'Josa'), ('입고', 'Verb'), ('외출', 'Noun'), ('해도', 'Noun'), ('될꺼', 'Verb'), ('같아요', 'Adjective'), ('코', 'Noun'), ('*', 'Punctuation'), ('트코', 'Noun'), ('흰색', 'Noun'), ('반', 'Modifier'), ('팔', 'Modifier'), ('티', 'Noun'), ('런닝', 'Noun'), ('으로', 'Josa'), ('xl', 'Alpha'), ('라지', 'Noun'), ('입는', 'Verb'), ('아들', 'Noun'), ('.', 'Punctuation'), ('사이즈', 'Noun'), ('고민', 'Noun'), ('하다', 'Verb'), ('작은거', 'Adjective'), ('보다', 'Verb'), ('큰게', 'Verb'), ('나을', 'Verb'), ('듯', 'Noun'), ('해서', 'Verb'), ('2', 'Number'), ('xl', 'Alpha'), ('시켯더', 'Noun'), ('니', 'Josa'), ('크네요', 'Verb'), ('ㅋ', 'KoreanParticle'), ('삶아서', 'Verb'), ('건조기', 'Noun'), ('돌리면', 'Verb'), ('줄을까', 'Verb'), ('햇', 'Noun'), ('는데', 'Verb'), ('줄지도', 'Verb'), ('않', 'Verb'), ('코', 'Noun'), ('면도', 'Noun'), ('두껍지', 'Adjective'), ('않고', 'Verb'), ('적당해서', 'Adjective'), ('런닝', 'Noun'), ('으로', 'Josa'), ('입기', 'Verb'), ('좋아요', 'Adjective'), ('부드럽지', 'Adjective'), ('않으나', 'Verb'), ('두껍지', 'Adjective'), ('않아서', 'Verb'), ('크게', 'Noun'), ('불편한', 'Adjective'), ('느낌', 'Noun'), ('은', 'Josa'), ('없습니다', 'Adjective'), ('.', 'Punctuation'), ('사이즈', 'Noun'), ('는', 'Josa'), ('미국', 'Noun'), ('사이즈', 'Noun'), ('기준', 'Noun'), ('라지', 'Noun'), ('가', 'Josa'), ('105~110', 'Number'), ('정도', 'Noun'), ('입니다', 'Adjective'), ('.', 'Punctuation'), ('제', 'Modifier'), ('키', 'Noun'), ('186', 'Number'), ('기준', 'Noun'), ('딱', 'Adverb'), ('좋게', 'Adjective'), ('맞습니다', 'Verb'), ('.', 'Punctuation'), ('면은', 'Eomi'), ('우리나라', 'Noun'), ('거', 'Noun'), ('보단', 'Josa'), ('뻣뻣한', 'Adjective'), ('편이구요', 'Verb'), ('..', 'Punctuation'), ('싸게', 'Verb'), ('사서', 'Noun'), ('자주', 'Noun'), ('갈아입자는', 'Verb'), ('편이', 'Noun'), ('라', 'Josa'), ('만족합니다', 'Adjective'), ('.', 'Punctuation'), ('남자', 'Noun'), ('아이', 'Noun'), ('들', 'Suffix'), ('이라', 'Josa'), ('땀', 'Noun'), ('도', 'Josa'), ('많이', 'Adverb'), ('나고', 'Verb'), ('얼룩', 'Noun'), ('도', 'Josa'), ('많아서', 'Adjective'), ('1년', 'Number'), ('입고', 'Verb'), ('나면', 'Verb'), ('갈아야', 'Verb'), ('하더라구요', 'Verb'), ('...', 'Punctuation'), ('사이즈', 'Noun'), ('는', 'Josa'), ('한국', 'Noun'), ('사이즈', 'Noun'), ('와', 'Josa'), ('비슷한듯', 'Adjective'), ('.', 'Punctuation'), ('면은', 'Eomi'), ('우리나라', 'Noun'), ('거', 'Noun'), ('보단', 'Josa'), ('뻣뻣한', 'Adjective'), ('편이구요', 'Verb'), ('..', 'Punctuation'), ('싸게', 'Verb'), ('사서', 'Noun'), ('자주', 'Noun'), ('갈아입자는', 'Verb'), ('편이', 'Noun'), ('라', 'Josa'), ('만족합니다', 'Adjective'), ('.', 'Punctuation'), ('남자', 'Noun'), ('아이', 'Noun'), ('들', 'Suffix'), ('이라', 'Josa'), ('땀', 'Noun'), ('도', 'Josa'), ('많이', 'Adverb'), ('나고', 'Verb'), ('얼룩', 'Noun'), ('도', 'Josa'), ('많아서', 'Adjective'), ('1년', 'Number'), ('입고', 'Verb'), ('나면', 'Verb'), ('갈아야', 'Verb'), ('하더라구요', 'Verb'), ('...', 'Punctuation'), ('사이즈', 'Noun'), ('는', 'Josa'), ('한국', 'Noun'), ('사이즈', 'Noun'), ('와', 'Josa'), ('비슷한듯', 'Adjective'), ('.', 'Punctuation'), ('얇아요', 'Adjective'), ('.', 'Punctuation'), ('약간', 'Noun'), ('까', 'Verb'), ('끌', 'Noun'), ('하고', 'Josa'), ('.', 'Punctuation'), ('182/80', 'Number'), ('kg', 'Alpha'), ('2', 'Number'), ('XL', 'Alpha'), ('많이', 'Adverb'), ('큽니다', 'Verb'), ('.', 'Punctuation'), ('한번', 'Noun'), ('입고', 'Verb'), ('건조기', 'Noun'), ('돌릴', 'Verb'), ('생각', 'Noun'), ('으로', 'Josa'), ('큰거', 'Verb'), ('시켰는데', 'Verb'), ('건조기', 'Noun'), ('돌리면', 'Verb'), ('많이', 'Adverb'), ('줄어들', 'Verb'), ('듯', 'Noun'), ('합니다', 'Verb'), ('.', 'Punctuation'), ('유툽', 'Noun'), ('보고', 'Noun'), ('구매', 'Noun'), ('했는데', 'Verb'), ('여자', 'Noun'), ('가', 'Josa'), ('박시하게', 'Verb'), ('이', 'Determiner'), ('너', 'Noun'), ('로', 'Josa'), ('입기', 'Verb'), ('좋은', 'Adjective'), ('사이즈', 'Noun'), ('에요', 'Josa'), ('생각', 'Noun'), ('보다', 'Josa'), ('얇고', 'Adjective'), ('새것', 'Verb'), ('냄새', 'Noun'), ('가', 'Josa'), ('있는데', 'Adjective'), ('빨아서', 'Verb'), ('입으면', 'Verb'), ('괜찮을듯', 'Adjective'), ('합니다', 'Verb'), ('저렴하게', 'Adjective'), ('잘', 'Verb'), ('샀어요', 'Verb'), ('!!', 'Punctuation'), ('상품', 'Noun'), ('은', 'Josa'), ('면', 'Noun'), ('재질', 'Noun'), ('도', 'Josa'), ('좋고', 'Adjective'), ('사이즈', 'Noun'), ('도', 'Josa'), ('조금', 'Noun'), ('크게', 'Noun'), ('나온것', 'Verb'), ('같지만', 'Adjective'), ('좋은데', 'Adjective'), ('...', 'Punctuation'), ('와', 'Verb'), ('처음', 'Noun'), ('받고', 'Verb'), ('빨래', 'Noun'), ('하니', 'Verb'), ('좁쌀', 'Noun'), ('같은', 'Adjective'), ('옷', 'Noun'), ('먼지', 'Noun'), ('가', 'Josa'), ('세번', 'Noun'), ('빨고나니', 'Verb'), ('안', 'VerbPrefix'), ('나오네', 'Verb'), ('요면', 'Noun'), ('티', 'Noun'), ('사고', 'Noun'), ('이런', 'Modifier'), ('경우', 'Noun'), ('가', 'Josa'), ('처음', 'Noun'), ('이라', 'Josa'), ('당황', 'Noun'), ('스러웠네요', 'Adjective'), ('가성', 'Noun'), ('비', 'Noun'), ('최고', 'Noun'), ('..', 'Punctuation'), ('저', 'Noun'), ('처럼', 'Josa'), ('체격', 'Noun'), ('있고', 'Adjective'), ('일반', 'Noun'), ('사이즈', 'Noun'), ('좀', 'Noun'), ('작다고', 'Adjective'), ('느끼면', 'Verb'), ('만족할', 'Adjective'), ('겁니다단', 'Verb'), (',', 'Punctuation'), ('뒤', 'Noun'), ('에', 'Josa'), ('택', 'Noun'), ('이', 'Josa'), ('너무', 'Adverb'), ('목', 'Noun'), ('을', 'Josa'), ('거슬리게', 'Verb'), ('하네', 'Verb'), ('요전', 'Noun'), ('택', 'Noun'), ('다', 'Adverb'), ('전부', 'Noun'), ('가위', 'Noun'), ('로', 'Josa'), ('자르고', 'Verb'), ('입고', 'Verb'), ('있습니다', 'Adjective'), ('.', 'Punctuation'), ('사이즈', 'Noun'), ('당', 'Suffix'), ('1~1', 'Number'), ('.', 'Punctuation'), ('5', 'Number'), ('업', 'Noun'), ('이라고', 'Josa'), ('보시', 'Noun'), ('면', 'Josa'), ('될', 'Verb'), ('것', 'Noun'), ('같네요', 'Adjective'), ('-', 'Punctuation'), ('국내', 'Noun'), ('X', 'Alpha'), ('라지', 'Noun'), ('보다는', 'Josa'), ('2', 'Number'), ('XL', 'Alpha'), ('정도', 'Noun'), ('에', 'Josa'), ('가깝다고', 'Adjective'), ('생각', 'Noun'), ('되고', 'Verb'), ('세탁', 'Noun'), ('후', 'Noun'), ('건조기', 'Noun'), ('돌릴시에는', 'Verb'), ('수축', 'Noun'), ('이', 'Josa'), ('있습니다', 'Adjective'), ('.', 'Punctuation'), ('1.5', 'Number'), ('XL', 'Alpha'), ('정도', 'Noun'), ('되는', 'Verb'), ('사이즈', 'Noun'), ('나오는', 'Verb'), ('것', 'Noun'), ('같아요', 'Adjective'), ('생각', 'Noun'), ('보다', 'Josa'), ('얇지만', 'Adjective'), ('옷', 'Noun'), ('이', 'Josa'), ('이쁘네요', 'Adjective'), ('.', 'Punctuation'), ('시원하고', 'Adjective'), ('..', 'Punctuation'), ('아주', 'Noun'), ('맘', 'Noun'), ('에', 'Josa'), ('듭니', 'Noun'), ('다', 'Josa'), ('.', 'Punctuation'), ('배송', 'Noun'), ('도', 'Josa'), ('생각', 'Noun'), ('보다', 'Josa'), ('진짜', 'Noun'), ('빨리', 'Adverb'), ('왔어요', 'Verb'), ('.', 'Punctuation'), ('고지', 'Noun'), ('된', 'Verb'), ('날', 'Noun'), ('보다도', 'Josa'), ('3~4일', 'Number'), ('빨리', 'Adverb'), ('온듯', 'Verb'), ('..', 'Punctuation'), ('감사합니다', 'Verb'), ('~^^', 'Punctuation'), ('저희', 'Modifier'), ('아들', 'Noun'), ('키', 'Noun'), ('가', 'Josa'), ('184', 'Number'), ('/', 'Punctuation'), ('몸무게', 'Noun'), ('118', 'Number'), ('/', 'Punctuation'), ('인데', 'Verb'), ('품', 'Noun'), ('이', 'Josa'), ('넘', 'Verb'), ('넘', 'Verb'), ('좋으내요', 'Adjective'), ('..', 'Punctuation'), ('이', 'Determiner'), ('가격', 'Noun'), ('에', 'Josa'), ('이', 'Determiner'), ('사이즈', 'Noun'), ('국내선', 'Noun'), ('찾아볼수가', 'Verb'), ('없는데', 'Adjective'), ('정말', 'Noun'), ('좋습니다', 'Adjective'), ('색상', 'Noun'), ('이', 'Josa'), ('마음', 'Noun'), ('에', 'Josa'), ('듭니', 'Noun'), ('다', 'Josa'), ('집', 'Noun'), ('에서', 'Josa'), ('평상복', 'Noun'), ('으로', 'Josa'), ('입거나', 'Adjective'), ('가벼운', 'Adjective'), ('외출', 'Noun'), ('복', 'Noun'), ('혹은', 'Adverb'), ('안', 'Noun'), ('에', 'Josa'), ('받쳐', 'Verb'), ('입기', 'Verb'), ('좋겠어요', 'Adjective'), ('미국', 'Noun'), ('에서', 'Josa'), ('언더웨어', 'Noun'), ('브랜드', 'Noun'), ('로', 'Josa'), ('알', 'Noun'), ('고', 'Josa'), ('있는데', 'Adjective'), ('집', 'Noun'), ('이나', 'Josa'), ('가볍게', 'Adjective'), ('외출', 'Noun'), ('복', 'Noun'), ('으로', 'Josa'), ('입', 'Noun'), ('을', 'Josa'), ('수', 'Noun'), ('있는', 'Adjective'), ('라', 'Josa'), ('운티', 'Noun'), ('네', 'Suffix'), ('요', 'Josa'), ('두께', 'Noun'), ('감', 'Noun'), ('이', 'Josa'), ('적당합니다', 'Adjective'), ('가격', 'Noun'), ('에', 'Josa'), ('비해', 'Verb'), ('좋은', 'Adjective'), ('거', 'Noun'), ('같은나', 'Adjective'), ('사이즈', 'Noun'), ('가', 'Josa'), ('큼', 'Verb'), ('사이', 'Modifier'), ('즈', 'Modifier'), ('표기', 'Noun'), ('보다', 'Josa'), ('한', 'Determiner'), ('치수', 'Noun'), ('적게', 'Verb'), ('주문', 'Noun'), ('하는게', 'Verb'), ('적당할듯', 'Adjective'), ('재구매', 'Verb'), ('입니다', 'Adjective'), ('.', 'Punctuation'), ('운동', 'Noun'), ('할', 'Verb'), ('때', 'Noun'), ('나', 'Josa'), ('편하게', 'Adjective'), ('입기', 'Verb'), ('좋습니다', 'Adjective'), ('.', 'Punctuation'), ('사이즈', 'Noun'), ('는', 'Josa'), ('한', 'Verb'), ('치수', 'Noun'), ('적게', 'Verb'), ('.', 'Punctuation'), ('우리나라', 'Noun'), ('면티', 'Noun'), ('가', 'Josa'), ('더', 'Noun'), ('좋아요', 'Adjective'), ('박음질', 'Noun'), ('은', 'Josa'), ('꼼꼼한데', 'Adjective'), ('재질', 'Noun'), ('이', 'Josa'), ('뻣뻣하니', 'Adjective'), ('적응', 'Noun'), ('이', 'Josa'), ('안', 'Noun'), ('되네요', 'Verb'), ('길이', 'Noun'), ('도', 'Josa'), ('긴', 'Verb'), ('편이', 'Noun'), ('고', 'Josa'), ('~', 'Punctuation'), ('아들', 'Noun'), ('이', 'Josa'), ('입어', 'Verb'), ('봤는데', 'Verb'), ('핏', 'Noun'), ('도', 'Josa'), ('예쁘지', 'Adjective'), ('않았어요', 'Verb'), ('평소', 'Noun'), ('110', 'Number'), ('구매', 'Noun'), ('하는데', 'Verb'), ('미국', 'Noun'), ('제품', 'Noun'), ('이라서', 'Josa'), ('L', 'Alpha'), ('로', 'Noun'), ('구매', 'Noun'), ('했는데', 'Verb'), ('맞습니다', 'Verb'), ('.', 'Punctuation'), ('까실한', 'Verb'), ('면', 'Noun'), ('이고', 'Josa'), ('전체', 'Noun'), ('적', 'Suffix'), ('인', 'Josa'), ('핏', 'Noun'), ('은', 'Josa'), ('여유', 'Noun'), ('있지만', 'Adjective'), ('정사', 'Noun'), ('이즈', 'Noun'), ('에', 'Josa'), ('가깝습니다', 'Adjective'), ('.', 'Punctuation'), ('건조기', 'Noun'), ('건조', 'Noun'), ('시', 'Noun'), ('줄어들지', 'Verb'), ('않을까', 'Verb'), ('염려', 'Noun'), ('스러', 'Adjective'), ('움', 'Noun'), ('.', 'Punctuation'), ('사이즈', 'Noun'), ('가', 'Josa'), ('엄청', 'Adverb'), ('크네요', 'Verb'), ('.', 'Punctuation'), ('한', 'Determiner'), ('사이즈', 'Noun'), ('작게', 'Adjective'), ('구매', 'Noun'), ('해야겠어요', 'Verb'), ('심플', 'Noun'), ('하고', 'Josa'), ('실용', 'Noun'), ('적', 'Suffix'), ('인', 'Josa'), ('디자인', 'Noun'), ('이네', 'Josa'), ('요', 'Noun'), ('사이즈', 'Noun'), ('는', 'Josa'), ('M', 'Alpha'), ('으로', 'Josa'), ('선택', 'Noun'), ('했는데', 'Verb'), ('L', 'Alpha'), ('에', 'Josa'), ('가까워요', 'Adjective'), ('일단', 'Noun'), ('직구', 'Noun'), ('3', 'Number'), ('XL', 'Alpha'), ('싸이', 'Noun'), ('즈', 'Modifier'), ('넉넉하고', 'Adjective'), ('정말', 'Noun'), ('만족', 'Noun'), ('이', 'Josa'), ('가격', 'Noun'), ('에', 'Josa'), ('6', 'Number'), ('장', 'Noun'), ('가성', 'Noun'), ('비도', 'Noun'), ('최고', 'Noun'), ('벌써', 'Noun'), ('두번째', 'Noun'), ('구매', 'Noun'), ('하는데', 'Verb'), ('좋아요', 'Adjective'), ('생상', 'Noun'), ('싸이', 'Noun'), ('즈', 'Modifier'), ('모두', 'Noun'), ('마음', 'Noun'), ('에', 'Josa'), ('들고요', 'Verb'), ('가격', 'Noun'), ('도', 'Josa'), ('저렴하고', 'Adjective'), ('좋아요', 'Adjective'), ('다음', 'Noun'), ('에', 'Josa'), ('기회', 'Noun'), ('되면', 'Verb'), ('좀더', 'Noun'), ('구매', 'Noun'), ('할려고요', 'Verb'), ('m', 'Alpha'), ('사이즈', 'Noun'), ('인데', 'Josa'), ('조금', 'Noun'), ('크게', 'Noun'), ('나온듯', 'Verb'), ('합니다', 'Verb'), ('.', 'Punctuation'), ('두께', 'Noun'), ('감도', 'Verb'), ('있어서', 'Adjective'), ('속', 'Modifier'), ('살이', 'Noun'), ('지는', 'Verb'), ('않아요', 'Verb'), ('잘', 'VerbPrefix'), ('입을께요', 'Adjective'), ('면', 'Noun'), ('99', 'Number'), ('프로', 'Noun'), ('라', 'Josa'), ('부드럽고', 'Adjective'), ('택', 'Noun'), ('을', 'Josa'), ('쉽게', 'Verb'), ('제거', 'Noun'), ('할', 'Verb'), ('수', 'Noun'), ('있어서', 'Adjective'), ('이', 'Determiner'), ('너', 'Noun'), ('로', 'Josa'), ('입기', 'Verb'), ('좋아요', 'Adjective'), ('!', 'Punctuation'), ('넉넉한', 'Adjective'), ('사이즈', 'Noun'), ('와', 'Josa'), ('적당히', 'Adjective'), ('도톰하고', 'Adjective'), ('튼튼한', 'Adjective'), ('원단', 'Noun'), ('에', 'Josa'), ('색상', 'Noun'), ('도', 'Josa'), ('마음', 'Noun'), ('에', 'Josa'), ('드는', 'Verb'), ('예쁜', 'Adjective'), ('셔츠', 'Noun'), ('입니다', 'Adjective'), ('재구매', 'Verb'), ('상품', 'Noun'), ('입니다', 'Adjective'), ('.', 'Punctuation'), ('옷', 'Noun'), ('이', 'Josa'), ('너무', 'Adverb'), ('편해서', 'Adjective'), ('더', 'Noun'), ('주문', 'Noun'), ('했네요', 'Verb'), ('.', 'Punctuation'), ('해외', 'Noun'), ('배송', 'Noun'), ('이지만', 'Josa'), ('빠르게', 'Adjective'), ('받았습니다', 'Verb'), ('.', 'Punctuation'), ('감사합니다', 'Verb'), ('.', 'Punctuation'), ('130', 'Number'), ('입는', 'Verb'), ('아들', 'Noun'), ('넉넉하고', 'Adjective'), ('좋네요', 'Adjective'), ('팔', 'Modifier'), ('넓이', 'Noun'), ('는', 'Josa'), ('굉장히', 'Adjective'), ('넓음', 'Adjective'), ('크기', 'Noun'), ('는', 'Josa'), ('한', 'Determiner'), ('치수', 'Noun'), ('큰것', 'Verb'), ('같고', 'Adjective'), (',', 'Punctuation'), ('편한게', 'Adjective'), ('입기', 'Verb'), ('좋네요', 'Adjective'), ('.', 'Punctuation'), ('사이즈', 'Noun'), ('선택', 'Noun'), ('을', 'Josa'), ('잘못', 'Noun'), ('해서', 'Verb'), ('옷', 'Noun'), ('이', 'Josa'), ('너무', 'Adverb'), ('커요', 'Verb'), ('.', 'Punctuation'), ('내', 'Determiner'), ('잘못', 'Noun'), ('이라', 'Josa'), ('면도', 'Noun'), ('좋고', 'Adjective'), ('체격', 'Noun'), ('이', 'Josa'), ('큰', 'Verb'), ('사람', 'Noun'), ('은', 'Josa'), ('좋을것', 'Adjective'), ('같아요', 'Adjective'), ('사이', 'Modifier'), ('즈', 'Modifier'), ('정사', 'Noun'), ('이', 'Suffix'), ('즈', 'Modifier'), ('고요', 'Noun'), ('.', 'Punctuation'), ('천은', 'Noun'), ('조금', 'Noun'), ('거칠고', 'Verb'), ('조금', 'Noun'), ('？', 'Foreign'), ('아요', 'Eomi'), ('.', 'Punctuation'), ('총', 'Modifier'), ('평', 'Noun'), ('은', 'Josa'), ('그런', 'Modifier'), ('데', 'Noun'), ('로', 'Josa'), ('괜찮아요', 'Adjective'), ('.', 'Punctuation'), ('좋습니다', 'Adjective'), ('.', 'Punctuation'), ('흰색', 'Noun'), ('에', 'Josa'), ('이어', 'Verb'), ('2', 'Number'), ('번째', 'Suffix'), ('..', 'Punctuation'), ('생각', 'Noun'), ('보다', 'Josa'), ('변형도', 'Noun'), ('없고', 'Adjective'), ('얇아도', 'Adjective'), ('받혀', 'Verb'), ('입기', 'Verb'), ('좋네요', 'Adjective'), ('.', 'Punctuation'), ('깔끔하니', 'Adjective'), ('좋습니다', 'Adjective'), ('.', 'Punctuation'), ('마음', 'Noun'), ('에', 'Josa'), ('들어요', 'Verb'), ('.', 'Punctuation'), ('오래', 'Adverb'), ('걸리지', 'Verb'), ('않고', 'Verb'), ('잘', 'Verb'), ('받았습니다', 'Verb'), ('.', 'Punctuation'), ('감사합니다', 'Verb'), ('.', 'Punctuation'), ('수고', 'Noun'), ('하셨어요', 'Verb'), ('.', 'Punctuation'), ('아이', 'Noun'), ('들', 'Suffix'), ('이', 'Josa'), ('검정색', 'Noun'), ('하고', 'Josa'), ('흰색', 'Noun'), ('만', 'Josa'), ('입어서', 'Verb'), ('구입', 'Noun'), ('했는데', 'Verb'), ('~', 'Punctuation'), ('가격', 'Noun'), ('도', 'Josa'), ('착하고', 'Adjective'), ('깔끔하고', 'Adjective'), ('좋아요', 'Adjective'), ('아이', 'Noun'), ('들', 'Suffix'), ('이', 'Josa'), ('검정색', 'Noun'), ('하고', 'Josa'), ('흰색', 'Noun'), ('만', 'Josa'), ('입어서', 'Verb'), ('구입', 'Noun'), ('했는데', 'Verb'), ('~', 'Punctuation'), ('가격', 'Noun'), ('도', 'Josa'), ('착하고', 'Adjective'), ('깔끔하고', 'Adjective'), ('좋아요', 'Adjective'), ('아이', 'Noun'), ('들', 'Suffix'), ('이', 'Josa'), ('검정색', 'Noun'), ('하고', 'Josa'), ('흰색', 'Noun'), ('만', 'Josa'), ('입어서', 'Verb'), ('구입', 'Noun'), ('했는데', 'Verb'), ('~', 'Punctuation'), ('가격', 'Noun'), ('도', 'Josa'), ('착하고', 'Adjective'), ('깔끔하고', 'Adjective'), ('좋아요', 'Adjective'), ('두번째', 'Noun'), ('구입', 'Noun'), ('입니다', 'Adjective'), ('재질', 'Noun'), ('도', 'Josa'), ('괜찮고', 'Adjective'), ('널널', 'Noun'), ('해서', 'Verb'), ('편히', 'Adjective'), ('입기', 'Verb'), ('좋습니다', 'Adjective'), ('사이즈', 'Noun'), ('미스', 'Noun'), ('....', 'Punctuation'), ('3', 'Number'), ('xl', 'Alpha'), ('커도', 'Verb'), ('너무', 'Adverb'), ('크네요', 'Verb'), ('...', 'Punctuation'), ('L', 'Alpha'), ('이나', 'Noun'), ('xl', 'Alpha'), ('로', 'Noun'), ('재주', 'Noun'), ('문해', 'Noun'), ('야', 'Josa'), ('할거', 'Verb'), ('같네요', 'Adjective'), ('.', 'Punctuation'), ('저', 'Noun'), ('는', 'Josa'), ('잠옷', 'Noun'), ('용', 'Noun'), ('으로', 'Josa'), ('샀는데', 'Verb'), ('받아', 'Verb'), ('보', 'Noun'), ('니까', 'Josa'), ('레이어', 'Noun'), ('드용', 'Noun'), ('으로도', 'Josa'), ('충분히', 'Adjective'), ('입을만한', 'Adjective'), ('품질이네요', 'Verb'), ('!', 'Punctuation'), ('세탁', 'Noun'), ('시', 'Noun'), ('줄어들거', 'Verb'), ('생각', 'Noun'), ('하고', 'Josa'), ('L', 'Alpha'), ('size', 'Alpha'), ('구매', 'Noun'), ('하면', 'Verb'), ('딱', 'Adverb'), ('맞는거', 'Verb'), ('같아요', 'Adjective'), ('.', 'Punctuation'), ('많이', 'Adverb'), ('파세요', 'Verb'), ('~', 'Punctuation'), ('싼', 'Verb'), ('맛', 'Noun'), ('에', 'Josa'), ('좋', 'Adjective'), ('기는', 'Verb'), ('한', 'Determiner'), ('데', 'Noun'), ('건조기', 'Noun'), ('돌린', 'Verb'), ('후', 'Noun'), ('에', 'Josa'), ('한', 'Verb'), ('사이즈', 'Noun'), ('정도', 'Noun'), ('줄어', 'Verb'), ('드', 'Noun'), ('네', 'Suffix'), ('요', 'Josa'), ('정말', 'Noun'), ('이런', 'Adjective'), ('가격', 'Noun'), ('에', 'Josa'), ('이런', 'Adjective'), ('물건', 'Noun'), ('을', 'Josa'), ('구매', 'Noun'), ('할수', 'Verb'), ('있다는게', 'Adjective'), ('11', 'Number'), ('번가', 'Noun'), ('아마존', 'Noun'), ('이', 'Josa'), ('생겨서', 'Verb'), ('너무', 'Adverb'), ('좋아요', 'Adjective'), ('생각', 'Noun'), ('외로', 'Noun'), ('크기', 'Noun'), ('가', 'Josa'), ('조금', 'Noun'), ('크네요', 'Verb'), ('.', 'Punctuation'), ('근데', 'Adverb'), ('어차피', 'Noun'), ('밖에', 'Josa'), ('보이는것이', 'Verb'), ('아니니', 'Adjective'), ('괜찮아요', 'Adjective'), ('.', 'Punctuation'), ('저렴한', 'Adjective'), ('가격', 'Noun'), ('에', 'Josa'), ('넉넉한', 'Adjective'), ('사이즈', 'Noun'), ('의', 'Josa'), ('색상', 'Noun'), ('도', 'Josa'), ('예쁜', 'Adjective'), ('티셔츠', 'Noun'), ('마음', 'Noun'), ('에', 'Josa'), ('듭니', 'Noun'), ('다', 'Josa'), ('전', 'Noun'), ('에부터', 'Josa'), ('직구', 'Noun'), ('해서', 'Verb'), ('입던', 'Verb'), ('옷', 'Noun'), ('이라서', 'Josa'), ('편하게', 'Adjective'), ('잘', 'Verb'), ('구매', 'Noun'), ('했어요', 'Verb'), ('11', 'Number'), ('선', 'Noun'), ('가', 'Josa'), ('아마존', 'Noun'), ('굿', 'Noun'), ('가성', 'Noun'), ('비', 'Noun'), ('좋아요', 'Adjective'), ('.', 'Punctuation'), ('나름', 'Noun'), ('굿', 'Noun'), ('입니다', 'Adjective'), ('.', 'Punctuation'), ('어설픈', 'Adjective'), ('소재', 'Noun'), ('보다', 'Josa'), ('느낌', 'Noun'), ('이', 'Josa'), ('아주', 'Noun'), ('독특함', 'Adjective'), ('.', 'Punctuation'), ('싸네요', 'Verb'), ('그냥', 'Noun'), ('얇은', 'Adjective'), ('흰면', 'Adjective'), ('티', 'Noun'), ('라', 'Josa'), ('속옷', 'Noun'), ('으로', 'Josa'), ('입으면', 'Verb'), ('돼요', 'Verb'), ('면', 'Noun'), ('이', 'Josa'), ('좋아', 'Adjective'), ('보여요', 'Verb'), ('.', 'Punctuation'), ('가격', 'Noun'), ('은', 'Josa'), ('더', 'Noun'), ('좋네요', 'Adjective'), ('.', 'Punctuation'), ('싸게', 'Verb'), ('막', 'Noun'), ('입는', 'Verb'), ('용', 'Noun'), ('으로', 'Josa'), ('구매', 'Noun'), ('하였는데', 'Verb'), ('생각', 'Noun'), ('보다', 'Josa'), ('괜찮습니다', 'Adjective'), ('지금', 'Noun'), ('방금', 'Noun'), ('받아서', 'Verb'), ('입어', 'Verb'), ('？', 'Foreign'), ('는데', 'Eomi'), ('좀', 'Noun'), ('크긴', 'Verb'), ('했지만', 'Verb'), ('괜찬을것', 'Noun'), ('갔습니다', 'Verb'), ('여름', 'Noun'), ('에', 'Josa'), ('가볍게', 'Adjective'), ('데', 'Noun'), ('일리', 'Noun'), ('로', 'Josa'), ('입기에', 'Verb'), ('좋을', 'Adjective'), ('것', 'Noun'), ('같습니다', 'Adjective'), ('.', 'Punctuation'), ('만족합니다', 'Adjective'), ('.', 'Punctuation'), ('정사', 'Noun'), ('이', 'Determiner'), ('즈', 'Modifier'), ('구', 'Noun'), ('요', 'Josa'), ('얇고', 'Adjective'), ('약간', 'Noun'), ('까슬까슬', 'Noun'), ('한', 'Josa'), ('원단', 'Noun'), ('입니다', 'Adjective'), ('크기', 'Noun'), ('도', 'Josa'), ('넉넉하고', 'Adjective'), ('면도', 'Noun'), ('좋은', 'Adjective'), ('것', 'Noun'), ('.', 'Punctuation'), ('같아요', 'Adjective'), ('보통', 'Noun'), ('가슴', 'Noun'), ('둘레', 'Noun'), ('124', 'Number'), ('정도', 'Noun'), ('딱', 'Adverb'), ('맞는데', 'Verb'), ('2', 'Number'), ('XL', 'Alpha'), ('여유', 'Noun'), ('로', 'Josa'), ('워', 'Noun'), ('서', 'Josa'), ('좋아요', 'Adjective'), ('아', 'Exclamation'), ('분명', 'Noun'), ('사이즈', 'Noun'), ('제대로', 'Noun'), ('체크', 'Noun'), ('한', 'Determiner'), ('것', 'Noun'), ('같았는데', 'Adjective'), ('ㅋㅋㅋㅋ', 'KoreanParticle'), ('동생', 'Noun'), ('줬', 'Verb'), ('네오', 'Noun'), ('질감', 'Noun'), ('이', 'Josa'), ('톡톡하고', 'Adjective'), ('우선', 'Noun'), ('사이즈', 'Noun'), ('넉넉해서', 'Adjective'), ('좋아요', 'Adjective'), ('엄청', 'Adverb'), ('큼', 'Verb'), ('짱', 'VerbPrefix'), ('좋아요', 'Adjective'), ('근데', 'Adverb'), ('목', 'Noun'), ('이', 'Josa'), ('늘어남', 'Verb'), ('ㅜ', 'KoreanParticle'), ('세탁', 'Noun'), ('하면', 'Verb'), ('목이쭈글해짐', 'Noun'), ('싸고', 'Verb'), ('괜찮아요', 'Adjective'), ('.', 'Punctuation'), ('일반', 'Noun'), ('사이즈', 'Noun'), ('보다는', 'Josa'), ('약간', 'Noun'), ('큰것', 'Verb'), ('같아요', 'Adjective'), ('.', 'Punctuation'), ('사이즈', 'Noun'), ('가', 'Josa'), ('한국', 'Noun'), ('에선', 'Josa'), ('찾기', 'Noun'), ('힘든데', 'Adjective'), ('헤인즈', 'Noun'), ('에는', 'Josa'), ('있', 'Adjective'), ('읍니', 'Noun'), ('다', 'Josa'), ('역시', 'Noun'), ('미국', 'Noun'), ('사이즈', 'Noun'), ('라', 'Josa'), ('크네요', 'Verb'), ('.', 'Punctuation'), ('특히', 'Adverb'), ('기장', 'Noun'), ('이', 'Josa'), ('좀', 'Noun'), ('길어요', 'Verb'), ('면은', 'Eomi'), ('부드럽지는', 'Adjective'), ('않지만', 'Verb'), ('저렴하게', 'Adjective'), ('구입', 'Noun'), ('좋아요', 'Adjective'), ('사이즈', 'Noun'), ('만', 'Josa'), ('본인', 'Noun'), ('에', 'Josa'), ('맞게', 'Verb'), ('잘', 'Verb'), ('선택', 'Noun'), ('하시면', 'Verb'), ('될것', 'Verb'), ('같습니다', 'Adjective'), ('.', 'Punctuation'), ('기본', 'Noun'), ('면', 'Josa'), ('티', 'Noun'), ('가볍게', 'Adjective'), ('입을수있어', 'Adjective'), ('가성', 'Noun'), ('비', 'Noun'), ('좋습니다', 'Adjective'), ('4', 'Number'), ('XL', 'Alpha'), ('ㆍ', 'Foreign'), ('가격', 'Noun'), ('제품', 'Noun'), ('좋아요', 'Adjective'), ('또', 'Noun'), ('재구매', 'Verb'), ('하고', 'Verb'), ('싶어요', 'Verb'), ('흰색', 'Noun'), ('으로', 'Josa'), ('생각', 'Noun'), ('한', 'Determiner'), ('것', 'Noun'), ('보다', 'Josa'), ('더욱', 'Noun'), ('쨍', 'Noun'), ('한', 'Josa'), ('파랑', 'Noun'), ('이지만', 'Josa'), ('품질', 'Noun'), ('은', 'Josa'), ('좋으네요', 'Adjective'), ('사이', 'Modifier'), ('즈', 'Modifier'), ('도딱', 'Noun'), ('맞고', 'Verb'), ('질감', 'Noun'), ('도', 'Josa'), ('부드럽습니다', 'Adjective'), ('배송', 'Noun'), ('은', 'Josa'), ('느렸지만', 'Adjective'), ('두께', 'Noun'), ('감', 'Noun'), ('적당히있고', 'Adjective'), ('잘', 'Verb'), ('맞아요', 'Verb'), ('건조기', 'Noun'), ('들어', 'Verb'), ('갓', 'Modifier'), ('더니', 'Noun'), ('ㅋㅋㅋ', 'KoreanParticle'), ('초딩', 'Noun'), ('티', 'Noun'), ('가', 'Josa'), ('됫', 'Noun'), ('어', 'Suffix'), ('요', 'Josa'), ('ㅜㅜ', 'KoreanParticle'), ('가격', 'Noun'), ('좋고', 'Adjective'), ('.', 'Punctuation'), ('품질', 'Noun'), ('그냥', 'Noun'), ('쓸', 'Verb'), ('만해', 'Noun'), ('요', 'Josa'), ('.', 'Punctuation'), ('가볍고', 'Adjective'), ('시원함', 'Adjective'), ('올', 'Verb'), ('여름', 'Noun'), ('운동복', 'Noun'), ('은', 'Josa'), ('이', 'Determiner'), ('걸', 'Noun'), ('로', 'Josa'), ('!', 'Punctuation'), ('집', 'Noun'), ('에서', 'Josa'), ('편하게', 'Adjective'), ('입기', 'Verb'), ('딱이네', 'Adjective'), ('용', 'Noun'), ('ㅎㅎ', 'KoreanParticle'), ('잘쓰겠습니다', 'Verb'), ('이', 'Determiner'), ('가격', 'Noun'), ('에', 'Josa'), ('이런', 'Modifier'), ('품질', 'Noun'), ('없습니다', 'Adjective'), ('.', 'Punctuation'), ('무조건', 'Noun'), ('사세요', 'Verb'), ('좋아요', 'Adjective'), ('완전', 'Noun'), ('대박', 'Noun'), ('나세요', 'Verb'), ('배송', 'Noun'), ('엄청', 'Adverb'), ('빠르고', 'Adjective'), ('.', 'Punctuation'), ('옷', 'Noun'), ('도', 'Josa'), ('굿굿', 'Noun'), ('최고', 'Noun'), ('입니다', 'Adjective'), ('면', 'Noun'), ('이', 'Josa'), ('얇지', 'Adjective'), ('않고', 'Verb'), ('좋은', 'Adjective'), ('제품', 'Noun'), ('입니다', 'Adjective'), ('세탁', 'Noun'), ('후', 'Noun'), ('에도', 'Josa'), ('변형', 'Noun'), ('이', 'Josa'), ('없고', 'Adjective'), ('면', 'Noun'), ('이', 'Josa'), ('좋아요', 'Adjective'), ('적당한', 'Adjective'), ('두께', 'Noun'), ('와', 'Josa'), ('품질', 'Noun'), ('.', 'Punctuation'), ('착한', 'Adjective'), ('가격', 'Noun'), ('주문', 'Noun'), ('하고', 'Josa'), ('3일', 'Number'), ('만에', 'Foreign'), ('도착', 'Noun'), ('했습니다', 'Verb'), ('.', 'Punctuation'), ('배송', 'Noun'), ('이', 'Josa'), ('정말', 'Noun'), ('빨라요', 'Adjective'), ('!', 'Punctuation'), ('내', 'Determiner'), ('복대', 'Noun'), ('용실내용', 'Verb'), ('안', 'Noun'), ('에', 'Josa'), ('받쳐', 'Verb'), ('입기도', 'Verb'), ('좋아요', 'Adjective'), ('길', 'Noun'), ('단보', 'Noun'), ('다', 'Josa'), ('천이', 'Noun'), ('부드러워요', 'Adjective'), ('잠옷', 'Noun'), ('으로', 'Josa'), ('좋아요', 'Adjective'), ('.', 'Punctuation'), ('검은', 'Adjective'), ('hanes', 'Alpha'), ('？', 'Foreign'), ('아요', 'Eomi'), ('.', 'Punctuation'), ('가격', 'Noun'), ('도', 'Josa'), ('품질', 'Noun'), ('도', 'Josa'), ('.', 'Punctuation'), ('좋습니다', 'Adjective'), ('.', 'Punctuation'), ('싸게', 'Verb'), ('잘', 'Verb'), ('구입', 'Noun'), ('했습니다', 'Verb'), ('저렴히', 'Adjective'), ('구매', 'Noun'), ('했어요', 'Verb'), ('.', 'Punctuation'), ('막', 'Noun'), ('입기', 'Verb'), ('좋아요', 'Adjective'), ('배송', 'Noun'), ('빨리', 'Adverb'), ('왔고', 'Verb'), ('세탁', 'Noun'), ('후', 'Noun'), ('입어봐야지요', 'Verb'), ('헐렁한', 'Adjective'), ('큰', 'Verb'), ('옷', 'Noun'), ('편한거', 'Adjective'), ('잘산거', 'Verb'), ('같아요', 'Adjective'), ('해외', 'Noun'), ('배송', 'Noun'), ('임', 'Noun'), ('에도', 'Josa'), ('빠르고', 'Adjective'), ('좋네요', 'Adjective'), ('소재', 'Noun'), ('가', 'Josa'), ('생각', 'Noun'), ('보다', 'Josa'), ('탄탄하고', 'Adjective'), ('좋아요', 'Adjective'), ('!', 'Punctuation'), ('좋습니다', 'Adjective'), ('.', 'Punctuation'), ('만족합니다', 'Adjective'), ('.', 'Punctuation'), ('배송', 'Noun'), ('이', 'Josa'), ('빨라요', 'Adjective'), ('.', 'Punctuation'), ('ㅎㅎ', 'KoreanParticle'), ('싸게', 'Verb'), ('잘', 'Verb'), ('샀어요', 'Verb'), ('가격', 'Noun'), ('대비', 'Noun'), ('수준', 'Noun'), ('의', 'Josa'), ('퀄', 'Noun'), ('입니다', 'Adjective'), ('.', 'Punctuation'), ('좋네요', 'Adjective'), ('운동복', 'Noun'), ('으로', 'Josa'), ('샀는데', 'Verb'), ('사이즈', 'Noun'), ('딱이네요', 'Adjective'), ('.', 'Punctuation'), ('잘', 'VerbPrefix'), ('받았습니다', 'Verb'), ('사이즈', 'Noun'), ('잘', 'Verb'), ('맞네요', 'Verb'), ('감사합니다', 'Verb'), ('빠른', 'Adjective'), ('배송', 'Noun'), ('감사합니다', 'Verb'), ('좋아요', 'Adjective'), ('처음', 'Noun'), ('주문', 'Noun'), ('해보는데', 'Verb'), ('좋습니다', 'Adjective'), ('.', 'Punctuation'), ('저렴한', 'Adjective'), ('가격', 'Noun'), ('에', 'Josa'), ('구매', 'Noun'), ('했습니다', 'Verb'), ('머', 'Noun'), ('가격', 'Noun'), ('이상', 'Noun'), ('도', 'Josa'), ('이하', 'Noun'), ('도', 'Josa'), ('아닌', 'Adjective'), ('평범한데', 'Adjective'), ('입는데는', 'Adjective'), ('지장', 'Noun'), ('없다지만', 'Adjective'), ('이런거', 'Adjective'), ('하나로', 'Noun'), ('전체', 'Noun'), ('품질', 'Noun'), ('이', 'Josa'), ('안좋아', 'Adjective'), ('보이네요', 'Verb'), ('qc', 'Alpha'), ('에', 'Josa'), ('조금', 'Noun'), ('더', 'Noun'), ('신경', 'Noun'), ('써주세요', 'Verb'), ('매번', 'Noun'), ('아마존', 'Noun'), ('물건', 'Noun'), ('에', 'Josa'), ('만족했는데', 'Adjective'), ('이번', 'Noun'), ('에는', 'Josa'), ('별로', 'Noun'), ('네', 'Suffix'), ('요', 'Josa'), ('.', 'Punctuation'), ('아버지', 'Noun'), ('랑', 'Josa'), ('저', 'Noun'), ('랑', 'Josa'), ('같이', 'Adverb'), ('입을려고', 'Adjective'), ('삿는데', 'Noun'), ('소재', 'Noun'), ('도', 'Josa'), ('마음', 'Noun'), ('에', 'Josa'), ('들고', 'Verb'), ('집', 'Noun'), ('에서', 'Josa'), ('편히', 'Adjective'), ('입기', 'Verb'), ('좋아요', 'Adjective'), ('!', 'Punctuation'), ('잘산거', 'Verb'), ('같습니다', 'Adjective'), ('!!', 'Punctuation'), ('한번', 'Noun'), ('입었는데', 'Verb'), ('팔', 'Noun'), ('부분', 'Noun'), ('터짐', 'Verb'), ('ㅠㅠㅠ', 'KoreanParticle'), ('그냥', 'Noun'), ('중국', 'Noun'), ('거', 'Noun'), ('사는게', 'Verb'), ('좋은', 'Adjective'), ('것', 'Noun'), ('같네요', 'Adjective'), ('!!!!', 'Punctuation'), ('묶음', 'Noun'), ('으로', 'Josa'), ('구매', 'Noun'), ('해야되', 'Verb'), ('고', 'Noun'), ('결국', 'Adverb'), ('비싸게', 'Adjective'), ('구매', 'Noun'), ('하', 'Suffix'), ('거나', 'Noun'), ('마찬가지', 'Noun'), ('네', 'Suffix'), ('요', 'Josa'), ('그래도', 'Adverb'), ('꼭', 'Noun'), ('사고', 'Noun'), ('자', 'Suffix'), ('하시는', 'Verb'), ('분', 'Noun'), ('은', 'Josa'), ('사이즈', 'Noun'), ('는', 'Josa'), ('한', 'Verb'), ('두', 'Noun'), ('사이즈', 'Noun'), ('아래', 'Noun'), ('걸', 'Noun'), ('로', 'Josa'), ('구매', 'Noun'), ('하세요', 'Verb'), ('아니면', 'Adjective'), ('곰', 'Noun'), ('됩니다', 'Verb'), ('빅사', 'Noun'), ('이즈', 'Noun'), ('정말', 'Noun'), ('편하고', 'Adjective'), ('싸고', 'Verb'), ('좋다', 'Adjective'), ('여섯', 'Determiner'), ('장', 'Noun'), ('에', 'Josa'), ('이', 'Determiner'), ('가격', 'Noun'), ('이라니', 'Josa'), ('대박', 'Noun'), ('사이즈', 'Noun'), ('가', 'Josa'), ('엄청', 'Adverb'), ('크네요', 'Verb'), ('.', 'Punctuation'), ('빅사', 'Noun'), ('이', 'Determiner'), ('즈', 'Modifier'), ('티', 'Noun'), ('입니다', 'Adjective'), ('.', 'Punctuation'), ('그냥', 'Noun'), ('막', 'Noun'), ('입으려고', 'Verb'), ('구매', 'Noun'), ('하긴', 'Verb'), ('했는데', 'Verb'), ('품질', 'Noun'), ('은', 'Josa'), ('한국', 'Noun'), ('에서', 'Josa'), ('구', 'Noun'), ('하기', 'Verb'), ('힘든', 'Adjective'), ('사이즈', 'Noun'), ('에', 'Josa'), ('가격', 'Noun'), ('에', 'Josa'), ('？？？？？？', 'Foreign'), ('옷', 'Noun'), ('편하네요', 'Adjective'), ('.', 'Punctuation'), ('집안', 'Noun'), ('에서', 'Josa'), ('편하게', 'Adjective'), ('입기', 'Verb'), ('좋아요', 'Adjective'), ('.', 'Punctuation'), ('색상', 'Noun'), ('이', 'Josa'), ('마음', 'Noun'), ('에', 'Josa'), ('듭니', 'Noun'), ('다', 'Josa'), ('집', 'Noun'), ('에서', 'Josa'), ('간단히', 'Adjective'), ('입기에', 'Verb'), ('저렴하니', 'Adjective'), ('딱', 'Adverb'), ('좋아요', 'Adjective'), ('.', 'Punctuation'), ('성의', 'Noun'), ('없이', 'Adverb'), ('포장', 'Noun'), ('해서', 'Verb'), ('세탁', 'Noun'), ('해서', 'Verb'), ('입어야', 'Verb'), ('될것', 'Verb'), ('같습니다', 'Adjective'), ('한', 'Determiner'), ('치수', 'Noun'), ('작아도', 'Adjective'), ('무방', 'Noun'), ('할듯', 'Verb'), ('합니당', 'Verb'), ('ㅎㅎ', 'KoreanParticle'), ('품질', 'Noun'), ('이', 'Josa'), ('좋아', 'Adjective'), ('보입니다', 'Verb'), ('..', 'Punctuation'), ('배송', 'Noun'), ('빠르고', 'Adjective'), ('상품', 'Noun'), ('도', 'Josa'), ('좋아요', 'Adjective'), ('핏', 'Noun'), ('이', 'Josa'), ('잘', 'Verb'), ('맞아서', 'Verb'), ('좋아요', 'Adjective'), ('한', 'Determiner'), ('사이즈', 'Noun'), ('작게', 'Adjective'), ('사세요', 'Verb'), ('선물', 'Noun'), ('해줬는데', 'Verb'), ('잘', 'Verb'), ('입는것', 'Verb'), ('같아요', 'Adjective'), ('ㅎㅎㅎ', 'KoreanParticle'), ('좋네요', 'Adjective'), ('ㅎㅎ', 'KoreanParticle'), ('오늘', 'Noun'), ('배송', 'Noun'), ('빠르고', 'Adjective'), ('좋아요', 'Adjective'), ('ㅎㅎ', 'KoreanParticle'), ('해외', 'Noun'), ('배송', 'Noun'), ('이지만', 'Josa'), ('빠르게', 'Adjective'), ('잘', 'Verb'), ('받았습니다', 'Verb'), ('.', 'Punctuation'), ('감사합니다', 'Verb'), ('.', 'Punctuation'), ('헤인즈', 'Noun'), ('는', 'Josa'), ('언제나', 'Adverb'), ('옳다', 'Adjective'), ('여성', 'Noun'), ('이지만', 'Josa'), ('받시한', 'Verb'), ('티안', 'Noun'), ('에', 'Josa'), ('이', 'Determiner'), ('너', 'Noun'), ('로', 'Josa'), ('받쳐', 'Verb'), ('입기', 'Verb'), ('딱', 'Adverb'), ('부드럽고', 'Adjective'), ('좋습니다', 'Adjective'), ('포장', 'Noun'), ('이', 'Josa'), ('진짜', 'Noun'), ('성의', 'Noun'), ('없이', 'Adverb'), ('했네요', 'Verb'), ('옷', 'Noun'), ('에', 'Josa'), ('먼지', 'Noun'), ('가', 'Josa'), ('쌓여서', 'Verb'), ('한번', 'Noun'), ('세탁', 'Noun'), ('해서', 'Verb'), ('입어야', 'Verb'), ('될것', 'Verb'), ('같습니다', 'Adjective'), ('사이즈', 'Noun'), ('넉넉해서', 'Adjective'), ('.', 'Punctuation'), ('좋다', 'Adjective'), ('하네요', 'Verb'), ('저렴하고', 'Adjective'), ('재질', 'Noun'), ('도', 'Josa'), ('만족합니다', 'Adjective'), ('한', 'Determiner'), ('치수', 'Noun'), ('작게', 'Adjective'), ('주문', 'Noun'), ('하세요', 'Verb'), ('빨', 'Noun'), ('면', 'Josa'), ('사이즈', 'Noun'), ('가', 'Josa'), ('꽤', 'Noun'), ('줄', 'Noun'), ('지만', 'Josa'), ('이', 'Determiner'), ('너', 'Noun'), ('로', 'Josa'), ('입기에', 'Verb'), ('최고', 'Noun'), ('싸고', 'Verb'), ('좋아요', 'Adjective'), ('..', 'Punctuation'), ('까칠한', 'Adjective'), ('느낌', 'Noun'), ('한', 'Determiner'), ('치수', 'Noun'), ('작게', 'Adjective'), ('주문', 'Noun'), ('하세요', 'Verb'), ('!!', 'Punctuation'), ('ㅠ', 'KoreanParticle'), ('소재', 'Noun'), ('가', 'Josa'), ('얇긴한데', 'Adjective'), ('괜찮아요', 'Adjective'), ('빠른', 'Adjective'), ('배송', 'Noun'), ('감사합니다', 'Verb'), ('.', 'Punctuation'), ('좋아요', 'Adjective'), ('.', 'Punctuation'), ('잘맞아요', 'Adjective'), ('...', 'Punctuation'), ('넉넉하니', 'Adjective'), ('괜찮', 'Adjective'), ('네', 'Determiner'), ('여', 'Noun'), ('배송', 'Noun'), ('도', 'Josa'), ('빠르고', 'Adjective'), ('싸고', 'Verb'), ('좋아요', 'Adjective'), ('!', 'Punctuation'), ('0', 'Number'), ('0', 'Number'), ('0', 'Number'), ('배송', 'Noun'), ('도', 'Josa'), ('빠르고', 'Adjective'), ('좋네요', 'Adjective'), ('좋아요', 'Adjective'), ('조으디', 'Adjective'), ('ㅈ', 'KoreanParticle'), ('0', 'Number'), ('0', 'Number'), ('0', 'Number'), ('0', 'Number'), ('0', 'Number'), ('0', 'Number'), ('0', 'Number'), ('0', 'Number'), ('0', 'Number'), ('0', 'Number'), ('0', 'Number'), ('0', 'Number'), ('0', 'Number'), ('0', 'Number'), ('0', 'Number'), ('0', 'Number'), ('0', 'Number'), ('0', 'Number'), ('0', 'Number'), ('0', 'Number'), ('0', 'Number'), ('0', 'Number'), ('0', 'Number'), ('0', 'Number'), ('0', 'Number'), ('0', 'Number'), ('0', 'Number'), ('0', 'Number'), ('0', 'Number'), ('0', 'Number'), ('0', 'Number'), ('0', 'Number'), ('0', 'Number'), ('0', 'Number'), ('0', 'Number'), ('0', 'Number'), ('0', 'Number'), ('0', 'Number'), ('0', 'Number'), ('0', 'Number'), ('0', 'Number'), ('0', 'Number'), ('0', 'Number'), ('0', 'Number'), ('0', 'Number'), ('0', 'Number'), ('0', 'Number'), ('0', 'Number'), ('0', 'Number'), ('0', 'Number'), ('0', 'Number'), ('0', 'Number'), ('0', 'Number'), ('0', 'Number'), ('0', 'Number'), ('0', 'Number'), ('0', 'Number'), ('0', 'Number'), ('0', 'Number'), ('0', 'Number'), ('0', 'Number'), ('0', 'Number'), ('0', 'Number'), ('0', 'Number'), ('0', 'Number'), ('0', 'Number'), ('0', 'Number'), ('0', 'Number'), ('0', 'Number'), ('0', 'Number'), ('0', 'Number'), ('0', 'Number'), ('0', 'Number'), ('0', 'Number'), ('저렴하게', 'Adjective'), ('구매', 'Noun'), ('했어요', 'Verb'), ('.', 'Punctuation'), ('가격', 'Noun'), ('대비', 'Noun'), ('보통', 'Noun'), ('수준', 'Noun'), ('인거', 'Josa'), ('같아요', 'Adjective'), ('가격', 'Noun'), ('대비', 'Noun'), ('좋아요', 'Adjective'), ('가격', 'Noun'), ('대비', 'Noun'), ('너무', 'Adverb'), ('너무', 'Adverb'), ('좋아요', 'Adjective'), ('？？', 'Foreign'), ('빨래', 'Noun'), ('전후', 'Noun'), ('의', 'Josa'), ('품질', 'Noun'), ('차이는', 'Verb'), ('뭐라', 'Verb'), ('답', 'Noun'), ('할', 'Verb'), ('수', 'Noun'), ('있을지', 'Adjective'), ('의문', 'Noun'), ('입니다', 'Adjective'), ('.', 'Punctuation'), ('상품', 'Noun'), ('질', 'Noun'), ('정말', 'Noun'), ('좋아요', 'Adjective'), ('!', 'Punctuation'), ('건조기', 'Noun'), ('넣었더니', 'Verb'), ('옷', 'Noun'), ('이', 'Josa'), ('틀어지네요', 'Verb'), ('.', 'Punctuation'), ('별로', 'Noun'), ('입니다', 'Adjective'), ('남편', 'Noun'), ('이', 'Josa'), ('만족해', 'Adjective'), ('합니다', 'Verb'), ('남편', 'Noun'), ('이', 'Josa'), ('만족해', 'Adjective'), ('하네요', 'Verb'), ('만족합니다', 'Adjective'), ('~~!^^', 'Punctuation'), ('검정색', 'Noun'), ('가루', 'Noun'), ('같은게', 'Adjective'), ('떨어져요', 'Verb'), ('...', 'Punctuation'), ('믿고', 'Verb'), ('보는', 'Verb'), ('헤인즈', 'Noun'), ('이번', 'Noun'), ('에도', 'Josa'), ('실망', 'Noun'), ('시키지', 'Verb'), ('않네요', 'Verb'), ('fast', 'Alpha'), ('delivery', 'Alpha'), ('176', 'Number'), ('cm', 'Alpha'), ('/', 'Punctuation'), ('105', 'Number'), ('kggood', 'Alpha'), ('size', 'Alpha'), ('0', 'Number'), ('싸', 'Verb'), ('이즈', 'Noun'), ('가', 'Josa'), ('조금', 'Noun'), ('크네요', 'Verb'), ('.', 'Punctuation'), ('배송', 'Noun'), ('도', 'Josa'), ('빠릅니다', 'Adjective'), ('.', 'Punctuation'), ('빠르게', 'Adjective'), ('잘', 'Verb'), ('받았습니다', 'Verb'), ('.', 'Punctuation'), ('감사합니다', 'Verb'), ('.', 'Punctuation'), ('사이즈', 'Noun'), ('는', 'Josa'), ('우리나라', 'Noun'), ('보다', 'Josa'), ('2', 'Number'), ('사이즈', 'Noun'), ('커요', 'Verb'), ('제', 'Modifier'), ('질도', 'Noun'), ('괜찮고', 'Adjective'), ('남편', 'Noun'), ('도', 'Josa'), ('만족하네요', 'Adjective'), ('~', 'Punctuation'), ('티속', 'Noun'), ('에', 'Josa'), ('받쳐', 'Verb'), ('입기', 'Verb'), ('굿굿', 'Noun'), ('가볍고', 'Adjective'), ('사이즈', 'Noun'), ('크니', 'Verb'), ('좋아요', 'Adjective'), ('.', 'Punctuation'), ('어어', 'Noun'), ('아', 'Josa'), ('ㅏ', 'KoreanParticle'), ('아아', 'Noun'), ('아', 'Josa'), ('나미', 'Noun'), ('ㅣ', 'KoreanParticle'), ('버더오', 'Noun'), ('ㅗ', 'KoreanParticle'), ('어어', 'Exclamation'), ('아아', 'Exclamation'), ('ㅏ', 'KoreanParticle'), ('니니', 'Noun'), ('ㅏ', 'KoreanParticle'), ('우어', 'Noun'), ('ㅓ', 'KoreanParticle'), ('어엉', 'Noun'), ('ㅁ', 'KoreanParticle'), ('배송', 'Noun'), ('빠름', 'Adjective'), ('상품', 'Noun'), ('도', 'Josa'), ('만족', 'Noun'), ('싸고', 'Verb'), ('질도', 'Noun'), ('괜찮아요', 'Adjective'), ('싸고', 'Verb'), ('품질', 'Noun'), ('도', 'Josa'), ('좋아요', 'Adjective'), ('빅사', 'Noun'), ('이즈', 'Noun'), ('너무', 'Adverb'), ('조아요', 'Adjective'), ('아', 'Exclamation'), ('너', 'Modifier'), ('티셔츠', 'Noun'), ('로', 'Josa'), ('입으려고', 'Verb'), ('구입', 'Noun'), ('했는데', 'Verb'), (',', 'Punctuation'), ('그냥', 'Noun'), ('입어도', 'Verb'), ('좋아요', 'Adjective'), ('~', 'Punctuation'), ('두께', 'Noun'), ('감', 'Noun'), ('이', 'Josa'), ('살짝', 'Noun'), ('있어요', 'Adjective'), ('잘', 'Verb'), ('맞고', 'Verb'), ('좋아요', 'Adjective'), ('~~', 'Punctuation'), ('가성', 'Noun'), ('비', 'Noun'), ('좋아요', 'Adjective'), ('.', 'Punctuation'), ('추천', 'Noun'), ('0', 'Number'), ('편하게', 'Adjective'), ('입고다니', 'Verb'), ('좋어요', 'Adjective'), ('우리나라', 'Noun'), ('사이즈', 'Noun'), ('2', 'Number'), ('xl', 'Alpha'), ('정도', 'Noun'), ('되요', 'Verb'), ('옷', 'Noun'), ('이', 'Josa'), ('좀', 'Noun'), ('얇지만', 'Adjective'), ('원단', 'Noun'), ('이', 'Josa'), ('부드럽고', 'Adjective'), ('박음질', 'Noun'), ('이', 'Josa'), ('깔끔합니다', 'Adjective'), ('가격', 'Noun'), ('은', 'Josa'), ('저렴합니다', 'Adjective'), ('.', 'Punctuation'), ('면', 'Noun'), ('함량', 'Noun'), ('은', 'Josa'), ('50%', 'Number'), ('네요', 'Eomi'), ('.', 'Punctuation'), ('개봉', 'Noun'), ('후', 'Noun'), ('입으려고', 'Verb'), ('했지만', 'Verb'), ('섬유', 'Noun'), ('냄새', 'Noun'), ('가', 'Josa'), ('납니다', 'Verb'), ('.', 'Punctuation'), ('긴', 'Verb'), ('팔', 'Noun'), ('치고는', 'Josa'), ('얇은', 'Adjective'), ('편입', 'Noun'), ('니', 'Noun'), ('다', 'Josa'), ('.', 'Punctuation'), ('생각', 'Noun'), ('보다', 'Josa'), ('사이즈', 'Noun'), ('커요', 'Verb'), ('.', 'Punctuation'), ('특히', 'Adverb'), ('팔이', 'Noun'), ('깁니다', 'Verb'), ('.', 'Punctuation'), ('홈웨어', 'Noun'), ('로', 'Josa'), ('적절해', 'Adjective'), ('보입니다', 'Verb'), ('.', 'Punctuation'), ('아주', 'Noun'), ('넉넉하게', 'Adjective'), ('입으려면', 'Verb'), ('정사', 'Noun'), ('이', 'Determiner'), ('즈', 'Modifier'), ('조금', 'Noun'), ('넉넉하게', 'Adjective'), ('입으려면', 'Verb'), ('한', 'Determiner'), ('사이즈', 'Noun'), ('다운', 'Noun'), ('맞게', 'Verb'), ('입으려면', 'Verb'), ('두', 'Determiner'), ('사이즈', 'Noun'), ('는', 'Josa'), ('다운', 'Noun'), ('해야겠네요', 'Verb'), ('제품', 'Noun'), ('은', 'Josa'), ('거격', 'Noun'), ('에', 'Josa'), ('맞게', 'Verb'), ('저렴해', 'Adjective'), ('보입니다', 'Verb'), ('운동복', 'Noun'), ('이나', 'Josa'), ('홈웨어', 'Noun'), ('로', 'Josa'), ('입어야', 'Verb'), ('하겠어요', 'Verb'), ('편하고', 'Adjective'), ('막', 'Noun'), ('입기', 'Verb'), ('좋아요', 'Adjective'), ('운동', 'Noun'), ('할', 'Verb'), ('때', 'Noun'), ('입으니', 'Verb'), ('딱', 'Adverb'), ('좋네요', 'Adjective'), ('봄', 'Noun'), ('가을', 'Noun'), ('용', 'Noun'), ('굿', 'Noun'), ('길단', 'Verb'), ('티셔츠', 'Noun'), ('는', 'Josa'), ('역시', 'Noun'), ('괜찮네요', 'Adjective'), ('헤비', 'Noun'), ('코튼', 'Noun'), ('이', 'Josa'), ('아니라', 'Adjective'), ('매우', 'Noun'), ('얇', 'Adjective'), ('고통', 'Noun'), ('이', 'Josa'), ('어마어마하게', 'Adjective'), ('크니', 'Verb'), ('주의', 'Noun'), ('하세요', 'Verb'), ('대신', 'Noun'), ('총', 'Noun'), ('기장', 'Noun'), ('은', 'Josa'), ('긴', 'Verb'), ('편이', 'Noun'), ('아닙니다', 'Adjective'), ('186', 'Number'), ('cm', 'Alpha'), ('인데', 'Josa'), ('허리', 'Noun'), ('좀', 'Noun'), ('덜', 'Noun'), ('와', 'Josa'), ('요소', 'Noun'), ('매도', 'Noun'), ('엄청', 'Adverb'), ('길진', 'Adjective'), ('않구요', 'Verb'), ('.', 'Punctuation'), ('소매', 'Noun'), ('랑', 'Josa'), ('총기', 'Noun'), ('장', 'Suffix'), ('대충', 'Noun'), ('맞춰', 'Verb'), ('사는데', 'Verb'), ('늘', 'Noun'), ('통', 'Noun'), ('이', 'Josa'), ('커서', 'Noun'), ('톨', 'Noun'), ('을', 'Josa'), ('살까', 'Verb'), ('고민', 'Noun'), ('중', 'Suffix'), ('쿠폰', 'Noun'), ('소', 'Modifier'), ('모용', 'Noun'), ('저렴한', 'Adjective'), ('의류', 'Noun'), ('중', 'Suffix'), ('에서는', 'Josa'), ('Amazon', 'Alpha'), ('Essentials', 'Alpha'), ('만', 'Noun'), ('구매', 'Noun'), ('해야', 'Verb'), ('함', 'Noun'), ('..', 'Punctuation'), ('Gildan', 'Alpha'), ('이나', 'Noun'), ('Hanes', 'Alpha'), ('같은건', 'Adjective'), ('퀄리티', 'Noun'), ('가', 'Josa'), ('국내', 'Noun'), ('에서', 'Josa'), ('판매', 'Noun'), ('하는', 'Verb'), ('저렴한', 'Adjective'), ('무지', 'Noun'), ('티', 'Noun'), ('같이', 'Adverb'), ('한번', 'Noun'), ('입으면', 'Verb'), ('쪼그', 'Noun'), ('라', 'Josa'), ('들거나', 'Verb'), ('늘어나는', 'Verb'), ('경우', 'Noun'), ('가', 'Josa'), ('많음', 'Adjective'), ('.', 'Punctuation'), ('세탁', 'Noun'), ('전', 'Noun'), ('에', 'Josa'), ('좀', 'Noun'), ('입다', 'Noun'), ('가', 'Josa'), ('세탁', 'Noun'), ('후', 'Noun'), ('에는', 'Josa'), ('집', 'Noun'), ('에서', 'Josa'), ('잠옷', 'Noun'), ('으로', 'Josa'), ('써야', 'Verb'), ('함', 'Noun'), ('..', 'Punctuation'), ('아마존', 'Noun'), ('해외', 'Noun'), ('배송', 'Noun'), ('이지만', 'Josa'), ('빨리', 'Adverb'), ('왔어요', 'Verb'), ('옷', 'Noun'), ('은', 'Josa'), ('생각', 'Noun'), ('보다', 'Josa'), ('더', 'Noun'), ('크네요', 'Verb'), ('미국', 'Noun'), ('의', 'Josa'), ('기상', 'Noun'), ('을', 'Josa'), ('느낄', 'Verb'), ('수', 'Noun'), ('있는', 'Adjective'), ('ㄷㄷ', 'KoreanParticle'), ('홈웨어', 'Noun'), ('로', 'Josa'), ('딱', 'Adverb'), ('좋을거', 'Adjective'), ('같아요', 'Adjective'), ('길단', 'Verb'), ('무지', 'Noun'), ('티', 'Noun'), ('역시', 'Noun'), ('나', 'Josa'), ('가성', 'Noun'), ('비', 'Noun'), ('최고', 'Noun'), ('입니다', 'Adjective'), ('①？', 'Foreign'), ('10,979', 'Number'), ('②', 'Foreign'), ('홈웨어', 'Noun'), ('류', 'Noun'), ('적당', 'Noun'), ('③', 'Foreign'), ('5천원', 'Number'), ('에', 'Foreign'), ('어울리는', 'Verb'), ('착용', 'Noun'), ('감', 'Noun'), ('④', 'Foreign'), ('1', 'Number'), ('+', 'Punctuation'), ('1', 'Number'), ('⑤', 'Foreign'), ('네이비', 'Noun'), ('색상', 'Noun'), ('에', 'Josa'), ('이어', 'Verb'), ('회색', 'Noun'), ('구매', 'Noun'), ('⑥', 'Foreign'), ('장바구니', 'Noun'), ('에', 'Josa'), ('넣어', 'Verb'), ('두고', 'Verb'), ('핫딜뜨', 'Noun'), ('면', 'Josa'), ('구매', 'Noun'), ('추천', 'Noun'), ('⑦', 'Foreign'), ('M', 'Alpha'), ('사이즈', 'Noun'), (':', 'Punctuation'), ('정직한', 'Adjective'), ('100', 'Number'), ('사이즈', 'Noun'), ('⑧', 'Foreign'), ('reviewed', 'Alpha'), ('by', 'Alpha'), ('11', 'Number'), ('st', 'Alpha'), ('리뷰', 'Noun'), ('냥', 'Josa'), ('이', 'Determiner'), ('아마존', 'Noun'), ('머니', 'Adjective'), ('백', 'Noun'), ('코드', 'Noun'), ('MFG', 'Alpha'), ('5202', 'Number'), ('⑨', 'Foreign'), ('구매', 'Noun'), ('지수', 'Noun'), ('(', 'Punctuation'), ('78/100', 'Number'), (')', 'Punctuation'), ('가성', 'Noun'), ('비', 'Noun'), ('값', 'Noun'), ('색깔', 'Noun'), (':', 'Punctuation'), ('화면', 'Noun'), ('그대로', 'Noun'), ('에요', 'Josa'), ('사이즈', 'Noun'), (':', 'Punctuation'), ('훨씬', 'Adverb'), ('커요', 'Verb'), ('(', 'Punctuation'), ('건조기', 'Noun'), ('돌리면', 'Verb'), ('줄꺼', 'Verb'), ('같아요', 'Adjective'), (')', 'Punctuation'), ('마감', 'Noun'), (':', 'Punctuation'), ('마감', 'Noun'), ('처리', 'Noun'), ('등', 'Noun'), ('이', 'Josa'), ('튼', 'Verb'), ('튼', 'Verb'), ('하지는', 'Verb'), ('않지만', 'Verb'), ('가격', 'Noun'), ('대비', 'Noun'), ('해서', 'Verb'), ('좋은', 'Adjective'), ('거', 'Noun'), ('같아요', 'Adjective'), ('직구', 'Noun'), ('상품', 'Noun'), ('걱정', 'Noun'), ('하지마', 'Verb'), ('시', 'Modifier'), ('고', 'Modifier'), ('그냥', 'Noun'), ('구매', 'Noun'), ('하셔도', 'Verb'), ('후회', 'Noun'), ('하지', 'Verb'), ('않으실꺼', 'Verb'), ('같아요', 'Adjective'), ('같은', 'Adjective'), ('날', 'Noun'), ('주문', 'Noun'), ('했는데', 'Verb'), ('요것', 'Noun'), ('만', 'Josa'), ('더', 'Noun'), ('늦게', 'Verb'), ('왔네요', 'Verb'), ('그래도', 'Adverb'), ('면', 'Noun'), ('이', 'Josa'), ('역시', 'Noun'), ('짱짱하고', 'Adjective'), ('좋아요', 'Adjective'), ('가격', 'Noun'), ('도', 'Josa'), ('저렴하게요', 'Adjective'), ('사이즈', 'Noun'), ('는', 'Josa'), ('정말', 'Noun'), ('한국사', 'Noun'), ('이', 'Suffix'), ('즌로', 'Noun'), ('하나', 'Noun'), ('줄', 'Noun'), ('여서', 'Josa'), ('사세요', 'Verb'), ('사이즈', 'Noun'), ('를', 'Josa'), ('고를수도', 'Verb'), ('있고', 'Adjective'), ('좋으네요', 'Adjective'), ('매번', 'Noun'), ('무조건', 'Noun'), ('제일', 'Noun'), ('큰거로', 'Verb'), ('묻지도', 'Verb'), ('못', 'Noun'), ('하고', 'Josa'), ('주문', 'Noun'), ('했는데', 'Verb'), ('커서', 'Noun'), ('작은', 'Adjective'), ('사이즈', 'Noun'), ('로', 'Josa'), ('주문', 'Noun'), ('도', 'Josa'), ('하고', 'Verb'), ('ㅋㅋ', 'KoreanParticle'), ('예상', 'Noun'), ('배송', 'Noun'), ('보다', 'Josa'), ('일주일', 'Noun'), ('먼저', 'Noun'), ('받았', 'Verb'), ('네', 'Determiner'), ('요면', 'Noun'), ('50', 'Number'), (',', 'Punctuation'), ('폴리', 'Noun'), ('50', 'Number'), ('옆쪽', 'Noun'), ('재봉', 'Noun'), ('선', 'Noun'), ('이', 'Josa'), ('없는', 'Adjective'), ('통', 'Noun'), ('으로', 'Josa'), ('되어', 'Verb'), ('있어서', 'Adjective'), ('좋네요', 'Adjective'), ('.', 'Punctuation'), ('빨', 'Noun'), ('면', 'Josa'), ('줄어들지', 'Verb'), ('않았으면', 'Verb'), ('하네요', 'Verb'), ('.', 'Punctuation'), ('사이즈', 'Noun'), ('는', 'Josa'), ('하사', 'Noun'), ('이즈', 'Noun'), ('내려서', 'Verb'), ('주문', 'Noun'), ('하니', 'Verb'), ('딱', 'Adverb'), ('맞네요', 'Verb'), ('.', 'Punctuation'), ('단단한', 'Adjective'), ('면', 'Noun'), ('재질', 'Noun'), ('에', 'Josa'), ('살짝', 'Noun'), ('펄감', 'Noun'), ('이', 'Josa'), ('느껴지는', 'Verb'), ('회색', 'Noun'), ('면티', 'Noun'), ('입니다', 'Adjective'), ('.', 'Punctuation'), ('신랑', 'Noun'), ('이', 'Josa'), ('지난번', 'Noun'), ('찐', 'Verb'), ('그레이', 'Noun'), ('구매', 'Noun'), ('해', 'Verb'), ('입어보더니잘', 'Verb'), ('때', 'Noun'), ('도', 'Josa'), ('나갈', 'Verb'), ('때', 'Noun'), ('도', 'Josa'), ('24시간', 'Number'), ('이', 'Determiner'), ('것', 'Noun'), ('만', 'Josa'), ('입네요', 'Verb'), ('ㅎㅎ', 'KoreanParticle'), ('이러다', 'Verb'), ('찐', 'Verb'), ('~', 'Punctuation'), ('교복', 'Noun'), ('되것습니다', 'Verb'), ('ㅋㅋㅋ', 'KoreanParticle'), ('가격', 'Noun'), ('대비', 'Noun'), ('품질', 'Noun'), ('은', 'Josa'), ('좋은', 'Adjective'), ('편이', 'Noun'), ('니', 'Josa'), ('믿고', 'Verb'), ('구매', 'Noun'), ('하세용', 'Verb'), ('~^^', 'Punctuation'), ('옷', 'Noun'), ('핏', 'Noun'), ('은', 'Josa'), ('나쁘지', 'Adjective'), ('않습니다', 'Verb'), ('.', 'Punctuation'), ('살', 'Noun'), ('에', 'Josa'), ('닿는', 'Verb'), ('안감', 'Noun'), ('이', 'Josa'), ('거슬릴', 'Verb'), ('정도', 'Noun'), ('로', 'Josa'), ('거칠어서', 'Verb'), ('별로', 'Noun'), ('네', 'Suffix'), ('요', 'Josa'), ('.', 'Punctuation'), ('2', 'Number'), ('장', 'Noun'), ('에', 'Josa'), ('15000원', 'Number'), ('정도로', 'Foreign'), ('가격', 'Noun'), ('은', 'Josa'), ('나쁘진', 'Adjective'), ('않지만', 'Verb'), ('구', 'Modifier'), ('매', 'Modifier'), ('추천', 'Noun'), ('은', 'Josa'), ('못', 'VerbPrefix'), ('할것', 'Verb'), ('같습니다', 'Adjective'), ('.', 'Punctuation'), ('재구매', 'Verb'), ('의사', 'Noun'), ('는', 'Josa'), ('없습니다', 'Adjective'), ('사이즈', 'Noun'), ('좀', 'Noun'), ('많이', 'Adverb'), ('크게', 'Noun'), ('나왔다고', 'Verb'), ('해서', 'Verb'), ('하나', 'Noun'), ('낮췄는데', 'Verb'), (',', 'Punctuation'), ('타이', 'Noun'), ('트', 'Noun'), ('하', 'Suffix'), ('게', 'Josa'), ('입는', 'Verb'), ('사람', 'Noun'), ('은', 'Josa'), ('두', 'Determiner'), ('사이즈', 'Noun'), ('낮춰도', 'Verb'), ('될', 'Verb'), ('듯', 'Noun'), ('해', 'Noun'), ('요', 'Josa'), ('.', 'Punctuation'), ('옆', 'Noun'), ('솔기', 'Noun'), ('없는', 'Adjective'), ('튜브', 'Noun'), ('형', 'Suffix'), ('이어서', 'Josa'), ('걸리는게', 'Verb'), ('없네요', 'Adjective'), ('.', 'Punctuation'), ('바느질', 'Noun'), ('성', 'Modifier'), ('글', 'Noun'), ('지만', 'Josa'), ('편히', 'Adjective'), ('입는', 'Verb'), ('옷', 'Noun'), ('으로', 'Josa'), ('딱', 'Adverb'), ('좋겠어요', 'Adjective'), ('.', 'Punctuation'), ('여러분', 'Noun'), ('이', 'Josa'), ('아시', 'Noun'), ('는', 'Josa'), ('미국', 'Noun'), ('사이즈', 'Noun'), ('아니에요', 'Adjective'), ('.', 'Punctuation'), ('한국', 'Noun'), ('사이즈', 'Noun'), ('맞게', 'Verb'), ('주문', 'Noun'), ('하세', 'Verb'), ('요전', 'Noun'), ('원래', 'Noun'), ('라지', 'Noun'), ('입는데', 'Verb'), ('엠', 'Noun'), ('주문', 'Noun'), ('했다가', 'Verb'), ('조카', 'Noun'), ('한테', 'Josa'), ('선물', 'Noun'), ('해주', 'Noun'), ('개', 'Suffix'), ('생겼습니다', 'Verb'), ('.', 'Punctuation'), ('무조', 'Noun'), ('껀', 'Noun'), ('한국', 'Noun'), ('에서', 'Josa'), ('입으시는', 'Verb'), ('정사', 'Noun'), ('이즈', 'Noun'), ('가시거나', 'Verb'), ('1', 'Number'), ('업', 'Noun'), ('하세요', 'Verb'), ('오렌지', 'Noun'), ('색상', 'Noun'), ('이', 'Josa'), ('강렬하네요', 'Adjective'), ('밝은', 'Verb'), ('색상', 'Noun'), ('옷', 'Noun'), ('이라', 'Josa'), ('마음', 'Noun'), ('에', 'Josa'), ('들고', 'Verb'), ('해외', 'Noun'), ('직구', 'Noun'), ('지만', 'Josa'), ('배송', 'Noun'), ('또한', 'Noun'), ('그리', 'Verb'), ('오래', 'Adverb'), ('걸리지', 'Verb'), ('않아', 'Verb'), ('만족합니다', 'Adjective'), ('저렴하고', 'Adjective'), ('.', 'Punctuation'), ('가성', 'Noun'), ('비', 'Noun'), ('괜찮은', 'Adjective'), ('듯', 'Noun'), ('합니다', 'Verb'), ('.', 'Punctuation'), ('근데', 'Adverb'), ('어깨', 'Noun'), ('실밥', 'Noun'), ('이', 'Josa'), ('엉', 'Exclamation'), ('성하게', 'Adjective'), ('마감', 'Noun'), ('되어서', 'Verb'), ('원래', 'Noun'), ('이런', 'Modifier'), ('건', 'Noun'), ('지', 'Josa'), ('하자가있는', 'Verb'), ('건지', 'Verb'), ('모르겠지만', 'Verb'), ('내', 'Determiner'), ('구성', 'Noun'), ('안좋아', 'Adjective'), ('보여요', 'Verb'), ('세탁', 'Noun'), ('하면', 'Verb'), ('찢어질것', 'Verb'), ('같아', 'Adjective'), ('불안해요', 'Adjective'), ('중', 'Noun'), ('3', 'Number'), ('아이', 'Noun'), ('100', 'Number'), ('사이즈', 'Noun'), ('입는데', 'Verb'), ('미디움', 'Noun'), ('도', 'Josa'), ('크네요', 'Verb'), ('아래', 'Noun'), ('로', 'Josa'), ('길고', 'Adjective'), ('폭', 'Noun'), ('은', 'Josa'), ('좀', 'Noun'), ('좁은', 'Adjective'), ('편', 'Noun'), ('후기', 'Noun'), ('대로', 'Josa'), ('손목', 'Noun'), ('시', 'Modifier'), ('보리', 'Noun'), ('있고', 'Adjective'), ('색상', 'Noun'), ('은', 'Josa'), ('적당히', 'Adjective'), ('짙어요', 'Adjective'), ('옷', 'Noun'), ('막', 'Noun'), ('입는', 'Verb'), ('편이', 'Noun'), ('라', 'Josa'), ('건조기', 'Noun'), ('돌리면', 'Verb'), ('좀', 'Noun'), ('줄겠죠', 'Verb'), ('두께', 'Noun'), ('감은', 'Verb'), ('딱', 'Adverb'), ('집', 'Noun'), ('에서', 'Josa'), ('입기', 'Verb'), ('좋을듯', 'Adjective'), ('해', 'Noun'), ('요', 'Josa'), ('큼직한', 'Adjective'), ('사이즈', 'Noun'), ('가', 'Josa'), ('굿집', 'Noun'), ('에서', 'Josa'), ('입으루', 'Noun'), ('잠옷', 'Noun'), ('용도', 'Noun'), ('로', 'Josa'), ('구입', 'Noun'), ('했는데', 'Verb'), ('저렴한', 'Adjective'), ('가격', 'Noun'), ('에', 'Josa'), ('한국', 'Noun'), ('사이즈', 'Noun'), ('4', 'Number'), ('XL', 'Alpha'), ('보다', 'Verb'), ('큰', 'Verb'), ('사이즈', 'Noun'), ('로', 'Josa'), ('정말', 'Noun'), ('편안함거기에', 'Adjective'), ('저렴한', 'Adjective'), ('가격', 'Noun'), ('에', 'Josa'), ('두', 'Determiner'), ('벌', 'Noun'), ('잠옷', 'Noun'), ('필요하면', 'Adjective'), ('달리세요', 'Verb'), ('배송', 'Noun'), ('은', 'Josa'), ('12일', 'Number'), ('걸렸고', 'Verb'), ('사이즈', 'Noun'), ('는', 'Josa'), ('우리나라', 'Noun'), ('2', 'Number'), ('XL', 'Alpha'), ('사이즈', 'Noun'), ('네', 'Suffix'), ('요', 'Josa'), ('.', 'Punctuation'), ('메이드', 'Noun'), ('인', 'Josa'), ('니카라구아', 'Noun'), ('옷', 'Noun'), ('은', 'Josa'), ('처음', 'Noun'), ('입어봅니다', 'Verb'), ('.', 'Punctuation'), ('등산', 'Noun'), ('이나', 'Josa'), ('밤', 'Noun'), ('에', 'Josa'), ('편하게', 'Adjective'), ('입기에', 'Verb'), ('싸고', 'Verb'), ('좋습니다', 'Adjective'), ('.', 'Punctuation'), ('집', 'Noun'), ('에서', 'Josa'), ('입는', 'Verb'), ('용', 'Noun'), ('으로', 'Josa'), ('구매', 'Noun'), ('했는데', 'Verb'), ('편하고', 'Adjective'), ('좋아요', 'Adjective'), ('마감', 'Noun'), ('이', 'Josa'), ('아쉬운', 'Adjective'), ('부분', 'Noun'), ('도', 'Josa'), ('있지만', 'Adjective'), ('가격', 'Noun'), ('생각', 'Noun'), ('하', 'Suffix'), ('면', 'Josa'), ('나름', 'Noun'), ('?', 'Punctuation'), ('국내', 'Noun'), ('사이즈', 'Noun'), ('보다는', 'Josa'), ('1', 'Number'), ('사이즈', 'Noun'), ('무조건', 'Noun'), ('다운', 'Noun'), ('하시는거', 'Verb'), ('추천', 'Noun'), ('드립니다', 'Verb'), ('반', 'Modifier'), ('팔', 'Modifier'), ('티셔츠', 'Noun'), ('길단', 'Verb'), ('거', 'Noun'), ('잘', 'VerbPrefix'), ('입다가', 'Verb'), ('긴', 'Verb'), ('팔도', 'Noun'), ('가을', 'Noun'), ('이', 'Josa'), ('오고있기에', 'Verb'), ('주문', 'Noun'), ('했어요', 'Verb'), ('팔목', 'Noun'), ('시', 'Modifier'), ('보리', 'Noun'), ('잘', 'VerbPrefix'), ('잡아줘서', 'Verb'), ('안', 'VerbPrefix'), ('흘러내리고', 'Verb'), ('좋아요', 'Adjective'), ('긴', 'Verb'), ('팔', 'Modifier'), ('티', 'Noun'), ('필요하', 'Adjective'), ('신분', 'Noun'), ('이', 'Determiner'), ('거', 'Noun'), ('사세요', 'Verb'), ('1', 'Number'), ('.', 'Punctuation'), ('얇아요', 'Adjective'), ('2', 'Number'), ('.', 'Punctuation'), ('폴리', 'Noun'), ('면', 'Noun'), ('반', 'Modifier'), ('반', 'Noun'), ('섞임', 'Verb'), ('3', 'Number'), ('.', 'Punctuation'), ('요즘', 'Noun'), ('유행', 'Noun'), ('하는', 'Verb'), ('넉넉한', 'Adjective'), ('핏', 'Noun'), ('소매', 'Noun'), ('에', 'Josa'), ('시', 'Modifier'), ('보리', 'Noun'), ('들어가서', 'Verb'), ('주름', 'Noun'), ('잘', 'VerbPrefix'), ('짐', 'Verb'), ('팔이', 'Noun'), ('길어서', 'Verb'), ('국산', 'Noun'), ('제품', 'Noun'), ('은', 'Josa'), ('진짜', 'Noun'), ('어지간하면', 'Adjective'), ('안', 'VerbPrefix'), ('맞는데', 'Verb'), ('얘', 'Noun'), ('는', 'Josa'), ('XL', 'Alpha'), ('로', 'Noun'), ('구입', 'Noun'), ('하니까', 'Verb'), ('팔이', 'Noun'), ('딱', 'Adverb'), ('맞네', 'Verb'), ('요팔', 'Noun'), ('맞어서', 'Verb'), ('기쁨', 'Noun'), ('살쪄서', 'Adjective'), ('전체', 'Noun'), ('적', 'Suffix'), ('으로', 'Josa'), ('다', 'Adverb'), ('맞는건', 'Verb'), ('슬픔', 'Noun'), ('옷', 'Noun'), ('재질', 'Noun'), ('도', 'Josa'), ('좋고', 'Adjective'), ('다', 'Adverb'), ('좋은데', 'Adjective'), ('생각', 'Noun'), ('보다', 'Josa'), ('엄청', 'Adverb'), ('크네요', 'Verb'), ('크게', 'Noun'), ('입어도', 'Verb'), ('정사', 'Noun'), ('이즈', 'Noun'), ('가', 'Josa'), ('맞는거', 'Verb'), ('같슴니', 'Noun'), ('다', 'Josa'), ('이상', 'Noun'), ('없이', 'Adverb'), ('잘', 'Verb'), ('받았네요', 'Verb'), ('약간', 'Noun'), ('까', 'Verb'), ('끌하지만', 'Verb'), ('딱', 'Adverb'), ('맞고', 'Verb'), ('좋네요', 'Adjective'), ('100', 'Number'), ('입는데', 'Verb'), ('M', 'Alpha'), ('사이즈', 'Noun'), ('가', 'Josa'), ('맞네요', 'Verb'), ('무난', 'Noun'), ('하고', 'Josa'), ('좋은', 'Adjective'), ('기', 'Modifier'), ('본', 'Modifier'), ('티', 'Noun'), ('에요', 'Josa'), ('.', 'Punctuation'), ('외국', 'Noun'), ('거', 'Noun'), ('라', 'Josa'), ('팔이', 'Noun'), ('길게', 'Adjective'), ('나올줄', 'Verb'), ('알았는데', 'Verb'), ('그렇게', 'Adverb'), ('길진', 'Adjective'), ('않네요', 'Verb'), ('.', 'Punctuation'), ('185-190', 'Number'), ('cm', 'Alpha'), ('팔', 'Noun'), ('긴', 'Verb'), ('남성', 'Noun'), ('기준', 'Noun'), ('으로', 'Josa'), ('팔', 'Modifier'), ('길이', 'Noun'), ('좀', 'Noun'), ('짧습니다', 'Adjective'), ('아주', 'Noun'), ('좋아요', 'Adjective'), ('.', 'Punctuation'), ('두텁고', 'Adjective'), ('마무리', 'Noun'), ('도', 'Josa'), ('좋아요', 'Adjective'), ('.', 'Punctuation'), ('빨아도', 'Verb'), ('이염', 'Noun'), ('도', 'Josa'), ('없어요', 'Adjective'), ('.', 'Punctuation'), ('180', 'Number'), ('/', 'Punctuation'), ('80', 'Number'), ('kg', 'Alpha'), ('L', 'Alpha'), ('사이즈', 'Noun'), ('좋아요', 'Adjective'), ('.', 'Punctuation'), ('두께', 'Noun'), ('도', 'Josa'), ('도톰한게', 'Adjective'), ('면도', 'Noun'), ('좋고', 'Adjective'), ('그냥', 'Noun'), ('쭉티', 'Noun'), ('로', 'Josa'), ('이렇게', 'Adverb'), ('저렇게', 'Adverb'), ('막', 'Noun'), ('입기에', 'Verb'), ('최적', 'Noun'), ('이네', 'Josa'), ('여', 'Noun'), ('XL', 'Alpha'), ('기준', 'Noun'), ('국내', 'Noun'), ('싸이', 'Noun'), ('즈', 'Modifier'), ('넉넉한', 'Adjective'), ('110', 'Number'), ('입니다', 'Adjective'), ('남편', 'Noun'), ('이', 'Josa'), ('여기', 'Noun'), ('옷', 'Noun'), ('좋아해서', 'Adjective'), ('잘', 'Verb'), ('사', 'Noun'), ('입는데', 'Verb'), ('몇번', 'Noun'), ('세탁', 'Noun'), ('하니', 'Verb'), ('면', 'Noun'), ('필링', 'Noun'), ('이', 'Josa'), ('나네요', 'Verb'), ('.', 'Punctuation'), ('그래도', 'Adverb'), ('좋다고', 'Adjective'), ('더', 'Noun'), ('사라', 'Noun'), ('고', 'Josa'), ('하네요', 'Verb'), ('~', 'Punctuation'), ('염색', 'Noun'), ('이', 'Josa'), ('잘', 'Verb'), ('된것', 'Verb'), ('같다', 'Adjective'), ('색깔', 'Noun'), ('이', 'Josa'), ('선명하게', 'Adjective'), ('잘나온것', 'Verb'), ('같다', 'Adjective'), ('구김', 'Noun'), ('이', 'Josa'), ('많은', 'Adjective'), ('소재', 'Noun'), ('가', 'Josa'), ('단점', 'Noun'), ('인', 'Josa'), ('것', 'Noun'), ('같습니다', 'Adjective'), ('사이즈', 'Noun'), ('가', 'Josa'), ('넉넉하고', 'Adjective'), ('옷감', 'Noun'), ('도', 'Josa'), ('괜찮아서', 'Adjective'), ('또', 'Noun'), ('주문', 'Noun'), ('하게', 'Verb'), ('되었어요', 'Verb'), ('가성', 'Noun'), ('비', 'Noun'), ('최고', 'Noun'), ('네', 'Suffix'), ('요', 'Josa'), ('.', 'Punctuation'), ('저렴한', 'Adjective'), ('가격', 'Noun'), ('에', 'Josa'), ('사이즈', 'Noun'), ('도', 'Josa'), ('딱이고', 'Adjective'), ('부담', 'Noun'), ('없이', 'Adverb'), ('입기', 'Verb'), ('딱이네요', 'Adjective'), ('.', 'Punctuation'), ('좋아요', 'Adjective'), ('항상', 'Noun'), ('구매', 'Noun'), ('하는', 'Verb'), ('길단', 'Verb'), ('티셔츠', 'Noun'), ('..', 'Punctuation'), ('몸무게', 'Noun'), ('110', 'Number'), ('킬로', 'Noun'), ('이상', 'Noun'), ('나가면', 'Verb'), ('2', 'Number'), ('XL', 'Alpha'), ('사고', 'Noun'), ('아님', 'Adjective'), ('XL', 'Alpha'), ('사라', 'Noun'), ('.', 'Punctuation'), ('따뜻하고', 'Adjective'), ('소매', 'Noun'), ('가', 'Josa'), ('？', 'Foreign'), ('자가', 'Noun'), ('아닌게', 'Adjective'), ('좋아요', 'Adjective'), ('고무', 'Noun'), ('밴딩', 'Noun'), ('이라', 'Verb'), ('해야', 'Verb'), ('하나', 'Noun'), ('여하튼', 'Noun'), ('조임이', 'Verb'), ('있는', 'Adjective'), ('제품', 'Noun'), ('아주', 'Noun'), ('좋네요', 'Adjective'), ('저렴하게', 'Adjective'), ('잘', 'Verb'), ('구매', 'Noun'), ('했습니다', 'Verb'), ('잘쓰겠습니다', 'Verb'), ('가볍게', 'Adjective'), ('입기', 'Verb'), ('좋은', 'Adjective'), ('두께', 'Noun'), ('라', 'Josa'), ('옷', 'Noun'), ('안', 'Noun'), ('에', 'Josa'), ('입어도', 'Verb'), ('겉옷', 'Noun'), ('으로도', 'Josa'), ('괜찮은', 'Adjective'), ('것', 'Noun'), ('같아요', 'Adjective'), ('.', 'Punctuation'), ('싼가겯', 'Noun'), ('에', 'Josa'), ('많은', 'Adjective'), ('덜', 'Noun'), ('바라지', 'Noun'), ('않았지만', 'Verb'), ('....', 'Punctuation'), ('가격', 'Noun'), ('만큼', 'Josa'), ('재질이네요', 'Verb'), ('.', 'Punctuation'), ('싸고', 'Verb'), ('좋고', 'Adjective'), ('편안하게', 'Adjective'), ('입고', 'Verb'), ('사이즈', 'Noun'), ('잘맞네요', 'Adjective'), ('잘', 'Verb'), ('때', 'Noun'), ('입어보니', 'Verb'), ('편하고', 'Adjective'), ('가성', 'Noun'), ('비', 'Noun'), ('좋습니다', 'Adjective'), ('.', 'Punctuation'), ('그래서', 'Adverb'), ('한', 'Verb'), ('세트', 'Noun'), ('더', 'Noun'), ('구매', 'Noun'), ('했습니다', 'Verb'), ('.', 'Punctuation'), ('잘', 'Verb'), ('때', 'Noun'), ('입어보니', 'Verb'), ('편하고', 'Adjective'), ('가성', 'Noun'), ('비', 'Noun'), ('좋습니다', 'Adjective'), ('.', 'Punctuation'), ('그래서', 'Adverb'), ('한', 'Verb'), ('세트', 'Noun'), ('더', 'Noun'), ('구매', 'Noun'), ('했습니다', 'Verb'), ('포장', 'Noun'), ('퀄리티', 'Noun'), ('둘다', 'Verb'), ('아주', 'Noun'), ('좋습니다', 'Adjective'), ('추천', 'Noun'), ('해요', 'Verb'), ('.', 'Punctuation'), ('물', 'Noun'), ('빠짐도', 'Verb'), ('없어', 'Adjective'), ('보입니다', 'Verb'), ('ㅊㅊㅊ', 'KoreanParticle'), ('포장', 'Noun'), ('퀄리티', 'Noun'), ('둘다', 'Verb'), ('아주', 'Noun'), ('좋습니다', 'Adjective'), ('추천', 'Noun'), ('해요', 'Verb'), ('.', 'Punctuation'), ('물', 'Noun'), ('빠짐도', 'Verb'), ('없어', 'Adjective'), ('보입니다', 'Verb'), ('ㅊㅊㅊ', 'KoreanParticle'), ('포장', 'Noun'), ('퀄리티', 'Noun'), ('둘다', 'Verb'), ('아주', 'Noun'), ('좋습니다', 'Adjective'), ('추천', 'Noun'), ('해요', 'Verb'), ('.', 'Punctuation'), ('물', 'Noun'), ('빠짐도', 'Verb'), ('없어', 'Adjective'), ('보입니다', 'Verb'), ('ㅊㅊㅊ', 'KoreanParticle'), ('한국', 'Noun'), ('L', 'Alpha'), ('정도', 'Noun'), ('사이즈', 'Noun'), ('에요', 'Josa'), ('다만', 'Noun'), ('색', 'Noun'), ('이', 'Josa'), ('일반', 'Noun'), ('적', 'Suffix'), ('인', 'Josa'), ('회색', 'Noun'), ('이', 'Josa'), ('아니라', 'Adjective'), ('녹색', 'Noun'), ('빛', 'Noun'), ('아', 'Josa'), ('나', 'Noun'), ('는', 'Josa'), ('회색', 'Noun'), ('입니다', 'Adjective'), ('비치지도', 'Verb'), ('않고', 'Verb'), ('두께', 'Noun'), ('감', 'Noun'), ('이나', 'Josa'), ('원', 'Noun'), ('다', 'Adverb'), ('전부', 'Noun'), ('괜찮습니다', 'Adjective'), ('운동', 'Noun'), ('할', 'Verb'), ('때', 'Noun'), ('입으니', 'Verb'), ('딱', 'Adverb'), ('좋', 'Adjective'), ('네', 'Determiner'), ('여', 'Noun'), ('좋아요', 'Adjective'), ('좋아요', 'Adjective'), ('ㅡㅡㅡ', 'KoreanParticle'), ('좋아요', 'Adjective'), ('팔이', 'Noun'), ('길어요', 'Verb'), ('추천', 'Noun'), ('코드', 'Noun'), ('공유', 'Noun'), ('해주세요', 'Verb'), ('ZMG', 'Alpha'), ('6985', 'Number'), ('입니다', 'Adjective'), ('사이즈', 'Noun'), ('넉넉하고', 'Adjective'), ('입기', 'Verb'), ('편한', 'Adjective'), ('재질', 'Noun'), ('이에요', 'Josa'), ('가성', 'Noun'), ('비', 'Noun'), ('정말', 'Noun'), ('좋은', 'Adjective'), ('제품', 'Noun'), ('입니다', 'Adjective'), ('.', 'Punctuation'), ('사이즈', 'Noun'), ('가', 'Josa'), ('많이', 'Modifier'), ('커서', 'Noun'), ('장단점', 'Noun'), ('이', 'Josa'), ('있긴', 'Adjective'), ('해', 'Noun'), ('요', 'Josa'), ('.', 'Punctuation'), ('편안하게', 'Adjective'), ('입을수', 'Adjective'), ('있겠네요', 'Adjective'), ('사이즈', 'Noun'), ('맞네요', 'Verb'), ('색상', 'Noun'), ('도', 'Josa'), ('좋고', 'Adjective'), ('얇아서', 'Adjective'), ('편하게', 'Adjective'), ('입기', 'Verb'), ('좋습니다', 'Adjective'), ('~~~', 'Punctuation'), ('감사합니다', 'Verb'), ('~~~^^', 'Punctuation'), ('딜떠', 'Noun'), ('서', 'Josa'), ('싸게', 'Verb'), ('사긴', 'Verb'), ('했지만', 'Verb'), ('얇고', 'Adjective'), ('재질', 'Noun'), ('이', 'Josa'), ('좋지는', 'Adjective'), ('않아요', 'Verb'), ('사이즈', 'Noun'), ('가', 'Josa'), ('딱', 'Adverb'), ('맞아요', 'Verb'), ('.', 'Punctuation'), ('3', 'Number'), ('xl', 'Alpha'), ('건조기', 'Noun'), ('돌려서', 'Verb'), ('오래', 'Adverb'), ('는', 'Verb'), ('못', 'VerbPrefix'), ('입어요', 'Verb'), ('.', 'Punctuation'), ('잘', 'Verb'), ('받았습니다', 'Verb'), ('.', 'Punctuation'), ('고맙습니다', 'Adjective'), ('.', 'Punctuation'), ('배송', 'Noun'), ('빠르고', 'Adjective'), ('상품', 'Noun'), ('이', 'Josa'), ('좋습니다', 'Adjective'), ('.', 'Punctuation'), ('잘맞아요', 'Adjective'), ('아주', 'Noun'), ('좋네요', 'Adjective'), ('저렴하게', 'Adjective'), ('잘', 'Verb'), ('구매', 'Noun'), ('했습니다', 'Verb'), ('잘', 'VerbPrefix'), ('입겠습니다', 'Verb'), ('저렴한', 'Adjective'), ('가격', 'Noun'), ('에', 'Josa'), ('잘', 'Verb'), ('구입', 'Noun'), ('했습니다', 'Verb'), ('.', 'Punctuation'), ('품질', 'Noun'), ('이', 'Josa'), ('아주', 'Noun'), ('좋아요', 'Adjective'), ('평소', 'Noun'), ('입는', 'Verb'), ('사이즈', 'Noun'), ('보다', 'Josa'), ('한두', 'Modifier'), ('치수', 'Noun'), ('작게', 'Adjective'), ('주문', 'Noun'), ('하시길', 'Verb'), ('권장', 'Noun'), ('합니다', 'Verb'), ('한국', 'Noun'), ('105', 'Number'), ('사이즈', 'Noun'), ('입는데', 'Verb'), ('L', 'Alpha'), ('사이즈', 'Noun'), ('로', 'Josa'), ('주문', 'Noun'), ('했는데', 'Verb'), ('잘', 'Verb'), ('맞네요', 'Verb'), ('.', 'Punctuation'), ('품은', 'Verb'), ('XL', 'Alpha'), ('사이즈', 'Noun'), ('정도', 'Noun'), ('됩니다만', 'Verb'), ('길이', 'Noun'), ('랑', 'Josa'), ('팔이', 'Noun'), ('좀', 'Noun'), ('기네', 'Noun'), ('요', 'Josa'), ('집', 'Noun'), ('에서', 'Josa'), ('부담', 'Noun'), ('없이', 'Adverb'), ('입기', 'Verb'), ('좋아요', 'Adjective'), ('사이즈', 'Noun'), ('만족합니다', 'Adjective'), ('목', 'Noun'), ('이', 'Josa'), ('좁아서', 'Adjective'), ('좀', 'Noun'), ('답답하긴하지만', 'Adjective'), ('가격', 'Noun'), ('대비', 'Noun'), ('좋아요', 'Adjective'), ('시', 'Modifier'), ('보리', 'Noun'), ('도', 'Josa'), ('짱짱하고', 'Adjective'), ('좋습니다', 'Adjective'), ('단', 'Modifier'), ('품', 'Noun'), ('이', 'Determiner'), ('너', 'Noun'), ('다', 'Adverb'), ('괜찮네요', 'Adjective'), ('!!', 'Punctuation'), ('항상', 'Noun'), ('입는', 'Verb'), ('길단', 'Verb'), ('티셔츠', 'Noun'), ('이번', 'Noun'), ('에는', 'Josa'), ('긴', 'Verb'), ('팔로', 'Noun'), ('굿', 'Noun'), ('이에요', 'Josa'), ('.', 'Punctuation'), ('말', 'Noun'), ('이', 'Josa'), ('필요', 'Noun'), ('？', 'Foreign'), ('고가', 'Noun'), ('성비', 'Noun'), ('좋은', 'Adjective'), ('제품', 'Noun'), ('입니다', 'Adjective'), ('.', 'Punctuation'), ('사이즈', 'Noun'), ('도', 'Josa'), ('맞고', 'Verb'), ('가격', 'Noun'), ('도', 'Josa'), ('질도', 'Noun'), ('좋습니다', 'Adjective'), ('.', 'Punctuation'), ('사이즈', 'Noun'), ('도', 'Josa'), ('넉넉하고', 'Adjective'), ('재질', 'Noun'), ('도', 'Josa'), ('좋습니다', 'Adjective'), ('.', 'Punctuation'), ('어디', 'Noun'), ('서도', 'Noun'), ('구', 'Noun'), ('할', 'Verb'), ('수', 'Noun'), ('없는', 'Adjective'), ('사이즈', 'Noun'), ('와', 'Josa'), ('가격', 'Noun'), ('가운데', 'Noun'), ('하얀게', 'Adjective'), ('뭐', 'Noun'), ('냐', 'Josa'), ('고요', 'Noun'), ('?', 'Punctuation'), ('에어팟', 'Noun'), ('케이스', 'Noun'), ('입니다', 'Adjective'), ('ㅋㅋㅋㅋㅋㅋㅋㅋㅋ', 'KoreanParticle'), ('아', 'Exclamation'), ('...', 'Punctuation'), ('이', 'Determiner'), ('거', 'Noun'), ('크기', 'Noun'), ('선', 'Noun'), ('넘는데', 'Verb'), ('...', 'Punctuation'), ('ㅋㅋㅋㅋ', 'KoreanParticle'), ('한국', 'Noun'), ('에서', 'Josa'), ('파는', 'Verb'), ('사이즈', 'Noun'), ('보다', 'Josa'), ('두', 'Determiner'), ('사이즈', 'Noun'), ('는', 'Josa'), ('크네요', 'Verb'), ('내', 'Noun'), ('가', 'Josa'), ('아무리', 'Adverb'), ('뚱뚱해도', 'Adjective'), ('이', 'Determiner'), ('정도', 'Noun'), ('까진', 'Josa'), ('아닌데', 'Adjective'), ('....', 'Punctuation'), ('미국', 'Noun'), ('사이즈', 'Noun'), ('선', 'Noun'), ('넘네요', 'Verb'), ('한국', 'Noun'), ('에서', 'Josa'), ('입는거에', 'Verb'), ('두', 'Determiner'), ('사이즈', 'Noun'), ('는', 'Josa'), ('줄', 'Noun'), ('여서', 'Josa'), ('사세요', 'Verb'), ('ㅋㅋㅋㅋㅋㅋㅋ', 'KoreanParticle'), ('잘', 'Verb'), ('받았습니다', 'Verb'), ('.', 'Punctuation'), ('이번', 'Noun'), ('에', 'Josa'), ('11', 'Number'), ('번가', 'Noun'), ('에서', 'Josa'), ('아마존', 'Noun'), ('과', 'Josa'), ('연', 'Modifier'), ('계', 'Noun'), ('되어', 'Verb'), ('처음', 'Noun'), ('으로', 'Josa'), ('미국', 'Noun'), ('직구', 'Noun'), ('를', 'Josa'), ('하게', 'Verb'), ('되었네요', 'Verb'), ('.', 'Punctuation'), ('봄가을에', 'Verb'), ('입기', 'Verb'), ('괜찮고', 'Adjective'), ('가성', 'Noun'), ('비', 'Noun'), ('가', 'Josa'), ('좋아', 'Adjective'), ('보였으나', 'Verb'), ('우리나라', 'Noun'), ('와', 'Josa'), ('다른', 'Noun'), ('사이즈', 'Noun'), ('가', 'Josa'), ('걱정', 'Noun'), ('되었는데', 'Verb'), ('안', 'VerbPrefix'), ('맞으면', 'Verb'), ('주변', 'Noun'), ('에', 'Josa'), ('준다는', 'Verb'), ('생각', 'Noun'), ('으로', 'Josa'), ('구매', 'Noun'), ('를', 'Josa'), ('했네요', 'Verb'), ('.', 'Punctuation'), ('일단', 'Noun'), ('색상', 'Noun'), ('은', 'Josa'), ('화면', 'Noun'), ('에서', 'Josa'), ('본', 'Verb'), ('것', 'Noun'), ('과', 'Josa'), ('비슷해서', 'Adjective'), ('만족하고', 'Adjective'), ('사이즈', 'Noun'), ('는', 'Josa'), ('어깨', 'Noun'), ('는', 'Josa'), ('맞는데', 'Verb'), ('아래', 'Noun'), ('로', 'Josa'), ('내려오면서', 'Verb'), ('헐렁한', 'Adjective'), ('스타일', 'Noun'), ('의', 'Josa'), ('티셔츠', 'Noun'), ('라', 'Josa'), ('편하게', 'Adjective'), ('입기', 'Verb'), ('좋을', 'Adjective'), ('거', 'Noun'), ('같네요', 'Adjective'), ('.', 'Punctuation'), ('두께', 'Noun'), ('는', 'Josa'), ('춘추', 'Noun'), ('용', 'Noun'), ('으로', 'Josa'), ('얇은', 'Adjective'), ('편이', 'Noun'), ('나', 'Josa'), ('재질', 'Noun'), ('이나', 'Josa'), ('마감', 'Noun'), ('은', 'Josa'), ('가격', 'Noun'), ('대로', 'Josa'), ('좋지', 'Adjective'), ('않은', 'Verb'), ('듯', 'Noun'), ('해서', 'Verb'), ('올가을', 'Noun'), ('잘', 'Verb'), ('입고', 'Verb'), ('다니기', 'Verb'), ('딱일', 'Adjective'), ('듯', 'Noun'), ('하네요', 'Verb'), ('.', 'Punctuation'), ('잘', 'Verb'), ('받았습니다', 'Verb'), ('.', 'Punctuation'), ('이번', 'Noun'), ('에', 'Josa'), ('11', 'Number'), ('번가', 'Noun'), ('에서', 'Josa'), ('아마존', 'Noun'), ('과', 'Josa'), ('연', 'Modifier'), ('계', 'Noun'), ('되어', 'Verb'), ('처음', 'Noun'), ('으로', 'Josa'), ('미국', 'Noun'), ('직구', 'Noun'), ('를', 'Josa'), ('하게', 'Verb'), ('되었네요', 'Verb'), ('.', 'Punctuation'), ('봄가을에', 'Verb'), ('입기', 'Verb'), ('괜찮고', 'Adjective'), ('가성', 'Noun'), ('비', 'Noun'), ('가', 'Josa'), ('좋아', 'Adjective'), ('보였으나', 'Verb'), ('우리나라', 'Noun'), ('와', 'Josa'), ('다른', 'Noun'), ('사이즈', 'Noun'), ('가', 'Josa'), ('걱정', 'Noun'), ('되었는데', 'Verb'), ('안', 'VerbPrefix'), ('맞으면', 'Verb'), ('주변', 'Noun'), ('에', 'Josa'), ('준다는', 'Verb'), ('생각', 'Noun'), ('으로', 'Josa'), ('구매', 'Noun'), ('를', 'Josa'), ('했네요', 'Verb'), ('.', 'Punctuation'), ('일단', 'Noun'), ('색상', 'Noun'), ('은', 'Josa'), ('화면', 'Noun'), ('에서', 'Josa'), ('본', 'Verb'), ('것', 'Noun'), ('과', 'Josa'), ('비슷해서', 'Adjective'), ('만족하고', 'Adjective'), ('사이즈', 'Noun'), ('는', 'Josa'), ('어깨', 'Noun'), ('는', 'Josa'), ('맞는데', 'Verb'), ('아래', 'Noun'), ('로', 'Josa'), ('내려오면서', 'Verb'), ('헐렁한', 'Adjective'), ('스타일', 'Noun'), ('의', 'Josa'), ('티셔츠', 'Noun'), ('라', 'Josa'), ('편하게', 'Adjective'), ('입기', 'Verb'), ('좋을', 'Adjective'), ('거', 'Noun'), ('같네요', 'Adjective'), ('.', 'Punctuation'), ('두께', 'Noun'), ('는', 'Josa'), ('춘추', 'Noun'), ('용', 'Noun'), ('으로', 'Josa'), ('얇은', 'Adjective'), ('편이', 'Noun'), ('나', 'Josa'), ('재질', 'Noun'), ('이나', 'Josa'), ('마감', 'Noun'), ('은', 'Josa'), ('가격', 'Noun'), ('대로', 'Josa'), ('좋지', 'Adjective'), ('않은', 'Verb'), ('듯', 'Noun'), ('해서', 'Verb'), ('올가을', 'Noun'), ('잘', 'Verb'), ('입고', 'Verb'), ('다니기', 'Verb'), ('딱일', 'Adjective'), ('듯', 'Noun'), ('하네요', 'Verb'), ('.', 'Punctuation'), ('주문', 'Noun'), ('사이즈', 'Noun'), (':', 'Punctuation'), ('길단', 'Verb'), ('3', 'Number'), ('XL', 'Alpha'), ('저', 'Noun'), ('의', 'Josa'), ('신체', 'Noun'), ('사이즈', 'Noun'), ('는', 'Josa'), ('키', 'Noun'), (':', 'Punctuation'), ('184', 'Number'), ('cm', 'Alpha'), ('몸무게', 'Noun'), (':', 'Punctuation'), ('125', 'Number'), ('kg', 'Alpha'), ('가슴', 'Noun'), ('둘레', 'Noun'), (':', 'Punctuation'), ('136', 'Number'), ('cm', 'Alpha'), ('허리', 'Noun'), ('사이즈', 'Noun'), (':', 'Punctuation'), ('38', 'Number'), ('인치', 'Noun'), ('봄', 'Noun'), ('가을', 'Noun'), ('용', 'Noun'), ('으로', 'Josa'), ('입기', 'Verb'), ('좋을거', 'Adjective'), ('같습니다', 'Adjective'), ('.', 'Punctuation'), ('가슴', 'Noun'), ('사이즈', 'Noun'), ('그대로', 'Noun'), ('아래', 'Noun'), ('까지', 'Josa'), ('내려와서', 'Verb'), ('핏', 'Noun'), ('이', 'Josa'), ('..', 'Punctuation'), ('다음', 'Noun'), ('에는', 'Josa'), ('XL', 'Alpha'), ('로', 'Noun'), ('주문', 'Noun'), ('해야', 'Verb'), ('할거', 'Verb'), ('같아요', 'Adjective'), ('.', 'Punctuation'), ('배송', 'Noun'), ('도', 'Josa'), ('17일', 'Number'), ('날', 'Foreign'), ('주문', 'Noun'), ('20일', 'Number'), ('저녁', 'Noun'), ('배송', 'Noun'), ('웬만한', 'Adjective'), ('국내', 'Noun'), ('배송', 'Noun'), ('보다', 'Josa'), ('빠르네요', 'Adjective'), ('단지', 'Noun'), ('가격', 'Noun'), ('이', 'Josa'), ('말하듯이', 'Verb'), ('포장', 'Noun'), ('좀', 'Noun'), ('그렇고', 'Adjective'), ('95~100', 'Number'), ('정도', 'Noun'), ('입는데', 'Verb'), ('S', 'Alpha'), ('사이즈', 'Noun'), ('처음', 'Noun'), ('입었을', 'Verb'), ('때', 'Noun'), ('는', 'Josa'), ('빡빡', 'Noun'), ('한', 'Josa'), ('느낌', 'Noun'), ('인데', 'Josa'), ('금방', 'Noun'), ('적응', 'Noun'), ('되네요', 'Verb'), ('M', 'Alpha'), ('사이즈', 'Noun'), ('면', 'Josa'), ('조금', 'Noun'), ('클듯', 'Verb'), ('아주', 'Noun'), ('싸게잘', 'Verb'), ('샀습니다', 'Verb'), ('가성', 'Noun'), ('비', 'Noun'), ('좋고', 'Adjective'), ('막', 'Noun'), ('입기', 'Verb'), ('좋은', 'Adjective'), ('제품', 'Noun'), ('입니다', 'Adjective'), ('.', 'Punctuation'), ('원단', 'Noun'), ('은', 'Josa'), ('약간', 'Noun'), ('얇고', 'Adjective'), ('거친', 'Verb'), ('제', 'Modifier'), ('질', 'Noun'), ('이라', 'Josa'), ('(', 'Punctuation'), ('일반', 'Noun'), ('적', 'Suffix'), ('으로', 'Josa'), ('두', 'Determiner'), ('툼', 'Noun'), ('하', 'Suffix'), ('며', 'Josa'), ('아주', 'Noun'), ('보드', 'Noun'), ('롭고', 'Josa'), ('털', 'Noun'), ('이', 'Josa'), ('있는', 'Adjective'), ('제품', 'Noun'), ('아님', 'Adjective'), (')', 'Punctuation'), ('딱', 'Adverb'), ('몸', 'Noun'), ('에', 'Josa'), ('달라', 'Noun'), ('붙는', 'Verb'), ('느낌', 'Noun'), ('은', 'Josa'), ('없습니다', 'Adjective'), ('.', 'Punctuation'), ('주오', 'Noun'), ('실내', 'Noun'), ('용이', 'Noun'), ('나', 'Josa'), ('가벼운', 'Adjective'), ('운동', 'Noun'), ('시', 'Noun'), ('에', 'Josa'), ('착용', 'Noun'), ('해도', 'Verb'), ('좋을것', 'Adjective'), ('같습니다', 'Adjective'), ('.', 'Punctuation'), ('받자마자', 'Verb'), ('입어봤는데', 'Verb'), ('구멍', 'Noun'), ('이', 'Josa'), ('뚫려', 'Verb'), ('있어요', 'Adjective'), ('반품', 'Noun'), ('신청', 'Noun'), ('할려', 'Verb'), ('하니', 'Noun'), ('따로', 'Adverb'), ('문', 'Modifier'), ('서', 'Modifier'), ('작성', 'Noun'), ('하고', 'Josa'), ('프린트', 'Noun'), ('해서', 'Verb'), ('동', 'Modifier'), ('봉하', 'Noun'), ('라고', 'Josa'), ('하니', 'Noun'), ('복잡해서', 'Adjective'), ('그냥', 'Noun'), ('포기', 'Noun'), ('함', 'Noun'), ('ㅋㅋ', 'KoreanParticle'), ('저', 'Noun'), ('는', 'Josa'), ('상품', 'Noun'), ('평', 'Noun'), ('을', 'Josa'), ('사이', 'Modifier'), ('즈', 'Modifier'), ('팁', 'Noun'), ('보려고', 'Verb'), ('참고', 'Noun'), ('하는데요', 'Verb'), ('남편', 'Noun'), ('사이즈', 'Noun'), ('한국', 'Noun'), ('기준', 'Noun'), ('120', 'Number'), ('여기꺼는', 'Verb'), ('3', 'Number'), ('xl', 'Alpha'), ('사니', 'Verb'), ('잘맞아요', 'Adjective'), ('.', 'Punctuation'), ('무엇', 'Noun'), ('보다', 'Josa'), ('팔', 'Modifier'), ('기장', 'Noun'), ('!!', 'Punctuation'), ('안', 'VerbPrefix'), ('짧아요', 'Adjective'), ('좋습니다', 'Adjective'), ('.', 'Punctuation'), ('건조기', 'Noun'), ('돌리기', 'Verb'), ('조금', 'Noun'), ('줄었어요', 'Verb'), ('줄어들거', 'Verb'), ('생각', 'Noun'), ('하고', 'Josa'), ('주문', 'Noun'), ('했', 'Verb'), ('습', 'Noun'), ('ㄴㅣ', 'KoreanParticle'), ('다', 'Adverb'), ('.', 'Punctuation'), ('188', 'Number'), ('에', 'Josa'), ('105~8', 'Number'), ('키로', 'Suffix'), ('왔다', 'Verb'), ('갔다', 'Verb'), ('합니다', 'Verb'), ('.', 'Punctuation'), ('174', 'Number'), ('인', 'Noun'), ('제', 'Noun'), ('가', 'Josa'), ('입으니', 'Verb'), ('원피스', 'Noun'), ('네', 'Suffix'), ('요', 'Josa'), ('.', 'Punctuation'), ('별도', 'Noun'), ('포장', 'Noun'), ('없이', 'Adverb'), ('뭉터기', 'Noun'), ('로', 'Josa'), ('담겨', 'Verb'), ('왔어요', 'Verb'), ('.', 'Punctuation'), ('눈온날', 'Noun'), ('이라', 'Josa'), ('안', 'Noun'), ('에도', 'Josa'), ('젖었을까', 'Verb'), ('걱정', 'Noun'), ('했는데', 'Verb'), ('다행히', 'Adjective'), ('그렇진', 'Adjective'), ('않았습니다', 'Verb'), ('.', 'Punctuation'), ('평소', 'Noun'), ('에', 'Josa'), ('라지', 'Noun'), ('사이즈', 'Noun'), ('입어서', 'Verb'), ('라지', 'Noun'), ('로', 'Josa'), ('시켰더니', 'Verb'), ('조금', 'Noun'), ('크네요', 'Verb'), ('.', 'Punctuation'), ('그래도', 'Adverb'), ('입었을', 'Verb'), ('때', 'Noun'), ('너무', 'Adverb'), ('헐렁', 'Noun'), ('거리', 'Noun'), ('진', 'Noun'), ('않았고', 'Verb'), ('맨살', 'Noun'), ('에', 'Josa'), ('닿을', 'Verb'), ('때', 'Noun'), ('따끔', 'Adverb'), ('거리', 'Noun'), ('는', 'Josa'), ('느낌', 'Noun'), ('없이', 'Adverb'), ('부드러운', 'Adjective'), ('편입', 'Noun'), ('니', 'Noun'), ('다', 'Josa'), ('.', 'Punctuation'), ('상세', 'Noun'), ('사이즈', 'Noun'), ('설명', 'Noun'), ('이', 'Josa'), ('없어서', 'Adjective'), ('기존', 'Noun'), ('사이즈', 'Noun'), ('대로', 'Josa'), ('샀더니', 'Verb'), ('많이', 'Adverb'), ('크', 'Verb'), ('네', 'Determiner'), ('요키', 'Noun'), ('198', 'Number'), ('에', 'Josa'), ('100', 'Number'), ('키', 'Noun'), ('로', 'Josa'), ('정도', 'Noun'), ('인데', 'Josa'), ('엄청', 'Adverb'), ('크네요', 'Verb'), ('181/92', 'Number'), ('인데', 'Josa'), ('2', 'Number'), ('XL', 'Alpha'), ('로', 'Noun'), ('구매', 'Noun'), ('했어요', 'Verb'), ('~', 'Punctuation'), ('보통', 'Noun'), ('110', 'Number'), ('입는데', 'Verb'), ('약간', 'Noun'), ('크네요', 'Verb'), ('XL', 'Alpha'), ('로', 'Noun'), ('구매', 'Noun'), ('하면', 'Verb'), ('딱', 'Adverb'), ('맞을', 'Verb'), ('것', 'Noun'), ('같네요', 'Adjective'), ('커도', 'Verb'), ('오', 'Modifier'), ('버핏', 'Noun'), ('으로', 'Josa'), ('입으면', 'Verb'), ('되죠', 'Verb'), ('뭐', 'Noun'), ('~', 'Punctuation'), ('편해요', 'Adjective'), ('~', 'Punctuation'), ('요즘', 'Noun'), ('같은', 'Adjective'), ('간절', 'Noun'), ('기', 'Noun'), ('에', 'Josa'), ('입기', 'Verb'), ('좋네요', 'Adjective'), ('.', 'Punctuation'), ('두', 'Determiner'), ('장', 'Noun'), ('가격', 'Noun'), ('이구', 'Noun'), ('품질', 'Noun'), ('도', 'Josa'), ('좋습니다', 'Adjective'), ('.', 'Punctuation'), ('실제', 'Noun'), ('로', 'Josa'), ('받아', 'Verb'), ('보니', 'Verb'), ('색상', 'Noun'), ('도', 'Josa'), ('이쁘구요', 'Adjective'), ('.', 'Punctuation'), ('만족감', 'Noun'), ('이', 'Josa'), ('많은', 'Adjective'), ('제품', 'Noun'), ('이네', 'Josa'), ('요', 'Noun'), ('그냥', 'Noun'), ('5천원', 'Number'), ('짜리', 'Foreign'), ('티', 'Noun'), ('쪼가리', 'Noun'), ('같아요', 'Adjective'), ('그나마', 'Adverb'), ('천이', 'Noun'), ('좋다고', 'Adjective'), ('해야하나', 'Verb'), ('?', 'Punctuation'), ('집', 'Noun'), ('에서', 'Josa'), ('입을려고', 'Adjective'), ('샀어요', 'Verb'), ('바느질', 'Noun'), ('도', 'Josa'), ('제대로', 'Noun'), ('안', 'Noun'), ('되고', 'Verb'), ('빵구', 'Noun'), ('기', 'Noun'), ('가', 'Josa'), ('나', 'Noun'), ('있잖아', 'Adjective'), ('생각', 'Noun'), ('보다', 'Josa'), ('사이즈', 'Noun'), ('가', 'Josa'), ('크긴', 'Verb'), ('하지만', 'Conjunction'), ('건조기', 'Noun'), ('몇번', 'Noun'), ('돌리면', 'Verb'), ('맞을듯', 'Verb'), ('합니다', 'Verb'), ('만족합니다', 'Adjective'), ('우주', 'Noun'), ('패스', 'Noun'), ('로', 'Josa'), ('저렴하게', 'Adjective'), ('구입', 'Noun'), ('사이', 'Modifier'), ('즈', 'Modifier'), ('선택', 'Noun'), ('을', 'Josa'), ('잘', 'VerbPrefix'), ('해야되', 'Verb'), ('네', 'Determiner'), ('여', 'Noun'), ('..', 'Punctuation'), ('국내', 'Noun'), ('대비', 'Noun'), ('두', 'Determiner'), ('사이즈', 'Noun'), ('다운', 'Noun'), ('가슴', 'Noun'), ('둘레', 'Noun'), ('130~140', 'Number'), ('에', 'Josa'), ('맞는', 'Verb'), ('사이즈', 'Noun'), ('가', 'Josa'), ('있어서', 'Adjective'), ('좋았고', 'Adjective'), (',', 'Punctuation'), ('저렴하게', 'Adjective'), ('사서', 'Noun'), ('막', 'Noun'), ('입기', 'Verb'), ('딱', 'Adverb'), ('좋아요', 'Adjective'), ('.', 'Punctuation'), ('옷감', 'Noun'), ('은', 'Josa'), ('오래', 'Adverb'), ('입', 'Noun'), ('을', 'Josa'), ('만', 'Noun'), ('한', 'Josa'), ('건', 'Noun'), ('아니니', 'Adjective'), ('작업복', 'Noun'), ('으로', 'Josa'), ('한', 'Verb'), ('철', 'Noun'), ('잘', 'Verb'), ('입고', 'Verb'), ('같은', 'Adjective'), ('브랜드', 'Noun'), ('에서', 'Josa'), ('또', 'Noun'), ('사려고요', 'Verb'), ('.', 'Punctuation'), ('싼', 'Verb'), ('가격', 'Noun'), ('에', 'Josa'), ('2', 'Number'), ('개', 'Noun'), ('나', 'Josa'), ('들어있어서', 'Verb'), ('잘', 'VerbPrefix'), ('샀네요', 'Verb'), ('근데', 'Adverb'), ('사이즈', 'Noun'), ('가', 'Josa'), ('너무', 'Adverb'), ('커서', 'Noun'), ('반품', 'Noun'), ('은', 'Josa'), ('못', 'VerbPrefix'), ('하겠고', 'Verb'), ('그냥', 'Modifier'), ('쟁', 'Noun'), ('여', 'Josa'), ('두고', 'Verb'), ('다시', 'Noun'), ('3', 'Number'), ('엑스', 'Noun'), ('라지', 'Josa'), ('시켰는데이것도', 'Verb'), ('크네요', 'Verb'), ('ㅠㅠ', 'KoreanParticle'), ('배송', 'Noun'), ('은', 'Josa'), ('진짜', 'Noun'), ('느려요', 'Adjective'), ('잊어', 'Verb'), ('먹고', 'Verb'), ('기다려', 'Verb'), ('야할것', 'Adjective'), ('같아', 'Adjective'), ('묘', 'Noun'), ('아주', 'Noun'), ('부드럽진', 'Adjective'), ('않지만', 'Verb'), ('적당한', 'Adjective'), ('두께', 'Noun'), ('가', 'Josa'), ('마음', 'Noun'), ('에', 'Josa'), ('듭니', 'Noun'), ('다', 'Josa'), ('.', 'Punctuation'), ('정사', 'Noun'), ('이즈', 'Noun'), ('에요', 'Josa'), ('.', 'Punctuation'), ('괜찮네요', 'Adjective'), ('.', 'Punctuation'), ('얇고', 'Adjective'), ('쫌', 'Noun'), ('크지만', 'Verb'), ('뭐', 'Noun'), ('해외', 'Noun'), ('옷', 'Noun'), ('이니까', 'Josa'), ('그러', 'Adjective'), ('려니', 'Noun'), ('하고', 'Josa'), ('입어요', 'Verb'), ('괜찮아요', 'Adjective'), ('국내', 'Noun'), ('100', 'Number'), ('은', 'Noun'), ('헐렁하고', 'Adjective'), ('95', 'Number'), ('는', 'Verb'), ('제', 'Modifier'), ('조사', 'Noun'), ('에', 'Josa'), ('따라', 'Verb'), ('못', 'VerbPrefix'), ('입거나', 'Adjective'), ('타이', 'Noun'), ('트', 'Noun'), ('한', 'Josa'), ('데', 'Noun'), ('미국', 'Noun'), ('S', 'Alpha'), ('사이즈', 'Noun'), ('는', 'Josa'), ('95', 'Number'), ('보다', 'Verb'), ('약간', 'Noun'), ('커서', 'Noun'), ('제', 'Noun'), ('몸', 'Noun'), ('에', 'Josa'), ('잘', 'Verb'), ('맞습니다', 'Verb'), ('.', 'Punctuation'), ('두께', 'Noun'), ('가', 'Josa'), ('생각', 'Noun'), ('보다', 'Josa'), ('얇고', 'Adjective'), ('눈', 'Noun'), ('에', 'Josa'), ('띄는', 'Verb'), ('스타일', 'Noun'), ('이', 'Josa'), ('아니라서', 'Adjective'), ('집', 'Noun'), ('에서', 'Josa'), ('입는', 'Verb'), ('옷', 'Noun'), ('으로', 'Josa'), ('적당합니다', 'Adjective'), ('.', 'Punctuation'), ('가성', 'Noun'), ('비', 'Noun'), ('좋네요', 'Adjective'), ('..', 'Punctuation'), ('미국', 'Noun'), ('사이즈', 'Noun'), ('라', 'Josa'), ('아시아', 'Noun'), ('사이즈', 'Noun'), ('는', 'Josa'), ('한', 'Determiner'), ('사이즈', 'Noun'), ('작게', 'Adjective'), ('사면', 'Noun'), ('되고', 'Verb'), ('..', 'Punctuation'), ('색감', 'Noun'), ('은', 'Josa'), ('만점', 'Noun'), ('질감', 'Noun'), ('은', 'Josa'), ('조금', 'Noun'), ('부족하지만', 'Adjective'), ('가격', 'Noun'), ('생각', 'Noun'), ('하면', 'Verb'), ('만족스럽네요', 'Adjective'), ('..', 'Punctuation'), ('사이즈', 'Noun'), ('잘', 'Verb'), ('맞습니다', 'Verb'), ('.', 'Punctuation'), ('편하게', 'Adjective'), ('입', 'Noun'), ('을', 'Josa'), ('수', 'Noun'), ('있어서', 'Adjective'), ('좋아요', 'Adjective'), ('.', 'Punctuation'), ('배송', 'Noun'), ('도', 'Josa'), ('잘', 'Verb'), ('왔습니다', 'Verb'), ('.', 'Punctuation'), ('싸게', 'Verb'), ('잘', 'Verb'), ('구매', 'Noun'), ('했습니다', 'Verb'), ('.', 'Punctuation'), ('같은', 'Adjective'), ('상품', 'Noun'), ('에서', 'Josa'), ('재질', 'Noun'), ('이', 'Josa'), ('다릅니다', 'Adjective'), ('.', 'Punctuation'), ('지금', 'Noun'), ('제품', 'Noun'), ('은', 'Josa'), ('처음', 'Noun'), ('받았을', 'Verb'), ('때', 'Noun'), ('옷감', 'Noun'), ('이', 'Josa'), ('거칠고', 'Verb'), ('냄새', 'Noun'), ('납니다', 'Verb'), ('.', 'Punctuation'), ('다크', 'Noun'), ('그레이', 'Noun'), ('제품', 'Noun'), ('은', 'Josa'), ('원단', 'Noun'), ('도', 'Josa'), ('부드럽고', 'Adjective'), ('냄새', 'Noun'), ('도', 'Josa'), ('안', 'VerbPrefix'), ('났습니다', 'Verb'), ('가격', 'Noun'), ('도', 'Josa'), ('저렴하고', 'Adjective'), ('배송', 'Noun'), ('도', 'Josa'), ('무료', 'Noun'), ('배송', 'Noun'), ('이라', 'Josa'), ('대체로', 'Noun'), ('만족합니다', 'Adjective'), ('.', 'Punctuation'), ('옷', 'Noun'), ('이', 'Josa'), ('가볍고', 'Adjective'), ('따뜻한', 'Adjective'), ('편입', 'Noun'), ('니', 'Noun'), ('다', 'Josa'), ('.', 'Punctuation'), ('가성', 'Noun'), ('비', 'Noun'), ('좋은', 'Adjective'), ('상품', 'Noun'), ('이다', 'Josa'), ('한', 'Determiner'), ('국내', 'Noun'), ('에서', 'Josa'), ('주문', 'Noun'), ('해서', 'Verb'), ('받는', 'Verb'), ('물건', 'Noun'), ('과', 'Josa'), ('차이', 'Noun'), ('가', 'Josa'), ('없을', 'Adjective'), ('정도', 'Noun'), ('로', 'Josa'), ('신속한', 'Adjective'), ('배송', 'Noun'), ('이었습니다', 'Verb'), ('상품', 'Noun'), ('도', 'Josa'), ('마음', 'Noun'), ('에', 'Josa'), ('쏙', 'Noun'), ('들', 'Suffix'), ('고요', 'Noun'), ('앞', 'Noun'), ('으로', 'Josa'), ('아마존', 'Noun'), ('에서', 'Josa'), ('자주', 'Noun'), ('구입', 'Noun'), ('하게', 'Verb'), ('될거', 'Verb'), ('같아요', 'Adjective'), ('물건', 'Noun'), ('은', 'Josa'), ('좋아요', 'Adjective'), ('.', 'Punctuation'), ('110', 'Number'), ('에서', 'Josa'), ('105', 'Number'), ('사이즈', 'Noun'), ('입었는데', 'Verb'), ('xl', 'Alpha'), ('구매', 'Noun'), ('하니', 'Verb'), ('어깨', 'Noun'), ('도', 'Josa'), ('좀', 'Noun'), ('크고', 'Verb'), ('팔도', 'Noun'), ('좀', 'Noun'), ('기네', 'Noun'), ('요', 'Josa'), ('.', 'Punctuation'), ('다음', 'Noun'), ('엔', 'Josa'), ('라지', 'Noun'), ('사이즈', 'Noun'), ('사야', 'Verb'), ('할것', 'Verb'), ('같네요', 'Adjective'), ('.', 'Punctuation'), ('사이즈', 'Noun'), ('를', 'Josa'), ('잘못', 'Noun'), ('주문', 'Noun'), ('했지만', 'Verb'), ('가격', 'Noun'), ('대비', 'Noun'), ('품질', 'Noun'), ('은', 'Josa'), ('마음', 'Noun'), ('에', 'Josa'), ('듭니', 'Noun'), ('다', 'Josa'), ('울트라', 'Noun'), ('헤비', 'Noun'), ('뭐', 'Noun'), ('기기', 'Noun'), ('라고', 'Josa'), ('해서', 'Verb'), ('두꺼운', 'Adjective'), ('맨', 'Modifier'), ('투맨', 'Noun'), ('같은', 'Adjective'), ('느낌', 'Noun'), ('인가', 'Josa'), ('싶었는데', 'Verb'), ('얇은', 'Adjective'), ('티셔츠', 'Noun'), ('입니다', 'Adjective'), ('.', 'Punctuation'), ('팔', 'Modifier'), ('쪽', 'Noun'), ('시', 'Modifier'), ('보리', 'Noun'), ('가', 'Josa'), ('너무', 'Adverb'), ('쫀쫀해', 'Noun'), ('서', 'Josa'), ('불편해요', 'Adjective'), ('.', 'Punctuation'), ('홈웨어', 'Noun'), ('론', 'Noun'), ('나쁘지', 'Adjective'), ('않을', 'Verb'), ('거', 'Noun'), ('같네요', 'Adjective'), ('us', 'Alpha'), ('사이즈', 'Noun'), ('리', 'Noun'), ('1', 'Number'), ('사이즈', 'Noun'), ('작게', 'Adjective'), ('주문', 'Noun'), ('해야', 'Verb'), ('합니다', 'Verb'), ('.', 'Punctuation'), ('작업복', 'Noun'), ('으로', 'Josa'), ('사용', 'Noun'), ('하기', 'Verb'), ('좋습니다', 'Adjective'), ('검은색', 'Noun'), ('xxxl', 'Alpha'), ('샀다가', 'Verb'), ('아들', 'Noun'), ('몸', 'Noun'), ('에', 'Josa'), ('딱', 'Adverb'), ('맞길래', 'Verb'), ('다이어트', 'Noun'), ('해서', 'Verb'), ('입으려고', 'Verb'), ('xxl', 'Alpha'), ('사이즈', 'Noun'), ('로', 'Josa'), ('네이비', 'Noun'), ('로', 'Josa'), ('미리', 'Noun'), ('구입', 'Noun'), ('했습니다', 'Verb'), ('.', 'Punctuation'), ('재질', 'Noun'), ('이', 'Josa'), ('좋아요', 'Adjective'), ('.', 'Punctuation'), ('한국', 'Noun'), ('옷', 'Noun'), ('보다', 'Josa'), ('눈', 'Noun'), ('오버', 'Noun'), ('픽', 'Noun'), ('이에요', 'Josa'), ('.', 'Punctuation'), ('만족해요', 'Adjective'), ('.', 'Punctuation'), ('천이', 'Noun'), ('부드럽고', 'Adjective'), ('촉감', 'Noun'), ('이', 'Josa'), ('좋아요', 'Adjective'), ('.', 'Punctuation'), ('2', 'Number'), ('XL', 'Alpha'), ('사이즈', 'Noun'), ('가', 'Josa'), ('팔', 'Noun'), ('부분', 'Noun'), ('기장', 'Noun'), ('이', 'Josa'), ('조금', 'Noun'), ('긴', 'Verb'), ('것', 'Noun'), ('빼놓고', 'Verb'), ('맘', 'Noun'), ('에', 'Josa'), ('듭니', 'Noun'), ('다', 'Josa'), ('.', 'Punctuation'), ('어떻게', 'Adjective'), ('보면', 'Verb'), ('그냥', 'Noun'), ('평범한', 'Adjective'), ('티셔츠', 'Noun'), ('같은데', 'Adjective'), ('다시', 'Noun'), ('봐도', 'Verb'), ('그냥', 'Noun'), ('평범한', 'Adjective'), ('티셔츠', 'Noun'), ('네', 'Suffix'), ('요', 'Josa'), ('제품', 'Noun'), ('은', 'Josa'), ('양품', 'Noun'), ('로', 'Noun'), ('아주', 'Noun'), ('만족스럽습니다', 'Adjective'), ('.', 'Punctuation'), ('배송', 'Noun'), ('또한', 'Noun'), ('만족스럽습니다', 'Adjective'), ('.', 'Punctuation'), ('국내', 'Noun'), ('사이즈', 'Noun'), ('보다', 'Josa'), ('한', 'Verb'), ('사이즈', 'Noun'), ('작게', 'Adjective'), ('주문', 'Noun'), ('하시길', 'Verb'), ('조언', 'Noun'), ('드립니다', 'Verb'), ('저렴한', 'Adjective'), ('홈웨어', 'Noun'), ('로', 'Josa'), ('좋구요', 'Adjective'), ('손목', 'Noun'), ('이', 'Josa'), ('살짝', 'Noun'), ('타이', 'Noun'), ('트', 'Noun'), ('한', 'Josa'), ('감', 'Noun'), ('이', 'Josa'), ('있지만', 'Adjective'), ('나름', 'Noun'), ('착용', 'Noun'), ('감', 'Noun'), ('좋습니다', 'Adjective'), ('엄청', 'Adverb'), ('크네요', 'Verb'), ('재구매', 'Verb'), ('했습니다', 'Verb'), ('재질', 'Noun'), ('이', 'Josa'), ('좋와', 'Adjective'), ('서', 'Verb'), ('잘', 'Verb'), ('때', 'Noun'), ('입', 'Noun'), ('고자', 'Noun'), ('요', 'Josa'), ('감사합니다', 'Verb'), ('소매', 'Noun'), ('는', 'Josa'), ('미국', 'Noun'), ('의류', 'Noun'), ('치곤', 'Verb'), ('짧아서', 'Adjective'), ('한국', 'Noun'), ('옷', 'Noun'), ('길이', 'Noun'), ('랑', 'Josa'), ('비슷하고', 'Adjective'), ('어깨', 'Noun'), ('에', 'Josa'), ('맞춰서', 'Verb'), ('입으면', 'Verb'), ('목', 'Noun'), ('이랑', 'Josa'), ('소매', 'Noun'), ('가', 'Josa'), ('좀', 'Noun'), ('조이는', 'Verb'), ('느낌', 'Noun'), ('이', 'Josa'), ('있습니다', 'Adjective'), ('품질', 'Noun'), ('이', 'Josa'), ('최고', 'Noun'), ('라고', 'Josa'), ('하기엔', 'Verb'), ('좀', 'Noun'), ('그렇고', 'Adjective'), ('가격', 'Noun'), ('에', 'Josa'), ('적당하다고', 'Adjective'), ('할수', 'Verb'), ('있음', 'Adjective'), ('막', 'Noun'), ('입고', 'Verb'), ('건조기', 'Noun'), ('막', 'Noun'), ('돌리다가', 'Verb'), ('헤지', 'Noun'), ('거나', 'Noun'), ('찢어지면', 'Verb'), ('잠옷', 'Noun'), ('으로', 'Josa'), ('입다', 'Noun'), ('가', 'Josa'), ('보내줘야', 'Verb'), ('할', 'Verb'), ('때', 'Noun'), ('아디오스', 'Noun'), ('할', 'Verb'), ('수', 'Noun'), ('있음', 'Adjective'), ('옷', 'Noun'), ('은', 'Josa'), ('편함', 'Adjective'), ('건조하면', 'Adjective'), ('줄어들것', 'Verb'), ('같아', 'Adjective'), ('정', 'Noun'), ('치수', 'Noun'), ('로', 'Josa'), ('주문', 'Noun'), ('했는데', 'Verb'), ('..', 'Punctuation'), ('입어보니', 'Verb'), ('성직자', 'Noun'), ('옷', 'Noun'), ('같이', 'Josa'), ('크네요', 'Verb'), ('.', 'Punctuation'), ('ㅎ', 'KoreanParticle'), ('일단', 'Noun'), ('실', 'Noun'), ('내용', 'Noun'), ('으로', 'Josa'), ('막', 'Noun'), ('입는', 'Verb'), ('용인', 'Noun'), ('것', 'Noun'), ('같습니다', 'Adjective'), ('.', 'Punctuation'), ('부드러운', 'Adjective'), ('면', 'Noun'), ('소재', 'Noun'), ('가', 'Josa'), ('아니라', 'Adjective'), ('조금', 'Noun'), ('빳빳', 'Noun'), ('한', 'Josa'), ('느낌', 'Noun'), ('.', 'Punctuation'), ('큰', 'Verb'), ('사이즈', 'Noun'), ('구', 'Noun'), ('하기', 'Verb'), ('어려운데', 'Adjective'), ('착한', 'Adjective'), ('가격', 'Noun'), ('에', 'Josa'), ('품질', 'Noun'), ('도', 'Josa'), ('너무', 'Adverb'), ('좋은', 'Adjective'), ('듯', 'Noun'), ('합니다', 'Verb'), ('구입', 'Noun'), ('하시면', 'Verb'), ('대', 'Modifier'), ('만족', 'Noun'), ('일', 'Noun'), ('겁니다', 'Verb'), ('미제', 'Noun'), ('라', 'Josa'), ('궁금했는데', 'Adjective'), ('몸', 'Noun'), ('에', 'Josa'), ('잘', 'Verb'), ('맞아요', 'Verb'), ('.', 'Punctuation'), ('새', 'Noun'), ('옷', 'Noun'), ('이라', 'Josa'), ('그런지', 'Adjective'), ('약간', 'Noun'), ('간지러운', 'Adjective'), ('느낌', 'Noun'), ('은', 'Josa'), ('있지만', 'Adjective'), ('빨', 'Noun'), ('면', 'Josa'), ('괜찮지', 'Adjective'), ('않을까', 'Verb'), ('해', 'Noun'), ('요', 'Josa'), ('.', 'Punctuation'), ('저렴해사', 'Adjective'), ('막', 'Noun'), ('입기', 'Verb'), ('좋아요', 'Adjective'), ('우주', 'Noun'), ('패스', 'Noun'), ('짱', 'Noun'), ('ㅋㅋㅋ', 'KoreanParticle'), ('176', 'Number'), ('에', 'Josa'), ('83', 'Number'), ('뚱', 'Noun'), ('인데', 'Josa'), ('XL', 'Alpha'), ('잘', 'Verb'), ('맞음', 'Verb'), ('일단', 'Noun'), ('사이즈', 'Noun'), ('가', 'Josa'), ('넉넉해서', 'Adjective'), ('좋았습니다', 'Adjective'), ('.', 'Punctuation'), ('가격', 'Noun'), ('도', 'Josa'), ('아주', 'Noun'), ('저렴한', 'Adjective'), ('가격', 'Noun'), ('에', 'Josa'), ('구', 'Noun'), ('할', 'Verb'), ('수', 'Noun'), ('있어서', 'Adjective'), ('너무', 'Adverb'), ('만족합니다', 'Adjective'), ('.', 'Punctuation'), ('가성', 'Noun'), ('비는', 'Verb'), ('좋은데', 'Adjective'), ('사이즈', 'Noun'), ('는', 'Josa'), ('최소', 'Noun'), ('2', 'Number'), ('단계', 'Noun'), ('아래', 'Noun'), ('로', 'Josa'), ('주문', 'Noun'), ('할것을', 'Verb'), ('고민', 'Noun'), ('해야', 'Verb'), ('함', 'Noun'), ('너무', 'Adverb'), ('커서', 'Noun'), ('헐', 'Verb'), ('~~~~', 'Punctuation'), ('항국', 'Noun'), ('사이즈', 'Noun'), ('보다', 'Josa'), ('한', 'Determiner'), ('사이즈', 'Noun'), ('작게', 'Adjective'), ('주문', 'Noun'), ('하면', 'Verb'), ('맞습니다', 'Verb'), ('얇지', 'Adjective'), ('않고', 'Verb'), ('목도', 'Noun'), ('잘', 'Verb'), ('안', 'VerbPrefix'), ('늘어납니다', 'Verb'), ('원단', 'Noun'), ('이', 'Josa'), ('아주', 'Noun'), ('부드러운건', 'Adjective'), ('아니네요', 'Adjective'), ('..', 'Punctuation'), ('겨우', 'Noun'), ('네', 'Josa'), ('안', 'Noun'), ('에', 'Josa'), ('겹', 'Noun'), ('쳐', 'Verb'), ('입기', 'Verb'), ('조아요', 'Adjective'), ('~', 'Punctuation'), ('두', 'Determiner'), ('벌', 'Noun'), ('을', 'Josa'), ('저렴하게', 'Adjective'), ('구매', 'Noun'), ('했네요', 'Verb'), ('질도', 'Noun'), ('나쁘지', 'Adjective'), ('않아요', 'Verb'), ('조아요', 'Adjective'), ('원단', 'Noun'), ('이', 'Josa'), ('짱짱하고', 'Adjective'), ('가격', 'Noun'), ('대비', 'Noun'), ('좋은데', 'Adjective'), ('한국', 'Noun'), ('사이즈', 'Noun'), ('105', 'Number'), ('입는데', 'Verb'), ('.', 'Punctuation'), ('미디움', 'Noun'), ('도', 'Josa'), ('조금', 'Noun'), ('크네요', 'Verb'), ('그래도', 'Adverb'), ('만족합니다', 'Adjective'), ('그냥', 'Noun'), ('기본', 'Noun'), ('적', 'Suffix'), ('인', 'Josa'), ('티셔츠', 'Noun'), ('입니다', 'Adjective'), ('^^.', 'Punctuation'), ('champion', 'Alpha'), ('셔츠', 'Noun'), ('같은', 'Adjective'), ('사이즈', 'Noun'), ('보다', 'Josa'), ('약간', 'Noun'), ('작다고', 'Adjective'), ('생각', 'Noun'), ('하시면', 'Verb'), ('됩니다', 'Verb'), ('.', 'Punctuation'), ('다자', 'Noun'), ('인', 'Josa'), ('깔끔하고', 'Adjective'), ('평상시', 'Noun'), ('입기도', 'Verb'), ('좋고', 'Adjective'), ('원단', 'Noun'), ('도', 'Josa'), ('좋네요', 'Adjective'), ('M', 'Alpha'), ('사이즈', 'Noun'), ('가', 'Josa'), ('국내', 'Noun'), ('사이즈', 'Noun'), ('로는', 'Josa'), ('106', 'Number'), ('정도', 'Noun'), ('입니다', 'Adjective'), ('.', 'Punctuation'), ('국내', 'Noun'), ('XL', 'Alpha'), ('105', 'Number'), ('보다', 'Verb'), ('조금', 'Noun'), ('더', 'Noun'), ('큽니다', 'Verb'), ('.', 'Punctuation'), ('173/89', 'Number'), ('인데', 'Josa'), ('넉넉히', 'Adjective'), ('맞습니다', 'Verb'), ('.', 'Punctuation'), ('생각', 'Noun'), ('보다', 'Josa'), ('두껍', 'Adjective'), ('긴한데', 'Verb'), ('겨울철', 'Noun'), ('에', 'Josa'), ('운동', 'Noun'), ('하기', 'Verb'), ('위해', 'Noun'), ('입으면', 'Verb'), ('좋을', 'Adjective'), ('듯', 'Noun'), ('합니다', 'Verb'), ('입어보니', 'Verb'), ('한', 'Verb'), ('사이즈', 'Noun'), ('가', 'Josa'), ('더', 'Noun'), ('큰거', 'Verb'), ('갇습', 'Noun'), ('니', 'Josa'), ('다', 'Adverb'), ('.', 'Punctuation'), ('다음', 'Noun'), ('에는', 'Josa'), ('한', 'Verb'), ('사이즈', 'Noun'), ('자긍것', 'Noun'), ('으로', 'Josa'), ('주문', 'Noun'), ('해야', 'Verb'), ('겠습니다', 'Verb'), ('.', 'Punctuation'), ('전', 'Noun'), ('에부터', 'Josa'), ('직구', 'Noun'), ('해서', 'Verb'), ('입었던', 'Verb'), ('옷', 'Noun'), ('입니다', 'Adjective'), ('11', 'Number'), ('번가', 'Noun'), ('통해', 'Noun'), ('서', 'Josa'), ('아마존', 'Noun'), ('직구', 'Noun'), ('를', 'Josa'), ('쉽게', 'Verb'), ('할수', 'Verb'), ('있어', 'Adjective'), ('좋네요', 'Adjective'), ('국내', 'Noun'), ('에서도', 'Josa'), ('파는', 'Verb'), ('거기', 'Noun'), ('는', 'Josa'), ('한데', 'Eomi'), ('할인', 'Noun'), ('쿠폰', 'Noun'), ('이', 'Josa'), ('나와서', 'Verb'), ('싸게', 'Verb'), ('샀어요', 'Verb'), ('.', 'Punctuation'), ('긴', 'Verb'), ('팔', 'Noun'), ('인데', 'Josa'), ('얇습니다', 'Adjective'), ('.', 'Punctuation'), ('국내', 'Noun'), ('에서도', 'Josa'), ('파는', 'Verb'), ('거기', 'Noun'), ('는', 'Josa'), ('한데', 'Eomi'), ('할인', 'Noun'), ('쿠폰', 'Noun'), ('이', 'Josa'), ('나와서', 'Verb'), ('싸게', 'Verb'), ('샀어요', 'Verb'), ('.', 'Punctuation'), ('긴', 'Verb'), ('팔', 'Noun'), ('인데', 'Josa'), ('얇습니다', 'Adjective'), ('.', 'Punctuation'), ('미디움', 'Noun'), ('사이즈', 'Noun'), ('가', 'Josa'), ('생각', 'Noun'), ('보다', 'Josa'), ('큼', 'Verb'), ('팔도', 'Noun'), ('길고', 'Adjective'), ('라지', 'Noun'), ('안', 'VerbPrefix'), ('사길', 'Verb'), ('잘', 'VerbPrefix'), ('한듯', 'Verb'), ('스몰', 'Noun'), ('은', 'Josa'), ('작을거', 'Adjective'), ('같고', 'Adjective'), ('그렇네요', 'Adjective'), ('181/135', 'Number'), ('몸', 'Noun'), ('에', 'Josa'), ('넉넉히', 'Adjective'), ('맞네요', 'Verb'), ('네이비', 'Noun'), ('로', 'Josa'), ('한', 'Determiner'), ('치수', 'Noun'), ('작은거', 'Adjective'), ('구매', 'Noun'), ('예정', 'Noun'), ('입니다', 'Adjective'), ('저렴하게', 'Adjective'), ('아주', 'Noun'), ('나쁜', 'Adjective'), ('재질', 'Noun'), ('은', 'Josa'), ('아닙니다', 'Adjective'), ('우리나라', 'Noun'), ('치수', 'Noun'), ('보다는', 'Josa'), ('한', 'Determiner'), ('치수', 'Noun'), ('적은거로', 'Verb'), ('선택', 'Noun'), ('하시고', 'Verb'), ('외출', 'Noun'), ('복', 'Noun'), ('으로는', 'Josa'), ('너무', 'Adverb'), ('화려합니다', 'Adjective'), ('폼', 'Noun'), ('도', 'Josa'), ('넉넉하고', 'Adjective'), ('편하게', 'Adjective'), ('입', 'Noun'), ('을', 'Josa'), ('수', 'Noun'), ('있겠어요', 'Adjective'), ('~^^', 'Punctuation'), ('뭐', 'Noun'), ('가', 'Josa'), ('울트라', 'Noun'), ('라는', 'Josa'), ('건진', 'Verb'), ('-', 'Punctuation'), ('모르겠네요', 'Verb'), ('.', 'Punctuation'), ('가성', 'Noun'), ('비', 'Noun'), ('가', 'Josa'), ('좋긴', 'Adjective'), ('하지', 'Verb'), ('만요', 'Noun'), ('옷', 'Noun'), ('의', 'Josa'), ('촉감', 'Noun'), ('이', 'Josa'), ('부드럽고', 'Adjective'), (',', 'Punctuation'), ('사이즈', 'Noun'), ('도', 'Josa'), ('맞고', 'Verb'), (',', 'Punctuation'), ('편하게', 'Adjective'), ('입을수', 'Adjective'), ('있는', 'Adjective'), ('티', 'Noun'), ('네', 'Suffix'), ('요', 'Josa'), ('옷', 'Noun'), ('은', 'Josa'), ('괜찮습니다', 'Adjective'), ('.', 'Punctuation'), ('다만', 'Noun'), ('사이즈', 'Noun'), ('맞추기가', 'Verb'), ('힘드네요', 'Adjective'), ('.', 'Punctuation'), ('다음', 'Noun'), ('에는', 'Josa'), ('작게', 'Adjective'), ('구', 'Modifier'), ('매', 'Modifier'), ('예정', 'Noun'), ('입니다', 'Adjective'), ('110', 'Number'), ('사이즈', 'Noun'), ('는', 'Josa'), ('xl', 'Alpha'), ('가', 'Verb'), ('잘맞네요', 'Adjective'), ('재구매', 'Verb'), ('합니다', 'Verb'), ('저렴한', 'Adjective'), ('가격', 'Noun'), ('에', 'Josa'), ('괜찮은', 'Adjective'), ('티셔츠', 'Noun'), ('잘', 'Verb'), ('구매', 'Noun'), ('합니다', 'Verb'), ('질', 'Noun'), ('좋은', 'Adjective'), ('물건', 'Noun'), ('저렴히', 'Adjective'), ('사서', 'Noun'), ('아주', 'Noun'), ('좋아요', 'Adjective'), ('...', 'Punctuation'), ('한국', 'Noun'), ('의', 'Josa'), ('3', 'Number'), ('XL', 'Alpha'), ('이', 'Noun'), ('미국', 'Noun'), ('의', 'Josa'), ('XL', 'Alpha'), ('인걸', 'Noun'), ('생각', 'Noun'), ('못', 'Noun'), ('한', 'Josa'), ('내', 'Determiner'), ('탓', 'Noun'), ('...', 'Punctuation'), ('ㅠㅠ', 'KoreanParticle'), ('색감', 'Noun'), ('도', 'Josa'), ('좋고', 'Adjective'), ('생각', 'Noun'), ('보다', 'Josa'), ('얇습니다', 'Adjective'), ('가격', 'Noun'), ('싸고', 'Verb'), ('면도', 'Noun'), ('보통', 'Noun'), ('은', 'Josa'), ('되네요', 'Verb'), ('특히', 'Adverb'), ('손목', 'Noun'), ('시', 'Modifier'), ('보리', 'Noun'), ('가', 'Josa'), ('있어서', 'Adjective'), ('좋아요', 'Adjective'), ('촉감', 'Noun'), ('은', 'Josa'), ('좋습니다', 'Adjective'), ('.', 'Punctuation'), ('집안', 'Noun'), ('패션', 'Noun'), ('으로', 'Josa'), ('적당한듯', 'Adjective'), ('합니다', 'Verb'), ('^^', 'Punctuation'), ('너무', 'Adverb'), ('예뻐요', 'Adjective'), ('.', 'Punctuation'), ('일부러', 'Noun'), ('루즈', 'Noun'), ('하게', 'Verb'), ('입으려고', 'Verb'), ('크게', 'Noun'), ('주문', 'Noun'), ('했는데', 'Verb'), ('생각', 'Noun'), ('보다', 'Josa'), ('더', 'Noun'), ('좋네요', 'Adjective'), ('~', 'Punctuation'), ('아주', 'Noun'), ('좋습니다', 'Adjective'), ('.', 'Punctuation'), ('일', 'Noun'), ('할', 'Verb'), ('때', 'Noun'), ('근무', 'Noun'), ('복', 'Noun'), ('으로', 'Josa'), ('입기', 'Verb'), ('좋아요', 'Adjective'), ('사이즈', 'Noun'), ('도', 'Josa'), ('딱입니다', 'Adjective'), ('.', 'Punctuation'), ('전혀', 'Noun'), ('다른', 'Modifier'), ('칼러', 'Noun'), (',', 'Punctuation'), ('풍', 'Adverb'), ('성함', 'Noun'), (',', 'Punctuation'), ('청바지', 'Noun'), ('와', 'Josa'), ('어울림', 'Noun'), (',', 'Punctuation'), ('소', 'Modifier'), ('매', 'Modifier'), ('약간', 'Noun'), ('올려서', 'Verb'), ('(', 'Punctuation'), ('접는', 'Verb'), (')', 'Punctuation'), ('입는', 'Verb'), ('센스', 'Noun'), ('최고', 'Noun'), ('가격', 'Noun'), ('대비', 'Noun'), ('훌륭해요', 'Adjective'), ('.', 'Punctuation'), ('면', 'Noun'), ('혼방', 'Noun'), ('이라', 'Josa'), ('입기', 'Verb'), ('좋아요', 'Adjective'), ('.', 'Punctuation'), ('제', 'Noun'), ('가', 'Josa'), ('팔이', 'Noun'), ('긴데', 'Verb'), ('아주', 'Noun'), ('잘맞아요', 'Adjective'), ('ㅎㅎ', 'KoreanParticle'), ('가성', 'Noun'), ('비', 'Noun'), ('짱', 'Noun'), ('입니다', 'Adjective'), ('난', 'Noun'), ('두께', 'Noun'), ('가', 'Josa'), ('많이', 'Adverb'), ('얇아서', 'Adjective'), ('한겨울', 'Noun'), ('은', 'Josa'), ('비추', 'Verb'), ('가을', 'Noun'), ('봄', 'Noun'), ('용', 'Noun'), ('한', 'Verb'), ('사이즈', 'Noun'), ('적게', 'Verb'), ('나니', 'Noun'), ('맞네요', 'Verb'), ('.', 'Punctuation'), ('만족합니다', 'Adjective'), ('가격', 'Noun'), ('좋고', 'Adjective'), ('품질', 'Noun'), ('도', 'Josa'), ('좋', 'Adjective'), ('네', 'Determiner'), ('여', 'Modifier'), ('다만', 'Noun'), ('미국', 'Noun'), ('애', 'Noun'), ('들', 'Suffix'), ('사이즈', 'Noun'), ('라', 'Josa'), ('허리', 'Noun'), ('가', 'Josa'), ('조금', 'Noun'), ('길어요', 'Verb'), ('사이즈', 'Noun'), ('는', 'Josa'), ('국내', 'Noun'), ('사이즈', 'Noun'), ('보다', 'Josa'), ('한치', 'Noun'), ('수작', 'Noun'), ('게', 'Josa'), ('~~', 'Punctuation'), ('재', 'Noun'), ('품질', 'Noun'), ('은', 'Josa'), ('그냥', 'Modifier'), ('저', 'Modifier'), ('냥', 'Noun'), ('이네', 'Josa'), ('요', 'Noun'), ('제', 'Modifier'), ('치수', 'Noun'), ('보다', 'Josa'), ('크게', 'Noun'), ('나온다고', 'Verb'), ('3', 'Number'), ('XL', 'Alpha'), ('을', 'Josa'), ('시켰는데', 'Verb'), ('6', 'Number'), ('XL', 'Alpha'), ('이', 'Noun'), ('온거', 'Verb'), ('같은', 'Adjective'), ('무지막지', 'Noun'), ('한', 'Josa'), ('펑퍼짐한', 'Adjective'), ('사이즈', 'Noun'), ('입니다', 'Adjective'), ('.', 'Punctuation'), ('가격', 'Noun'), ('저렴하고', 'Adjective'), ('안', 'Noun'), ('에', 'Josa'), ('받쳐', 'Verb'), ('입기', 'Verb'), ('좋아요', 'Adjective'), ('가성', 'Noun'), ('비', 'Noun'), ('좋아요', 'Adjective'), ('부드러운', 'Adjective'), ('면', 'Noun'), ('이', 'Josa'), ('아니라', 'Adjective'), ('톡톡한', 'Adjective'), ('면', 'Noun'), ('이에요', 'Josa'), ('편하게', 'Adjective'), ('입기', 'Verb'), ('좋고', 'Adjective'), ('가성', 'Noun'), ('비', 'Noun'), ('최강', 'Noun'), ('이네', 'Josa'), ('요', 'Noun'), ('.', 'Punctuation'), ('바로', 'Noun'), ('10', 'Number'), ('팩', 'Noun'), ('세트', 'Noun'), ('구매', 'Noun'), ('합니다', 'Verb'), ('제품', 'Noun'), ('좋고', 'Adjective'), ('배송', 'Noun'), ('좋고', 'Adjective'), ('굿', 'Noun'), ('입니다', 'Adjective'), ('제품', 'Noun'), ('좋고', 'Adjective'), ('배송', 'Noun'), ('좋고', 'Adjective'), ('굿', 'Noun'), ('입니다', 'Adjective'), ('제품', 'Noun'), ('좋고', 'Adjective'), ('배송', 'Noun'), ('좋고', 'Adjective'), ('굿', 'Noun'), ('입니다', 'Adjective'), ('제품', 'Noun'), ('좋고', 'Adjective'), ('배송', 'Noun'), ('좋고', 'Adjective'), ('굿', 'Noun'), ('입니다', 'Adjective'), ('제품', 'Noun'), ('좋고', 'Adjective'), ('배송', 'Noun'), ('좋고', 'Adjective'), ('굿', 'Noun'), ('입니다', 'Adjective'), ('저렴하게', 'Adjective'), ('입을수있는', 'Adjective'), ('상품', 'Noun'), ('입니다', 'Adjective'), ('우리나라', 'Noun'), ('치수', 'Noun'), ('보다', 'Josa'), ('한', 'Determiner'), ('치수', 'Noun'), ('크다고', 'Verb'), ('생각', 'Noun'), ('하면', 'Verb'), ('됩니다', 'Verb'), ('부드러운', 'Adjective'), ('소재', 'Noun'), ('에', 'Josa'), ('씨', 'Noun'), ('이즈', 'Noun'), ('정확하고', 'Adjective'), ('품질', 'Noun'), ('좋은', 'Adjective'), ('상품', 'Noun'), ('입니다', 'Adjective'), ('!', 'Punctuation'), ('옷', 'Noun'), ('마감', 'Noun'), ('처리', 'Noun'), ('는', 'Josa'), ('잘', 'VerbPrefix'), ('되어있는데', 'Verb'), ('사이즈', 'Noun'), ('가', 'Josa'), ('과도', 'Noun'), ('하게', 'Verb'), ('크네요', 'Verb'), ('옷감', 'Noun'), ('이', 'Josa'), ('부드럽지', 'Adjective'), ('못', 'Noun'), ('하고', 'Josa'), ('뻣뻣한', 'Adjective'), ('느낌', 'Noun'), ('이고', 'Josa'), ('감촉', 'Noun'), ('도', 'Josa'), ('거칠어요', 'Verb'), ('빠른', 'Adjective'), ('배송', 'Noun'), ('그리고', 'Conjunction'), ('가격', 'Noun'), ('대비', 'Noun'), ('제품', 'Noun'), ('의', 'Josa'), ('질', 'Noun'), ('이', 'Josa'), ('좋습니다', 'Adjective'), ('만족합니다', 'Adjective'), ('기', 'Modifier'), ('격', 'Noun'), ('대비', 'Noun'), ('품질', 'Noun'), ('이', 'Josa'), ('나쁘지', 'Adjective'), ('않습니다', 'Verb'), ('만족합니다', 'Adjective'), ('평소', 'Noun'), ('좋아하는데', 'Adjective'), ('저렴하게', 'Adjective'), ('잘', 'Verb'), ('샀어요', 'Verb'), ('좋네요', 'Adjective'), ('굿', 'Noun'), ('사이즈', 'Noun'), ('도', 'Josa'), ('딱', 'Adverb'), ('맞고', 'Verb'), ('재질', 'Noun'), ('도', 'Josa'), ('좋고', 'Adjective'), ('가성', 'Noun'), ('비', 'Noun'), ('최고', 'Noun'), ('예요', 'Josa'), ('가격', 'Noun'), ('이', 'Josa'), ('싸고', 'Verb'), ('상품', 'Noun'), ('도', 'Josa'), ('좋아요', 'Adjective'), ('.', 'Punctuation'), ('배송', 'Noun'), ('도', 'Josa'), ('생각', 'Noun'), ('보다', 'Josa'), ('빨라요', 'Adjective'), ('.', 'Punctuation'), ('스포츠', 'Noun'), ('그레이', 'Noun'), ('색', 'Noun'), ('이라', 'Josa'), ('밝아', 'Verb'), ('보이', 'Noun'), ('고', 'Josa'), ('목선', 'Noun'), ('이', 'Josa'), ('짱짱한게', 'Adjective'), ('좋아요', 'Adjective'), ('가성', 'Noun'), ('비', 'Noun'), ('좋고', 'Adjective'), ('뱌송', 'Noun'), ('도', 'Josa'), ('빨', 'Noun'), ('라서', 'Josa'), ('추천', 'Noun'), ('합니다', 'Verb'), ('제품', 'Noun'), ('고도', 'Noun'), ('좋', 'Adjective'), ('음', 'Noun'), ('요', 'Josa'), ('가성', 'Noun'), ('비', 'Noun'), ('좋고', 'Adjective'), ('뱌송', 'Noun'), ('도', 'Josa'), ('빨', 'Noun'), ('라서', 'Josa'), ('추천', 'Noun'), ('합니다', 'Verb'), ('제품', 'Noun'), ('고도', 'Noun'), ('좋', 'Adjective'), ('음', 'Noun'), ('요', 'Josa'), ('옷', 'Noun'), ('이', 'Josa'), ('생각', 'Noun'), ('보다', 'Josa'), ('질도', 'Noun'), ('？', 'Foreign'), ('I', 'Alpha'), ('찬', 'Noun'), ('아', 'Josa'), ('재', 'Noun'), ('구입', 'Noun'), ('합니다', 'Verb'), ('.', 'Punctuation'), ('괜찮아요', 'Adjective'), ('너무', 'Adverb'), ('튼튼하고', 'Adjective'), ('잘산거', 'Verb'), ('같습니다', 'Adjective'), ('너무', 'Adverb'), ('고맙슴니', 'Noun'), ('다', 'Josa'), ('판매', 'Noun'), ('자', 'Noun'), ('님', 'Suffix'), ('상품', 'Noun'), ('평보', 'Noun'), ('고', 'Josa'), ('110~120', 'Number'), ('정도', 'Noun'), ('입는아이', 'Verb'), ('L', 'Alpha'), ('했는데', 'Verb'), ('올해', 'Noun'), ('잘', 'Verb'), ('입을듯', 'Adjective'), ('해', 'Noun'), ('요', 'Josa'), ('제품', 'Noun'), ('은', 'Josa'), ('양품', 'Noun'), ('로', 'Noun'), ('아주', 'Noun'), ('만족스럽습니다', 'Adjective'), ('.', 'Punctuation'), ('배송', 'Noun'), ('또한', 'Noun'), ('만족스럽습니다', 'Adjective'), ('.', 'Punctuation'), ('진짜', 'Noun'), ('이', 'Determiner'), ('거', 'Noun'), ('예쁨', 'Adjective'), ('...', 'Punctuation'), ('만족도', 'Noun'), ('200%', 'Number'), ('다른', 'Modifier'), ('색상', 'Noun'), ('구매', 'Noun'), ('예정', 'Noun'), ('두번째', 'Noun'), ('구매', 'Noun'), ('입니다', 'Adjective'), ('.', 'Punctuation'), ('질도', 'Noun'), ('좋고', 'Adjective'), ('편하게', 'Adjective'), ('입어요', 'Verb'), ('저렴하게', 'Adjective'), ('잘', 'VerbPrefix'), ('샀어요', 'Verb'), ('옷감', 'Noun'), ('은', 'Josa'), ('세탁', 'Noun'), ('해봐야', 'Verb'), ('알듯', 'Verb'), ('면', 'Noun'), ('이라', 'Josa'), ('쫀쫀해', 'Noun'), ('서', 'Josa'), ('좋습니다', 'Adjective'), ('.', 'Punctuation'), ('사이즈', 'Noun'), ('는', 'Josa'), ('큽니다', 'Verb'), ('미디엄', 'Noun'), ('기준', 'Noun'), ('105', 'Number'), ('사이즈', 'Noun'), ('정도', 'Noun'), ('.', 'Punctuation'), ('새', 'Noun'), ('탁해도', 'Adjective'), ('줄어들지', 'Verb'), ('않아요', 'Verb'), ('싸고', 'Verb'), ('편하고', 'Adjective'), ('좋네요', 'Adjective'), ('더러우면', 'Adjective'), ('버리면', 'Verb'), ('됩니다', 'Verb'), ('흰색', 'Noun'), ('은', 'Josa'), ('순면', 'Noun'), ('입니다', 'Adjective'), ('.', 'Punctuation'), ('근데', 'Adverb'), ('미국', 'Noun'), ('사이즈', 'Noun'), ('라', 'Josa'), ('무지', 'Noun'), ('큽니다', 'Verb'), ('.', 'Punctuation'), ('빠른', 'Adjective'), ('배송', 'Noun'), ('싸', 'Verb'), ('이즈', 'Noun'), ('는', 'Josa'), ('생각', 'Noun'), ('보다', 'Josa'), ('크게', 'Noun'), ('나왔네요', 'Verb'), ('이', 'Noun'), ('색깔', 'Noun'), ('은', 'Josa'), ('순면', 'Noun'), ('이', 'Josa'), ('아니고', 'Adjective'), ('50%', 'Number'), ('만', 'Noun'), ('면', 'Noun'), ('입니다', 'Adjective'), ('.', 'Punctuation'), ('배송', 'Noun'), ('생각', 'Noun'), ('보다', 'Josa'), ('빨리', 'Adverb'), ('오고', 'Verb'), ('착용', 'Noun'), ('감도', 'Verb'), ('나쁘지', 'Adjective'), ('않네요', 'Verb'), ('저렴한', 'Adjective'), ('가격', 'Noun'), ('에', 'Josa'), ('좋은', 'Adjective'), ('제품', 'Noun'), ('을', 'Josa'), ('구매', 'Noun'), ('하였습니다', 'Verb'), ('가격', 'Noun'), ('만큼', 'Josa'), ('재질', 'Noun'), ('이', 'Determiner'), ('별', 'Modifier'), ('루', 'Noun'), ('에요', 'Josa'), ('한철', 'Noun'), ('입기에', 'Verb'), ('딱이네요', 'Adjective'), ('옷', 'Noun'), ('이', 'Josa'), ('좀', 'Noun'), ('뭐랄까', 'Verb'), ('종이', 'Noun'), ('로', 'Josa'), ('만든', 'Verb'), ('?', 'Punctuation'), ('것', 'Noun'), ('같은', 'Adjective'), ('느낌', 'Noun'), ('입니다', 'Adjective'), ('.', 'Punctuation'), ('ㅋ', 'KoreanParticle'), ('옷', 'Noun'), ('이', 'Josa'), ('좀', 'Noun'), ('뭐랄까', 'Verb'), ('종이', 'Noun'), ('로', 'Josa'), ('만든', 'Verb'), ('?', 'Punctuation'), ('것', 'Noun'), ('같은', 'Adjective'), ('느낌', 'Noun'), ('입니다', 'Adjective'), ('.', 'Punctuation'), ('ㅋ', 'KoreanParticle'), ('옷', 'Noun'), ('이', 'Josa'), ('좀', 'Noun'), ('뭐랄까', 'Verb'), ('종이', 'Noun'), ('로', 'Josa'), ('만든', 'Verb'), ('?', 'Punctuation'), ('것', 'Noun'), ('같은', 'Adjective'), ('느낌', 'Noun'), ('입니다', 'Adjective'), ('.', 'Punctuation'), ('ㅋ', 'KoreanParticle'), ('좋은', 'Adjective'), ('제품', 'Noun'), ('입니다', 'Adjective'), ('~', 'Punctuation'), ('사이즈', 'Noun'), ('크게', 'Noun'), ('나왔습니다', 'Verb'), ('가격', 'Noun'), ('대비', 'Noun'), ('원단', 'Noun'), ('이', 'Josa'), ('두껍고', 'Adjective'), ('좋은', 'Adjective'), ('듯', 'Noun'), ('합니다', 'Verb'), ('.', 'Punctuation'), ('다만', 'Noun'), ('사이즈', 'Noun'), ('는', 'Josa'), ('크네요', 'Verb'), ('정사', 'Noun'), ('이즈', 'Noun'), ('가시', 'Noun'), ('면', 'Josa'), ('되고', 'Verb'), ('봄', 'Noun'), ('가을', 'Noun'), ('에', 'Josa'), ('입기', 'Verb'), ('좋네요', 'Adjective'), ('재질', 'Noun'), ('도', 'Josa'), ('좋고', 'Adjective'), ('저렴하고', 'Adjective'), ('오', 'Modifier'), ('버핏', 'Noun'), ('으로', 'Josa'), ('딱좋아요', 'Adjective'), ('한국', 'Noun'), ('사이즈', 'Noun'), ('로', 'Josa'), ('L', 'Alpha'), ('입는데', 'Verb'), ('M', 'Alpha'), ('사이즈', 'Noun'), ('시켰더니', 'Verb'), ('딱', 'VerbPrefix'), ('맞네요', 'Verb'), ('생각', 'Noun'), ('보단', 'Josa'), ('얇은데요', 'Adjective'), ('?', 'Punctuation'), ('두꺼', 'Adjective'), ('？', 'Foreign'), ('m', 'Alpha'), ('음', 'Noun'), ('좋겟는데', 'Adjective'), ('아', 'Exclamation'), ('？道六？', 'Foreign'), ('색상', 'Noun'), ('은', 'Josa'), ('화면', 'Noun'), ('보다', 'Josa'), ('엷어', 'Adjective'), ('보여', 'Verb'), ('요가', 'Noun'), ('성비', 'Noun'), ('만족', 'Noun'), ('싼', 'Verb'), ('가격', 'Noun'), ('에', 'Josa'), ('대형', 'Noun'), ('사이즈', 'Noun'), ('잘', 'Verb'), ('구매', 'Noun'), ('했습니다', 'Verb'), ('.', 'Punctuation'), ('싼', 'Verb'), ('가격', 'Noun'), ('에', 'Josa'), ('대형', 'Noun'), ('사이즈', 'Noun'), ('잘', 'Verb'), ('구매', 'Noun'), ('했습니다', 'Verb'), ('.', 'Punctuation'), ('좋아요', 'Adjective'), ('완전', 'Noun'), ('대박', 'Noun'), ('나세요', 'Verb'), ('좋아요', 'Adjective'), ('완전', 'Noun'), ('대박', 'Noun'), ('나세요', 'Verb'), ('배송', 'Noun'), ('이', 'Josa'), ('빠르고', 'Adjective'), ('가성', 'Noun'), ('비', 'Noun'), ('가', 'Josa'), ('좋아서', 'Adjective'), ('추천', 'Noun'), ('합니다', 'Verb'), ('.', 'Punctuation'), ('옷', 'Noun'), ('쓸만', 'Verb'), ('하네요', 'Verb'), ('.', 'Punctuation'), ('재질', 'Noun'), ('도', 'Josa'), ('좋고', 'Adjective'), ('따', 'Verb'), ('봉', 'Noun'), ('...', 'Punctuation'), ('size', 'Alpha'), ('넉넉하고', 'Adjective'), ('저렴하게', 'Adjective'), ('구입', 'Noun'), ('만족합니다', 'Adjective'), ('편하게', 'Adjective'), ('잘', 'Verb'), ('입었던', 'Verb'), ('셔츠', 'Noun'), ('라', 'Josa'), ('추가', 'Noun'), ('구매', 'Noun'), ('했습니다', 'Verb'), ('.', 'Punctuation'), ('상품', 'Noun'), ('좋아요', 'Adjective'), ('추천', 'Noun'), ('합니다', 'Verb'), ('후회', 'Noun'), ('없을', 'Adjective'), ('거', 'Noun'), ('예요', 'Josa'), ('!', 'Punctuation'), ('이', 'Determiner'), ('가격', 'Noun'), ('에', 'Josa'), ('면도', 'Noun'), ('좋고', 'Adjective'), ('만족합니다', 'Adjective'), ('가격', 'Noun'), ('에', 'Josa'), ('마음', 'Noun'), ('에', 'Josa'), ('듭니', 'Noun'), ('다', 'Josa'), ('싼게', 'Verb'), ('비지', 'Noun'), ('떡', 'Noun'), ('보', 'Noun'), ('플', 'Exclamation'), ('완전', 'Noun'), ('심하고', 'Adjective'), ('입고', 'Verb'), ('빨', 'Noun'), ('면', 'Josa'), ('빤수록', 'Verb'), ('길이', 'Noun'), ('가', 'Josa'), ('계속', 'Noun'), ('줄어들고', 'Verb'), ('별로', 'Noun'), ('다시는', 'Verb'), ('안', 'VerbPrefix'), ('살거', 'Verb'), ('임', 'Noun'), ('.', 'Punctuation'), ('오', 'Modifier'), ('자마자', 'Noun'), ('세탁', 'Noun'), ('했는데도', 'Verb'), ('먼지', 'Noun'), ('가', 'Josa'), ('우두', 'Noun'), ('두두', 'Noun'), ('떨어지네요', 'Verb'), ('..', 'Punctuation'), ('못', 'VerbPrefix'), ('입을듯', 'Adjective'), ('합니다', 'Verb'), ('.', 'Punctuation'), ('이', 'Determiner'), ('너', 'Noun'), ('로', 'Josa'), ('착용', 'Noun'), ('하기', 'Verb'), ('너무', 'Adverb'), ('좋습니다', 'Adjective'), ('하루', 'Noun'), ('에', 'Josa'), ('하나', 'Noun'), ('씩', 'Suffix'), ('입어요', 'Verb'), ('배송', 'Noun'), ('상태', 'Noun'), ('양호', 'Noun'), ('사이즈', 'Noun'), (',', 'Punctuation'), ('색상', 'Noun'), ('양호', 'Noun'), ('사이즈', 'Noun'), ('걱정', 'Noun'), ('했는데', 'Verb'), ('괜찮네요', 'Adjective'), ('잘', 'Verb'), ('받았습니다', 'Verb'), ('.', 'Punctuation'), ('감사합니다', 'Verb'), ('.', 'Punctuation'), ('수고', 'Noun'), ('하셨어요', 'Verb'), ('.', 'Punctuation'), ('면', 'Noun'), ('100', 'Number'), ('아니고', 'Adjective'), ('좀', 'Noun'), ('많이', 'Adverb'), ('얇습니다', 'Adjective'), ('ㅐ', 'KoreanParticle'), ('구매', 'Noun'), ('해서', 'Verb'), ('잘쓰고', 'Verb'), ('잇어요', 'Verb'), ('번창', 'Noun'), ('하세요', 'Verb'), ('겨울', 'Noun'), ('용', 'Noun'), ('잠옷', 'Noun'), ('으로', 'Josa'), ('한번', 'Noun'), ('사봤어요', 'Verb'), ('그럭저럭', 'Adverb'), ('입고', 'Verb'), ('있어요', 'Adjective'), ('너무', 'Adverb'), ('건강해지는', 'Adjective'), ('느낌', 'Noun'), ('이에요', 'Josa'), ('가성', 'Noun'), ('비', 'Noun'), ('좋고', 'Adjective'), (',', 'Punctuation'), ('배송', 'Noun'), ('빨라요', 'Adjective'), ('~', 'Punctuation'), ('배송', 'Noun'), ('빠르고', 'Adjective'), ('가성', 'Noun'), ('비', 'Noun'), ('좋아요', 'Adjective'), ('배송', 'Noun'), ('빠르고', 'Adjective'), ('가성', 'Noun'), ('비', 'Noun'), ('좋아요', 'Adjective'), ('포장', 'Noun'), ('이', 'Josa'), ('거의', 'Noun'), ('폐품', 'Noun'), ('수준', 'Noun'), ('이네', 'Josa'), ('요', 'Noun'), ('안', 'Noun'), ('에', 'Josa'), ('바쳐', 'Verb'), ('입기', 'Verb'), ('좋아요', 'Adjective'), ('.', 'Punctuation'), ('정', 'Noun'), ('만', 'Josa'), ('만족합니다', 'Adjective'), ('고마워요', 'Adjective'), ('제품', 'Noun'), ('좋아요', 'Adjective'), ('품질', 'Noun'), ('도', 'Josa'), ('좋고', 'Adjective'), ('비싼거', 'Adjective'), ('살필', 'Verb'), ('요가', 'Noun'), ('없다', 'Adjective'), ('배송', 'Noun'), ('빠르고', 'Adjective'), ('옷', 'Noun'), ('도', 'Josa'), ('좋아요', 'Adjective'), ('~', 'Punctuation'), ('따뜻하고', 'Adjective'), ('튼튼해', 'Adjective'), ('보여요', 'Verb'), ('넉넉하니', 'Adjective'), ('매우', 'Noun'), ('좋아요', 'Adjective'), ('제품', 'Noun'), ('좋아요', 'Adjective'), ('면도', 'Noun'), ('좋고', 'Adjective'), ('가성', 'Noun'), ('비', 'Noun'), ('좋네요', 'Adjective'), ('역시', 'Noun'), ('사이즈', 'Noun'), ('큽니다', 'Verb'), ('.', 'Punctuation'), ('넉넉하니', 'Adjective'), ('좋습니다', 'Adjective'), ('재질', 'Noun'), ('이', 'Josa'), ('좋아요', 'Adjective'), ('.', 'Punctuation'), ('신랑', 'Noun'), ('이', 'Josa'), ('팔이', 'Noun'), ('길어서', 'Verb'), ('옷', 'Noun'), ('이', 'Josa'), ('맞네요', 'Verb'), ('좋아요', 'Adjective'), ('가격', 'Noun'), ('좋고', 'Adjective'), ('품질', 'Noun'), ('도', 'Josa'), ('좋네요', 'Adjective'), ('가성', 'Noun'), ('비', 'Noun'), ('좋고', 'Adjective'), (',', 'Punctuation'), ('배송', 'Noun'), ('빨라요', 'Adjective'), ('~', 'Punctuation'), ('옷', 'Noun'), ('이', 'Josa'), ('뻣뻣해요', 'Adjective'), ('싸게', 'Verb'), ('샀더니', 'Verb'), ('품질', 'Noun'), ('이', 'Josa'), ('떨어지네요', 'Verb'), ('재구', 'Verb'), ('매는', 'Verb'), ('안', 'VerbPrefix'), ('할', 'Verb'), ('듯', 'Noun'), ('요', 'Josa'), ('옷', 'Noun'), ('은', 'Josa'), ('그럭저럭', 'Adverb'), ('나쁘지', 'Adjective'), ('않은데', 'Verb'), ('너무', 'Adverb'), ('길어요', 'Verb'), ('ㅠ', 'KoreanParticle'), ('세탁', 'Noun'), ('후', 'Noun'), ('에', 'Josa'), ('상태', 'Noun'), ('가', 'Josa'), ('어떨지', 'Adjective'), ('..', 'Punctuation'), ('색', 'Noun'), ('이', 'Josa'), ('짙은', 'Adjective'), ('파란색', 'Noun'), ('이에요', 'Josa'), ('참고', 'Noun'), ('하세요', 'Verb'), ('굿', 'Noun'), ('두꺼', 'Adjective'), ('움', 'Noun'), ('싸고', 'Verb'), ('질', 'Noun'), ('좋음', 'Adjective'), ('매우', 'Noun'), ('만족합니다', 'Adjective'), ('.', 'Punctuation'), ('강추', 'Noun'), ('옷', 'Noun'), ('마음', 'Noun'), ('에', 'Josa'), ('드네', 'Noun'), ('요', 'Josa'), ('.', 'Punctuation'), ('소재', 'Noun'), ('도', 'Josa'), ('괜찮고', 'Adjective'), ('디자인', 'Noun'), ('도', 'Josa'), ('마음', 'Noun'), ('에', 'Josa'), ('드네', 'Noun'), ('요', 'Josa'), ('.', 'Punctuation'), ('생각', 'Noun'), ('보다', 'Josa'), ('얇고', 'Adjective'), (',', 'Punctuation'), ('생각', 'Noun'), ('보다', 'Josa'), ('크고', 'Verb'), (',', 'Punctuation'), ('생각', 'Noun'), ('보다', 'Josa'), ('길어요', 'Verb'), ('.', 'Punctuation'), ('.', 'Punctuation'), ('싸게', 'Verb'), ('잘', 'VerbPrefix'), ('샀네요', 'Verb'), ('수고', 'Noun'), ('하세요', 'Verb'), ('0', 'Number'), ('THC', 'Alpha'), ('3603', 'Number'), ('아마존', 'Noun'), ('2%', 'Number'), ('추가', 'Noun'), ('적립', 'Noun'), ('추천', 'Noun'), ('코드', 'Noun'), ('입니다', 'Adjective'), ('.', 'Punctuation'), ('어디서', 'Adverb'), ('이따위', 'Modifier'), ('를', 'Noun'), (',,', 'Punctuation'), ('비닐', 'Noun'), ('은', 'Josa'), ('먼지', 'Noun'), ('가', 'Josa'), ('퀘퀘', 'Noun'), ('하고', 'Josa'), (',,', 'Punctuation'), ('곰팡이', 'Noun'), ('나기', 'Noun'), ('직전', 'Noun'), ('으로', 'Josa'), ('보이는', 'Verb'), ('데', 'Noun'), ('다', 'Josa'), ('소매', 'Noun'), ('는', 'Josa'), ('70~80년', 'Number'), ('대나', 'Foreign'), ('쓸', 'Verb'), ('법', 'Noun'), ('한', 'Josa'), ('원단', 'Noun'), ('에', 'Josa'), (',,', 'Punctuation'), ('올', 'Verb'), ('다', 'Adverb'), ('풀린', 'Verb'), ('게', 'Noun'), ('옴', 'Noun'), (',,', 'Punctuation'), ('가관', 'Noun'), ('도', 'Josa'), ('아닌', 'Adjective'), ('게', 'Noun'), ('왕', 'Noun'), ('짜증', 'Noun'), ('유발', 'Noun'), (',,', 'Punctuation'), ('네', 'Determiner'), ('버', 'Noun'), ('에버', 'Noun'), ('절대', 'Noun'), ('적', 'Suffix'), ('으로', 'Josa'), ('구매', 'Noun'), ('안', 'VerbPrefix'), ('한다', 'Verb'), ('이', 'Determiner'), ('것', 'Noun'), ('들', 'Suffix'), ('아', 'Josa'), ('~~!!!!', 'Punctuation'), ('^^,', 'Punctuation'), ('뭘', 'Noun'), ('기대하고', 'Adjective'), ('구매', 'Noun'), ('했을까', 'Verb'), ('나', 'Noun'), ('......', 'Punctuation'), ('우주', 'Noun'), ('패스', 'Noun'), ('아웃', 'Noun'), ('!!!!!!', 'Punctuation'), ('시', 'Modifier'), ('보리', 'Noun'), ('이음', 'Noun'), ('새', 'Noun'), ('등', 'Noun'), ('이', 'Josa'), ('틀어져', 'Verb'), ('마무리', 'Noun'), ('되었고', 'Verb'), ('전체', 'Noun'), ('적', 'Suffix'), ('으로', 'Josa'), ('품질', 'Noun'), ('이', 'Josa'), ('조악합니다', 'Adjective'), ('.', 'Punctuation'), ('싼게', 'Verb'), ('비지', 'Noun'), ('떡', 'Noun'), ('이란', 'Josa'), ('말', 'Noun'), ('이', 'Josa'), ('떠오르는', 'Verb'), ('제품', 'Noun'), ('입니다', 'Adjective'), ('.', 'Punctuation'), ('THC', 'Alpha'), ('3603', 'Number'), ('아마존', 'Noun'), ('2%', 'Number'), ('추가', 'Noun'), ('적립', 'Noun'), ('추천', 'Noun'), ('코드', 'Noun'), ('입니다', 'Adjective'), ('.', 'Punctuation'), ('창고', 'Noun'), ('대', 'Modifier'), ('방출', 'Noun'), ('치곤', 'Verb'), ('넘', 'Verb'), ('허', 'Verb'), ('접해', 'Verb'), ('보였는', 'Verb'), ('데', 'Noun'), ('빠니까', 'Verb'), ('훨', 'Noun'), ('낫네요', 'Verb'), ('ㅎㅎ', 'KoreanParticle'), ('우주', 'Noun'), ('패스', 'Noun'), ('구매', 'Noun'), ('중', 'Noun'), ('에', 'Josa'), ('그나마', 'Adverb'), ('건진', 'Verb'), ('거', 'Noun'), (',,', 'Punctuation'), ('우주', 'Noun'), ('패스', 'Noun'), ('아웃', 'Noun'), ('!!!!', 'Punctuation'), ('생각', 'Noun'), ('보다', 'Josa'), ('가볍고', 'Adjective'), ('좋아요', 'Adjective'), ('큰', 'Verb'), ('사이즈', 'Noun'), ('옷', 'Noun'), ('찾다가', 'Verb'), ('발견', 'Noun'), ('해서', 'Verb'), ('구매', 'Noun'), ('했는데', 'Verb'), (',', 'Punctuation'), ('만족합니다', 'Adjective'), ('.', 'Punctuation'), ('소매', 'Noun'), ('를', 'Josa'), ('걷어', 'Verb'), ('올리면', 'Verb'), ('쉽게', 'Verb'), ('늘어나서', 'Verb'), ('되돌리기', 'Noun'), ('힘든', 'Adjective'), ('점', 'Noun'), ('빼고는', 'Verb'), ('만족합니다', 'Adjective'), ('.', 'Punctuation'), ('옷', 'Noun'), ('이', 'Josa'), ('얇아', 'Adjective'), ('비침이있고', 'Verb'), ('구김', 'Noun'), ('도', 'Josa'), ('심한', 'Adjective'), ('편이', 'Noun'), ('네', 'Suffix'), ('요', 'Josa'), ('이', 'Determiner'), ('너', 'Noun'), ('로', 'Josa'), ('받쳐', 'Verb'), ('입는용', 'Verb'), ('도로', 'Noun'), ('입어야겠어요', 'Verb'), ('집', 'Noun'), ('에서', 'Josa'), ('편하게', 'Adjective'), ('입', 'Noun'), ('을', 'Josa'), ('수', 'Noun'), ('있습니다', 'Adjective'), ('.', 'Punctuation'), ('내복', 'Noun'), ('과', 'Josa'), ('비슷하지만', 'Adjective'), (',', 'Punctuation'), ('간단한', 'Adjective'), ('외출', 'Noun'), ('복', 'Noun'), ('으로도', 'Josa'), ('괜찮은', 'Adjective'), ('편입', 'Noun'), ('니', 'Noun'), ('다', 'Josa'), ('.', 'Punctuation'), ('그냥', 'Noun'), ('츄리', 'Noun'), ('링', 'Noun'), ('과', 'Josa'), ('같이', 'Adverb'), ('입', 'Noun'), ('을', 'Josa'), ('수', 'Noun'), ('있는', 'Adjective'), ('옷', 'Noun'), ('입니다', 'Adjective'), ('.', 'Punctuation'), ('국내', 'Noun'), ('에서는', 'Josa'), ('XL', 'Alpha'), ('(', 'Punctuation'), ('105', 'Number'), (')', 'Punctuation'), ('을', 'Josa'), ('사는데', 'Verb'), (',', 'Punctuation'), ('이', 'Noun'), ('제품', 'Noun'), ('은', 'Josa'), ('L', 'Alpha'), ('사이즈', 'Noun'), ('로', 'Josa'), ('주문', 'Noun'), ('했고', 'Verb'), (',', 'Punctuation'), ('잘', 'Verb'), ('맞습니다', 'Verb'), ('.', 'Punctuation'), (\"'\", 'Punctuation'), ('롱', 'Noun'), ('슬리브', 'Noun'), (\"'\", 'Punctuation'), ('제품', 'Noun'), ('이어서', 'Josa'), ('허리', 'Noun'), ('가', 'Josa'), ('길고', 'Adjective'), ('편합니다', 'Adjective'), ('.', 'Punctuation'), ('국내', 'Noun'), ('사이즈', 'Noun'), ('로', 'Josa'), ('120', 'Number'), ('정도', 'Noun'), ('되는거', 'Verb'), ('같고요', 'Adjective'), ('？', 'Foreign'), ('은', 'Noun'), ('면티', 'Noun'), ('느낌', 'Noun'), ('입니다', 'Adjective'), ('~', 'Punctuation'), ('감사합니다', 'Verb'), ('제품', 'Noun'), ('저렴하고', 'Adjective'), ('좋아요', 'Adjective'), ('배송', 'Noun'), ('이', 'Josa'), ('국내', 'Noun'), ('배송', 'Noun'), ('처럼', 'Josa'), ('빠르네요', 'Adjective'), ('만족', 'Noun'), ('이', 'Suffix'), ('요', 'Josa'), ('저렴히', 'Adjective'), ('잘', 'Verb'), ('샀어요', 'Verb'), ('한국인', 'Noun'), ('사이즈', 'Noun'), ('아니네요', 'Adjective'), (',.', 'Punctuation'), ('105', 'Number'), ('를', 'Noun'), ('주문', 'Noun'), ('해서', 'Verb'), ('입어보니', 'Verb'), ('너', 'Modifier'), ('무크', 'Noun'), ('네', 'Suffix'), ('요', 'Josa'), ('.', 'Punctuation'), ('입지', 'Noun'), ('를', 'Josa'), ('못', 'VerbPrefix'), ('하겠네요', 'Verb'), ('그냥', 'Noun'), ('막', 'Noun'), ('입기', 'Verb'), ('참', 'Verb'), ('좋습니다', 'Adjective'), ('.', 'Punctuation'), ('가격', 'Noun'), ('대비', 'Noun'), ('좋아요', 'Adjective'), ('좋아요', 'Adjective'), ('완전', 'Noun'), ('대박', 'Noun'), ('나세요', 'Verb'), ('ㅎㅎ', 'KoreanParticle'), ('사이즈', 'Noun'), ('는', 'Josa'), ('적당한데', 'Adjective'), ('조금', 'Noun'), ('얇아요', 'Adjective'), ('제', 'Noun'), ('가', 'Josa'), ('이', 'Determiner'), ('걸', 'Noun'), ('샀었나요', 'Verb'), ('어디', 'Noun'), ('갔지', 'Verb'), ('.', 'Punctuation'), ('가격', 'Noun'), ('대비', 'Noun'), ('아주', 'Noun'), ('만족스럽습니다', 'Adjective'), ('잘', 'Verb'), ('받았습니다', 'Verb'), ('.', 'Punctuation'), ('감사합니다', 'Verb'), ('.', 'Punctuation'), ('매우', 'Noun'), ('만족해요', 'Adjective'), ('.', 'Punctuation'), ('가정', 'Noun'), ('용', 'Noun'), ('으로', 'Josa'), ('최고', 'Noun'), ('아주', 'Noun'), ('조금', 'Noun'), ('넉넉하게', 'Adjective'), ('딱좋아여', 'Adjective'), ('원단', 'Noun'), ('이', 'Josa'), ('얇긴한데', 'Adjective'), (',', 'Punctuation'), ('가성', 'Noun'), ('비', 'Noun'), ('괜찮아요', 'Adjective'), ('가성', 'Noun'), ('비', 'Noun'), ('좋고', 'Adjective'), ('.', 'Punctuation'), ('배송', 'Noun'), ('빨라요', 'Adjective'), ('~', 'Punctuation'), ('옷', 'Noun'), ('크고', 'Verb'), ('정말', 'Noun'), ('좋습니다', 'Adjective'), ('옷', 'Noun'), ('이', 'Josa'), ('넉넉해서', 'Adjective'), ('좋아요', 'Adjective'), ('.', 'Punctuation'), ('가격', 'Noun'), ('대비', 'Noun'), ('막', 'Noun'), ('입기', 'Verb'), ('좋네요', 'Adjective'), ('매우', 'Noun'), ('만족', 'Noun'), ('을', 'Josa'), ('합니다', 'Verb'), ('.', 'Punctuation'), ('싼', 'Verb'), ('맛', 'Noun'), ('에', 'Josa'), ('작업', 'Noun'), ('용', 'Noun'), ('으로', 'Josa'), ('입을만한', 'Adjective'), ('티셔츠', 'Noun'), ('가격', 'Noun'), ('에', 'Josa'), ('걸', 'Noun'), ('맞는', 'Verb'), ('티셔츠', 'Noun'), ('입니다', 'Adjective'), ('.', 'Punctuation'), ('털털', 'Noun'), ('한', 'Josa'), ('내게', 'Verb'), ('잘', 'Verb'), ('맞는', 'Verb'), ('듯', 'Noun'), ('한', 'Josa'), ('티셔츠', 'Noun'), ('옷', 'Noun'), ('모양새', 'Noun'), ('도', 'Josa'), ('맘', 'Noun'), ('에', 'Josa'), ('쏙', 'Noun'), ('두툽', 'Noun'), ('하고', 'Josa'), ('부드럽네요', 'Adjective'), ('사이즈', 'Noun'), ('는', 'Josa'), ('국내', 'Noun'), ('보단', 'Josa'), ('커요', 'Verb'), ('천은', 'Noun'), ('쏘', 'Verb'), ('쏘', 'Verb'), ('사이즈', 'Noun'), ('는', 'Josa'), ('한국', 'Noun'), ('보다', 'Josa'), ('한', 'Determiner'), ('치수', 'Noun'), ('다운', 'Noun'), ('~~', 'Punctuation'), ('화이트', 'Noun'), ('구매', 'Noun'), ('후', 'Noun'), ('넘', 'Verb'), ('도아', 'Noun'), ('재', 'Noun'), ('주문', 'Noun'), ('10', 'Number'), ('셋트합니', 'Noun'), ('다', 'Josa'), ('잘', 'Verb'), ('입고', 'Verb'), ('있습니다', 'Adjective'), ('.', 'Punctuation'), ('105', 'Number'), ('에는', 'Josa'), ('L', 'Alpha'), ('사이즈', 'Noun'), ('.', 'Punctuation'), ('만족합니다', 'Adjective'), ('.', 'Punctuation'), ('집', 'Noun'), ('에서', 'Josa'), ('입기', 'Verb'), ('매우', 'Noun'), ('편해요', 'Adjective'), ('.', 'Punctuation'), ('두껍지는', 'Adjective'), ('않지만', 'Verb'), ('실내', 'Noun'), ('에서', 'Josa'), ('입기', 'Verb'), ('좋아요', 'Adjective'), ('홈웨어', 'Noun'), ('면', 'Noun'), ('긴', 'Verb'), ('팔', 'Modifier'), ('티', 'Noun'), ('로', 'Josa'), ('매우', 'Noun'), ('만족합니다', 'Adjective'), ('.', 'Punctuation'), ('막', 'Noun'), ('입기', 'Verb'), ('좋습니다', 'Adjective'), ('품', 'Noun'), ('이', 'Josa'), ('매우', 'Noun'), ('넉넉하네요', 'Adjective'), ('가성', 'Noun'), ('비', 'Noun'), ('대비', 'Noun'), ('괜찮아요', 'Adjective'), ('배송', 'Noun'), ('중', 'Suffix'), ('분실', 'Noun'), ('제품', 'Noun'), ('좋고', 'Adjective'), ('배송', 'Noun'), ('좋고', 'Adjective'), ('굿', 'Noun'), ('입니다', 'Adjective'), ('한', 'Determiner'), ('사이즈', 'Noun'), ('작게', 'Adjective'), ('주문', 'Noun'), ('해야', 'Verb'), ('합니다', 'Verb'), ('.', 'Punctuation'), ('한국', 'Noun'), ('사이즈', 'Noun'), ('XL', 'Alpha'), ('인데', 'Josa'), ('잘', 'Verb'), ('맞네요', 'Verb'), ('살', 'Noun'), ('좀', 'Noun'), ('빼고', 'Verb'), ('입어야', 'Verb'), ('겠어요', 'Verb'), ('ㅠ', 'KoreanParticle'), ('옷', 'Noun'), ('싸', 'Verb'), ('이즈', 'Noun'), ('가', 'Josa'), ('커서', 'Noun'), ('맘', 'Noun'), ('에', 'Josa'), ('드내', 'Noun'), ('요', 'Josa'), ('가격', 'Noun'), ('대비', 'Noun'), ('품질', 'Noun'), ('좋음', 'Adjective'), ('배송', 'Noun'), ('빠름', 'Adjective'), ('원단', 'Noun'), ('이', 'Josa'), ('넘', 'Verb'), ('좋아', 'Adjective'), ('요강', 'Noun'), ('추합니다', 'Adjective'), ('좋아요', 'Adjective'), ('사이즈', 'Noun'), ('가', 'Josa'), ('크네요', 'Verb'), ('배송', 'Noun'), ('빠르고', 'Adjective'), ('역', 'Noun'), ('시크', 'Noun'), ('록스', 'Noun'), ('짱', 'Suffix'), ('믿고', 'Verb'), ('시키는', 'Verb'), ('졔품', 'Noun'), ('이에요', 'Josa'), ('사이즈', 'Noun'), ('가', 'Josa'), ('정확해요', 'Adjective'), ('.', 'Punctuation'), ('넘', 'Verb'), ('크요', 'Verb'), ('좋아요', 'Adjective'), ('상품', 'Noun'), ('너무', 'Adverb'), ('좋아요', 'Adjective'), ('좋아요', 'Adjective'), ('~', 'Punctuation'), ('많이', 'Adverb'), ('파세요', 'Verb'), ('~', 'Punctuation'), ('좋아요', 'Adjective'), ('~', 'Punctuation'), ('많이', 'Adverb'), ('파세요', 'Verb'), ('~', 'Punctuation'), ('좋아요', 'Adjective'), ('~', 'Punctuation'), ('많이', 'Adverb'), ('파세요', 'Verb'), ('~', 'Punctuation'), ('좋아요', 'Adjective'), ('~', 'Punctuation'), ('많이', 'Adverb'), ('파세요', 'Verb'), ('~', 'Punctuation'), ('0', 'Number'), ('0', 'Number'), ('0', 'Number'), ('0', 'Number'), ('괜찮아요', 'Adjective'), ('ㅎㅎㅎㅎ', 'KoreanParticle'), ('괜찮아요', 'Adjective'), ('ㅎㅎㅎㅎ', 'KoreanParticle'), ('괜찮아요', 'Adjective'), ('ㅎㅎㅎㅎ', 'KoreanParticle'), ('ㄷㄱㅌㄴㄷㄱㅊㄴㅊㄴㄷㄴㄷㄴㄷㅈㄱㅊㄴ', 'KoreanParticle'), ('감사합니다', 'Verb'), ('감사합니다', 'Verb'), ('good', 'Alpha'), ('good', 'Alpha'), ('good', 'Alpha'), ('ㅋㅋㅋㅋㅋ', 'KoreanParticle'), ('싸게', 'Verb'), ('사서', 'Noun'), ('5', 'Number'), ('점', 'Noun'), ('가성', 'Noun'), ('비', 'Noun'), ('최고', 'Noun'), ('최고', 'Noun'), ('?', 'Punctuation'), ('배송', 'Noun'), ('빠르고', 'Adjective'), ('좋아요', 'Adjective'), ('~~', 'Punctuation'), ('아주', 'Noun'), ('만족스럽습니다', 'Adjective'), ('!', 'Punctuation'), ('배송', 'Noun'), ('빠르고', 'Adjective'), ('좋아요', 'Adjective'), ('싸게', 'Verb'), ('잘', 'Verb'), ('샀어요', 'Verb'), ('안', 'Noun'), ('에', 'Josa'), ('입기', 'Verb'), ('좋아요', 'Adjective'), ('싸게', 'Verb'), ('잘', 'Verb'), ('샀어요', 'Verb'), ('완전', 'Noun'), ('최저', 'Noun'), ('가', 'Josa'), ('맘', 'Noun'), ('에', 'Josa'), ('드네', 'Noun'), ('요', 'Josa'), ('조잡해요', 'Adjective'), ('튼튼해요', 'Adjective'), ('최고', 'Noun'), ('에요', 'Josa'), ('최고', 'Noun'), ('에요', 'Josa'), ('조', 'Modifier'), ('힝', 'Noun'), ('ㆍ', 'Foreign'), ('요', 'Noun'), ('배송', 'Noun'), ('사고', 'Noun'), ('괜찮아요', 'Adjective'), ('좋아요', 'Adjective'), ('좋아요', 'Adjective'), ('너무', 'Adverb'), ('큼', 'Verb'), ('너무', 'Adverb'), ('큼', 'Verb'), ('조아요', 'Adjective'), ('굿', 'Noun'), ('.', 'Punctuation'), ('0', 'Number'), ('0', 'Number'), ('0', 'Number'), ('0', 'Number'), ('0', 'Number'), ('0', 'Number'), ('0', 'Number'), ('0', 'Number'), ('0', 'Number'), ('0', 'Number'), ('0', 'Number'), ('0', 'Number'), ('0', 'Number'), ('0', 'Number'), ('0', 'Number'), ('0', 'Number'), ('0', 'Number'), ('0', 'Number'), ('0', 'Number'), ('0', 'Number'), ('0', 'Number'), ('0', 'Number'), ('0', 'Number'), ('0', 'Number'), ('0', 'Number'), ('0', 'Number'), ('0', 'Number'), ('0', 'Number'), ('0', 'Number'), ('0', 'Number'), ('0', 'Number'), ('0', 'Number'), ('0', 'Number'), ('0', 'Number'), ('0', 'Number'), ('0', 'Number'), ('0', 'Number'), ('0', 'Number'), ('0', 'Number'), ('0', 'Number'), ('0', 'Number'), ('0', 'Number'), ('0', 'Number'), ('0', 'Number'), ('0', 'Number'), ('0', 'Number'), ('0', 'Number'), ('0', 'Number'), ('0', 'Number'), ('0', 'Number'), ('0', 'Number'), ('0', 'Number'), ('0', 'Number'), ('0', 'Number'), ('0', 'Number'), ('0', 'Number'), ('0', 'Number'), ('0', 'Number'), ('0', 'Number'), ('0', 'Number'), ('0', 'Number'), ('0', 'Number'), ('0', 'Number'), ('0', 'Number'), ('0', 'Number'), ('0', 'Number'), ('0', 'Number'), ('0', 'Number'), ('0', 'Number'), ('0', 'Number'), ('0', 'Number'), ('0', 'Number'), ('0', 'Number'), ('0', 'Number'), ('0', 'Number'), ('0', 'Number'), ('0', 'Number'), ('0', 'Number'), ('0', 'Number'), ('0', 'Number'), ('0', 'Number'), ('0', 'Number'), ('0', 'Number'), ('0', 'Number'), ('0', 'Number'), ('0', 'Number'), ('0', 'Number'), ('0', 'Number'), ('0', 'Number'), ('0', 'Number'), ('0', 'Number'), ('0', 'Number'), ('0', 'Number'), ('0', 'Number'), ('0', 'Number'), ('0', 'Number'), ('0', 'Number'), ('0', 'Number'), ('0', 'Number'), ('0', 'Number'), ('0', 'Number'), ('0', 'Number'), ('0', 'Number'), ('그냥', 'Noun'), ('그래요', 'Adjective'), ('생각', 'Noun'), ('보단', 'Josa'), ('너무', 'Adverb'), ('좋네요', 'Adjective'), ('.', 'Punctuation'), ('백프로', 'Noun'), ('면', 'Noun'), ('이', 'Suffix'), ('예요', 'Josa'), ('.', 'Punctuation'), ('빠른', 'Adjective'), ('배송', 'Noun'), ('감사', 'Noun'), ('드립니다', 'Verb'), ('만족합니다', 'Adjective'), ('!!!~~', 'Punctuation'), ('쫀쫀하', 'Noun'), ('니', 'Josa'), ('좋네요', 'Adjective'), ('!!', 'Punctuation'), ('봄가을에', 'Verb'), ('입기', 'Verb'), ('적당하겠네요', 'Adjective'), ('저렴하게', 'Adjective'), ('잘', 'Verb'), ('샀습니다', 'Verb'), ('0', 'Number'), ('팔', 'Modifier'), ('길이', 'Noun'), ('가', 'Josa'), ('기네', 'Noun'), ('요', 'Josa'), ('감안', 'Noun'), ('하', 'Suffix'), ('심', 'Noun'), ('좋을듯', 'Adjective'), ('....', 'Punctuation'), ('사이즈', 'Noun'), ('그대로', 'Noun'), ('사시', 'Noun'), ('면', 'Josa'), ('됩니다', 'Verb'), ('~!!', 'Punctuation'), ('대단히', 'Adjective'), ('좋은', 'Adjective'), ('상품', 'Noun'), ('입니다', 'Adjective'), ('생각', 'Noun'), ('보다', 'Josa'), ('질', 'Noun'), ('좋은', 'Adjective'), ('옷', 'Noun'), ('입니', 'Adjective'), ('더', 'Noun'), ('사이즈', 'Noun'), ('조금', 'Noun'), ('크나', 'Verb'), ('편합니다', 'Adjective'), ('가격', 'Noun'), ('대비', 'Noun'), ('보통', 'Noun'), ('수준', 'Noun'), ('인거', 'Josa'), ('같아요', 'Adjective'), ('사이즈', 'Noun'), ('는', 'Josa'), ('굿', 'Noun'), ('팔', 'Modifier'), ('길이', 'Noun'), ('가', 'Josa'), ('크네요', 'Verb'), ('작년', 'Noun'), ('에', 'Josa'), ('구매', 'Noun'), ('하고', 'Josa'), ('올해', 'Noun'), ('또', 'Noun'), ('구매', 'Noun'), ('하였습니다', 'Verb'), ('몇번', 'Noun'), ('새', 'Noun'), ('탁하니', 'Adjective'), ('색도', 'Noun'), ('바라고', 'Verb'), ('해지', 'Noun'), ('는', 'Josa'), ('것', 'Noun'), ('같네요', 'Adjective'), ('너무', 'Adverb'), ('잘', 'Verb'), ('입어져요', 'Verb'), ('!!!', 'Punctuation'), ('가성', 'Noun'), ('비', 'Noun'), ('가', 'Josa'), ('엄청', 'Adverb'), ('안좋습니다', 'Adjective'), ('.', 'Punctuation'), ('가격', 'Noun'), ('이', 'Josa'), ('싼만큼', 'Verb'), ('질', 'Noun'), ('이', 'Josa'), ('더', 'Noun'), ('안좋습니다', 'Adjective'), ('.', 'Punctuation'), ('걸레', 'Noun'), ('재질', 'Noun'), ('나쁘지', 'Adjective'), ('않은데', 'Verb'), ('생각', 'Noun'), ('보다', 'Josa'), ('길이', 'Noun'), ('가', 'Josa'), ('기네', 'Noun'), ('요', 'Josa'), ('사이즈', 'Noun'), ('넉넉하고', 'Adjective'), ('좋습니다', 'Adjective'), ('잠옷', 'Noun'), ('으로', 'Josa'), ('집', 'Noun'), ('에서', 'Josa'), ('입는', 'Verb'), ('용도', 'Noun'), ('로', 'Josa'), ('좋습니다', 'Adjective'), ('.', 'Punctuation'), ('M', 'Alpha'), ('은', 'Noun'), ('100', 'Number'), ('사이즈', 'Noun'), ('정도', 'Noun'), ('사이즈', 'Noun'), ('가', 'Josa'), ('들쭉날쭉', 'Noun'), ('어렵네요', 'Adjective'), ('저렴한데', 'Adjective'), ('옷감', 'Noun'), ('은', 'Josa'), ('좋네요', 'Adjective'), ('.', 'Punctuation'), ('가성', 'Noun'), ('비', 'Noun'), ('최고', 'Noun'), ('네', 'Suffix'), ('요', 'Josa'), ('색상', 'Noun'), ('재봉', 'Noun'), ('재질', 'Noun'), ('다', 'Adverb'), ('조아요', 'Adjective'), ('아주', 'Noun'), ('만족합니다', 'Adjective'), ('.', 'Punctuation'), ('ㅊㅊ', 'KoreanParticle'), ('Itchy', 'Alpha'), ('&', 'Punctuation'), ('rough', 'Alpha'), ('feel', 'Alpha'), ('.', 'Punctuation'), ('Will', 'Alpha'), ('not', 'Alpha'), ('suggest', 'Alpha'), ('to', 'Alpha'), ('purchase', 'Alpha'), ('if', 'Alpha'), ('you', 'Alpha'), ('have', 'Alpha'), ('sensitive', 'Alpha'), ('skin', 'Alpha'), ('Rough', 'Alpha'), ('feel', 'Alpha'), ('.', 'Punctuation'), ('Itch', 'Alpha'), ('.', 'Punctuation'), ('0', 'Number'), ('가격', 'Noun'), ('대비', 'Noun'), ('짱짱합니다', 'Adjective'), ('가격', 'Noun'), ('대비', 'Noun'), ('짱짱합니다', 'Adjective'), ('너무', 'Adverb'), ('커요', 'Verb'), ('...', 'Punctuation'), ('한', 'Determiner'), ('치수', 'Noun'), ('낮게', 'Adjective'), ('주문', 'Noun'), ('하세요', 'Verb'), ('..', 'Punctuation'), ('0', 'Number'), ('0', 'Number'), ('0', 'Number'), ('0', 'Number'), ('잘', 'Verb'), ('받았습니다', 'Verb'), ('？？', 'Foreign'), ('아요', 'Eomi'), ('품질', 'Noun'), ('가격', 'Noun'), ('기', 'Modifier'), ('대', 'Modifier'), ('이상', 'Noun'), ('이에요', 'Josa'), ('가격', 'Noun'), ('대비', 'Noun'), ('훌륭합니다', 'Adjective'), ('.', 'Punctuation'), ('0', 'Number'), ('0', 'Number'), ('0', 'Number'), ('주문', 'Noun'), ('한', 'Josa'), ('거', 'Noun'), ('랑', 'Josa'), ('다른', 'Noun'), ('상품', 'Noun'), ('이', 'Josa'), ('와서', 'Verb'), ('환불', 'Noun'), ('받는', 'Verb'), ('데', 'Noun'), ('한', 'Determiner'), ('세월', 'Noun'), ('이네', 'Josa'), ('요', 'Noun'), ('그래도', 'Adverb'), ('상담사', 'Noun'), ('분', 'Noun'), ('이', 'Josa'), ('친절하셨습니다', 'Adjective'), ('~', 'Punctuation'), ('박', 'Noun'), ('시해', 'Noun'), ('서', 'Josa'), ('좋아요', 'Adjective'), ('저렴하게', 'Adjective'), ('잘', 'Verb'), ('구매', 'Noun'), ('했어요', 'Verb'), ('아주', 'Noun'), ('좋아요', 'Adjective'), ('아주', 'Noun'), ('좋아요', 'Adjective'), ('옷', 'Noun'), ('은', 'Josa'), ('편해요', 'Adjective'), ('질감', 'Noun'), ('은', 'Josa'), ('보통', 'Noun'), ('이에요', 'Josa'), ('0', 'Number'), ('엄청나게', 'Adjective'), ('빠른', 'Adjective'), ('배송', 'Noun'), ('으로', 'Josa'), ('도착', 'Noun'), ('ㅎㅎ', 'KoreanParticle'), ('가성', 'Noun'), ('비', 'Noun'), ('짱', 'VerbPrefix'), ('입니다', 'Adjective'), ('자주', 'Noun'), ('구', 'Modifier'), ('매각', 'Noun'), ('정사', 'Noun'), ('이즈', 'Noun'), ('보다', 'Josa'), ('좀', 'Noun'), ('큽니다', 'Verb'), ('.', 'Punctuation'), ('정사', 'Noun'), ('이즈', 'Noun'), ('사면', 'Noun'), ('좀', 'Noun'), ('큽니다', 'Verb'), ('.', 'Punctuation'), ('0', 'Number'), ('0', 'Number'), ('옷', 'Noun'), ('품질', 'Noun'), ('이', 'Josa'), ('좀', 'Noun'), ('그래요', 'Adjective'), ('재질', 'Noun'), ('도', 'Josa'), ('톡톡하니', 'Adjective'), ('너무', 'Adverb'), ('좋네요', 'Adjective'), ('~', 'Punctuation'), ('넘', 'Verb'), ('커요', 'Verb'), ('0', 'Number')]\n"
     ]
    }
   ],
   "source": [
    "# 컬럼값을 합쳐서 최빈값 \n",
    "combined_list = df['Text_Position'].sum()\n",
    "print(combined_list)\n"
   ]
  },
  {
   "cell_type": "code",
   "execution_count": null,
   "id": "a32e7520",
   "metadata": {},
   "outputs": [],
   "source": []
  },
  {
   "cell_type": "code",
   "execution_count": 43,
   "id": "27146b39",
   "metadata": {},
   "outputs": [],
   "source": [
    "from collections import defaultdict\n",
    "\n",
    "# 리스트에서 각 품사별로 가장 많이 등장한 단어와 등장 횟수를 반환하는 함수\n",
    "def find_most_common_words(lst):\n",
    "    # 각 품사별로 등장한 단어와 등장 횟수를 담을 딕셔너리\n",
    "    noun_dict = defaultdict(int)\n",
    "    verb_dict = defaultdict(int)\n",
    "    adjective_dict = defaultdict(int)\n",
    "    adverb_dict = defaultdict(int)\n",
    "    etc_dict = defaultdict(int)\n",
    "\n",
    "    # 리스트에서 각 단어와 품사를 추출하고, 딕셔너리에서 해당하는 항목의 값을 1 증가시킴\n",
    "    for word, tag in lst:\n",
    "        if tag.startswith('N'):  # 명사\n",
    "            noun_dict[(tag, word)] += 1\n",
    "        elif tag.startswith('V'):  # 동사\n",
    "            verb_dict[(tag, word)] += 1\n",
    "        elif tag.startswith('J'):  # 형용사\n",
    "            adjective_dict[(tag, word)] += 1\n",
    "        elif tag.startswith('A'):  # 부사\n",
    "            adverb_dict[(tag, word)] += 1\n",
    "        else:  # 그 외의 품사\n",
    "            etc_dict[(tag, word)] += 1\n",
    "\n",
    "    # 딕셔너리에서 각 품사별로 등장 횟수가 가장 많은 항목 추출\n",
    "    noun_most_common = max(noun_dict.items(), key=lambda x: x[1])\n",
    "    # verb_most_common = max(verb_dict.items(), key=lambda x: x[1])\n",
    "    # adjective_most_common = max(adjective_dict.items(), key=lambda x: x[1])\n",
    "    # adverb_most_common = max(adverb_dict.items(), key=lambda x: x[1])\n",
    "    # etc_most_common = max(etc_dict.items(), key=lambda x: x[1])\n",
    "\n",
    "    # 결과를 튜플로 묶어 반환\n",
    "    return (noun_most_common[0][0], noun_most_common[0][1], noun_most_common[1][1])"
   ]
  },
  {
   "cell_type": "code",
   "execution_count": 44,
   "id": "851c60fe",
   "metadata": {},
   "outputs": [],
   "source": [
    "# find_most_common_words(combined_list)"
   ]
  },
  {
   "cell_type": "code",
   "execution_count": 45,
   "id": "78b00b60",
   "metadata": {},
   "outputs": [],
   "source": [
    "from collections import Counter\n",
    "\n",
    "def get_most_common_words_by_pos(combined_list):\n",
    "    # 품사별로 등장한 단어를 저장할 딕셔너리 초기화\n",
    "    pos_count = {pos: (None, 0) for _, pos in combined_list}\n",
    "    \n",
    "    # 품사별로 등장한 단어와 횟수를 세서 딕셔너리에 저장\n",
    "    for word, pos in combined_list:\n",
    "        count = pos_count[pos][1] + 1\n",
    "        pos_count[pos] = (word, count)\n",
    "\n",
    "    # 각 품사별로 가장 많이 등장한 단어와 횟수를 반환\n",
    "    result = []\n",
    "    for pos, (word, count) in pos_count.items():\n",
    "        if word is not None:\n",
    "            result.append((pos, word, count))\n",
    "    return result"
   ]
  },
  {
   "cell_type": "code",
   "execution_count": 46,
   "id": "ea43a17f",
   "metadata": {},
   "outputs": [
    {
     "data": {
      "text/plain": [
       "[('Noun', '재질', 3183),\n",
       " ('Verb', '커요', 1336),\n",
       " ('Number', '0', 369),\n",
       " ('Foreign', '？？', 33),\n",
       " ('Josa', '도', 1241),\n",
       " ('Punctuation', '~', 606),\n",
       " ('Adjective', '좋네요', 1206),\n",
       " ('Alpha', 'Itch', 127),\n",
       " ('Determiner', '한', 76),\n",
       " ('Adverb', '너무', 157),\n",
       " ('Suffix', '네', 57),\n",
       " ('Eomi', '아요', 13),\n",
       " ('Conjunction', '그리고', 4),\n",
       " ('VerbPrefix', '짱', 38),\n",
       " ('KoreanParticle', 'ㅎㅎ', 58),\n",
       " ('Modifier', '구', 107),\n",
       " ('Exclamation', '플', 8)]"
      ]
     },
     "execution_count": 46,
     "metadata": {},
     "output_type": "execute_result"
    }
   ],
   "source": [
    "get_most_common_words_by_pos(combined_list)"
   ]
  },
  {
   "cell_type": "code",
   "execution_count": 47,
   "id": "f9c14b3b",
   "metadata": {},
   "outputs": [],
   "source": [
    "def most_common_nouns(combined_list):\n",
    "    # 모든 명사 단어를 추출하여 개수를 셉니다.\n",
    "    noun_count = {}\n",
    "    for word, pos in combined_list:\n",
    "        if pos == 'Noun':\n",
    "            if word in noun_count:\n",
    "                noun_count[word] += 1\n",
    "            else:\n",
    "                noun_count[word] = 1\n",
    "    \n",
    "    # 가장 많이 등장한 상위 10개의 명사 단어를 선택합니다.\n",
    "    top_nouns = sorted(noun_count.items(), key=lambda x: x[1], reverse=True)[:10]\n",
    "    \n",
    "    # (품사, 단어, 등장 횟수) 형태로 변환하여 반환합니다.\n",
    "    return [('Noun', noun, count) for noun, count in top_nouns]"
   ]
  },
  {
   "cell_type": "code",
   "execution_count": 48,
   "id": "1d52f955",
   "metadata": {},
   "outputs": [
    {
     "data": {
      "text/plain": [
       "[('Noun', '사이즈', 205),\n",
       " ('Noun', '가격', 88),\n",
       " ('Noun', '구매', 67),\n",
       " ('Noun', '배송', 66),\n",
       " ('Noun', '옷', 55),\n",
       " ('Noun', '생각', 48),\n",
       " ('Noun', '가성', 43),\n",
       " ('Noun', '비', 41),\n",
       " ('Noun', '주문', 37),\n",
       " ('Noun', '제품', 35)]"
      ]
     },
     "execution_count": 48,
     "metadata": {},
     "output_type": "execute_result"
    }
   ],
   "source": [
    "most_common_nouns(combined_list)"
   ]
  },
  {
   "cell_type": "code",
   "execution_count": null,
   "id": "365ddf40",
   "metadata": {},
   "outputs": [],
   "source": []
  },
  {
   "cell_type": "code",
   "execution_count": 49,
   "id": "ab677ec4",
   "metadata": {},
   "outputs": [],
   "source": [
    "def most_common_verbs(combined_list):\n",
    "    # 모든 명사 단어를 추출하여 개수를 셉니다.\n",
    "    verb_count = {}\n",
    "    for word, pos in combined_list:\n",
    "        if pos == 'Verb':\n",
    "            if word in verb_count:\n",
    "                verb_count[word] += 1\n",
    "            else:\n",
    "                verb_count[word] = 1\n",
    "    \n",
    "    # 가장 많이 등장한 상위 10개의 동사 단어를 선택합니다.\n",
    "    top_verbs = sorted(verb_count.items(), key=lambda x: x[1], reverse=True)[:10]\n",
    "    \n",
    "    # (품사, 단어, 등장 횟수) 형태로 변환하여 반환합니다.\n",
    "    return [('Verb', verb, count) for verb, count in top_verbs]"
   ]
  },
  {
   "cell_type": "code",
   "execution_count": 50,
   "id": "d0b6f615",
   "metadata": {},
   "outputs": [
    {
     "data": {
      "text/plain": [
       "[('Verb', '잘', 67),\n",
       " ('Verb', '입기', 51),\n",
       " ('Verb', '합니다', 31),\n",
       " ('Verb', '해서', 24),\n",
       " ('Verb', '크네요', 23),\n",
       " ('Verb', '했는데', 21),\n",
       " ('Verb', '감사합니다', 20),\n",
       " ('Verb', '했습니다', 17),\n",
       " ('Verb', '입는', 16),\n",
       " ('Verb', '입고', 14)]"
      ]
     },
     "execution_count": 50,
     "metadata": {},
     "output_type": "execute_result"
    }
   ],
   "source": [
    "most_common_verbs(combined_list)"
   ]
  },
  {
   "cell_type": "code",
   "execution_count": 51,
   "id": "c12234d4",
   "metadata": {},
   "outputs": [],
   "source": [
    "def most_common_nouns(combined_list):\n",
    "    # 모든 명사 단어를 추출하여 개수를 셉니다.\n",
    "    noun_count = {}\n",
    "    for word, pos in combined_list:\n",
    "        if pos == 'Noun':\n",
    "            if word in noun_count:\n",
    "                noun_count[word] += 1\n",
    "            else:\n",
    "                noun_count[word] = 1\n",
    "    \n",
    "    # 가장 많이 등장한 상위 10개의 명사 단어를 선택합니다.\n",
    "    top_nouns = sorted(noun_count.items(), key=lambda x: x[1], reverse=True)[:10]\n",
    "    \n",
    "    # (품사, 단어, 등장 횟수) 형태로 변환하여 반환합니다.\n",
    "    return [('Noun', noun, count) for noun, count in top_nouns]"
   ]
  },
  {
   "cell_type": "code",
   "execution_count": 52,
   "id": "f0fa3ba0",
   "metadata": {},
   "outputs": [
    {
     "data": {
      "text/plain": [
       "[('Noun', '사이즈', 205),\n",
       " ('Noun', '가격', 88),\n",
       " ('Noun', '구매', 67),\n",
       " ('Noun', '배송', 66),\n",
       " ('Noun', '옷', 55),\n",
       " ('Noun', '생각', 48),\n",
       " ('Noun', '가성', 43),\n",
       " ('Noun', '비', 41),\n",
       " ('Noun', '주문', 37),\n",
       " ('Noun', '제품', 35)]"
      ]
     },
     "execution_count": 52,
     "metadata": {},
     "output_type": "execute_result"
    }
   ],
   "source": [
    " most_common_nouns(combined_list)"
   ]
  },
  {
   "cell_type": "code",
   "execution_count": 63,
   "id": "5de06635",
   "metadata": {},
   "outputs": [],
   "source": [
    "def most_common_adjs(combined_list):\n",
    "    # 모든 명사 단어를 추출하여 개수를 셉니다.\n",
    "    adj_count = {}\n",
    "    for word, pos in combined_list:\n",
    "        if pos == 'Adjective':\n",
    "            if word in adj_count:\n",
    "                adj_count[word] += 1\n",
    "            else:\n",
    "                adj_count[word] = 1\n",
    "    \n",
    "    # 가장 많이 등장한 상위 10개의 명사 단어를 선택합니다.\n",
    "    top_adjs = sorted(adj_count.items(), key=lambda x: x[1], reverse=True)[:30]\n",
    "    \n",
    "    # (품사, 단어, 등장 횟수) 형태로 변환하여 반환합니다.\n",
    "    return [('adj', adj, count) for adj, count in top_adjs]"
   ]
  },
  {
   "cell_type": "code",
   "execution_count": 64,
   "id": "c6be9c4f",
   "metadata": {},
   "outputs": [
    {
     "data": {
      "text/plain": [
       "[('adj', '좋아요', 118),\n",
       " ('adj', '입니다', 60),\n",
       " ('adj', '좋고', 45),\n",
       " ('adj', '좋습니다', 43),\n",
       " ('adj', '좋네요', 35),\n",
       " ('adj', '만족합니다', 31),\n",
       " ('adj', '좋은', 26),\n",
       " ('adj', '같아요', 25),\n",
       " ('adj', '편하게', 21),\n",
       " ('adj', '저렴하게', 18),\n",
       " ('adj', '괜찮아요', 16),\n",
       " ('adj', '빠르고', 15),\n",
       " ('adj', '저렴한', 14),\n",
       " ('adj', '작게', 13),\n",
       " ('adj', '같습니다', 12),\n",
       " ('adj', '같은', 11),\n",
       " ('adj', '얇은', 10),\n",
       " ('adj', '같네요', 10),\n",
       " ('adj', '넉넉하고', 10),\n",
       " ('adj', '얇고', 9),\n",
       " ('adj', '있어요', 8),\n",
       " ('adj', '나쁘지', 8),\n",
       " ('adj', '아니라', 7),\n",
       " ('adj', '있는', 7),\n",
       " ('adj', '저렴하고', 7),\n",
       " ('adj', '있어서', 7),\n",
       " ('adj', '얇아서', 6),\n",
       " ('adj', '있지만', 6),\n",
       " ('adj', '있습니다', 6),\n",
       " ('adj', '넉넉한', 6)]"
      ]
     },
     "execution_count": 64,
     "metadata": {},
     "output_type": "execute_result"
    }
   ],
   "source": [
    "most_common_adjs(combined_list)"
   ]
  },
  {
   "cell_type": "code",
   "execution_count": null,
   "id": "a0a05e9b",
   "metadata": {},
   "outputs": [],
   "source": []
  },
  {
   "cell_type": "code",
   "execution_count": 55,
   "id": "975ad689",
   "metadata": {},
   "outputs": [
    {
     "data": {
      "text/html": [
       "<div>\n",
       "<style scoped>\n",
       "    .dataframe tbody tr th:only-of-type {\n",
       "        vertical-align: middle;\n",
       "    }\n",
       "\n",
       "    .dataframe tbody tr th {\n",
       "        vertical-align: top;\n",
       "    }\n",
       "\n",
       "    .dataframe thead th {\n",
       "        text-align: right;\n",
       "    }\n",
       "</style>\n",
       "<table border=\"1\" class=\"dataframe\">\n",
       "  <thead>\n",
       "    <tr style=\"text-align: right;\">\n",
       "      <th></th>\n",
       "      <th>Unnamed: 0</th>\n",
       "      <th>ID</th>\n",
       "      <th>Date</th>\n",
       "      <th>Grade</th>\n",
       "      <th>Text</th>\n",
       "      <th>Option</th>\n",
       "      <th>Size</th>\n",
       "      <th>ProductNum</th>\n",
       "      <th>Text_Position</th>\n",
       "    </tr>\n",
       "  </thead>\n",
       "  <tbody>\n",
       "    <tr>\n",
       "      <th>0</th>\n",
       "      <td>0</td>\n",
       "      <td>날까</td>\n",
       "      <td>2023.04.08</td>\n",
       "      <td>4</td>\n",
       "      <td>쿠폰써서 2만원정도에 6벌이면 정말 싸요. 싼만큼 마감이 안좋은 부분도 있네요. 어...</td>\n",
       "      <td>White 6-pack, 6, Medium</td>\n",
       "      <td>비공개</td>\n",
       "      <td>3569992365</td>\n",
       "      <td>[(쿠폰, Noun), (써서, Verb), (2만원, Number), (정도에, ...</td>\n",
       "    </tr>\n",
       "    <tr>\n",
       "      <th>1</th>\n",
       "      <td>1</td>\n",
       "      <td>newr*****</td>\n",
       "      <td>2023.03.27</td>\n",
       "      <td>5</td>\n",
       "      <td>옷에 비침도 크게 없고 사이즈도 넉넉해서 좋습니다. 이번 여름까지 무난하게 잘 입을...</td>\n",
       "      <td>XX-Large, 6, White 6-pack</td>\n",
       "      <td>비공개</td>\n",
       "      <td>3569992365</td>\n",
       "      <td>[(옷, Noun), (에, Josa), (비침도, Verb), (크게, Noun)...</td>\n",
       "    </tr>\n",
       "    <tr>\n",
       "      <th>2</th>\n",
       "      <td>2</td>\n",
       "      <td>soch*****</td>\n",
       "      <td>2023.03.31</td>\n",
       "      <td>4</td>\n",
       "      <td>잘 알려진 브랜드입니다.면이 얇고 빨면 줄기도 합니다.올 여름 편하게 입으려고 구매...</td>\n",
       "      <td>X-Large, 6, Charcoal Heather 6-pack</td>\n",
       "      <td>비공개</td>\n",
       "      <td>3569992365</td>\n",
       "      <td>[(잘, Verb), (알려진, Verb), (브랜드, Noun), (입니다, Ad...</td>\n",
       "    </tr>\n",
       "    <tr>\n",
       "      <th>3</th>\n",
       "      <td>3</td>\n",
       "      <td>2045***************</td>\n",
       "      <td>2023.03.02</td>\n",
       "      <td>5</td>\n",
       "      <td>얇아서 비침이 있으며 꽤 부드러운 재질입니다.이너로 입기 괜찮을듯</td>\n",
       "      <td>6, Large, White 6-pack</td>\n",
       "      <td>비공개</td>\n",
       "      <td>3569992365</td>\n",
       "      <td>[(얇아서, Adjective), (비침이, Verb), (있으며, Adjectiv...</td>\n",
       "    </tr>\n",
       "    <tr>\n",
       "      <th>4</th>\n",
       "      <td>4</td>\n",
       "      <td>하이하이저요</td>\n",
       "      <td>2023.03.21</td>\n",
       "      <td>3</td>\n",
       "      <td>저렴하게 막 입기 좋네요생각보다 정사이즈인거 같아요 라지입는데 미듐샀더니가슴둘레가 ...</td>\n",
       "      <td>Medium, 6, Navy 6-pack</td>\n",
       "      <td>비공개</td>\n",
       "      <td>3569992365</td>\n",
       "      <td>[(저렴하게, Adjective), (막, Noun), (입기, Verb), (좋네...</td>\n",
       "    </tr>\n",
       "  </tbody>\n",
       "</table>\n",
       "</div>"
      ],
      "text/plain": [
       "   Unnamed: 0                   ID        Date  Grade  \\\n",
       "0           0                   날까  2023.04.08      4   \n",
       "1           1            newr*****  2023.03.27      5   \n",
       "2           2            soch*****  2023.03.31      4   \n",
       "3           3  2045***************  2023.03.02      5   \n",
       "4           4               하이하이저요  2023.03.21      3   \n",
       "\n",
       "                                                Text  \\\n",
       "0  쿠폰써서 2만원정도에 6벌이면 정말 싸요. 싼만큼 마감이 안좋은 부분도 있네요. 어...   \n",
       "1  옷에 비침도 크게 없고 사이즈도 넉넉해서 좋습니다. 이번 여름까지 무난하게 잘 입을...   \n",
       "2  잘 알려진 브랜드입니다.면이 얇고 빨면 줄기도 합니다.올 여름 편하게 입으려고 구매...   \n",
       "3               얇아서 비침이 있으며 꽤 부드러운 재질입니다.이너로 입기 괜찮을듯   \n",
       "4  저렴하게 막 입기 좋네요생각보다 정사이즈인거 같아요 라지입는데 미듐샀더니가슴둘레가 ...   \n",
       "\n",
       "                                Option Size  ProductNum  \\\n",
       "0              White 6-pack, 6, Medium  비공개  3569992365   \n",
       "1            XX-Large, 6, White 6-pack  비공개  3569992365   \n",
       "2  X-Large, 6, Charcoal Heather 6-pack  비공개  3569992365   \n",
       "3               6, Large, White 6-pack  비공개  3569992365   \n",
       "4               Medium, 6, Navy 6-pack  비공개  3569992365   \n",
       "\n",
       "                                       Text_Position  \n",
       "0  [(쿠폰, Noun), (써서, Verb), (2만원, Number), (정도에, ...  \n",
       "1  [(옷, Noun), (에, Josa), (비침도, Verb), (크게, Noun)...  \n",
       "2  [(잘, Verb), (알려진, Verb), (브랜드, Noun), (입니다, Ad...  \n",
       "3  [(얇아서, Adjective), (비침이, Verb), (있으며, Adjectiv...  \n",
       "4  [(저렴하게, Adjective), (막, Noun), (입기, Verb), (좋네...  "
      ]
     },
     "execution_count": 55,
     "metadata": {},
     "output_type": "execute_result"
    }
   ],
   "source": [
    "df.head()"
   ]
  },
  {
   "cell_type": "code",
   "execution_count": 56,
   "id": "c05f3218",
   "metadata": {},
   "outputs": [
    {
     "data": {
      "text/plain": [
       "'쿠폰써서 2만원정도에 6벌이면 정말 싸요. 싼만큼 마감이 안좋은 부분도 있네요. 어깨선 재봉선이 씹힌것도 있어요. 보통 100입는데 M 잘 맞네요.'"
      ]
     },
     "execution_count": 56,
     "metadata": {},
     "output_type": "execute_result"
    }
   ],
   "source": [
    "df.iloc[0,4]"
   ]
  },
  {
   "cell_type": "code",
   "execution_count": 57,
   "id": "0902b6ad",
   "metadata": {},
   "outputs": [
    {
     "data": {
      "text/plain": [
       "82"
      ]
     },
     "execution_count": 57,
     "metadata": {},
     "output_type": "execute_result"
    }
   ],
   "source": [
    "len(df.iloc[0,4])"
   ]
  },
  {
   "cell_type": "code",
   "execution_count": 58,
   "id": "eb32d309",
   "metadata": {},
   "outputs": [],
   "source": [
    "# len(df.iloc[0,4]) >= 10 그리고 grade = 5"
   ]
  },
  {
   "cell_type": "code",
   "execution_count": null,
   "id": "4022ef15",
   "metadata": {},
   "outputs": [],
   "source": []
  },
  {
   "cell_type": "code",
   "execution_count": null,
   "id": "b53bab70",
   "metadata": {},
   "outputs": [],
   "source": []
  },
  {
   "cell_type": "code",
   "execution_count": null,
   "id": "0d61c51e",
   "metadata": {},
   "outputs": [],
   "source": []
  },
  {
   "cell_type": "code",
   "execution_count": null,
   "id": "8ff1ed73",
   "metadata": {},
   "outputs": [],
   "source": []
  },
  {
   "cell_type": "code",
   "execution_count": null,
   "id": "9e8bc716",
   "metadata": {},
   "outputs": [],
   "source": []
  }
 ],
 "metadata": {
  "kernelspec": {
   "display_name": "Python 3 (ipykernel)",
   "language": "python",
   "name": "python3"
  },
  "language_info": {
   "codemirror_mode": {
    "name": "ipython",
    "version": 3
   },
   "file_extension": ".py",
   "mimetype": "text/x-python",
   "name": "python",
   "nbconvert_exporter": "python",
   "pygments_lexer": "ipython3",
   "version": "3.10.9"
  }
 },
 "nbformat": 4,
 "nbformat_minor": 5
}
