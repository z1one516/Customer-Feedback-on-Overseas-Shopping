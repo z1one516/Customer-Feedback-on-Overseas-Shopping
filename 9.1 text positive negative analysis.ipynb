{
 "cells": [
  {
   "cell_type": "code",
   "execution_count": 2,
   "id": "b3f99bcc",
   "metadata": {},
   "outputs": [],
   "source": [
    "cc"
   ]
  },
  {
   "cell_type": "code",
   "execution_count": 3,
   "id": "416ad30f",
   "metadata": {},
   "outputs": [],
   "source": [
    "import matplotlib.pyplot as plt\n",
    "import numpy as np"
   ]
  },
  {
   "cell_type": "code",
   "execution_count": null,
   "id": "4811a21b",
   "metadata": {},
   "outputs": [],
   "source": []
  },
  {
   "cell_type": "code",
   "execution_count": null,
   "id": "970e1e76",
   "metadata": {},
   "outputs": [],
   "source": []
  },
  {
   "cell_type": "code",
   "execution_count": 4,
   "id": "463d96de",
   "metadata": {},
   "outputs": [],
   "source": [
    "rate_check = pd.read_excel(r\"C:\\Users\\NT550009\\Desktop\\11st\\Rate_polar check.xlsx\")"
   ]
  },
  {
   "cell_type": "code",
   "execution_count": 5,
   "id": "95c117b4",
   "metadata": {},
   "outputs": [
    {
     "data": {
      "text/html": [
       "<div>\n",
       "<style scoped>\n",
       "    .dataframe tbody tr th:only-of-type {\n",
       "        vertical-align: middle;\n",
       "    }\n",
       "\n",
       "    .dataframe tbody tr th {\n",
       "        vertical-align: top;\n",
       "    }\n",
       "\n",
       "    .dataframe thead th {\n",
       "        text-align: right;\n",
       "    }\n",
       "</style>\n",
       "<table border=\"1\" class=\"dataframe\">\n",
       "  <thead>\n",
       "    <tr style=\"text-align: right;\">\n",
       "      <th></th>\n",
       "      <th>ProductNum</th>\n",
       "      <th>ID</th>\n",
       "      <th>Date</th>\n",
       "      <th>Grade</th>\n",
       "      <th>Text</th>\n",
       "      <th>Option</th>\n",
       "      <th>Size</th>\n",
       "      <th>FilteredText</th>\n",
       "      <th>Rate</th>\n",
       "      <th>FilteredLen</th>\n",
       "      <th>count</th>\n",
       "    </tr>\n",
       "  </thead>\n",
       "  <tbody>\n",
       "    <tr>\n",
       "      <th>0</th>\n",
       "      <td>3569992365</td>\n",
       "      <td>날까</td>\n",
       "      <td>2023.04.08</td>\n",
       "      <td>4</td>\n",
       "      <td>쿠폰써서 2만원정도에 6벌이면 정말 싸요. 싼만큼 마감이 안좋은 부분도 있네요. 어...</td>\n",
       "      <td>White 6-pack, 6, Medium</td>\n",
       "      <td>비공개</td>\n",
       "      <td>['쿠폰', '써서', '정도', '벌이', '정말', '싸요', '싼만큼', '마...</td>\n",
       "      <td>2</td>\n",
       "      <td>18</td>\n",
       "      <td>1</td>\n",
       "    </tr>\n",
       "    <tr>\n",
       "      <th>1</th>\n",
       "      <td>3569992365</td>\n",
       "      <td>newr*****</td>\n",
       "      <td>2023.03.27</td>\n",
       "      <td>5</td>\n",
       "      <td>옷에 비침도 크게 없고 사이즈도 넉넉해서 좋습니다. 이번 여름까지 무난하게 잘 입을...</td>\n",
       "      <td>XX-Large, 6, White 6-pack</td>\n",
       "      <td>비공개</td>\n",
       "      <td>['비침도', '크게', '없고', '사이즈', '넉넉해서', '좋습니다', '여름...</td>\n",
       "      <td>2</td>\n",
       "      <td>10</td>\n",
       "      <td>1</td>\n",
       "    </tr>\n",
       "    <tr>\n",
       "      <th>2</th>\n",
       "      <td>3569992365</td>\n",
       "      <td>soch*****</td>\n",
       "      <td>2023.03.31</td>\n",
       "      <td>4</td>\n",
       "      <td>잘 알려진 브랜드입니다.면이 얇고 빨면 줄기도 합니다.올 여름 편하게 입으려고 구매...</td>\n",
       "      <td>X-Large, 6, Charcoal Heather 6-pack</td>\n",
       "      <td>비공개</td>\n",
       "      <td>['알려진', '브랜드', '입니다면이', '얇고', '줄기', '합니다', '여름...</td>\n",
       "      <td>2</td>\n",
       "      <td>13</td>\n",
       "      <td>1</td>\n",
       "    </tr>\n",
       "    <tr>\n",
       "      <th>3</th>\n",
       "      <td>3569992365</td>\n",
       "      <td>2045***************</td>\n",
       "      <td>2023.03.02</td>\n",
       "      <td>5</td>\n",
       "      <td>얇아서 비침이 있으며 꽤 부드러운 재질입니다.이너로 입기 괜찮을듯</td>\n",
       "      <td>6, Large, White 6-pack</td>\n",
       "      <td>비공개</td>\n",
       "      <td>['얇아서', '비침이', '있으며', '부드러운', '재질', '입니다', '입기...</td>\n",
       "      <td>1</td>\n",
       "      <td>8</td>\n",
       "      <td>1</td>\n",
       "    </tr>\n",
       "    <tr>\n",
       "      <th>4</th>\n",
       "      <td>3569992365</td>\n",
       "      <td>하이하이저요</td>\n",
       "      <td>2023.03.21</td>\n",
       "      <td>3</td>\n",
       "      <td>저렴하게 막 입기 좋네요생각보다 정사이즈인거 같아요 라지입는데 미듐샀더니가슴둘레가 ...</td>\n",
       "      <td>Medium, 6, Navy 6-pack</td>\n",
       "      <td>비공개</td>\n",
       "      <td>['저렴하게', '입기', '좋네요', '생각', '보다', '정사', '이즈', ...</td>\n",
       "      <td>2</td>\n",
       "      <td>20</td>\n",
       "      <td>1</td>\n",
       "    </tr>\n",
       "  </tbody>\n",
       "</table>\n",
       "</div>"
      ],
      "text/plain": [
       "   ProductNum                   ID        Date  Grade  \\\n",
       "0  3569992365                   날까  2023.04.08      4   \n",
       "1  3569992365            newr*****  2023.03.27      5   \n",
       "2  3569992365            soch*****  2023.03.31      4   \n",
       "3  3569992365  2045***************  2023.03.02      5   \n",
       "4  3569992365               하이하이저요  2023.03.21      3   \n",
       "\n",
       "                                                Text  \\\n",
       "0  쿠폰써서 2만원정도에 6벌이면 정말 싸요. 싼만큼 마감이 안좋은 부분도 있네요. 어...   \n",
       "1  옷에 비침도 크게 없고 사이즈도 넉넉해서 좋습니다. 이번 여름까지 무난하게 잘 입을...   \n",
       "2  잘 알려진 브랜드입니다.면이 얇고 빨면 줄기도 합니다.올 여름 편하게 입으려고 구매...   \n",
       "3               얇아서 비침이 있으며 꽤 부드러운 재질입니다.이너로 입기 괜찮을듯   \n",
       "4  저렴하게 막 입기 좋네요생각보다 정사이즈인거 같아요 라지입는데 미듐샀더니가슴둘레가 ...   \n",
       "\n",
       "                                Option Size  \\\n",
       "0              White 6-pack, 6, Medium  비공개   \n",
       "1            XX-Large, 6, White 6-pack  비공개   \n",
       "2  X-Large, 6, Charcoal Heather 6-pack  비공개   \n",
       "3               6, Large, White 6-pack  비공개   \n",
       "4               Medium, 6, Navy 6-pack  비공개   \n",
       "\n",
       "                                        FilteredText  Rate  FilteredLen  count  \n",
       "0  ['쿠폰', '써서', '정도', '벌이', '정말', '싸요', '싼만큼', '마...     2           18      1  \n",
       "1  ['비침도', '크게', '없고', '사이즈', '넉넉해서', '좋습니다', '여름...     2           10      1  \n",
       "2  ['알려진', '브랜드', '입니다면이', '얇고', '줄기', '합니다', '여름...     2           13      1  \n",
       "3  ['얇아서', '비침이', '있으며', '부드러운', '재질', '입니다', '입기...     1            8      1  \n",
       "4  ['저렴하게', '입기', '좋네요', '생각', '보다', '정사', '이즈', ...     2           20      1  "
      ]
     },
     "execution_count": 5,
     "metadata": {},
     "output_type": "execute_result"
    }
   ],
   "source": [
    "rate_check.head()"
   ]
  },
  {
   "cell_type": "code",
   "execution_count": 7,
   "id": "d553f7a3",
   "metadata": {},
   "outputs": [
    {
     "name": "stdout",
     "output_type": "stream",
     "text": [
      " 0     3953\n",
      " 2     1416\n",
      " 4      579\n",
      " 3      318\n",
      " 1      315\n",
      "-2      220\n",
      " 6      112\n",
      "-1       88\n",
      " 5       83\n",
      " 8       21\n",
      " 7       18\n",
      "-3       14\n",
      "-4       12\n",
      " 10       7\n",
      "-5        3\n",
      " 12       2\n",
      " 24       1\n",
      " 9        1\n",
      " 18       1\n",
      " 16       1\n",
      " 22       1\n",
      " 30       1\n",
      "Name: Rate, dtype: int64\n"
     ]
    }
   ],
   "source": [
    "value_counts = rate_check['Rate'].value_counts()\n",
    "print(value_counts)"
   ]
  },
  {
   "cell_type": "code",
   "execution_count": 8,
   "id": "b91dc1c1",
   "metadata": {},
   "outputs": [
    {
     "name": "stdout",
     "output_type": "stream",
     "text": [
      "<class 'pandas.core.series.Series'>\n"
     ]
    }
   ],
   "source": [
    "print(type(value_counts))"
   ]
  },
  {
   "cell_type": "code",
   "execution_count": 9,
   "id": "b4b31bf8",
   "metadata": {},
   "outputs": [
    {
     "name": "stdout",
     "output_type": "stream",
     "text": [
      "    value_index  Rate\n",
      "0             0  3953\n",
      "1             2  1416\n",
      "2             4   579\n",
      "3             3   318\n",
      "4             1   315\n",
      "5            -2   220\n",
      "6             6   112\n",
      "7            -1    88\n",
      "8             5    83\n",
      "9             8    21\n",
      "10            7    18\n",
      "11           -3    14\n",
      "12           -4    12\n",
      "13           10     7\n",
      "14           -5     3\n",
      "15           12     2\n",
      "16           24     1\n",
      "17            9     1\n",
      "18           18     1\n",
      "19           16     1\n",
      "20           22     1\n",
      "21           30     1\n"
     ]
    }
   ],
   "source": [
    "df_counts = value_counts.to_frame().reset_index()\n",
    "df_counts.rename(columns={'index': 'value_index'}, inplace=True)\n",
    "print(df_counts)"
   ]
  },
  {
   "cell_type": "code",
   "execution_count": 10,
   "id": "4e8d69e5",
   "metadata": {
    "scrolled": true
   },
   "outputs": [
    {
     "data": {
      "text/html": [
       "<div>\n",
       "<style scoped>\n",
       "    .dataframe tbody tr th:only-of-type {\n",
       "        vertical-align: middle;\n",
       "    }\n",
       "\n",
       "    .dataframe tbody tr th {\n",
       "        vertical-align: top;\n",
       "    }\n",
       "\n",
       "    .dataframe thead th {\n",
       "        text-align: right;\n",
       "    }\n",
       "</style>\n",
       "<table border=\"1\" class=\"dataframe\">\n",
       "  <thead>\n",
       "    <tr style=\"text-align: right;\">\n",
       "      <th></th>\n",
       "      <th>value_index</th>\n",
       "      <th>Rate</th>\n",
       "    </tr>\n",
       "  </thead>\n",
       "  <tbody>\n",
       "    <tr>\n",
       "      <th>17</th>\n",
       "      <td>9</td>\n",
       "      <td>1</td>\n",
       "    </tr>\n",
       "    <tr>\n",
       "      <th>18</th>\n",
       "      <td>18</td>\n",
       "      <td>1</td>\n",
       "    </tr>\n",
       "    <tr>\n",
       "      <th>19</th>\n",
       "      <td>16</td>\n",
       "      <td>1</td>\n",
       "    </tr>\n",
       "    <tr>\n",
       "      <th>20</th>\n",
       "      <td>22</td>\n",
       "      <td>1</td>\n",
       "    </tr>\n",
       "    <tr>\n",
       "      <th>21</th>\n",
       "      <td>30</td>\n",
       "      <td>1</td>\n",
       "    </tr>\n",
       "  </tbody>\n",
       "</table>\n",
       "</div>"
      ],
      "text/plain": [
       "    value_index  Rate\n",
       "17            9     1\n",
       "18           18     1\n",
       "19           16     1\n",
       "20           22     1\n",
       "21           30     1"
      ]
     },
     "execution_count": 10,
     "metadata": {},
     "output_type": "execute_result"
    }
   ],
   "source": [
    "df_counts.tail()"
   ]
  },
  {
   "cell_type": "code",
   "execution_count": 11,
   "id": "12bb613d",
   "metadata": {},
   "outputs": [
    {
     "name": "stdout",
     "output_type": "stream",
     "text": [
      "<class 'pandas.core.frame.DataFrame'>\n"
     ]
    }
   ],
   "source": [
    "print(type(df_counts))"
   ]
  },
  {
   "cell_type": "code",
   "execution_count": 12,
   "id": "b9a3999b",
   "metadata": {},
   "outputs": [
    {
     "name": "stdout",
     "output_type": "stream",
     "text": [
      "0\n",
      "<class 'numpy.int64'>\n"
     ]
    }
   ],
   "source": [
    "print(df_counts.iloc[0, 0])\n",
    "\n",
    "print(type(df_counts.iloc[0, 0]))"
   ]
  },
  {
   "cell_type": "code",
   "execution_count": 13,
   "id": "a59df904",
   "metadata": {},
   "outputs": [
    {
     "data": {
      "text/html": [
       "<div>\n",
       "<style scoped>\n",
       "    .dataframe tbody tr th:only-of-type {\n",
       "        vertical-align: middle;\n",
       "    }\n",
       "\n",
       "    .dataframe tbody tr th {\n",
       "        vertical-align: top;\n",
       "    }\n",
       "\n",
       "    .dataframe thead th {\n",
       "        text-align: right;\n",
       "    }\n",
       "</style>\n",
       "<table border=\"1\" class=\"dataframe\">\n",
       "  <thead>\n",
       "    <tr style=\"text-align: right;\">\n",
       "      <th></th>\n",
       "      <th>value_index</th>\n",
       "      <th>Rate</th>\n",
       "    </tr>\n",
       "  </thead>\n",
       "  <tbody>\n",
       "    <tr>\n",
       "      <th>0</th>\n",
       "      <td>0</td>\n",
       "      <td>3953</td>\n",
       "    </tr>\n",
       "    <tr>\n",
       "      <th>1</th>\n",
       "      <td>2</td>\n",
       "      <td>1416</td>\n",
       "    </tr>\n",
       "    <tr>\n",
       "      <th>2</th>\n",
       "      <td>4</td>\n",
       "      <td>579</td>\n",
       "    </tr>\n",
       "    <tr>\n",
       "      <th>3</th>\n",
       "      <td>3</td>\n",
       "      <td>318</td>\n",
       "    </tr>\n",
       "    <tr>\n",
       "      <th>4</th>\n",
       "      <td>1</td>\n",
       "      <td>315</td>\n",
       "    </tr>\n",
       "  </tbody>\n",
       "</table>\n",
       "</div>"
      ],
      "text/plain": [
       "   value_index  Rate\n",
       "0            0  3953\n",
       "1            2  1416\n",
       "2            4   579\n",
       "3            3   318\n",
       "4            1   315"
      ]
     },
     "execution_count": 13,
     "metadata": {},
     "output_type": "execute_result"
    }
   ],
   "source": [
    "df_counts.head()"
   ]
  },
  {
   "cell_type": "code",
   "execution_count": 14,
   "id": "d7d365a6",
   "metadata": {},
   "outputs": [],
   "source": [
    "df_counts[\"value_index\"] = df_counts[\"value_index\"].astype(str)"
   ]
  },
  {
   "cell_type": "code",
   "execution_count": 15,
   "id": "1ac45f88",
   "metadata": {
    "scrolled": true
   },
   "outputs": [
    {
     "name": "stdout",
     "output_type": "stream",
     "text": [
      "<class 'pandas.core.frame.DataFrame'>\n",
      "RangeIndex: 22 entries, 0 to 21\n",
      "Data columns (total 2 columns):\n",
      " #   Column       Non-Null Count  Dtype \n",
      "---  ------       --------------  ----- \n",
      " 0   value_index  22 non-null     object\n",
      " 1   Rate         22 non-null     int64 \n",
      "dtypes: int64(1), object(1)\n",
      "memory usage: 480.0+ bytes\n"
     ]
    }
   ],
   "source": [
    "df_counts.info()"
   ]
  },
  {
   "cell_type": "code",
   "execution_count": null,
   "id": "bc730942",
   "metadata": {},
   "outputs": [],
   "source": [
    "df_counts.head()"
   ]
  },
  {
   "cell_type": "code",
   "execution_count": 16,
   "id": "7a550735",
   "metadata": {},
   "outputs": [],
   "source": [
    "df_counts = df_counts.rename(columns = {\"Rate\":\"Counts\"})"
   ]
  },
  {
   "cell_type": "code",
   "execution_count": 17,
   "id": "4ec4c663",
   "metadata": {
    "scrolled": true
   },
   "outputs": [
    {
     "data": {
      "image/png": "[encoded data removed]",
      "text/plain": [
       "<Figure size 640x480 with 1 Axes>"
      ]
     },
     "metadata": {},
     "output_type": "display_data"
    }
   ],
   "source": [
    "# x축 문자열, y 축 숫자\n",
    "plt.bar(df_counts[\"value_index\"], df_counts[\"Counts\"],color = 'orangered' )\n",
    "plt.xlabel(\"Value\")\n",
    "plt.ylabel(\"Counts\")\n",
    "\n",
    "plt.show()"
   ]
  },
  {
   "cell_type": "code",
   "execution_count": 21,
   "id": "e6eedeab",
   "metadata": {},
   "outputs": [
    {
     "data": {
      "text/html": [
       "<div>\n",
       "<style scoped>\n",
       "    .dataframe tbody tr th:only-of-type {\n",
       "        vertical-align: middle;\n",
       "    }\n",
       "\n",
       "    .dataframe tbody tr th {\n",
       "        vertical-align: top;\n",
       "    }\n",
       "\n",
       "    .dataframe thead th {\n",
       "        text-align: right;\n",
       "    }\n",
       "</style>\n",
       "<table border=\"1\" class=\"dataframe\">\n",
       "  <thead>\n",
       "    <tr style=\"text-align: right;\">\n",
       "      <th></th>\n",
       "      <th>ProductNum</th>\n",
       "      <th>ID</th>\n",
       "      <th>Date</th>\n",
       "      <th>Grade</th>\n",
       "      <th>Text</th>\n",
       "      <th>Option</th>\n",
       "      <th>Size</th>\n",
       "      <th>FilteredText</th>\n",
       "      <th>Rate</th>\n",
       "      <th>FilteredLen</th>\n",
       "    </tr>\n",
       "  </thead>\n",
       "  <tbody>\n",
       "    <tr>\n",
       "      <th>0</th>\n",
       "      <td>3569992365</td>\n",
       "      <td>날까</td>\n",
       "      <td>2023.04.08</td>\n",
       "      <td>4</td>\n",
       "      <td>쿠폰써서 2만원정도에 6벌이면 정말 싸요. 싼만큼 마감이 안좋은 부분도 있네요. 어...</td>\n",
       "      <td>White 6-pack, 6, Medium</td>\n",
       "      <td>비공개</td>\n",
       "      <td>['쿠폰', '써서', '정도', '벌이', '정말', '싸요', '싼만큼', '마...</td>\n",
       "      <td>2</td>\n",
       "      <td>18</td>\n",
       "    </tr>\n",
       "    <tr>\n",
       "      <th>1</th>\n",
       "      <td>3569992365</td>\n",
       "      <td>newr*****</td>\n",
       "      <td>2023.03.27</td>\n",
       "      <td>5</td>\n",
       "      <td>옷에 비침도 크게 없고 사이즈도 넉넉해서 좋습니다. 이번 여름까지 무난하게 잘 입을...</td>\n",
       "      <td>XX-Large, 6, White 6-pack</td>\n",
       "      <td>비공개</td>\n",
       "      <td>['비침도', '크게', '없고', '사이즈', '넉넉해서', '좋습니다', '여름...</td>\n",
       "      <td>2</td>\n",
       "      <td>10</td>\n",
       "    </tr>\n",
       "    <tr>\n",
       "      <th>2</th>\n",
       "      <td>3569992365</td>\n",
       "      <td>soch*****</td>\n",
       "      <td>2023.03.31</td>\n",
       "      <td>4</td>\n",
       "      <td>잘 알려진 브랜드입니다.면이 얇고 빨면 줄기도 합니다.올 여름 편하게 입으려고 구매...</td>\n",
       "      <td>X-Large, 6, Charcoal Heather 6-pack</td>\n",
       "      <td>비공개</td>\n",
       "      <td>['알려진', '브랜드', '입니다면이', '얇고', '줄기', '합니다', '여름...</td>\n",
       "      <td>2</td>\n",
       "      <td>13</td>\n",
       "    </tr>\n",
       "    <tr>\n",
       "      <th>3</th>\n",
       "      <td>3569992365</td>\n",
       "      <td>2045***************</td>\n",
       "      <td>2023.03.02</td>\n",
       "      <td>5</td>\n",
       "      <td>얇아서 비침이 있으며 꽤 부드러운 재질입니다.이너로 입기 괜찮을듯</td>\n",
       "      <td>6, Large, White 6-pack</td>\n",
       "      <td>비공개</td>\n",
       "      <td>['얇아서', '비침이', '있으며', '부드러운', '재질', '입니다', '입기...</td>\n",
       "      <td>1</td>\n",
       "      <td>8</td>\n",
       "    </tr>\n",
       "    <tr>\n",
       "      <th>4</th>\n",
       "      <td>3569992365</td>\n",
       "      <td>하이하이저요</td>\n",
       "      <td>2023.03.21</td>\n",
       "      <td>3</td>\n",
       "      <td>저렴하게 막 입기 좋네요생각보다 정사이즈인거 같아요 라지입는데 미듐샀더니가슴둘레가 ...</td>\n",
       "      <td>Medium, 6, Navy 6-pack</td>\n",
       "      <td>비공개</td>\n",
       "      <td>['저렴하게', '입기', '좋네요', '생각', '보다', '정사', '이즈', ...</td>\n",
       "      <td>2</td>\n",
       "      <td>20</td>\n",
       "    </tr>\n",
       "  </tbody>\n",
       "</table>\n",
       "</div>"
      ],
      "text/plain": [
       "   ProductNum                   ID        Date  Grade  \\\n",
       "0  3569992365                   날까  2023.04.08      4   \n",
       "1  3569992365            newr*****  2023.03.27      5   \n",
       "2  3569992365            soch*****  2023.03.31      4   \n",
       "3  3569992365  2045***************  2023.03.02      5   \n",
       "4  3569992365               하이하이저요  2023.03.21      3   \n",
       "\n",
       "                                                Text  \\\n",
       "0  쿠폰써서 2만원정도에 6벌이면 정말 싸요. 싼만큼 마감이 안좋은 부분도 있네요. 어...   \n",
       "1  옷에 비침도 크게 없고 사이즈도 넉넉해서 좋습니다. 이번 여름까지 무난하게 잘 입을...   \n",
       "2  잘 알려진 브랜드입니다.면이 얇고 빨면 줄기도 합니다.올 여름 편하게 입으려고 구매...   \n",
       "3               얇아서 비침이 있으며 꽤 부드러운 재질입니다.이너로 입기 괜찮을듯   \n",
       "4  저렴하게 막 입기 좋네요생각보다 정사이즈인거 같아요 라지입는데 미듐샀더니가슴둘레가 ...   \n",
       "\n",
       "                                Option Size  \\\n",
       "0              White 6-pack, 6, Medium  비공개   \n",
       "1            XX-Large, 6, White 6-pack  비공개   \n",
       "2  X-Large, 6, Charcoal Heather 6-pack  비공개   \n",
       "3               6, Large, White 6-pack  비공개   \n",
       "4               Medium, 6, Navy 6-pack  비공개   \n",
       "\n",
       "                                        FilteredText  Rate  FilteredLen  \n",
       "0  ['쿠폰', '써서', '정도', '벌이', '정말', '싸요', '싼만큼', '마...     2           18  \n",
       "1  ['비침도', '크게', '없고', '사이즈', '넉넉해서', '좋습니다', '여름...     2           10  \n",
       "2  ['알려진', '브랜드', '입니다면이', '얇고', '줄기', '합니다', '여름...     2           13  \n",
       "3  ['얇아서', '비침이', '있으며', '부드러운', '재질', '입니다', '입기...     1            8  \n",
       "4  ['저렴하게', '입기', '좋네요', '생각', '보다', '정사', '이즈', ...     2           20  "
      ]
     },
     "execution_count": 21,
     "metadata": {},
     "output_type": "execute_result"
    }
   ],
   "source": [
    "df.head()"
   ]
  },
  {
   "cell_type": "code",
   "execution_count": 18,
   "id": "e4bd4cd9",
   "metadata": {},
   "outputs": [],
   "source": [
    "df = pd.read_excel(r\"C:\\Users\\NT550009\\Desktop\\data\\Rate.xlsx\")"
   ]
  },
  {
   "cell_type": "code",
   "execution_count": null,
   "id": "a344677e",
   "metadata": {},
   "outputs": [],
   "source": [
    "df"
   ]
  },
  {
   "cell_type": "code",
   "execution_count": null,
   "id": "7969f1c1",
   "metadata": {},
   "outputs": [],
   "source": [
    "# Rate 음수인 경우 vs 양수인 경우, 사이즈 언급 "
   ]
  },
  {
   "cell_type": "code",
   "execution_count": 19,
   "id": "5ea64d7d",
   "metadata": {},
   "outputs": [],
   "source": [
    "negative_rate = df.index[df[\"Rate\"] < 0].tolist()"
   ]
  },
  {
   "cell_type": "code",
   "execution_count": 20,
   "id": "c7a1e9a9",
   "metadata": {},
   "outputs": [
    {
     "name": "stdout",
     "output_type": "stream",
     "text": [
      "[13, 77, 82, 91, 92, 99, 103, 120, 158, 160, 176, 185, 275, 277, 301, 304, 306, 309, 318, 368, 374, 376, 377, 378, 385, 391, 395, 404, 407, 416, 427, 457, 505, 508, 522, 543, 548, 549, 743, 795, 802, 820, 829, 833, 839, 866, 890, 893, 915, 942, 944, 946, 973, 976, 977, 995, 1028, 1030, 1133, 1159, 1206, 1229, 1230, 1272, 1276, 1279, 1292, 1299, 1303, 1320, 1323, 1354, 1355, 1357, 1406, 1408, 1452, 1480, 1505, 1589, 1600, 1607, 1655, 1656, 1675, 1734, 1797, 1798, 1809, 1838, 1845, 1858, 1859, 1874, 1875, 1878, 1886, 1893, 1896, 1898, 1937, 1948, 1950, 1976, 1978, 2015, 2141, 2146, 2166, 2168, 2175, 2211, 2259, 2270, 2305, 2323, 2390, 2405, 2431, 2437, 2441, 2444, 2451, 2462, 2503, 2519, 2528, 2574, 2670, 2775, 2794, 2795, 2796, 2814, 2877, 2900, 2918, 2943, 2961, 2986, 2998, 3126, 3149, 3151, 3155, 3160, 3173, 3183, 3243, 3247, 3250, 3253, 3259, 3263, 3294, 3295, 3299, 3301, 3363, 3373, 3401, 3426, 3431, 3440, 3479, 3485, 3491, 3498, 3518, 3579, 3593, 3607, 3609, 3622, 3644, 3654, 3671, 3680, 3681, 3706, 3748, 3762, 3798, 3842, 3874, 3883, 3902, 3923, 3995, 4078, 4082, 4085, 4098, 4105, 4109, 4126, 4129, 4160, 4161, 4163, 4212, 4214, 4258, 4286, 4311, 4395, 4406, 4413, 4449, 4461, 4464, 4466, 4469, 4478, 4528, 4534, 4536, 4537, 4538, 4545, 4551, 4555, 4564, 4567, 4576, 4587, 4617, 4665, 4668, 4682, 4703, 4708, 4709, 4903, 4991, 4997, 5007, 5115, 5139, 5145, 5170, 5237, 5252, 5336, 5342, 5351, 5363, 5369, 5376, 5401, 5410, 5419, 5427, 5491, 5516, 5521, 5542, 5569, 5575, 5584, 5656, 5683, 5686, 5688, 5691, 5700, 5750, 5756, 5758, 5759, 5760, 5767, 5773, 5777, 5786, 5789, 5798, 5809, 5839, 5887, 5890, 5904, 5925, 5930, 5931, 6125, 6205, 6210, 6216, 6219, 6296, 6347, 6383, 6402, 6408, 6467, 6468, 6472, 6474, 6515, 6560, 6561, 6570, 6595, 6605, 6628, 6672, 6701, 6719, 6722, 6783, 6824, 6826, 6833, 6847, 6863, 6868, 6944, 6977, 6999, 7001, 7017, 7018, 7019, 7024, 7027, 7035, 7039, 7042, 7044, 7051, 7052, 7057, 7063, 7074, 7084, 7162]\n"
     ]
    }
   ],
   "source": [
    "print(negative_rate)"
   ]
  },
  {
   "cell_type": "code",
   "execution_count": 24,
   "id": "f8c62b63",
   "metadata": {},
   "outputs": [
    {
     "data": {
      "text/plain": [
       "\"['크네요', '길이', '유난희', '크네']\""
      ]
     },
     "execution_count": 24,
     "metadata": {},
     "output_type": "execute_result"
    }
   ],
   "source": [
    "df.iloc[7162,7]"
   ]
  },
  {
   "cell_type": "code",
   "execution_count": 25,
   "id": "7c06685f",
   "metadata": {
    "collapsed": true
   },
   "outputs": [
    {
     "data": {
      "text/plain": [
       "ProductNum                      3596863528\n",
       "ID                                    파란마음\n",
       "Date                            2021.11.23\n",
       "Grade                                    3\n",
       "Text                 찐짜크네요...팔길이가 유난희크네...\n",
       "Option                                   0\n",
       "Size                                     0\n",
       "FilteredText    ['크네요', '길이', '유난희', '크네']\n",
       "Rate                                    -2\n",
       "FilteredLen                              4\n",
       "Name: 7162, dtype: object"
      ]
     },
     "execution_count": 25,
     "metadata": {},
     "output_type": "execute_result"
    }
   ],
   "source": [
    "df.iloc[7162,]"
   ]
  },
  {
   "cell_type": "code",
   "execution_count": 27,
   "id": "a7e2a8b1",
   "metadata": {},
   "outputs": [
    {
     "name": "stdout",
     "output_type": "stream",
     "text": [
      "337\n"
     ]
    }
   ],
   "source": [
    "print(len(negative_rate))"
   ]
  },
  {
   "cell_type": "code",
   "execution_count": 29,
   "id": "1aacad9c",
   "metadata": {
    "collapsed": true
   },
   "outputs": [
    {
     "ename": "InvalidIndexError",
     "evalue": "(slice(None, None, None), 'FilteredText')",
     "output_type": "error",
     "traceback": [
      "\u001b[1;31m---------------------------------------------------------------------------\u001b[0m",
      "\u001b[1;31mTypeError\u001b[0m                                 Traceback (most recent call last)",
      "File \u001b[1;32m~\\anaconda3\\lib\\site-packages\\pandas\\core\\indexes\\base.py:3802\u001b[0m, in \u001b[0;36mIndex.get_loc\u001b[1;34m(self, key, method, tolerance)\u001b[0m\n\u001b[0;32m   3801\u001b[0m \u001b[38;5;28;01mtry\u001b[39;00m:\n\u001b[1;32m-> 3802\u001b[0m     \u001b[38;5;28;01mreturn\u001b[39;00m \u001b[38;5;28;43mself\u001b[39;49m\u001b[38;5;241;43m.\u001b[39;49m\u001b[43m_engine\u001b[49m\u001b[38;5;241;43m.\u001b[39;49m\u001b[43mget_loc\u001b[49m\u001b[43m(\u001b[49m\u001b[43mcasted_key\u001b[49m\u001b[43m)\u001b[49m\n\u001b[0;32m   3803\u001b[0m \u001b[38;5;28;01mexcept\u001b[39;00m \u001b[38;5;167;01mKeyError\u001b[39;00m \u001b[38;5;28;01mas\u001b[39;00m err:\n",
      "File \u001b[1;32m~\\anaconda3\\lib\\site-packages\\pandas\\_libs\\index.pyx:138\u001b[0m, in \u001b[0;36mpandas._libs.index.IndexEngine.get_loc\u001b[1;34m()\u001b[0m\n",
      "File \u001b[1;32m~\\anaconda3\\lib\\site-packages\\pandas\\_libs\\index.pyx:144\u001b[0m, in \u001b[0;36mpandas._libs.index.IndexEngine.get_loc\u001b[1;34m()\u001b[0m\n",
      "\u001b[1;31mTypeError\u001b[0m: '(slice(None, None, None), 'FilteredText')' is an invalid key",
      "\nDuring handling of the above exception, another exception occurred:\n",
      "\u001b[1;31mInvalidIndexError\u001b[0m                         Traceback (most recent call last)",
      "Cell \u001b[1;32mIn[29], line 1\u001b[0m\n\u001b[1;32m----> 1\u001b[0m \u001b[38;5;28mprint\u001b[39m(df\u001b[38;5;241m.\u001b[39mindex[\u001b[38;5;124m\"\u001b[39m\u001b[38;5;124m사이즈\u001b[39m\u001b[38;5;124m\"\u001b[39m \u001b[38;5;129;01min\u001b[39;00m \u001b[43mdf\u001b[49m\u001b[43m[\u001b[49m\u001b[43m:\u001b[49m\u001b[43m,\u001b[49m\u001b[43m \u001b[49m\u001b[38;5;124;43m\"\u001b[39;49m\u001b[38;5;124;43mFilteredText\u001b[39;49m\u001b[38;5;124;43m\"\u001b[39;49m\u001b[43m]\u001b[49m])\n",
      "File \u001b[1;32m~\\anaconda3\\lib\\site-packages\\pandas\\core\\frame.py:3807\u001b[0m, in \u001b[0;36mDataFrame.__getitem__\u001b[1;34m(self, key)\u001b[0m\n\u001b[0;32m   3805\u001b[0m \u001b[38;5;28;01mif\u001b[39;00m \u001b[38;5;28mself\u001b[39m\u001b[38;5;241m.\u001b[39mcolumns\u001b[38;5;241m.\u001b[39mnlevels \u001b[38;5;241m>\u001b[39m \u001b[38;5;241m1\u001b[39m:\n\u001b[0;32m   3806\u001b[0m     \u001b[38;5;28;01mreturn\u001b[39;00m \u001b[38;5;28mself\u001b[39m\u001b[38;5;241m.\u001b[39m_getitem_multilevel(key)\n\u001b[1;32m-> 3807\u001b[0m indexer \u001b[38;5;241m=\u001b[39m \u001b[38;5;28;43mself\u001b[39;49m\u001b[38;5;241;43m.\u001b[39;49m\u001b[43mcolumns\u001b[49m\u001b[38;5;241;43m.\u001b[39;49m\u001b[43mget_loc\u001b[49m\u001b[43m(\u001b[49m\u001b[43mkey\u001b[49m\u001b[43m)\u001b[49m\n\u001b[0;32m   3808\u001b[0m \u001b[38;5;28;01mif\u001b[39;00m is_integer(indexer):\n\u001b[0;32m   3809\u001b[0m     indexer \u001b[38;5;241m=\u001b[39m [indexer]\n",
      "File \u001b[1;32m~\\anaconda3\\lib\\site-packages\\pandas\\core\\indexes\\base.py:3809\u001b[0m, in \u001b[0;36mIndex.get_loc\u001b[1;34m(self, key, method, tolerance)\u001b[0m\n\u001b[0;32m   3804\u001b[0m         \u001b[38;5;28;01mraise\u001b[39;00m \u001b[38;5;167;01mKeyError\u001b[39;00m(key) \u001b[38;5;28;01mfrom\u001b[39;00m \u001b[38;5;21;01merr\u001b[39;00m\n\u001b[0;32m   3805\u001b[0m     \u001b[38;5;28;01mexcept\u001b[39;00m \u001b[38;5;167;01mTypeError\u001b[39;00m:\n\u001b[0;32m   3806\u001b[0m         \u001b[38;5;66;03m# If we have a listlike key, _check_indexing_error will raise\u001b[39;00m\n\u001b[0;32m   3807\u001b[0m         \u001b[38;5;66;03m#  InvalidIndexError. Otherwise we fall through and re-raise\u001b[39;00m\n\u001b[0;32m   3808\u001b[0m         \u001b[38;5;66;03m#  the TypeError.\u001b[39;00m\n\u001b[1;32m-> 3809\u001b[0m         \u001b[38;5;28;43mself\u001b[39;49m\u001b[38;5;241;43m.\u001b[39;49m\u001b[43m_check_indexing_error\u001b[49m\u001b[43m(\u001b[49m\u001b[43mkey\u001b[49m\u001b[43m)\u001b[49m\n\u001b[0;32m   3810\u001b[0m         \u001b[38;5;28;01mraise\u001b[39;00m\n\u001b[0;32m   3812\u001b[0m \u001b[38;5;66;03m# GH#42269\u001b[39;00m\n",
      "File \u001b[1;32m~\\anaconda3\\lib\\site-packages\\pandas\\core\\indexes\\base.py:5925\u001b[0m, in \u001b[0;36mIndex._check_indexing_error\u001b[1;34m(self, key)\u001b[0m\n\u001b[0;32m   5921\u001b[0m \u001b[38;5;28;01mdef\u001b[39;00m \u001b[38;5;21m_check_indexing_error\u001b[39m(\u001b[38;5;28mself\u001b[39m, key):\n\u001b[0;32m   5922\u001b[0m     \u001b[38;5;28;01mif\u001b[39;00m \u001b[38;5;129;01mnot\u001b[39;00m is_scalar(key):\n\u001b[0;32m   5923\u001b[0m         \u001b[38;5;66;03m# if key is not a scalar, directly raise an error (the code below\u001b[39;00m\n\u001b[0;32m   5924\u001b[0m         \u001b[38;5;66;03m# would convert to numpy arrays and raise later any way) - GH29926\u001b[39;00m\n\u001b[1;32m-> 5925\u001b[0m         \u001b[38;5;28;01mraise\u001b[39;00m InvalidIndexError(key)\n",
      "\u001b[1;31mInvalidIndexError\u001b[0m: (slice(None, None, None), 'FilteredText')"
     ]
    }
   ],
   "source": [
    "print(df.index[\"사이즈\" in df[:, \"FilteredText\"]])"
   ]
  },
  {
   "cell_type": "code",
   "execution_count": null,
   "id": "5fab0504",
   "metadata": {},
   "outputs": [],
   "source": [
    "def has_size(lst):\n",
    "    for item in lst:\n",
    "        if isinstance(item, str) and '사이즈' in item:\n",
    "            return True\n",
    "    return False"
   ]
  },
  {
   "cell_type": "code",
   "execution_count": 31,
   "id": "d465cef0",
   "metadata": {},
   "outputs": [],
   "source": [
    "negative_rate_df = df.loc[negative_rate]"
   ]
  },
  {
   "cell_type": "code",
   "execution_count": 33,
   "id": "026b2909",
   "metadata": {
    "scrolled": true
   },
   "outputs": [
    {
     "data": {
      "text/html": [
       "<div>\n",
       "<style scoped>\n",
       "    .dataframe tbody tr th:only-of-type {\n",
       "        vertical-align: middle;\n",
       "    }\n",
       "\n",
       "    .dataframe tbody tr th {\n",
       "        vertical-align: top;\n",
       "    }\n",
       "\n",
       "    .dataframe thead th {\n",
       "        text-align: right;\n",
       "    }\n",
       "</style>\n",
       "<table border=\"1\" class=\"dataframe\">\n",
       "  <thead>\n",
       "    <tr style=\"text-align: right;\">\n",
       "      <th></th>\n",
       "      <th>ProductNum</th>\n",
       "      <th>ID</th>\n",
       "      <th>Date</th>\n",
       "      <th>Grade</th>\n",
       "      <th>Text</th>\n",
       "      <th>Option</th>\n",
       "      <th>Size</th>\n",
       "      <th>FilteredText</th>\n",
       "      <th>Rate</th>\n",
       "      <th>FilteredLen</th>\n",
       "    </tr>\n",
       "  </thead>\n",
       "  <tbody>\n",
       "    <tr>\n",
       "      <th>7057</th>\n",
       "      <td>3596863528</td>\n",
       "      <td>entl****</td>\n",
       "      <td>2023.04.24</td>\n",
       "      <td>3</td>\n",
       "      <td>흠생각보다 엄청크네요... M인데.. XL느낌이네요..</td>\n",
       "      <td>0</td>\n",
       "      <td>0</td>\n",
       "      <td>['생각', '보다', '엄청', '크네요', '인데', '느낌이네요']</td>\n",
       "      <td>-2</td>\n",
       "      <td>6</td>\n",
       "    </tr>\n",
       "    <tr>\n",
       "      <th>7063</th>\n",
       "      <td>3596863528</td>\n",
       "      <td>foxe****</td>\n",
       "      <td>2022.10.30</td>\n",
       "      <td>4</td>\n",
       "      <td>사이즈 M인데 엄청 크네요 ^^</td>\n",
       "      <td>0</td>\n",
       "      <td>0</td>\n",
       "      <td>['사이즈', '인데', '엄청', '크네요']</td>\n",
       "      <td>-2</td>\n",
       "      <td>4</td>\n",
       "    </tr>\n",
       "    <tr>\n",
       "      <th>7074</th>\n",
       "      <td>3596863528</td>\n",
       "      <td>wooy***</td>\n",
       "      <td>2021.10.14</td>\n",
       "      <td>4</td>\n",
       "      <td>팔이엄청깁니다</td>\n",
       "      <td>0</td>\n",
       "      <td>0</td>\n",
       "      <td>['팔이', '엄청', '깁니다']</td>\n",
       "      <td>-2</td>\n",
       "      <td>3</td>\n",
       "    </tr>\n",
       "    <tr>\n",
       "      <th>7084</th>\n",
       "      <td>3596863528</td>\n",
       "      <td>kjp5***</td>\n",
       "      <td>2021.10.11</td>\n",
       "      <td>3</td>\n",
       "      <td>사이즈표를 잘못이해해서 엄청큰게왔다는...</td>\n",
       "      <td>0</td>\n",
       "      <td>0</td>\n",
       "      <td>['사이', '잘못', '이해해', '엄청', '큰게', '왔다는']</td>\n",
       "      <td>-2</td>\n",
       "      <td>6</td>\n",
       "    </tr>\n",
       "    <tr>\n",
       "      <th>7162</th>\n",
       "      <td>3596863528</td>\n",
       "      <td>파란마음</td>\n",
       "      <td>2021.11.23</td>\n",
       "      <td>3</td>\n",
       "      <td>찐짜크네요...팔길이가 유난희크네...</td>\n",
       "      <td>0</td>\n",
       "      <td>0</td>\n",
       "      <td>['크네요', '길이', '유난희', '크네']</td>\n",
       "      <td>-2</td>\n",
       "      <td>4</td>\n",
       "    </tr>\n",
       "  </tbody>\n",
       "</table>\n",
       "</div>"
      ],
      "text/plain": [
       "      ProductNum        ID        Date  Grade                            Text  \\\n",
       "7057  3596863528  entl****  2023.04.24      3  흠생각보다 엄청크네요... M인데.. XL느낌이네요..   \n",
       "7063  3596863528  foxe****  2022.10.30      4               사이즈 M인데 엄청 크네요 ^^   \n",
       "7074  3596863528   wooy***  2021.10.14      4                         팔이엄청깁니다   \n",
       "7084  3596863528   kjp5***  2021.10.11      3         사이즈표를 잘못이해해서 엄청큰게왔다는...   \n",
       "7162  3596863528      파란마음  2021.11.23      3           찐짜크네요...팔길이가 유난희크네...   \n",
       "\n",
       "     Option Size                              FilteredText  Rate  FilteredLen  \n",
       "7057      0    0  ['생각', '보다', '엄청', '크네요', '인데', '느낌이네요']    -2            6  \n",
       "7063      0    0                ['사이즈', '인데', '엄청', '크네요']    -2            4  \n",
       "7074      0    0                       ['팔이', '엄청', '깁니다']    -2            3  \n",
       "7084      0    0    ['사이', '잘못', '이해해', '엄청', '큰게', '왔다는']    -2            6  \n",
       "7162      0    0                ['크네요', '길이', '유난희', '크네']    -2            4  "
      ]
     },
     "execution_count": 33,
     "metadata": {},
     "output_type": "execute_result"
    }
   ],
   "source": [
    "negative_rate_df.tail()"
   ]
  },
  {
   "cell_type": "code",
   "execution_count": 43,
   "id": "138ad529",
   "metadata": {},
   "outputs": [],
   "source": [
    "negative_rate_df['has_size'] = negative_rate_df['FilteredText'].apply(lambda x: '사이즈' in x)"
   ]
  },
  {
   "cell_type": "code",
   "execution_count": 45,
   "id": "ef22277c",
   "metadata": {},
   "outputs": [
    {
     "data": {
      "text/html": [
       "<div>\n",
       "<style scoped>\n",
       "    .dataframe tbody tr th:only-of-type {\n",
       "        vertical-align: middle;\n",
       "    }\n",
       "\n",
       "    .dataframe tbody tr th {\n",
       "        vertical-align: top;\n",
       "    }\n",
       "\n",
       "    .dataframe thead th {\n",
       "        text-align: right;\n",
       "    }\n",
       "</style>\n",
       "<table border=\"1\" class=\"dataframe\">\n",
       "  <thead>\n",
       "    <tr style=\"text-align: right;\">\n",
       "      <th></th>\n",
       "      <th>ProductNum</th>\n",
       "      <th>ID</th>\n",
       "      <th>Date</th>\n",
       "      <th>Grade</th>\n",
       "      <th>Text</th>\n",
       "      <th>Option</th>\n",
       "      <th>Size</th>\n",
       "      <th>FilteredText</th>\n",
       "      <th>Rate</th>\n",
       "      <th>FilteredLen</th>\n",
       "      <th>has_size</th>\n",
       "    </tr>\n",
       "  </thead>\n",
       "  <tbody>\n",
       "    <tr>\n",
       "      <th>13</th>\n",
       "      <td>3569992365</td>\n",
       "      <td>까메론디아즈</td>\n",
       "      <td>2022.05.27</td>\n",
       "      <td>5</td>\n",
       "      <td>쌀국의 엑스라지는 우리의 엑스라지와 마이 다르네요 까슬하니 시원할거같고 벌크로 돌려...</td>\n",
       "      <td>0</td>\n",
       "      <td>0</td>\n",
       "      <td>['쌀국', '엑스', '라지', '엑스', '라지', '마이', '다르네요', '...</td>\n",
       "      <td>-1</td>\n",
       "      <td>22</td>\n",
       "      <td>False</td>\n",
       "    </tr>\n",
       "    <tr>\n",
       "      <th>77</th>\n",
       "      <td>3569992365</td>\n",
       "      <td>male***</td>\n",
       "      <td>2021.09.30</td>\n",
       "      <td>4</td>\n",
       "      <td>미국에서 언더웨어 브랜드로 알고 있는데 집이나 가볍게 외출복으로 입을 수 있는 라운...</td>\n",
       "      <td>0</td>\n",
       "      <td>0</td>\n",
       "      <td>['미국', '언더웨어', '브랜드', '있는데', '이나', '가볍게', '외출'...</td>\n",
       "      <td>-1</td>\n",
       "      <td>11</td>\n",
       "      <td>False</td>\n",
       "    </tr>\n",
       "    <tr>\n",
       "      <th>82</th>\n",
       "      <td>3569992365</td>\n",
       "      <td>shri****</td>\n",
       "      <td>2022.01.25</td>\n",
       "      <td>5</td>\n",
       "      <td>사이즈가 엄청 크네요. 한사이즈 작게 구매해야겠어요</td>\n",
       "      <td>0</td>\n",
       "      <td>0</td>\n",
       "      <td>['사이즈', '엄청', '크네요', '사이즈', '작게', '구매', '해야겠어요']</td>\n",
       "      <td>-2</td>\n",
       "      <td>7</td>\n",
       "      <td>True</td>\n",
       "    </tr>\n",
       "    <tr>\n",
       "      <th>91</th>\n",
       "      <td>3569992365</td>\n",
       "      <td>hees****</td>\n",
       "      <td>2022.01.26</td>\n",
       "      <td>5</td>\n",
       "      <td>사이즈 선택을 잘못해서 옷이 너무 커요.내잘못이라 면도 좋고 체격이 큰사람은 좋을것...</td>\n",
       "      <td>0</td>\n",
       "      <td>0</td>\n",
       "      <td>['사이즈', '선택', '잘못', '해서', '너무', '커요', '잘못', '이...</td>\n",
       "      <td>-2</td>\n",
       "      <td>14</td>\n",
       "      <td>True</td>\n",
       "    </tr>\n",
       "    <tr>\n",
       "      <th>92</th>\n",
       "      <td>3569992365</td>\n",
       "      <td>kc10*****</td>\n",
       "      <td>2022.03.08</td>\n",
       "      <td>5</td>\n",
       "      <td>사이즈정사이즈고요.천은조금거칠고조금？아요.총평은그런데로괜찮아요.</td>\n",
       "      <td>0</td>\n",
       "      <td>0</td>\n",
       "      <td>['사이', '정사', '고요', '거칠고', '요', '총', '평', '괜찮아요']</td>\n",
       "      <td>-2</td>\n",
       "      <td>8</td>\n",
       "      <td>False</td>\n",
       "    </tr>\n",
       "  </tbody>\n",
       "</table>\n",
       "</div>"
      ],
      "text/plain": [
       "    ProductNum         ID        Date  Grade  \\\n",
       "13  3569992365     까메론디아즈  2022.05.27      5   \n",
       "77  3569992365    male***  2021.09.30      4   \n",
       "82  3569992365   shri****  2022.01.25      5   \n",
       "91  3569992365   hees****  2022.01.26      5   \n",
       "92  3569992365  kc10*****  2022.03.08      5   \n",
       "\n",
       "                                                 Text Option Size  \\\n",
       "13  쌀국의 엑스라지는 우리의 엑스라지와 마이 다르네요 까슬하니 시원할거같고 벌크로 돌려...      0    0   \n",
       "77  미국에서 언더웨어 브랜드로 알고 있는데 집이나 가볍게 외출복으로 입을 수 있는 라운...      0    0   \n",
       "82                       사이즈가 엄청 크네요. 한사이즈 작게 구매해야겠어요      0    0   \n",
       "91  사이즈 선택을 잘못해서 옷이 너무 커요.내잘못이라 면도 좋고 체격이 큰사람은 좋을것...      0    0   \n",
       "92                사이즈정사이즈고요.천은조금거칠고조금？아요.총평은그런데로괜찮아요.      0    0   \n",
       "\n",
       "                                         FilteredText  Rate  FilteredLen  \\\n",
       "13  ['쌀국', '엑스', '라지', '엑스', '라지', '마이', '다르네요', '...    -1           22   \n",
       "77  ['미국', '언더웨어', '브랜드', '있는데', '이나', '가볍게', '외출'...    -1           11   \n",
       "82   ['사이즈', '엄청', '크네요', '사이즈', '작게', '구매', '해야겠어요']    -2            7   \n",
       "91  ['사이즈', '선택', '잘못', '해서', '너무', '커요', '잘못', '이...    -2           14   \n",
       "92   ['사이', '정사', '고요', '거칠고', '요', '총', '평', '괜찮아요']    -2            8   \n",
       "\n",
       "    has_size  \n",
       "13     False  \n",
       "77     False  \n",
       "82      True  \n",
       "91      True  \n",
       "92     False  "
      ]
     },
     "execution_count": 45,
     "metadata": {},
     "output_type": "execute_result"
    }
   ],
   "source": [
    "negative_rate_df.head()"
   ]
  },
  {
   "cell_type": "code",
   "execution_count": 50,
   "id": "e2bbea6d",
   "metadata": {},
   "outputs": [
    {
     "name": "stdout",
     "output_type": "stream",
     "text": [
      "337\n",
      "153\n"
     ]
    }
   ],
   "source": [
    "print(len(negative_rate_df))\n",
    "\n",
    "# 부정 평가에 '사이즈' 가 언급되어있는지 카운팅\n",
    "negative_rate_df['has_size'] = negative_rate_df['FilteredText'].apply(lambda x: '사이즈' in x)\n",
    "\n",
    "num_true = (negative_rate_df['has_size'] == True).sum()\n",
    "print(num_true)"
   ]
  },
  {
   "cell_type": "code",
   "execution_count": 51,
   "id": "54d450eb",
   "metadata": {},
   "outputs": [],
   "source": [
    "# 부정 평가에 '가격' 가 언급되어있는지 카운팅\n",
    "def has_price(lst):\n",
    "    for item in lst:\n",
    "        if isinstance(item, str) and '가격' in item:\n",
    "            return True\n",
    "    return False\n",
    "\n",
    "\n",
    "negative_rate_df['has_price'] = negative_rate_df['FilteredText'].apply(lambda x: '가격' in x)"
   ]
  },
  {
   "cell_type": "code",
   "execution_count": 52,
   "id": "e271e0bc",
   "metadata": {},
   "outputs": [
    {
     "name": "stdout",
     "output_type": "stream",
     "text": [
      "37\n"
     ]
    }
   ],
   "source": [
    "num_true = (negative_rate_df['has_price'] == True).sum()\n",
    "print(num_true)"
   ]
  },
  {
   "cell_type": "code",
   "execution_count": 67,
   "id": "9d8a12d4",
   "metadata": {},
   "outputs": [],
   "source": [
    "# 부정 평가에 '배송'이 언급되어있는지 카운팅\n",
    "negative_rate_df['has_delivery'] = negative_rate_df['FilteredText'].apply(lambda x: '배송' in x)"
   ]
  },
  {
   "cell_type": "code",
   "execution_count": 68,
   "id": "85ba0a5f",
   "metadata": {},
   "outputs": [],
   "source": [
    "num_delivery = (negative_rate_df['has_delivery'] == True).sum()"
   ]
  },
  {
   "cell_type": "code",
   "execution_count": 69,
   "id": "d977cf7d",
   "metadata": {},
   "outputs": [
    {
     "name": "stdout",
     "output_type": "stream",
     "text": [
      "25\n"
     ]
    }
   ],
   "source": [
    "print(num_delivery)"
   ]
  },
  {
   "cell_type": "code",
   "execution_count": null,
   "id": "b346fbb6",
   "metadata": {},
   "outputs": [],
   "source": [
    "# 부정적인 리뷰 337개 중 사이즈 언급 153개, 가격 언급 37개, 배송 언급 25개"
   ]
  },
  {
   "cell_type": "code",
   "execution_count": 63,
   "id": "dddb4086",
   "metadata": {},
   "outputs": [],
   "source": [
    "negative_rate_df.to_excel(\"negative_rate_check.xlsx\")"
   ]
  },
  {
   "cell_type": "code",
   "execution_count": null,
   "id": "20b88a34",
   "metadata": {},
   "outputs": [],
   "source": []
  },
  {
   "cell_type": "code",
   "execution_count": 70,
   "id": "620aaef3",
   "metadata": {},
   "outputs": [],
   "source": [
    "# 긍정 리뷰\n",
    "positive_rate = df.index[df[\"Rate\"] > 0].tolist()"
   ]
  },
  {
   "cell_type": "code",
   "execution_count": 71,
   "id": "c5afdae2",
   "metadata": {},
   "outputs": [
    {
     "name": "stdout",
     "output_type": "stream",
     "text": [
      "2877\n",
      "[0, 1, 2, 3, 4, 6, 8, 10, 15, 16, 17, 19, 20, 21, 22, 24, 27, 28, 29, 30, 31, 34, 36, 38, 39, 41, 42, 44, 47, 48, 50, 52, 53, 54, 55, 58, 59, 60, 61, 62, 66, 67, 68, 70, 71, 72, 75, 78, 79, 80, 84, 85, 87, 88, 89, 90, 93, 94, 95, 96, 97, 98, 102, 104, 105, 106, 107, 108, 109, 111, 113, 114, 115, 116, 117, 118, 121, 123, 124, 129, 130, 131, 133, 134, 135, 136, 138, 139, 141, 142, 145, 146, 147, 149, 150, 152, 153, 155, 157, 161, 163, 167, 168, 171, 172, 173, 175, 177, 178, 180, 181, 184, 186, 190, 266, 267, 269, 278, 280, 282, 284, 285, 286, 288, 289, 290, 292, 294, 295, 297, 298, 300, 302, 303, 305, 307, 308, 310, 311, 312, 314, 316, 317, 319, 320, 321, 322, 323, 326, 327, 328, 329, 330, 331, 332, 333, 335, 336, 337, 339, 340, 341, 347, 348, 349, 350, 351, 352, 354, 355, 356, 361, 362, 364, 365, 366, 369, 370, 373, 375, 379, 380, 381, 384, 386, 389, 390, 392, 394, 397, 399, 400, 403, 406, 408, 410, 411, 412, 418, 420, 422, 423, 424, 428, 429, 430, 433, 434, 435, 436, 437, 438, 439, 440, 441, 442, 444, 447, 448, 449, 450, 451, 452, 453, 454, 456, 459, 461, 462, 463, 464, 465, 466, 472, 474, 476, 478, 481, 486, 488, 489, 492, 495, 496, 497, 498, 499, 500, 502, 506, 515, 516, 517, 519, 521, 523, 524, 525, 526, 527, 529, 530, 532, 533, 534, 537, 538, 539, 541, 547, 550, 553, 554, 556, 557, 562, 563, 564, 565, 566, 567, 568, 569, 577, 579, 580, 581, 586, 589, 590, 593, 594, 603, 604, 605, 607, 608, 609, 610, 615, 616, 620, 621, 730, 731, 733, 739, 740, 747, 749, 750, 753, 754, 775, 777, 778, 781, 782, 788, 792, 793, 794, 796, 797, 799, 800, 801, 803, 804, 805, 806, 809, 811, 812, 813, 815, 816, 817, 819, 822, 823, 826, 830, 832, 834, 835, 836, 837, 838, 841, 844, 846, 847, 850, 852, 853, 854, 855, 857, 858, 859, 860, 861, 864, 865, 867, 868, 869, 870, 871, 874, 875, 878, 879, 881, 882, 884, 886, 887, 888, 889, 891, 892, 895, 896, 897, 898, 899, 901, 903, 904, 905, 906, 907, 908, 909, 910, 912, 914, 917, 918, 919, 920, 921, 922, 924, 925, 927, 928, 929, 931, 932, 933, 934, 935, 936, 937, 939, 940, 941, 943, 947, 948, 949, 950, 951, 953, 957, 959, 960, 961, 963, 964, 965, 966, 970, 971, 972, 978, 982, 985, 990, 991, 993, 994, 996, 997, 1000, 1003, 1005, 1010, 1013, 1015, 1016, 1017, 1018, 1019, 1020, 1021, 1029, 1031, 1032, 1033, 1124, 1125, 1126, 1132, 1134, 1138, 1142, 1145, 1146, 1149, 1150, 1158, 1178, 1179, 1181, 1182, 1183, 1185, 1186, 1187, 1189, 1190, 1191, 1194, 1195, 1196, 1201, 1202, 1203, 1204, 1208, 1209, 1210, 1211, 1213, 1214, 1215, 1216, 1217, 1219, 1220, 1222, 1224, 1225, 1226, 1227, 1228, 1231, 1234, 1240, 1241, 1242, 1261, 1262, 1264, 1267, 1269, 1271, 1273, 1274, 1275, 1277, 1278, 1280, 1281, 1287, 1288, 1289, 1291, 1293, 1294, 1295, 1296, 1297, 1301, 1302, 1304, 1306, 1307, 1308, 1309, 1310, 1311, 1313, 1315, 1317, 1321, 1322, 1324, 1325, 1326, 1330, 1331, 1332, 1333, 1334, 1336, 1338, 1339, 1340, 1342, 1347, 1348, 1350, 1351, 1353, 1359, 1360, 1362, 1363, 1364, 1365, 1366, 1367, 1368, 1369, 1370, 1371, 1372, 1373, 1374, 1375, 1376, 1379, 1380, 1381, 1382, 1384, 1385, 1386, 1387, 1388, 1389, 1390, 1392, 1394, 1395, 1397, 1398, 1399, 1400, 1401, 1402, 1403, 1405, 1407, 1412, 1413, 1414, 1415, 1417, 1418, 1420, 1423, 1424, 1426, 1427, 1428, 1432, 1433, 1436, 1437, 1440, 1443, 1444, 1450, 1453, 1454, 1455, 1457, 1458, 1460, 1463, 1464, 1465, 1466, 1468, 1469, 1471, 1474, 1475, 1476, 1477, 1478, 1485, 1489, 1490, 1491, 1492, 1493, 1497, 1498, 1499, 1500, 1501, 1502, 1504, 1506, 1509, 1510, 1517, 1590, 1598, 1599, 1601, 1603, 1609, 1610, 1611, 1612, 1615, 1616, 1617, 1618, 1619, 1620, 1621, 1622, 1624, 1625, 1626, 1627, 1631, 1633, 1634, 1635, 1636, 1637, 1640, 1641, 1643, 1644, 1645, 1646, 1647, 1649, 1651, 1652, 1653, 1658, 1659, 1661, 1663, 1664, 1665, 1666, 1667, 1668, 1670, 1671, 1672, 1673, 1674, 1677, 1678, 1680, 1681, 1683, 1684, 1685, 1686, 1687, 1690, 1691, 1692, 1693, 1695, 1696, 1697, 1698, 1701, 1703, 1705, 1706, 1707, 1709, 1711, 1712, 1718, 1721, 1723, 1725, 1726, 1730, 1731, 1733, 1739, 1742, 1745, 1746, 1747, 1792, 1793, 1800, 1802, 1807, 1808, 1810, 1815, 1820, 1827, 1830, 1832, 1833, 1834, 1835, 1839, 1843, 1847, 1850, 1851, 1852, 1853, 1855, 1857, 1861, 1863, 1865, 1866, 1867, 1871, 1873, 1876, 1882, 1884, 1887, 1889, 1892, 1899, 1900, 1903, 1904, 1905, 1906, 1907, 1908, 1911, 1913, 1914, 1916, 1917, 1918, 1920, 1921, 1923, 1925, 1926, 1929, 1930, 1932, 1935, 1936, 1938, 1939, 1942, 1943, 1944, 1946, 1951, 1952, 1954, 1959, 1961, 1964, 1965, 1967, 1969, 1970, 1973, 1977, 1980, 1981, 1983, 1984, 1985, 1986, 1988, 1994, 1997, 1999, 2004, 2005, 2006, 2019, 2103, 2104, 2106, 2116, 2118, 2119, 2122, 2123, 2124, 2125, 2126, 2127, 2128, 2129, 2136, 2137, 2145, 2147, 2153, 2156, 2158, 2161, 2162, 2163, 2165, 2167, 2172, 2173, 2174, 2176, 2177, 2179, 2180, 2181, 2182, 2184, 2185, 2186, 2187, 2188, 2189, 2190, 2192, 2193, 2196, 2197, 2198, 2199, 2200, 2201, 2205, 2206, 2207, 2209, 2210, 2214, 2215, 2216, 2222, 2223, 2226, 2227, 2229, 2230, 2231, 2233, 2234, 2235, 2236, 2237, 2239, 2240, 2241, 2242, 2243, 2244, 2245, 2246, 2248, 2249, 2252, 2253, 2254, 2255, 2256, 2257, 2258, 2260, 2262, 2263, 2264, 2266, 2267, 2269, 2271, 2274, 2277, 2278, 2280, 2284, 2285, 2287, 2289, 2290, 2291, 2293, 2298, 2300, 2301, 2306, 2307, 2309, 2311, 2322, 2325, 2327, 2328, 2329, 2330, 2332, 2335, 2337, 2338, 2340, 2341, 2343, 2386, 2388, 2389, 2391, 2392, 2393, 2395, 2396, 2397, 2399, 2406, 2407, 2408, 2412, 2413, 2414, 2415, 2418, 2419, 2420, 2422, 2424, 2426, 2427, 2428, 2429, 2432, 2439, 2440, 2445, 2447, 2448, 2449, 2450, 2452, 2456, 2458, 2464, 2465, 2468, 2470, 2471, 2472, 2474, 2476, 2477, 2479, 2484, 2485, 2487, 2493, 2495, 2496, 2498, 2499, 2500, 2502, 2505, 2506, 2507, 2508, 2509, 2510, 2512, 2514, 2515, 2516, 2522, 2523, 2524, 2525, 2526, 2527, 2529, 2530, 2531, 2534, 2536, 2539, 2540, 2543, 2544, 2545, 2546, 2547, 2548, 2552, 2553, 2554, 2556, 2557, 2558, 2560, 2561, 2566, 2567, 2568, 2569, 2570, 2571, 2572, 2573, 2575, 2576, 2577, 2578, 2579, 2580, 2581, 2582, 2586, 2589, 2592, 2593, 2594, 2598, 2603, 2608, 2615, 2616, 2619, 2620, 2625, 2626, 2631, 2634, 2637, 2638, 2641, 2646, 2649, 2651, 2653, 2655, 2658, 2659, 2662, 2664, 2668, 2669, 2672, 2674, 2675, 2676, 2681, 2682, 2683, 2760, 2761, 2762, 2767, 2768, 2770, 2771, 2772, 2773, 2778, 2779, 2783, 2787, 2789, 2792, 2793, 2802, 2804, 2805, 2806, 2807, 2808, 2809, 2815, 2817, 2819, 2820, 2821, 2822, 2823, 2824, 2825, 2826, 2827, 2828, 2829, 2830, 2833, 2835, 2838, 2840, 2841, 2842, 2843, 2846, 2848, 2850, 2851, 2852, 2853, 2854, 2871, 2872, 2873, 2879, 2880, 2882, 2883, 2884, 2885, 2893, 2898, 2901, 2902, 2904, 2905, 2906, 2907, 2909, 2910, 2911, 2912, 2914, 2915, 2919, 2920, 2921, 2923, 2926, 2927, 2928, 2929, 2930, 2931, 2932, 2933, 2936, 2939, 2940, 2945, 2946, 2947, 2948, 2949, 2950, 2951, 2953, 2954, 2956, 2959, 2960, 2962, 2963, 2964, 2968, 2970, 2972, 2973, 2974, 2975, 2976, 2978, 2981, 2982, 2983, 2984, 2985, 2987, 2988, 2989, 2991, 2993, 2996, 2997, 2999, 3000, 3001, 3004, 3005, 3006, 3009, 3011, 3012, 3014, 3015, 3017, 3018, 3019, 3020, 3022, 3023, 3025, 3029, 3030, 3031, 3032, 3035, 3036, 3038, 3039, 3043, 3044, 3046, 3048, 3049, 3051, 3054, 3055, 3056, 3061, 3108, 3109, 3110, 3111, 3112, 3115, 3116, 3118, 3119, 3120, 3122, 3123, 3124, 3129, 3133, 3134, 3136, 3137, 3139, 3140, 3144, 3145, 3146, 3147, 3148, 3150, 3152, 3153, 3154, 3156, 3157, 3158, 3162, 3163, 3167, 3168, 3169, 3170, 3172, 3174, 3175, 3177, 3180, 3181, 3182, 3184, 3185, 3186, 3188, 3189, 3192, 3195, 3197, 3199, 3200, 3205, 3207, 3209, 3217, 3233, 3234, 3236, 3239, 3241, 3242, 3244, 3245, 3246, 3248, 3249, 3254, 3255, 3260, 3261, 3262, 3264, 3266, 3268, 3269, 3270, 3271, 3272, 3273, 3274, 3275, 3277, 3278, 3279, 3281, 3283, 3284, 3289, 3293, 3300, 3304, 3305, 3307, 3308, 3309, 3310, 3329, 3330, 3332, 3333, 3335, 3340, 3341, 3342, 3343, 3345, 3349, 3351, 3352, 3358, 3359, 3362, 3364, 3365, 3367, 3370, 3372, 3375, 3377, 3387, 3392, 3394, 3395, 3400, 3402, 3413, 3414, 3415, 3418, 3421, 3423, 3425, 3427, 3428, 3429, 3430, 3433, 3436, 3439, 3442, 3443, 3447, 3448, 3450, 3451, 3452, 3453, 3458, 3459, 3463, 3464, 3465, 3466, 3467, 3469, 3471, 3472, 3473, 3474, 3480, 3482, 3487, 3492, 3493, 3494, 3497, 3499, 3500, 3501, 3503, 3504, 3506, 3509, 3510, 3512, 3516, 3517, 3519, 3520, 3521, 3522, 3523, 3525, 3572, 3573, 3575, 3576, 3577, 3585, 3587, 3588, 3594, 3596, 3597, 3601, 3603, 3604, 3605, 3606, 3608, 3610, 3616, 3618, 3619, 3624, 3637, 3639, 3640, 3643, 3645, 3646, 3648, 3651, 3653, 3656, 3658, 3668, 3669, 3672, 3673, 3674, 3677, 3678, 3682, 3684, 3686, 3687, 3691, 3694, 3695, 3698, 3700, 3701, 3704, 3737, 3741, 3743, 3744, 3745, 3746, 3751, 3758, 3759, 3760, 3761, 3765, 3766, 3767, 3768, 3769, 3770, 3771, 3772, 3774, 3775, 3776, 3777, 3779, 3780, 3783, 3784, 3787, 3788, 3789, 3790, 3791, 3792, 3794, 3795, 3796, 3797, 3800, 3801, 3806, 3810, 3826, 3828, 3832, 3834, 3835, 3836, 3837, 3838, 3844, 3845, 3846, 3847, 3848, 3849, 3852, 3853, 3854, 3855, 3857, 3859, 3873, 3875, 3877, 3879, 3880, 3881, 3882, 3884, 3886, 3887, 3889, 3890, 3891, 3892, 3893, 3894, 3895, 3896, 3897, 3899, 3900, 3903, 3904, 3911, 3913, 3914, 3915, 3917, 3918, 3920, 3921, 3924, 3925, 3926, 3927, 3930, 3932, 3935, 3938, 3940, 3941, 3943, 3945, 3946, 3950, 3952, 3954, 3956, 3957, 3958, 3960, 3961, 3964, 3966, 3967, 3968, 3970, 3971, 3974, 3975, 3977, 3979, 3980, 3982, 3985, 3987, 3988, 3991, 3999, 4000, 4002, 4004, 4005, 4006, 4045, 4046, 4047, 4048, 4049, 4053, 4054, 4055, 4056, 4057, 4060, 4061, 4063, 4068, 4072, 4076, 4077, 4079, 4080, 4081, 4083, 4084, 4086, 4087, 4093, 4094, 4095, 4097, 4099, 4100, 4101, 4102, 4103, 4107, 4108, 4110, 4112, 4113, 4114, 4115, 4116, 4117, 4119, 4121, 4123, 4127, 4128, 4130, 4131, 4132, 4136, 4137, 4138, 4139, 4140, 4142, 4144, 4145, 4146, 4148, 4153, 4154, 4156, 4157, 4159, 4165, 4166, 4168, 4169, 4170, 4171, 4172, 4173, 4174, 4175, 4176, 4177, 4178, 4179, 4180, 4181, 4182, 4185, 4186, 4187, 4188, 4190, 4191, 4192, 4193, 4194, 4195, 4196, 4198, 4200, 4201, 4203, 4204, 4205, 4206, 4207, 4208, 4209, 4211, 4213, 4218, 4219, 4220, 4221, 4223, 4224, 4226, 4229, 4230, 4232, 4233, 4234, 4238, 4239, 4242, 4243, 4246, 4249, 4250, 4256, 4259, 4260, 4261, 4263, 4264, 4266, 4269, 4270, 4271, 4272, 4274, 4275, 4277, 4280, 4281, 4282, 4283, 4284, 4291, 4295, 4296, 4297, 4298, 4299, 4303, 4304, 4305, 4306, 4307, 4308, 4310, 4312, 4315, 4316, 4323, 4396, 4404, 4405, 4407, 4409, 4415, 4416, 4417, 4418, 4421, 4422, 4423, 4424, 4425, 4426, 4427, 4428, 4430, 4431, 4432, 4433, 4438, 4445, 4448, 4450, 4451, 4454, 4462, 4463, 4465, 4467, 4468, 4470, 4471, 4472, 4474, 4476, 4477, 4479, 4480, 4481, 4482, 4483, 4486, 4487, 4488, 4489, 4490, 4491, 4492, 4493, 4495, 4496, 4497, 4499, 4500, 4501, 4507, 4508, 4509, 4510, 4511, 4512, 4514, 4515, 4516, 4521, 4522, 4524, 4525, 4526, 4529, 4530, 4533, 4535, 4539, 4540, 4541, 4544, 4546, 4549, 4550, 4552, 4554, 4557, 4559, 4560, 4563, 4566, 4568, 4570, 4571, 4572, 4578, 4580, 4582, 4583, 4584, 4588, 4589, 4590, 4593, 4594, 4595, 4596, 4597, 4598, 4599, 4600, 4601, 4602, 4604, 4607, 4608, 4609, 4610, 4611, 4612, 4613, 4614, 4616, 4619, 4621, 4622, 4623, 4624, 4625, 4626, 4632, 4634, 4636, 4638, 4641, 4646, 4648, 4649, 4652, 4655, 4656, 4657, 4658, 4659, 4660, 4662, 4666, 4675, 4676, 4677, 4679, 4681, 4683, 4684, 4685, 4686, 4687, 4689, 4690, 4692, 4693, 4694, 4697, 4698, 4699, 4701, 4707, 4710, 4713, 4714, 4716, 4717, 4722, 4723, 4724, 4725, 4726, 4727, 4728, 4729, 4737, 4739, 4740, 4741, 4746, 4749, 4750, 4753, 4754, 4763, 4764, 4765, 4767, 4768, 4769, 4770, 4775, 4776, 4780, 4781, 4890, 4891, 4893, 4899, 4900, 4907, 4909, 4910, 4913, 4914, 4935, 4937, 4938, 4941, 4942, 4948, 4952, 4953, 4955, 4961, 4962, 4963, 4965, 4967, 4970, 4975, 4977, 4978, 4983, 4984, 4985, 4986, 4987, 4988, 4989, 4990, 4992, 4993, 4994, 4995, 4998, 4999, 5000, 5001, 5004, 5005, 5008, 5009, 5010, 5011, 5012, 5013, 5015, 5016, 5017, 5020, 5021, 5022, 5024, 5025, 5028, 5030, 5038, 5040, 5046, 5083, 5084, 5085, 5086, 5088, 5089, 5090, 5091, 5093, 5095, 5096, 5099, 5100, 5102, 5107, 5108, 5110, 5113, 5114, 5118, 5120, 5125, 5127, 5128, 5129, 5130, 5131, 5133, 5138, 5140, 5141, 5146, 5147, 5148, 5149, 5150, 5167, 5169, 5174, 5175, 5176, 5178, 5179, 5180, 5181, 5183, 5185, 5189, 5190, 5192, 5193, 5194, 5195, 5197, 5198, 5199, 5200, 5201, 5202, 5203, 5204, 5205, 5206, 5207, 5209, 5210, 5211, 5213, 5214, 5216, 5218, 5220, 5221, 5222, 5224, 5226, 5228, 5229, 5233, 5234, 5236, 5239, 5240, 5241, 5242, 5243, 5246, 5250, 5253, 5254, 5255, 5256, 5257, 5259, 5260, 5261, 5263, 5265, 5266, 5267, 5268, 5269, 5270, 5271, 5272, 5273, 5274, 5275, 5282, 5283, 5284, 5288, 5289, 5290, 5335, 5337, 5344, 5345, 5347, 5349, 5350, 5352, 5354, 5356, 5357, 5358, 5360, 5361, 5362, 5365, 5366, 5371, 5374, 5375, 5377, 5378, 5379, 5380, 5392, 5399, 5400, 5406, 5416, 5420, 5423, 5424, 5429, 5433, 5435, 5436, 5437, 5438, 5439, 5441, 5442, 5444, 5445, 5447, 5448, 5449, 5450, 5451, 5456, 5458, 5460, 5462, 5483, 5484, 5490, 5492, 5494, 5496, 5497, 5498, 5499, 5500, 5501, 5502, 5504, 5505, 5508, 5511, 5512, 5514, 5517, 5518, 5519, 5523, 5525, 5527, 5528, 5529, 5530, 5531, 5534, 5535, 5536, 5538, 5539, 5541, 5549, 5572, 5574, 5577, 5582, 5583, 5592, 5593, 5594, 5596, 5597, 5598, 5600, 5601, 5602, 5603, 5604, 5605, 5606, 5607, 5608, 5609, 5613, 5615, 5616, 5618, 5619, 5621, 5622, 5623, 5624, 5625, 5626, 5627, 5640, 5642, 5646, 5647, 5650, 5651, 5652, 5653, 5654, 5655, 5657, 5659, 5660, 5662, 5663, 5664, 5666, 5667, 5669, 5678, 5679, 5682, 5684, 5685, 5687, 5689, 5690, 5692, 5693, 5694, 5696, 5698, 5699, 5701, 5702, 5703, 5704, 5705, 5708, 5709, 5710, 5711, 5712, 5713, 5714, 5715, 5717, 5718, 5719, 5721, 5722, 5723, 5729, 5730, 5731, 5732, 5733, 5734, 5736, 5737, 5738, 5743, 5744, 5746, 5747, 5748, 5751, 5752, 5755, 5757, 5761, 5762, 5763, 5766, 5768, 5771, 5772, 5774, 5776, 5779, 5781, 5782, 5785, 5788, 5790, 5792, 5793, 5794, 5800, 5802, 5804, 5805, 5806, 5810, 5811, 5812, 5815, 5816, 5817, 5818, 5819, 5820, 5821, 5822, 5823, 5824, 5826, 5829, 5830, 5831, 5832, 5833, 5834, 5835, 5836, 5838, 5841, 5843, 5844, 5845, 5846, 5847, 5848, 5854, 5856, 5858, 5860, 5863, 5868, 5870, 5871, 5874, 5877, 5878, 5879, 5880, 5881, 5882, 5884, 5888, 5897, 5898, 5899, 5901, 5903, 5905, 5906, 5907, 5908, 5909, 5911, 5912, 5914, 5915, 5916, 5919, 5920, 5921, 5923, 5929, 5932, 5935, 5936, 5938, 5939, 5944, 5945, 5946, 5947, 5948, 5949, 5950, 5951, 5959, 5961, 5962, 5963, 5968, 5971, 5972, 5975, 5976, 5985, 5986, 5987, 5989, 5990, 5991, 5992, 5997, 5998, 6002, 6003, 6112, 6113, 6115, 6121, 6122, 6129, 6131, 6132, 6135, 6136, 6157, 6159, 6160, 6163, 6164, 6170, 6174, 6175, 6178, 6179, 6180, 6181, 6182, 6190, 6191, 6192, 6193, 6194, 6195, 6197, 6199, 6200, 6201, 6202, 6204, 6206, 6207, 6208, 6209, 6211, 6212, 6213, 6215, 6217, 6222, 6227, 6229, 6230, 6231, 6232, 6235, 6237, 6238, 6239, 6240, 6243, 6244, 6245, 6246, 6247, 6248, 6249, 6250, 6252, 6253, 6258, 6260, 6263, 6264, 6297, 6298, 6308, 6309, 6312, 6313, 6314, 6315, 6316, 6318, 6319, 6322, 6327, 6329, 6330, 6334, 6351, 6353, 6354, 6355, 6356, 6357, 6358, 6360, 6375, 6376, 6377, 6380, 6381, 6382, 6387, 6391, 6392, 6393, 6394, 6395, 6396, 6400, 6404, 6405, 6406, 6407, 6409, 6414, 6417, 6419, 6420, 6421, 6423, 6424, 6427, 6429, 6430, 6437, 6438, 6444, 6445, 6446, 6447, 6448, 6451, 6466, 6473, 6477, 6478, 6480, 6481, 6482, 6483, 6502, 6503, 6507, 6514, 6522, 6523, 6524, 6525, 6529, 6535, 6536, 6537, 6539, 6540, 6543, 6548, 6549, 6555, 6557, 6564, 6566, 6567, 6568, 6569, 6571, 6575, 6577, 6589, 6590, 6594, 6598, 6607, 6608, 6609, 6619, 6620, 6621, 6625, 6627, 6629, 6630, 6633, 6634, 6640, 6648, 6650, 6651, 6661, 6663, 6666, 6667, 6669, 6671, 6673, 6674, 6678, 6680, 6684, 6685, 6686, 6691, 6692, 6695, 6696, 6697, 6698, 6699, 6700, 6702, 6704, 6705, 6708, 6709, 6715, 6717, 6718, 6720, 6721, 6723, 6724, 6725, 6726, 6727, 6728, 6729, 6730, 6731, 6734, 6737, 6753, 6754, 6756, 6759, 6760, 6761, 6773, 6777, 6778, 6780, 6784, 6786, 6787, 6788, 6790, 6793, 6794, 6795, 6796, 6798, 6799, 6809, 6812, 6816, 6817, 6819, 6823, 6827, 6829, 6842, 6843, 6846, 6850, 6852, 6853, 6857, 6859, 6860, 6864, 6865, 6866, 6867, 6869, 6871, 6872, 6875, 6881, 6890, 6891, 6892, 6894, 6900, 6905, 6906, 6908, 6912, 6913, 6914, 6916, 6917, 6919, 6921, 6922, 6930, 6933, 6934, 6940, 6942, 6943, 6945, 6947, 6948, 6949, 6950, 6962, 6964, 6966, 6967, 6972, 6976, 6978, 6979, 6980, 6982, 6983, 6985, 6987, 6988, 6990, 6991, 6992, 6993, 6994, 6995, 6996, 6997, 6998, 7000, 7004, 7006, 7007, 7008, 7009, 7010, 7012, 7013, 7014, 7015, 7020, 7022, 7025, 7026, 7028, 7029, 7032, 7034, 7037, 7038, 7043, 7045, 7046, 7048, 7049, 7056, 7061, 7064, 7065, 7067, 7070, 7078, 7079, 7081, 7082, 7086, 7087, 7094, 7095, 7144, 7150, 7152, 7153, 7155, 7156, 7159, 7160, 7163, 7166]\n"
     ]
    }
   ],
   "source": [
    "print(len(positive_rate))\n",
    "print(positive_rate)\n"
   ]
  },
  {
   "cell_type": "code",
   "execution_count": 72,
   "id": "555338e1",
   "metadata": {},
   "outputs": [
    {
     "data": {
      "text/plain": [
       "\"['두께', '적당하고', '따스하고', '좋아요', '생각', '보다', '품질', '좋아요']\""
      ]
     },
     "execution_count": 72,
     "metadata": {},
     "output_type": "execute_result"
    }
   ],
   "source": [
    "df.iloc[1920,7]"
   ]
  },
  {
   "cell_type": "code",
   "execution_count": 73,
   "id": "1e3d1ae4",
   "metadata": {},
   "outputs": [],
   "source": [
    "positive_rate_df = df.loc[positive_rate]"
   ]
  },
  {
   "cell_type": "code",
   "execution_count": 74,
   "id": "e53727ed",
   "metadata": {},
   "outputs": [
    {
     "data": {
      "text/html": [
       "<div>\n",
       "<style scoped>\n",
       "    .dataframe tbody tr th:only-of-type {\n",
       "        vertical-align: middle;\n",
       "    }\n",
       "\n",
       "    .dataframe tbody tr th {\n",
       "        vertical-align: top;\n",
       "    }\n",
       "\n",
       "    .dataframe thead th {\n",
       "        text-align: right;\n",
       "    }\n",
       "</style>\n",
       "<table border=\"1\" class=\"dataframe\">\n",
       "  <thead>\n",
       "    <tr style=\"text-align: right;\">\n",
       "      <th></th>\n",
       "      <th>ProductNum</th>\n",
       "      <th>ID</th>\n",
       "      <th>Date</th>\n",
       "      <th>Grade</th>\n",
       "      <th>Text</th>\n",
       "      <th>Option</th>\n",
       "      <th>Size</th>\n",
       "      <th>FilteredText</th>\n",
       "      <th>Rate</th>\n",
       "      <th>FilteredLen</th>\n",
       "    </tr>\n",
       "  </thead>\n",
       "  <tbody>\n",
       "    <tr>\n",
       "      <th>0</th>\n",
       "      <td>3569992365</td>\n",
       "      <td>날까</td>\n",
       "      <td>2023.04.08</td>\n",
       "      <td>4</td>\n",
       "      <td>쿠폰써서 2만원정도에 6벌이면 정말 싸요. 싼만큼 마감이 안좋은 부분도 있네요. 어...</td>\n",
       "      <td>White 6-pack, 6, Medium</td>\n",
       "      <td>비공개</td>\n",
       "      <td>['쿠폰', '써서', '정도', '벌이', '정말', '싸요', '싼만큼', '마...</td>\n",
       "      <td>2</td>\n",
       "      <td>18</td>\n",
       "    </tr>\n",
       "    <tr>\n",
       "      <th>1</th>\n",
       "      <td>3569992365</td>\n",
       "      <td>newr*****</td>\n",
       "      <td>2023.03.27</td>\n",
       "      <td>5</td>\n",
       "      <td>옷에 비침도 크게 없고 사이즈도 넉넉해서 좋습니다. 이번 여름까지 무난하게 잘 입을...</td>\n",
       "      <td>XX-Large, 6, White 6-pack</td>\n",
       "      <td>비공개</td>\n",
       "      <td>['비침도', '크게', '없고', '사이즈', '넉넉해서', '좋습니다', '여름...</td>\n",
       "      <td>2</td>\n",
       "      <td>10</td>\n",
       "    </tr>\n",
       "    <tr>\n",
       "      <th>2</th>\n",
       "      <td>3569992365</td>\n",
       "      <td>soch*****</td>\n",
       "      <td>2023.03.31</td>\n",
       "      <td>4</td>\n",
       "      <td>잘 알려진 브랜드입니다.면이 얇고 빨면 줄기도 합니다.올 여름 편하게 입으려고 구매...</td>\n",
       "      <td>X-Large, 6, Charcoal Heather 6-pack</td>\n",
       "      <td>비공개</td>\n",
       "      <td>['알려진', '브랜드', '입니다면이', '얇고', '줄기', '합니다', '여름...</td>\n",
       "      <td>2</td>\n",
       "      <td>13</td>\n",
       "    </tr>\n",
       "    <tr>\n",
       "      <th>3</th>\n",
       "      <td>3569992365</td>\n",
       "      <td>2045***************</td>\n",
       "      <td>2023.03.02</td>\n",
       "      <td>5</td>\n",
       "      <td>얇아서 비침이 있으며 꽤 부드러운 재질입니다.이너로 입기 괜찮을듯</td>\n",
       "      <td>6, Large, White 6-pack</td>\n",
       "      <td>비공개</td>\n",
       "      <td>['얇아서', '비침이', '있으며', '부드러운', '재질', '입니다', '입기...</td>\n",
       "      <td>1</td>\n",
       "      <td>8</td>\n",
       "    </tr>\n",
       "    <tr>\n",
       "      <th>4</th>\n",
       "      <td>3569992365</td>\n",
       "      <td>하이하이저요</td>\n",
       "      <td>2023.03.21</td>\n",
       "      <td>3</td>\n",
       "      <td>저렴하게 막 입기 좋네요생각보다 정사이즈인거 같아요 라지입는데 미듐샀더니가슴둘레가 ...</td>\n",
       "      <td>Medium, 6, Navy 6-pack</td>\n",
       "      <td>비공개</td>\n",
       "      <td>['저렴하게', '입기', '좋네요', '생각', '보다', '정사', '이즈', ...</td>\n",
       "      <td>2</td>\n",
       "      <td>20</td>\n",
       "    </tr>\n",
       "  </tbody>\n",
       "</table>\n",
       "</div>"
      ],
      "text/plain": [
       "   ProductNum                   ID        Date  Grade  \\\n",
       "0  3569992365                   날까  2023.04.08      4   \n",
       "1  3569992365            newr*****  2023.03.27      5   \n",
       "2  3569992365            soch*****  2023.03.31      4   \n",
       "3  3569992365  2045***************  2023.03.02      5   \n",
       "4  3569992365               하이하이저요  2023.03.21      3   \n",
       "\n",
       "                                                Text  \\\n",
       "0  쿠폰써서 2만원정도에 6벌이면 정말 싸요. 싼만큼 마감이 안좋은 부분도 있네요. 어...   \n",
       "1  옷에 비침도 크게 없고 사이즈도 넉넉해서 좋습니다. 이번 여름까지 무난하게 잘 입을...   \n",
       "2  잘 알려진 브랜드입니다.면이 얇고 빨면 줄기도 합니다.올 여름 편하게 입으려고 구매...   \n",
       "3               얇아서 비침이 있으며 꽤 부드러운 재질입니다.이너로 입기 괜찮을듯   \n",
       "4  저렴하게 막 입기 좋네요생각보다 정사이즈인거 같아요 라지입는데 미듐샀더니가슴둘레가 ...   \n",
       "\n",
       "                                Option Size  \\\n",
       "0              White 6-pack, 6, Medium  비공개   \n",
       "1            XX-Large, 6, White 6-pack  비공개   \n",
       "2  X-Large, 6, Charcoal Heather 6-pack  비공개   \n",
       "3               6, Large, White 6-pack  비공개   \n",
       "4               Medium, 6, Navy 6-pack  비공개   \n",
       "\n",
       "                                        FilteredText  Rate  FilteredLen  \n",
       "0  ['쿠폰', '써서', '정도', '벌이', '정말', '싸요', '싼만큼', '마...     2           18  \n",
       "1  ['비침도', '크게', '없고', '사이즈', '넉넉해서', '좋습니다', '여름...     2           10  \n",
       "2  ['알려진', '브랜드', '입니다면이', '얇고', '줄기', '합니다', '여름...     2           13  \n",
       "3  ['얇아서', '비침이', '있으며', '부드러운', '재질', '입니다', '입기...     1            8  \n",
       "4  ['저렴하게', '입기', '좋네요', '생각', '보다', '정사', '이즈', ...     2           20  "
      ]
     },
     "execution_count": 74,
     "metadata": {},
     "output_type": "execute_result"
    }
   ],
   "source": [
    "positive_rate_df.head()"
   ]
  },
  {
   "cell_type": "code",
   "execution_count": 88,
   "id": "92a8241d",
   "metadata": {},
   "outputs": [],
   "source": [
    "positive_rate_df['has_size'] = positive_rate_df['FilteredText'].apply(lambda x: 1 if '사이즈' in x else 0)"
   ]
  },
  {
   "cell_type": "code",
   "execution_count": 89,
   "id": "054f31fa",
   "metadata": {},
   "outputs": [
    {
     "name": "stdout",
     "output_type": "stream",
     "text": [
      "757\n"
     ]
    }
   ],
   "source": [
    "num_true = (positive_rate_df['has_size'] == 1).sum()\n",
    "print(num_true)"
   ]
  },
  {
   "cell_type": "code",
   "execution_count": 77,
   "id": "5161d8e4",
   "metadata": {},
   "outputs": [],
   "source": [
    "positive_rate_df['has_price'] = positive_rate_df['FilteredText'].apply(lambda x: '가격' in x)"
   ]
  },
  {
   "cell_type": "code",
   "execution_count": 83,
   "id": "6388ca3e",
   "metadata": {},
   "outputs": [],
   "source": [
    "positive_rate_df['has_price'] = positive_rate_df['FilteredText'].apply(lambda x: 1 if '가격' in x else 0)"
   ]
  },
  {
   "cell_type": "code",
   "execution_count": 84,
   "id": "ce9203fb",
   "metadata": {},
   "outputs": [
    {
     "name": "stdout",
     "output_type": "stream",
     "text": [
      "445\n"
     ]
    }
   ],
   "source": [
    "num_true = (positive_rate_df['has_price'] == 1).sum()\n",
    "print(num_true)"
   ]
  },
  {
   "cell_type": "code",
   "execution_count": 78,
   "id": "ac7bc7df",
   "metadata": {},
   "outputs": [
    {
     "name": "stdout",
     "output_type": "stream",
     "text": [
      "445\n"
     ]
    }
   ],
   "source": [
    "num_true = (positive_rate_df['has_price'] == True).sum()\n",
    "print(num_true)"
   ]
  },
  {
   "cell_type": "code",
   "execution_count": 85,
   "id": "715f0c9f",
   "metadata": {},
   "outputs": [],
   "source": [
    "positive_rate_df['has_delivery'] = positive_rate_df['FilteredText'].apply(lambda x: 1 if '배송' in x else 0)"
   ]
  },
  {
   "cell_type": "code",
   "execution_count": 86,
   "id": "d569c53c",
   "metadata": {},
   "outputs": [
    {
     "name": "stdout",
     "output_type": "stream",
     "text": [
      "523\n"
     ]
    }
   ],
   "source": [
    "num_true = (positive_rate_df['has_delivery'] == 1).sum()\n",
    "print(num_true)"
   ]
  },
  {
   "cell_type": "code",
   "execution_count": 90,
   "id": "483d85c4",
   "metadata": {},
   "outputs": [
    {
     "data": {
      "text/html": [
       "<div>\n",
       "<style scoped>\n",
       "    .dataframe tbody tr th:only-of-type {\n",
       "        vertical-align: middle;\n",
       "    }\n",
       "\n",
       "    .dataframe tbody tr th {\n",
       "        vertical-align: top;\n",
       "    }\n",
       "\n",
       "    .dataframe thead th {\n",
       "        text-align: right;\n",
       "    }\n",
       "</style>\n",
       "<table border=\"1\" class=\"dataframe\">\n",
       "  <thead>\n",
       "    <tr style=\"text-align: right;\">\n",
       "      <th></th>\n",
       "      <th>ProductNum</th>\n",
       "      <th>ID</th>\n",
       "      <th>Date</th>\n",
       "      <th>Grade</th>\n",
       "      <th>Text</th>\n",
       "      <th>Option</th>\n",
       "      <th>Size</th>\n",
       "      <th>FilteredText</th>\n",
       "      <th>Rate</th>\n",
       "      <th>FilteredLen</th>\n",
       "      <th>has_size</th>\n",
       "      <th>has_price</th>\n",
       "      <th>has_delivery</th>\n",
       "    </tr>\n",
       "  </thead>\n",
       "  <tbody>\n",
       "    <tr>\n",
       "      <th>0</th>\n",
       "      <td>3569992365</td>\n",
       "      <td>날까</td>\n",
       "      <td>2023.04.08</td>\n",
       "      <td>4</td>\n",
       "      <td>쿠폰써서 2만원정도에 6벌이면 정말 싸요. 싼만큼 마감이 안좋은 부분도 있네요. 어...</td>\n",
       "      <td>White 6-pack, 6, Medium</td>\n",
       "      <td>비공개</td>\n",
       "      <td>['쿠폰', '써서', '정도', '벌이', '정말', '싸요', '싼만큼', '마...</td>\n",
       "      <td>2</td>\n",
       "      <td>18</td>\n",
       "      <td>0</td>\n",
       "      <td>0</td>\n",
       "      <td>0</td>\n",
       "    </tr>\n",
       "    <tr>\n",
       "      <th>1</th>\n",
       "      <td>3569992365</td>\n",
       "      <td>newr*****</td>\n",
       "      <td>2023.03.27</td>\n",
       "      <td>5</td>\n",
       "      <td>옷에 비침도 크게 없고 사이즈도 넉넉해서 좋습니다. 이번 여름까지 무난하게 잘 입을...</td>\n",
       "      <td>XX-Large, 6, White 6-pack</td>\n",
       "      <td>비공개</td>\n",
       "      <td>['비침도', '크게', '없고', '사이즈', '넉넉해서', '좋습니다', '여름...</td>\n",
       "      <td>2</td>\n",
       "      <td>10</td>\n",
       "      <td>1</td>\n",
       "      <td>0</td>\n",
       "      <td>0</td>\n",
       "    </tr>\n",
       "    <tr>\n",
       "      <th>2</th>\n",
       "      <td>3569992365</td>\n",
       "      <td>soch*****</td>\n",
       "      <td>2023.03.31</td>\n",
       "      <td>4</td>\n",
       "      <td>잘 알려진 브랜드입니다.면이 얇고 빨면 줄기도 합니다.올 여름 편하게 입으려고 구매...</td>\n",
       "      <td>X-Large, 6, Charcoal Heather 6-pack</td>\n",
       "      <td>비공개</td>\n",
       "      <td>['알려진', '브랜드', '입니다면이', '얇고', '줄기', '합니다', '여름...</td>\n",
       "      <td>2</td>\n",
       "      <td>13</td>\n",
       "      <td>0</td>\n",
       "      <td>0</td>\n",
       "      <td>0</td>\n",
       "    </tr>\n",
       "    <tr>\n",
       "      <th>3</th>\n",
       "      <td>3569992365</td>\n",
       "      <td>2045***************</td>\n",
       "      <td>2023.03.02</td>\n",
       "      <td>5</td>\n",
       "      <td>얇아서 비침이 있으며 꽤 부드러운 재질입니다.이너로 입기 괜찮을듯</td>\n",
       "      <td>6, Large, White 6-pack</td>\n",
       "      <td>비공개</td>\n",
       "      <td>['얇아서', '비침이', '있으며', '부드러운', '재질', '입니다', '입기...</td>\n",
       "      <td>1</td>\n",
       "      <td>8</td>\n",
       "      <td>0</td>\n",
       "      <td>0</td>\n",
       "      <td>0</td>\n",
       "    </tr>\n",
       "    <tr>\n",
       "      <th>4</th>\n",
       "      <td>3569992365</td>\n",
       "      <td>하이하이저요</td>\n",
       "      <td>2023.03.21</td>\n",
       "      <td>3</td>\n",
       "      <td>저렴하게 막 입기 좋네요생각보다 정사이즈인거 같아요 라지입는데 미듐샀더니가슴둘레가 ...</td>\n",
       "      <td>Medium, 6, Navy 6-pack</td>\n",
       "      <td>비공개</td>\n",
       "      <td>['저렴하게', '입기', '좋네요', '생각', '보다', '정사', '이즈', ...</td>\n",
       "      <td>2</td>\n",
       "      <td>20</td>\n",
       "      <td>0</td>\n",
       "      <td>0</td>\n",
       "      <td>0</td>\n",
       "    </tr>\n",
       "  </tbody>\n",
       "</table>\n",
       "</div>"
      ],
      "text/plain": [
       "   ProductNum                   ID        Date  Grade  \\\n",
       "0  3569992365                   날까  2023.04.08      4   \n",
       "1  3569992365            newr*****  2023.03.27      5   \n",
       "2  3569992365            soch*****  2023.03.31      4   \n",
       "3  3569992365  2045***************  2023.03.02      5   \n",
       "4  3569992365               하이하이저요  2023.03.21      3   \n",
       "\n",
       "                                                Text  \\\n",
       "0  쿠폰써서 2만원정도에 6벌이면 정말 싸요. 싼만큼 마감이 안좋은 부분도 있네요. 어...   \n",
       "1  옷에 비침도 크게 없고 사이즈도 넉넉해서 좋습니다. 이번 여름까지 무난하게 잘 입을...   \n",
       "2  잘 알려진 브랜드입니다.면이 얇고 빨면 줄기도 합니다.올 여름 편하게 입으려고 구매...   \n",
       "3               얇아서 비침이 있으며 꽤 부드러운 재질입니다.이너로 입기 괜찮을듯   \n",
       "4  저렴하게 막 입기 좋네요생각보다 정사이즈인거 같아요 라지입는데 미듐샀더니가슴둘레가 ...   \n",
       "\n",
       "                                Option Size  \\\n",
       "0              White 6-pack, 6, Medium  비공개   \n",
       "1            XX-Large, 6, White 6-pack  비공개   \n",
       "2  X-Large, 6, Charcoal Heather 6-pack  비공개   \n",
       "3               6, Large, White 6-pack  비공개   \n",
       "4               Medium, 6, Navy 6-pack  비공개   \n",
       "\n",
       "                                        FilteredText  Rate  FilteredLen  \\\n",
       "0  ['쿠폰', '써서', '정도', '벌이', '정말', '싸요', '싼만큼', '마...     2           18   \n",
       "1  ['비침도', '크게', '없고', '사이즈', '넉넉해서', '좋습니다', '여름...     2           10   \n",
       "2  ['알려진', '브랜드', '입니다면이', '얇고', '줄기', '합니다', '여름...     2           13   \n",
       "3  ['얇아서', '비침이', '있으며', '부드러운', '재질', '입니다', '입기...     1            8   \n",
       "4  ['저렴하게', '입기', '좋네요', '생각', '보다', '정사', '이즈', ...     2           20   \n",
       "\n",
       "   has_size  has_price  has_delivery  \n",
       "0         0          0             0  \n",
       "1         1          0             0  \n",
       "2         0          0             0  \n",
       "3         0          0             0  \n",
       "4         0          0             0  "
      ]
     },
     "execution_count": 90,
     "metadata": {},
     "output_type": "execute_result"
    }
   ],
   "source": [
    "positive_rate_df.head()"
   ]
  },
  {
   "cell_type": "code",
   "execution_count": 91,
   "id": "781a37dd",
   "metadata": {},
   "outputs": [],
   "source": [
    "positive_rate_df.to_excel(\"positive_rate_df.xlsx\")"
   ]
  },
  {
   "cell_type": "code",
   "execution_count": 92,
   "id": "8494348f",
   "metadata": {},
   "outputs": [],
   "source": [
    "import matplotlib.pyplot as plt"
   ]
  },
  {
   "cell_type": "code",
   "execution_count": null,
   "id": "b967235c",
   "metadata": {},
   "outputs": [],
   "source": [
    "# 부정적인 리뷰 337개 중 사이즈 언급 153개, 가격 언급 37개, 배송 언급 25개\n",
    "# 긍정 리뷰 2877개 중 사이즈 757 가격  445 배송 523"
   ]
  },
  {
   "cell_type": "code",
   "execution_count": 96,
   "id": "8ba344d4",
   "metadata": {},
   "outputs": [
    {
     "name": "stdout",
     "output_type": "stream",
     "text": [
      "45.4\n"
     ]
    }
   ],
   "source": [
    "neg_size = round((153/337) *100,2)\n",
    "print(neg_size)"
   ]
  },
  {
   "cell_type": "code",
   "execution_count": 113,
   "id": "f5650470",
   "metadata": {},
   "outputs": [
    {
     "data": {
      "image/png": "[encoded data removed]",
      "text/plain": [
       "<Figure size 640x480 with 1 Axes>"
      ]
     },
     "metadata": {},
     "output_type": "display_data"
    }
   ],
   "source": [
    "labels = [\"\",\"Size\"]\n",
    "sizes = [100-neg_size, neg_size ]\n",
    "colors = [ 'gray', 'red'] \n",
    "\n",
    "fig, ax = plt.subplots()\n",
    "ax.pie(sizes, labels=labels, autopct=lambda x: '{:.2f}%'.format(x) if 'Size' in labels else '')\n",
    "ax.axis('equal')\n",
    "\n",
    "plt.show()"
   ]
  },
  {
   "cell_type": "code",
   "execution_count": 97,
   "id": "130d9357",
   "metadata": {},
   "outputs": [
    {
     "name": "stdout",
     "output_type": "stream",
     "text": [
      "10.98\n"
     ]
    }
   ],
   "source": [
    "neg_price = round((37/337) *100,2)\n",
    "print(neg_price)"
   ]
  },
  {
   "cell_type": "code",
   "execution_count": 98,
   "id": "c1aa09db",
   "metadata": {},
   "outputs": [
    {
     "name": "stdout",
     "output_type": "stream",
     "text": [
      "7.42\n"
     ]
    }
   ],
   "source": [
    "neg_delivery = round((25/337) *100,2)\n",
    "print(neg_delivery)"
   ]
  },
  {
   "cell_type": "code",
   "execution_count": 106,
   "id": "fbc4f8e2",
   "metadata": {},
   "outputs": [
    {
     "data": {
      "image/png": "[encoded data removed]",
      "text/plain": [
       "<Figure size 640x480 with 1 Axes>"
      ]
     },
     "metadata": {},
     "output_type": "display_data"
    }
   ],
   "source": [
    "neg_ratio = (45.40, 10.98,7.42)\n",
    "labels = ['Size', 'Price', 'Delivery']\n",
    "plt.pie(neg_ratio, labels=labels, autopct='%.1f%%')\n",
    "plt.show()"
   ]
  },
  {
   "cell_type": "code",
   "execution_count": null,
   "id": "36eec4d8",
   "metadata": {},
   "outputs": [],
   "source": []
  },
  {
   "cell_type": "code",
   "execution_count": null,
   "id": "9ef8e360",
   "metadata": {},
   "outputs": [],
   "source": []
  },
  {
   "cell_type": "code",
   "execution_count": 100,
   "id": "0db03b07",
   "metadata": {},
   "outputs": [
    {
     "name": "stdout",
     "output_type": "stream",
     "text": [
      "26.31\n"
     ]
    }
   ],
   "source": [
    "pos_size = round((757/2877) *100,2)\n",
    "print(pos_size)"
   ]
  },
  {
   "cell_type": "code",
   "execution_count": 101,
   "id": "4db39810",
   "metadata": {},
   "outputs": [
    {
     "name": "stdout",
     "output_type": "stream",
     "text": [
      "15.47\n"
     ]
    }
   ],
   "source": [
    "pos_price = round((445/2877) *100,2)\n",
    "print(pos_price)"
   ]
  },
  {
   "cell_type": "code",
   "execution_count": 102,
   "id": "68a39dc9",
   "metadata": {},
   "outputs": [
    {
     "name": "stdout",
     "output_type": "stream",
     "text": [
      "18.18\n"
     ]
    }
   ],
   "source": [
    "pos_delivery = round((523/2877) *100,2)\n",
    "print(pos_delivery)"
   ]
  },
  {
   "cell_type": "code",
   "execution_count": null,
   "id": "e006103b",
   "metadata": {},
   "outputs": [],
   "source": [
    "pos_ratio = (26.31, 15.47, 18.18)\n",
    "labels = ['Size', 'Price', 'Delivery']"
   ]
  },
  {
   "cell_type": "code",
   "execution_count": null,
   "id": "e4baaf53",
   "metadata": {},
   "outputs": [],
   "source": []
  },
  {
   "cell_type": "code",
   "execution_count": null,
   "id": "17697cfd",
   "metadata": {},
   "outputs": [],
   "source": []
  },
  {
   "cell_type": "code",
   "execution_count": null,
   "id": "246c77a2",
   "metadata": {},
   "outputs": [],
   "source": []
  },
  {
   "cell_type": "code",
   "execution_count": null,
   "id": "44aac9b9",
   "metadata": {},
   "outputs": [],
   "source": []
  }
 ],
 "metadata": {
  "kernelspec": {
   "display_name": "Python 3 (ipykernel)",
   "language": "python",
   "name": "python3"
  },
  "language_info": {
   "codemirror_mode": {
    "name": "ipython",
    "version": 3
   },
   "file_extension": ".py",
   "mimetype": "text/x-python",
   "name": "python",
   "nbconvert_exporter": "python",
   "pygments_lexer": "ipython3",
   "version": "3.10.9"
  }
 },
 "nbformat": 4,
 "nbformat_minor": 5
}
