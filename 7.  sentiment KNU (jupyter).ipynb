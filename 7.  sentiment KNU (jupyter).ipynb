{
 "cells": [
  {
   "cell_type": "code",
   "execution_count": 3,
   "metadata": {
    "colab": {
     "base_uri": "https://localhost:8080/"
    },
    "executionInfo": {
     "elapsed": 46386,
     "status": "ok",
     "timestamp": 1683172436730,
     "user": {
      "displayName": "JIWON CHOI",
      "userId": "04599244531959277806"
     },
     "user_tz": -540
    },
    "id": "Kwr1Ccncb7wO",
    "outputId": "f3b15680-bbd2-446d-eb47-47edc13995d1"
   },
   "outputs": [
    {
     "name": "stdout",
     "output_type": "stream",
     "text": [
      "Couldn't find program: 'bash'\n"
     ]
    }
   ],
   "source": [
    "%%bash\n",
    "apt-get update\n",
    "apt-get install g++ openjdk-8-jdk python-dev python3-dev\n",
    "pip3 install JPype1\n",
    "pip3 install konlpy"
   ]
  },
  {
   "cell_type": "code",
   "execution_count": 4,
   "metadata": {
    "colab": {
     "base_uri": "https://localhost:8080/"
    },
    "executionInfo": {
     "elapsed": 8,
     "status": "ok",
     "timestamp": 1683172436730,
     "user": {
      "displayName": "JIWON CHOI",
      "userId": "04599244531959277806"
     },
     "user_tz": -540
    },
    "id": "QxLZ5CZfb_k0",
    "outputId": "e12f588c-bcf8-4ba0-9f4c-190ea8eba46c"
   },
   "outputs": [
    {
     "name": "stdout",
     "output_type": "stream",
     "text": [
      "env: JAVA_HOME=\"/usr/lib/jvm/java-8-openjdk-amd64\"\n"
     ]
    }
   ],
   "source": [
    "%env JAVA_HOME \"/usr/lib/jvm/java-8-openjdk-amd64\""
   ]
  },
  {
   "cell_type": "code",
   "execution_count": 5,
   "metadata": {
    "executionInfo": {
     "elapsed": 5261,
     "status": "ok",
     "timestamp": 1683172441985,
     "user": {
      "displayName": "JIWON CHOI",
      "userId": "04599244531959277806"
     },
     "user_tz": -540
    },
    "id": "vaGsd7s1beCt"
   },
   "outputs": [],
   "source": [
    "import konlpy\n",
    "from konlpy.tag import Kkma, Komoran, Hannanum, Okt\n",
    "from konlpy.utils import pprint\n",
    "okt = Okt()\n",
    "kkma = Kkma()\n",
    "\n",
    "import pandas as pd\n",
    "import numpy as np\n",
    "import matplotlib.pyplot as plt\n",
    "import seaborn as sns\n",
    "import os\n",
    "\n",
    "import re\n",
    "from collections import Counter\n",
    "\n",
    "import warnings\n",
    "warnings.simplefilter(\"ignore\")\n",
    "\n",
    "from wordcloud import WordCloud\n",
    "import matplotlib.pyplot as plt\n",
    "\n",
    "\n",
    "from nltk.tokenize import word_tokenize\n",
    "from nltk.tag import pos_tag\n",
    "\n",
    "# 기초 불용어 처리\n",
    "from nltk.corpus import stopwords\n",
    "\n",
    "# 경고 뜨지 않게 설정\n",
    "import warnings\n",
    "warnings.filterwarnings('ignore')\n",
    "\n",
    "# 형태소 벡터를 생성하기 위한 라이브러리\n",
    "from sklearn.feature_extraction.text import CountVectorizer\n",
    "# 형태소 벡터를 학습 벡터로 변환한다.\n",
    "from sklearn.feature_extraction.text import TfidfTransformer\n",
    "\n",
    "# 워드 클라우드를 위한 라이브러리\n",
    "from collections import Counter\n",
    "# import pytagcloud\n",
    "from IPython.display import Image\n",
    "\n",
    "# 저장\n",
    "import pickle"
   ]
  },
  {
   "cell_type": "code",
   "execution_count": null,
   "metadata": {
    "id": "aqNYhaonegsi"
   },
   "outputs": [],
   "source": []
  },
  {
   "cell_type": "code",
   "execution_count": null,
   "metadata": {
    "id": "BvDa3gNJb7zA"
   },
   "outputs": [],
   "source": []
  },
  {
   "cell_type": "code",
   "execution_count": 6,
   "metadata": {
    "id": "pZg7Ek-tbAm8"
   },
   "outputs": [],
   "source": [
    "# 한국어 감성 사전 KOSAC \n",
    "# https://github.com/mrlee23/KoreanSentimentAnalyzer\n",
    "# https://codingstudyroom.tistory.com/entry/%EC%9B%B9%ED%88%B0-%EC%8A%B9%EA%B2%A9-%ED%99%95%EB%A5%A0-%EC%98%88%EC%B8%A1-%EC%8B%9C%EC%8A%A4%ED%85%9C-%ED%94%84%EB%A1%9C%EC%A0%9D%ED%8A%B8-kosac%EC%82%AC%EC%A0%84%EC%9D%84-%EC%9D%B4%EC%9A%A9%ED%95%9C-%EA%B0%90%EC%A0%95%EB%B6%84%EC%84%9D-%EA%B4%91%EC%A3%BC%EC%9D%B8%EA%B3%B5%EC%A7%80%EB%8A%A5%ED%95%99%EC%9B%90"
   ]
  },
  {
   "cell_type": "code",
   "execution_count": null,
   "metadata": {
    "id": "vf1JqST1bAsB"
   },
   "outputs": [],
   "source": []
  },
  {
   "cell_type": "code",
   "execution_count": null,
   "metadata": {
    "id": "OO6bH6NHa4io"
   },
   "outputs": [],
   "source": []
  },
  {
   "cell_type": "code",
   "execution_count": 7,
   "metadata": {
    "executionInfo": {
     "elapsed": 2861,
     "status": "ok",
     "timestamp": 1683172504021,
     "user": {
      "displayName": "JIWON CHOI",
      "userId": "04599244531959277806"
     },
     "user_tz": -540
    },
    "id": "75HfXP7z4_0P"
   },
   "outputs": [],
   "source": [
    "# 파일 불러오기 xlsx\n",
    "path = r\"C:\\Users\\NT550009\\Desktop\\11st\\Filtered_stopwords.xlsx\"\n",
    "df_filtered = pd.read_excel(path)"
   ]
  },
  {
   "cell_type": "code",
   "execution_count": 8,
   "metadata": {
    "id": "PRJvJ9wf5jzH",
    "scrolled": true
   },
   "outputs": [
    {
     "data": {
      "text/html": [
       "<div>\n",
       "<style scoped>\n",
       "    .dataframe tbody tr th:only-of-type {\n",
       "        vertical-align: middle;\n",
       "    }\n",
       "\n",
       "    .dataframe tbody tr th {\n",
       "        vertical-align: top;\n",
       "    }\n",
       "\n",
       "    .dataframe thead th {\n",
       "        text-align: right;\n",
       "    }\n",
       "</style>\n",
       "<table border=\"1\" class=\"dataframe\">\n",
       "  <thead>\n",
       "    <tr style=\"text-align: right;\">\n",
       "      <th></th>\n",
       "      <th>Unnamed: 0.2</th>\n",
       "      <th>Unnamed: 0.1</th>\n",
       "      <th>Unnamed: 0</th>\n",
       "      <th>ID</th>\n",
       "      <th>Date</th>\n",
       "      <th>Grade</th>\n",
       "      <th>Text</th>\n",
       "      <th>Option</th>\n",
       "      <th>Size</th>\n",
       "      <th>ProductNum</th>\n",
       "      <th>FilteredText</th>\n",
       "    </tr>\n",
       "  </thead>\n",
       "  <tbody>\n",
       "    <tr>\n",
       "      <th>0</th>\n",
       "      <td>0</td>\n",
       "      <td>0</td>\n",
       "      <td>0</td>\n",
       "      <td>날까</td>\n",
       "      <td>2023.04.08</td>\n",
       "      <td>4</td>\n",
       "      <td>쿠폰써서 2만원정도에 6벌이면 정말 싸요. 싼만큼 마감이 안좋은 부분도 있네요. 어...</td>\n",
       "      <td>White 6-pack, 6, Medium</td>\n",
       "      <td>비공개</td>\n",
       "      <td>3569992365</td>\n",
       "      <td>['쿠폰', '써서', '정도', '벌이', '정말', '싸요', '싼만큼', '마...</td>\n",
       "    </tr>\n",
       "    <tr>\n",
       "      <th>1</th>\n",
       "      <td>1</td>\n",
       "      <td>1</td>\n",
       "      <td>1</td>\n",
       "      <td>newr*****</td>\n",
       "      <td>2023.03.27</td>\n",
       "      <td>5</td>\n",
       "      <td>옷에 비침도 크게 없고 사이즈도 넉넉해서 좋습니다. 이번 여름까지 무난하게 잘 입을...</td>\n",
       "      <td>XX-Large, 6, White 6-pack</td>\n",
       "      <td>비공개</td>\n",
       "      <td>3569992365</td>\n",
       "      <td>['비침도', '크게', '없고', '사이즈', '넉넉해서', '좋습니다', '여름...</td>\n",
       "    </tr>\n",
       "    <tr>\n",
       "      <th>2</th>\n",
       "      <td>2</td>\n",
       "      <td>2</td>\n",
       "      <td>2</td>\n",
       "      <td>soch*****</td>\n",
       "      <td>2023.03.31</td>\n",
       "      <td>4</td>\n",
       "      <td>잘 알려진 브랜드입니다.면이 얇고 빨면 줄기도 합니다.올 여름 편하게 입으려고 구매...</td>\n",
       "      <td>X-Large, 6, Charcoal Heather 6-pack</td>\n",
       "      <td>비공개</td>\n",
       "      <td>3569992365</td>\n",
       "      <td>['알려진', '브랜드', '입니다면이', '얇고', '줄기', '합니다', '여름...</td>\n",
       "    </tr>\n",
       "    <tr>\n",
       "      <th>3</th>\n",
       "      <td>3</td>\n",
       "      <td>3</td>\n",
       "      <td>3</td>\n",
       "      <td>2045***************</td>\n",
       "      <td>2023.03.02</td>\n",
       "      <td>5</td>\n",
       "      <td>얇아서 비침이 있으며 꽤 부드러운 재질입니다.이너로 입기 괜찮을듯</td>\n",
       "      <td>6, Large, White 6-pack</td>\n",
       "      <td>비공개</td>\n",
       "      <td>3569992365</td>\n",
       "      <td>['얇아서', '비침이', '있으며', '부드러운', '재질', '입니다', '입기...</td>\n",
       "    </tr>\n",
       "    <tr>\n",
       "      <th>4</th>\n",
       "      <td>4</td>\n",
       "      <td>4</td>\n",
       "      <td>4</td>\n",
       "      <td>하이하이저요</td>\n",
       "      <td>2023.03.21</td>\n",
       "      <td>3</td>\n",
       "      <td>저렴하게 막 입기 좋네요생각보다 정사이즈인거 같아요 라지입는데 미듐샀더니가슴둘레가 ...</td>\n",
       "      <td>Medium, 6, Navy 6-pack</td>\n",
       "      <td>비공개</td>\n",
       "      <td>3569992365</td>\n",
       "      <td>['저렴하게', '입기', '좋네요', '생각', '보다', '정사', '이즈', ...</td>\n",
       "    </tr>\n",
       "    <tr>\n",
       "      <th>...</th>\n",
       "      <td>...</td>\n",
       "      <td>...</td>\n",
       "      <td>...</td>\n",
       "      <td>...</td>\n",
       "      <td>...</td>\n",
       "      <td>...</td>\n",
       "      <td>...</td>\n",
       "      <td>...</td>\n",
       "      <td>...</td>\n",
       "      <td>...</td>\n",
       "      <td>...</td>\n",
       "    </tr>\n",
       "    <tr>\n",
       "      <th>7162</th>\n",
       "      <td>7162</td>\n",
       "      <td>698</td>\n",
       "      <td>698</td>\n",
       "      <td>파란마음</td>\n",
       "      <td>2021.11.23</td>\n",
       "      <td>3</td>\n",
       "      <td>찐짜크네요...팔길이가 유난희크네...</td>\n",
       "      <td>0</td>\n",
       "      <td>0</td>\n",
       "      <td>3596863528</td>\n",
       "      <td>['크네요', '길이', '유난희', '크네']</td>\n",
       "    </tr>\n",
       "    <tr>\n",
       "      <th>7163</th>\n",
       "      <td>7163</td>\n",
       "      <td>699</td>\n",
       "      <td>699</td>\n",
       "      <td>loze**</td>\n",
       "      <td>2021.11.22</td>\n",
       "      <td>5</td>\n",
       "      <td>가격대비좋아요</td>\n",
       "      <td>0</td>\n",
       "      <td>0</td>\n",
       "      <td>3596863528</td>\n",
       "      <td>['가격', '대비', '좋아요']</td>\n",
       "    </tr>\n",
       "    <tr>\n",
       "      <th>7164</th>\n",
       "      <td>7164</td>\n",
       "      <td>700</td>\n",
       "      <td>700</td>\n",
       "      <td>dnfl********</td>\n",
       "      <td>2021.11.19</td>\n",
       "      <td>4</td>\n",
       "      <td>만족합니다</td>\n",
       "      <td>0</td>\n",
       "      <td>0</td>\n",
       "      <td>3596863528</td>\n",
       "      <td>['만족합니다']</td>\n",
       "    </tr>\n",
       "    <tr>\n",
       "      <th>7165</th>\n",
       "      <td>7165</td>\n",
       "      <td>701</td>\n",
       "      <td>701</td>\n",
       "      <td>dnfl********</td>\n",
       "      <td>2021.11.19</td>\n",
       "      <td>4</td>\n",
       "      <td>한국사이즈100미디엄딱맞네요</td>\n",
       "      <td>0</td>\n",
       "      <td>0</td>\n",
       "      <td>3596863528</td>\n",
       "      <td>['한국', '사이즈', '미디엄', '맞네요']</td>\n",
       "    </tr>\n",
       "    <tr>\n",
       "      <th>7166</th>\n",
       "      <td>7166</td>\n",
       "      <td>702</td>\n",
       "      <td>702</td>\n",
       "      <td>gudd*****</td>\n",
       "      <td>2021.11.15</td>\n",
       "      <td>3</td>\n",
       "      <td>목이 잘 늘어나네요.품질은 목 제외하고 좋습니다.</td>\n",
       "      <td>0</td>\n",
       "      <td>0</td>\n",
       "      <td>3596863528</td>\n",
       "      <td>['늘어나네요', '품질', '제외', '하고', '좋습니다']</td>\n",
       "    </tr>\n",
       "  </tbody>\n",
       "</table>\n",
       "<p>7167 rows × 11 columns</p>\n",
       "</div>"
      ],
      "text/plain": [
       "      Unnamed: 0.2  Unnamed: 0.1  Unnamed: 0                   ID        Date  \\\n",
       "0                0             0           0                   날까  2023.04.08   \n",
       "1                1             1           1            newr*****  2023.03.27   \n",
       "2                2             2           2            soch*****  2023.03.31   \n",
       "3                3             3           3  2045***************  2023.03.02   \n",
       "4                4             4           4               하이하이저요  2023.03.21   \n",
       "...            ...           ...         ...                  ...         ...   \n",
       "7162          7162           698         698                 파란마음  2021.11.23   \n",
       "7163          7163           699         699               loze**  2021.11.22   \n",
       "7164          7164           700         700         dnfl********  2021.11.19   \n",
       "7165          7165           701         701         dnfl********  2021.11.19   \n",
       "7166          7166           702         702            gudd*****  2021.11.15   \n",
       "\n",
       "      Grade                                               Text  \\\n",
       "0         4  쿠폰써서 2만원정도에 6벌이면 정말 싸요. 싼만큼 마감이 안좋은 부분도 있네요. 어...   \n",
       "1         5  옷에 비침도 크게 없고 사이즈도 넉넉해서 좋습니다. 이번 여름까지 무난하게 잘 입을...   \n",
       "2         4  잘 알려진 브랜드입니다.면이 얇고 빨면 줄기도 합니다.올 여름 편하게 입으려고 구매...   \n",
       "3         5               얇아서 비침이 있으며 꽤 부드러운 재질입니다.이너로 입기 괜찮을듯   \n",
       "4         3  저렴하게 막 입기 좋네요생각보다 정사이즈인거 같아요 라지입는데 미듐샀더니가슴둘레가 ...   \n",
       "...     ...                                                ...   \n",
       "7162      3                              찐짜크네요...팔길이가 유난희크네...   \n",
       "7163      5                                            가격대비좋아요   \n",
       "7164      4                                              만족합니다   \n",
       "7165      4                                    한국사이즈100미디엄딱맞네요   \n",
       "7166      3                        목이 잘 늘어나네요.품질은 목 제외하고 좋습니다.   \n",
       "\n",
       "                                   Option Size  ProductNum  \\\n",
       "0                 White 6-pack, 6, Medium  비공개  3569992365   \n",
       "1               XX-Large, 6, White 6-pack  비공개  3569992365   \n",
       "2     X-Large, 6, Charcoal Heather 6-pack  비공개  3569992365   \n",
       "3                  6, Large, White 6-pack  비공개  3569992365   \n",
       "4                  Medium, 6, Navy 6-pack  비공개  3569992365   \n",
       "...                                   ...  ...         ...   \n",
       "7162                                    0    0  3596863528   \n",
       "7163                                    0    0  3596863528   \n",
       "7164                                    0    0  3596863528   \n",
       "7165                                    0    0  3596863528   \n",
       "7166                                    0    0  3596863528   \n",
       "\n",
       "                                           FilteredText  \n",
       "0     ['쿠폰', '써서', '정도', '벌이', '정말', '싸요', '싼만큼', '마...  \n",
       "1     ['비침도', '크게', '없고', '사이즈', '넉넉해서', '좋습니다', '여름...  \n",
       "2     ['알려진', '브랜드', '입니다면이', '얇고', '줄기', '합니다', '여름...  \n",
       "3     ['얇아서', '비침이', '있으며', '부드러운', '재질', '입니다', '입기...  \n",
       "4     ['저렴하게', '입기', '좋네요', '생각', '보다', '정사', '이즈', ...  \n",
       "...                                                 ...  \n",
       "7162                         ['크네요', '길이', '유난희', '크네']  \n",
       "7163                                ['가격', '대비', '좋아요']  \n",
       "7164                                          ['만족합니다']  \n",
       "7165                        ['한국', '사이즈', '미디엄', '맞네요']  \n",
       "7166                ['늘어나네요', '품질', '제외', '하고', '좋습니다']  \n",
       "\n",
       "[7167 rows x 11 columns]"
      ]
     },
     "execution_count": 8,
     "metadata": {},
     "output_type": "execute_result"
    }
   ],
   "source": [
    "df_filtered"
   ]
  },
  {
   "cell_type": "code",
   "execution_count": 9,
   "metadata": {
    "id": "JpPi8XUC5qUc"
   },
   "outputs": [
    {
     "name": "stdout",
     "output_type": "stream",
     "text": [
      "C:\\Users\\NT550009\\Desktop\\11st\n"
     ]
    }
   ],
   "source": [
    "import os \n",
    "currentPath = os.getcwd()\n",
    "print(currentPath)"
   ]
  },
  {
   "cell_type": "code",
   "execution_count": 12,
   "metadata": {
    "collapsed": true
   },
   "outputs": [
    {
     "name": "stdout",
     "output_type": "stream",
     "text": [
      "\n",
      "KNU 한국어 감성사전입니다~ :)\n",
      "사전에 단어가 없는 경우 결과가 None으로 나타납니다!!!\n",
      "종료하시려면 #을 입력해주세요!!!\n",
      "-2:매우 부정, -1:부정, 0:중립 or Unkwon, 1:긍정, 2:매우 긍정\n",
      "\n",
      "\n",
      "word : 가격이 싸다\n",
      "어근 : 가격 싸\n",
      "극성 : 1\n",
      "('가격 싸', '1')\n",
      "\n",
      "\n"
     ]
    },
    {
     "ename": "KeyboardInterrupt",
     "evalue": "Interrupted by user",
     "output_type": "error",
     "traceback": [
      "\u001b[1;31m---------------------------------------------------------------------------\u001b[0m",
      "\u001b[1;31mKeyboardInterrupt\u001b[0m                         Traceback (most recent call last)",
      "Cell \u001b[1;32mIn[12], line 38\u001b[0m\n\u001b[0;32m     35\u001b[0m \u001b[38;5;28mprint\u001b[39m(\u001b[38;5;124m\"\u001b[39m\u001b[38;5;130;01m\\n\u001b[39;00m\u001b[38;5;124m\"\u001b[39m)\t\n\u001b[0;32m     37\u001b[0m \u001b[38;5;28;01mwhile\u001b[39;00m(\u001b[38;5;28;01mTrue\u001b[39;00m):\n\u001b[1;32m---> 38\u001b[0m \twordname \u001b[38;5;241m=\u001b[39m \u001b[38;5;28;43minput\u001b[39;49m\u001b[43m(\u001b[49m\u001b[38;5;124;43m\"\u001b[39;49m\u001b[38;5;124;43mword : \u001b[39;49m\u001b[38;5;124;43m\"\u001b[39;49m\u001b[43m)\u001b[49m\n\u001b[0;32m     39\u001b[0m \twordname \u001b[38;5;241m=\u001b[39m wordname\u001b[38;5;241m.\u001b[39mstrip(\u001b[38;5;124m\"\u001b[39m\u001b[38;5;124m \u001b[39m\u001b[38;5;124m\"\u001b[39m)\t\t\n\u001b[0;32m     40\u001b[0m \t\u001b[38;5;28;01mif\u001b[39;00m wordname \u001b[38;5;241m!=\u001b[39m \u001b[38;5;124m\"\u001b[39m\u001b[38;5;124m#\u001b[39m\u001b[38;5;124m\"\u001b[39m:\n",
      "File \u001b[1;32m~\\anaconda3\\lib\\site-packages\\ipykernel\\kernelbase.py:1175\u001b[0m, in \u001b[0;36mKernel.raw_input\u001b[1;34m(self, prompt)\u001b[0m\n\u001b[0;32m   1171\u001b[0m \u001b[38;5;28;01mif\u001b[39;00m \u001b[38;5;129;01mnot\u001b[39;00m \u001b[38;5;28mself\u001b[39m\u001b[38;5;241m.\u001b[39m_allow_stdin:\n\u001b[0;32m   1172\u001b[0m     \u001b[38;5;28;01mraise\u001b[39;00m StdinNotImplementedError(\n\u001b[0;32m   1173\u001b[0m         \u001b[38;5;124m\"\u001b[39m\u001b[38;5;124mraw_input was called, but this frontend does not support input requests.\u001b[39m\u001b[38;5;124m\"\u001b[39m\n\u001b[0;32m   1174\u001b[0m     )\n\u001b[1;32m-> 1175\u001b[0m \u001b[38;5;28;01mreturn\u001b[39;00m \u001b[38;5;28;43mself\u001b[39;49m\u001b[38;5;241;43m.\u001b[39;49m\u001b[43m_input_request\u001b[49m\u001b[43m(\u001b[49m\n\u001b[0;32m   1176\u001b[0m \u001b[43m    \u001b[49m\u001b[38;5;28;43mstr\u001b[39;49m\u001b[43m(\u001b[49m\u001b[43mprompt\u001b[49m\u001b[43m)\u001b[49m\u001b[43m,\u001b[49m\n\u001b[0;32m   1177\u001b[0m \u001b[43m    \u001b[49m\u001b[38;5;28;43mself\u001b[39;49m\u001b[38;5;241;43m.\u001b[39;49m\u001b[43m_parent_ident\u001b[49m\u001b[43m[\u001b[49m\u001b[38;5;124;43m\"\u001b[39;49m\u001b[38;5;124;43mshell\u001b[39;49m\u001b[38;5;124;43m\"\u001b[39;49m\u001b[43m]\u001b[49m\u001b[43m,\u001b[49m\n\u001b[0;32m   1178\u001b[0m \u001b[43m    \u001b[49m\u001b[38;5;28;43mself\u001b[39;49m\u001b[38;5;241;43m.\u001b[39;49m\u001b[43mget_parent\u001b[49m\u001b[43m(\u001b[49m\u001b[38;5;124;43m\"\u001b[39;49m\u001b[38;5;124;43mshell\u001b[39;49m\u001b[38;5;124;43m\"\u001b[39;49m\u001b[43m)\u001b[49m\u001b[43m,\u001b[49m\n\u001b[0;32m   1179\u001b[0m \u001b[43m    \u001b[49m\u001b[43mpassword\u001b[49m\u001b[38;5;241;43m=\u001b[39;49m\u001b[38;5;28;43;01mFalse\u001b[39;49;00m\u001b[43m,\u001b[49m\n\u001b[0;32m   1180\u001b[0m \u001b[43m\u001b[49m\u001b[43m)\u001b[49m\n",
      "File \u001b[1;32m~\\anaconda3\\lib\\site-packages\\ipykernel\\kernelbase.py:1217\u001b[0m, in \u001b[0;36mKernel._input_request\u001b[1;34m(self, prompt, ident, parent, password)\u001b[0m\n\u001b[0;32m   1214\u001b[0m             \u001b[38;5;28;01mbreak\u001b[39;00m\n\u001b[0;32m   1215\u001b[0m \u001b[38;5;28;01mexcept\u001b[39;00m \u001b[38;5;167;01mKeyboardInterrupt\u001b[39;00m:\n\u001b[0;32m   1216\u001b[0m     \u001b[38;5;66;03m# re-raise KeyboardInterrupt, to truncate traceback\u001b[39;00m\n\u001b[1;32m-> 1217\u001b[0m     \u001b[38;5;28;01mraise\u001b[39;00m \u001b[38;5;167;01mKeyboardInterrupt\u001b[39;00m(\u001b[38;5;124m\"\u001b[39m\u001b[38;5;124mInterrupted by user\u001b[39m\u001b[38;5;124m\"\u001b[39m) \u001b[38;5;28;01mfrom\u001b[39;00m \u001b[38;5;28mNone\u001b[39m\n\u001b[0;32m   1218\u001b[0m \u001b[38;5;28;01mexcept\u001b[39;00m \u001b[38;5;167;01mException\u001b[39;00m:\n\u001b[0;32m   1219\u001b[0m     \u001b[38;5;28mself\u001b[39m\u001b[38;5;241m.\u001b[39mlog\u001b[38;5;241m.\u001b[39mwarning(\u001b[38;5;124m\"\u001b[39m\u001b[38;5;124mInvalid Message:\u001b[39m\u001b[38;5;124m\"\u001b[39m, exc_info\u001b[38;5;241m=\u001b[39m\u001b[38;5;28;01mTrue\u001b[39;00m)\n",
      "\u001b[1;31mKeyboardInterrupt\u001b[0m: Interrupted by user"
     ]
    },
    {
     "name": "stdout",
     "output_type": "stream",
     "text": [
      "word : #\n"
     ]
    }
   ],
   "source": [
    "# 원본\n",
    "\n",
    "# import json\n",
    "\n",
    "# class KnuSL():\n",
    "\n",
    "# \tdef data_list(wordname):\t\n",
    "# \t\twith open('data/SentiWord_info.json', encoding='utf-8-sig', mode='r') as f:\n",
    "# \t\t\tdata = json.load(f)\n",
    "# \t\tresult = ['None','None']\t\n",
    "# \t\tfor i in range(0, len(data)):\n",
    "# \t\t\tif data[i]['word'] == wordname:\n",
    "# \t\t\t\tresult.pop()\n",
    "# \t\t\t\tresult.pop()\n",
    "# \t\t\t\tresult.append(data[i]['word_root'])\n",
    "# \t\t\t\tresult.append(data[i]['polarity'])\t\n",
    "\t\t\n",
    "# \t\tr_word = result[0]\n",
    "# \t\ts_word = result[1]\n",
    "\t\t\t\t\t\t\t\n",
    "# \t\tprint('어근 : ' + r_word)\n",
    "# \t\tprint('극성 : ' + s_word)\t\t\n",
    "\t\t\n",
    "\t\t\n",
    "# \t\treturn r_word, s_word\n",
    "\n",
    "# if __name__ == \"__main__\":\n",
    "\t\n",
    "# \tksl = KnuSL\n",
    "\t\n",
    "# \tprint(\"\\nKNU 한국어 감성사전입니다~ :)\")\n",
    "# \tprint(\"사전에 단어가 없는 경우 결과가 None으로 나타납니다!!!\")\n",
    "# \tprint(\"종료하시려면 #을 입력해주세요!!!\")\n",
    "# \tprint(\"-2:매우 부정, -1:부정, 0:중립 or Unkwon, 1:긍정, 2:매우 긍정\")\n",
    "# \tprint(\"\\n\")\t\n",
    "\n",
    "# \twhile(True):\n",
    "# \t\twordname = input(\"word : \")\n",
    "# \t\twordname = wordname.strip(\" \")\t\t\n",
    "# \t\tif wordname != \"#\":\n",
    "# \t\t\tprint(ksl.data_list(wordname))\n",
    "# \t\t\tprint(\"\\n\")\t\n",
    "\t\t\t\t\n",
    "\n",
    "# \t\telif wordname == \"#\":\n",
    "# \t\t\tprint(\"\\n이용해주셔서 감사합니다~ :)\")\n",
    "# \t\t\tbreak"
   ]
  },
  {
   "cell_type": "code",
   "execution_count": 20,
   "metadata": {},
   "outputs": [
    {
     "name": "stdout",
     "output_type": "stream",
     "text": [
      "\n",
      "KNU 한국어 감성사전입니다~ :)\n",
      "사전에 단어가 없는 경우 결과가 None으로 나타납니다!!!\n",
      "종료하시려면 #을 입력해주세요!!!\n",
      "-2:매우 부정, -1:부정, 0:중립 or Unkwon, 1:긍정, 2:매우 긍정\n",
      "\n",
      "\n",
      "word : 가격이 싸다\n",
      "어근 : 가격 싸\n",
      "극성 : 1\n",
      "('가격 싸', '1')\n",
      "\n",
      "\n",
      "word : #\n",
      "\n",
      "이용해주셔서 감사합니다~ :)\n"
     ]
    }
   ],
   "source": [
    "# 함수를 바꿔보자\n",
    "\n",
    "# 함수 목적에 맞게 바꾸기\n",
    "# 리뷰별 값 정리하기 -> 사이즈가 언급된 리뷰의 값 확인하기\n",
    "# 다른 요소가 언급된 리뷰의 값 확인하기\n",
    "# 전반적으로 분포 확인\n",
    "\n",
    "# 클래스 빼고 작동\n",
    "\n",
    "# SentiWord_info 리스트 내 단어 변경 및 추가\n",
    "def data_list(wordname): # 함수 이름 변경\n",
    "    with open('data/SentiWord_info.json', encoding='utf-8-sig', mode='r') as f:\n",
    "        data = json.load(f)\n",
    "    result = ['None','None']\n",
    "    for i in range(0, len(data)):\n",
    "        if data[i]['word'] == wordname:\n",
    "            result.pop()\n",
    "            result.pop()\n",
    "            result.append(data[i]['word_root'])\n",
    "            result.append(data[i]['polarity'])\n",
    "\n",
    "    r_word = result[0]\n",
    "    s_word = result[1]\n",
    "\n",
    "    print('어근 : ' + r_word)\n",
    "    print('극성 : ' + s_word)\n",
    "\n",
    "\n",
    "    return r_word, s_word\n",
    "\n",
    "if __name__ == \"__main__\":\n",
    "\n",
    "    ksl = KnuSL\n",
    "\n",
    "print(\"\\nKNU 한국어 감성사전입니다~ :)\")\n",
    "print(\"사전에 단어가 없는 경우 결과가 None으로 나타납니다!!!\")\n",
    "print(\"종료하시려면 #을 입력해주세요!!!\")\n",
    "print(\"-2:매우 부정, -1:부정, 0:중립 or Unkwon, 1:긍정, 2:매우 긍정\")\n",
    "print(\"\\n\")\t\n",
    "\n",
    "while(True):\n",
    "    wordname = input(\"word : \")\n",
    "    wordname = wordname.strip(\" \")\n",
    "    if wordname != \"#\":\n",
    "        print(ksl.data_list(wordname)) \n",
    "        print(\"\\n\")\n",
    "\n",
    "              \n",
    "\n",
    "    elif wordname == \"#\":\n",
    "        print(\"\\n이용해주셔서 감사합니다~ :)\")\n",
    "        break"
   ]
  },
  {
   "cell_type": "code",
   "execution_count": null,
   "metadata": {},
   "outputs": [],
   "source": []
  },
  {
   "cell_type": "code",
   "execution_count": null,
   "metadata": {
    "id": "JJfddvO7bAzD"
   },
   "outputs": [],
   "source": [
    "# KNU 한국어 감성사전\n",
    "\n",
    "# 형용사, 부사 단어 추가 : 좋다, / 나쁘다, 불만족\n",
    "# 사전에 없는 단어\n",
    "\n",
    "# polar = s_word 극값을 저장해서 리스트의 합계를 행에 저장\n",
    "\n",
    "# FilteredText 행을 순회하면서 행 > 리스트 > 원소 \n",
    "# 해당 리스트의 값 \n",
    "\n",
    "\n",
    "# sample text = ['역시', '사이즈', '아주', '좋아요', '가격', '대비', '질도', '나쁘지', '않습니다']\n",
    "\n"
   ]
  },
  {
   "cell_type": "code",
   "execution_count": null,
   "metadata": {},
   "outputs": [],
   "source": [
    "# sample text = ['역시', '사이즈', '아주', '좋아요', '가격', '대비', '질도', '나쁘지', '않습니다']"
   ]
  },
  {
   "cell_type": "code",
   "execution_count": null,
   "metadata": {},
   "outputs": [],
   "source": [
    "# 함수 목적에 맞게 바꾸기\n",
    "# 리뷰별 값 정리하기 -> 사이즈가 언급된 리뷰의 값 확인하기\n",
    "# 다른 요소가 언급된 리뷰의 값 확인하기\n",
    "# 전반적으로 분포 확인"
   ]
  },
  {
   "cell_type": "code",
   "execution_count": null,
   "metadata": {},
   "outputs": [],
   "source": []
  },
  {
   "cell_type": "code",
   "execution_count": null,
   "metadata": {},
   "outputs": [],
   "source": []
  },
  {
   "cell_type": "code",
   "execution_count": null,
   "metadata": {
    "id": "XrQLUXr0bA2Q"
   },
   "outputs": [],
   "source": []
  }
 ],
 "metadata": {
  "colab": {
   "authorship_tag": "ABX9TyPG8m7QbUGsWb6q3tpk48MM",
   "mount_file_id": "108iQPffm5H-wB9j9BfDngAENm7NHtaw8",
   "provenance": []
  },
  "kernelspec": {
   "display_name": "Python 3 (ipykernel)",
   "language": "python",
   "name": "python3"
  },
  "language_info": {
   "codemirror_mode": {
    "name": "ipython",
    "version": 3
   },
   "file_extension": ".py",
   "mimetype": "text/x-python",
   "name": "python",
   "nbconvert_exporter": "python",
   "pygments_lexer": "ipython3",
   "version": "3.10.9"
  }
 },
 "nbformat": 4,
 "nbformat_minor": 1
}
